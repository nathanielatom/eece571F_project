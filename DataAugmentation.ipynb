{
 "cells": [
  {
   "cell_type": "code",
   "execution_count": 17,
   "id": "902977c5-1c0f-441b-82a6-fcc55a8bd967",
   "metadata": {},
   "outputs": [],
   "source": [
    "import os\n",
    "import glob\n",
    "\n",
    "import tqdm\n",
    "import random\n",
    "import numpy as np\n",
    "import pandas as pd\n",
    "import nibabel as nib\n",
    "import matplotlib.pyplot as plt\n",
    "from sklearn.preprocessing import MinMaxScaler\n",
    "# from keras_preprocessing.image import ImageDataGenerator"
   ]
  },
  {
   "cell_type": "code",
   "execution_count": null,
   "id": "fbf4a5d2",
   "metadata": {},
   "outputs": [],
   "source": [
    "def rotation_3d(img, angle, axis = (1,2), order = 3, isseg = False):\n",
    "    if isseg == False:\n",
    "        # interpolate image if the image is not a segmentation mask\n",
    "        rotated = sci.rotate(img, angle, axis, order = order, reshape=False)\n",
    "    else:\n",
    "        # do not interpolate i.e., order = 0\n",
    "        rotated = sci.rotate(img, angle, axis, order = 0, reshape = False)\n",
    "\n",
    "    return rotated\n",
    "\n",
    "def get_augmentation(patch_size):\n",
    "    # CURRENT CONFIG:\n",
    "    # For RandomRotate90 -> given image (z,x,y), rotate along z-axis with axes = (2,1)\n",
    "    return Compose([\n",
    "        # Rotate((0, 0), (-2, 2), (-2, 2), interpolation = 0, always_apply= True, p =1)\n",
    "        RandomRotate90(axes = (2,1), always_apply = True, p = 1)\n",
    "    ], p=1.0)"
   ]
  },
  {
   "cell_type": "markdown",
   "id": "24484ae3-415a-4930-a2a5-a1b60f12f86e",
   "metadata": {},
   "source": [
    "Parameters\n",
    "---"
   ]
  },
  {
   "cell_type": "code",
   "execution_count": 3,
   "id": "64b2ed22-b951-4e06-b648-d9bd2a0d829a",
   "metadata": {},
   "outputs": [],
   "source": [
    "tumours = ['LGG','HGG']\n",
    "prefix = '/Users/jasonfung/Documents/EECE571/'\n",
    "# prefix = '/home/atom/Documents/datasets/brats'\n",
    "training_set = f'{prefix}/MICCAI_BraTS_2018_Data_Training/survival_data.csv'\n",
    "file_pattern = '{prefix}/MICCAI_BraTS_2018_Data_Training/{tumour}/{patient_id}/{patient_id}_{contrast}.nii.gz'\n",
    "patient_id = 'Brats18_TCIA09_620_1'\n",
    "contrasts = ['t1ce', 'flair', 't1', 't2']\n",
    "tumours = ['LGG', 'HGG']\n"
   ]
  },
  {
   "cell_type": "markdown",
   "id": "9b1f2247-d34f-471e-a4fc-7253841bf372",
   "metadata": {},
   "source": [
    "Load In Batches\n",
    "---"
   ]
  },
  {
   "cell_type": "code",
   "execution_count": 24,
   "id": "e20ce4d6-eda7-41ab-87cf-93b6947d1447",
   "metadata": {},
   "outputs": [],
   "source": [
    "def generate_brats_batch(file_pattern, batch_size=32, tumour='*', patient_ids='*', augment_size=None):\n",
    "    \"\"\"\n",
    "    Generate arrays for each batch, for x (data) and y (labels), where the contrast is treated like a colour channel.\n",
    "    \n",
    "    Example:\n",
    "    x_batch shape: (32, 240, 240, 155, 4)\n",
    "    y_batch shape: (32, 240, 240, 155)\n",
    "    \n",
    "    augment_size must be less than or equal to the batch_size, if None will not augment.\n",
    "    \n",
    "    \"\"\"\n",
    "    keys = dict(prefix=prefix, tumour=tumour)\n",
    "    if patient_ids == '*':\n",
    "        filenames = {contrast: glob.glob(file_pattern.format(contrast=contrast, patient_id=patient_ids, **keys)) \n",
    "                     for contrast in contrasts}\n",
    "    else:\n",
    "        filenames = {contrast: glob.glob(file_pattern.format(contrast=contrast, patient_id=patient_id, **keys)) \n",
    "                     for contrast in contrasts for patient_id in patient_ids}\n",
    "    arbitrary_contrast = contrasts[0]\n",
    "    shape = nib.load(filenames[arbitrary_contrast][0]).get_fdata().shape\n",
    "    x_batch = np.empty((batch_size, ) + shape + (len(contrasts), )) #, dtype=np.int32)\n",
    "    y_batch = np.empty((batch_size, ) + shape) #, dtype=np.int32)\n",
    "    num_images = len(filenames[arbitrary_contrast])\n",
    "    np.random.shuffle(filenames[arbitrary_contrast])\n",
    "    for bindex in tqdm.tqdm_notebook(range(0, num_images, batch_size), total=num_images):\n",
    "        filenames = filenames[arbitrary_contrast][bindex:bindex + batch_size]\n",
    "        for findex, filename in enumerate(filenames):\n",
    "            for cindex, contrast in enumerate(contrasts):\n",
    "                x_batch[findex, ..., cindex] = nib.load(filename.replace(arbitrary_contrast, contrast)).get_fdata()\n",
    "                y_batch[findex] = nib.load(filename.replace(arbitrary_contrast, 'seg')).get_fdata()\n",
    "        if augment_size is not None:\n",
    "            x_aug, y_aug = augment(x_batch, y_batch)\n",
    "            yield np.append(x_batch, x_aug), np.append(y_batch, y_aug)\n",
    "        else:\n",
    "            yield x_batch, y_batch"
   ]
  },
  {
   "cell_type": "code",
   "execution_count": 25,
   "id": "9646d49c-b979-4de9-9488-86cf99caba6e",
   "metadata": {},
   "outputs": [],
   "source": [
    "contrasts = ['t1ce', 'flair', 't2']\n",
    "\n",
    "data_generator = generate_brats_batch(file_pattern, contrasts) # first iteration"
   ]
  },
  {
   "cell_type": "code",
   "execution_count": 28,
   "id": "2a5064db",
   "metadata": {},
   "outputs": [
    {
     "ename": "TypeError",
     "evalue": "list indices must be integers or slices, not str",
     "output_type": "error",
     "traceback": [
      "\u001b[0;31m---------------------------------------------------------------------------\u001b[0m",
      "\u001b[0;31mTypeError\u001b[0m                                 Traceback (most recent call last)",
      "\u001b[0;32m/var/folders/67/1_nsh0ld09vb865lz634pygw0000gn/T/ipykernel_48404/223554265.py\u001b[0m in \u001b[0;36m<module>\u001b[0;34m\u001b[0m\n\u001b[0;32m----> 1\u001b[0;31m \u001b[0mimg\u001b[0m\u001b[0;34m,\u001b[0m \u001b[0mmask\u001b[0m \u001b[0;34m=\u001b[0m \u001b[0mdata_generator\u001b[0m\u001b[0;34m.\u001b[0m\u001b[0m__next__\u001b[0m\u001b[0;34m(\u001b[0m\u001b[0;34m)\u001b[0m\u001b[0;34m\u001b[0m\u001b[0;34m\u001b[0m\u001b[0m\n\u001b[0m",
      "\u001b[0;32m/var/folders/67/1_nsh0ld09vb865lz634pygw0000gn/T/ipykernel_48404/2144145040.py\u001b[0m in \u001b[0;36mgenerate_brats_batch\u001b[0;34m(file_pattern, contrasts, batch_size)\u001b[0m\n\u001b[1;32m     19\u001b[0m     \u001b[0mnp\u001b[0m\u001b[0;34m.\u001b[0m\u001b[0mrandom\u001b[0m\u001b[0;34m.\u001b[0m\u001b[0mshuffle\u001b[0m\u001b[0;34m(\u001b[0m\u001b[0mfilenames\u001b[0m\u001b[0;34m[\u001b[0m\u001b[0marbitrary_contrast\u001b[0m\u001b[0;34m]\u001b[0m\u001b[0;34m)\u001b[0m\u001b[0;34m\u001b[0m\u001b[0;34m\u001b[0m\u001b[0m\n\u001b[1;32m     20\u001b[0m     \u001b[0;32mfor\u001b[0m \u001b[0mbindex\u001b[0m \u001b[0;32min\u001b[0m \u001b[0mtqdm\u001b[0m\u001b[0;34m.\u001b[0m\u001b[0mtqdm_notebook\u001b[0m\u001b[0;34m(\u001b[0m\u001b[0mrange\u001b[0m\u001b[0;34m(\u001b[0m\u001b[0;36m0\u001b[0m\u001b[0;34m,\u001b[0m \u001b[0mnum_images\u001b[0m\u001b[0;34m,\u001b[0m \u001b[0mbatch_size\u001b[0m\u001b[0;34m)\u001b[0m\u001b[0;34m,\u001b[0m \u001b[0mtotal\u001b[0m\u001b[0;34m=\u001b[0m\u001b[0mnum_images\u001b[0m\u001b[0;34m)\u001b[0m\u001b[0;34m:\u001b[0m\u001b[0;34m\u001b[0m\u001b[0;34m\u001b[0m\u001b[0m\n\u001b[0;32m---> 21\u001b[0;31m         \u001b[0mfilenames\u001b[0m \u001b[0;34m=\u001b[0m \u001b[0mfilenames\u001b[0m\u001b[0;34m[\u001b[0m\u001b[0marbitrary_contrast\u001b[0m\u001b[0;34m]\u001b[0m\u001b[0;34m[\u001b[0m\u001b[0mbindex\u001b[0m\u001b[0;34m:\u001b[0m\u001b[0mbindex\u001b[0m \u001b[0;34m+\u001b[0m \u001b[0mbatch_size\u001b[0m\u001b[0;34m]\u001b[0m\u001b[0;34m\u001b[0m\u001b[0;34m\u001b[0m\u001b[0m\n\u001b[0m\u001b[1;32m     22\u001b[0m         \u001b[0;32mfor\u001b[0m \u001b[0mfindex\u001b[0m\u001b[0;34m,\u001b[0m \u001b[0mfilename\u001b[0m \u001b[0;32min\u001b[0m \u001b[0menumerate\u001b[0m\u001b[0;34m(\u001b[0m\u001b[0mfilenames\u001b[0m\u001b[0;34m)\u001b[0m\u001b[0;34m:\u001b[0m\u001b[0;34m\u001b[0m\u001b[0;34m\u001b[0m\u001b[0m\n\u001b[1;32m     23\u001b[0m             \u001b[0;32mfor\u001b[0m \u001b[0mcindex\u001b[0m\u001b[0;34m,\u001b[0m \u001b[0mcontrast\u001b[0m \u001b[0;32min\u001b[0m \u001b[0menumerate\u001b[0m\u001b[0;34m(\u001b[0m\u001b[0mcontrasts\u001b[0m\u001b[0;34m)\u001b[0m\u001b[0;34m:\u001b[0m\u001b[0;34m\u001b[0m\u001b[0;34m\u001b[0m\u001b[0m\n",
      "\u001b[0;31mTypeError\u001b[0m: list indices must be integers or slices, not str"
     ]
    }
   ],
   "source": [
    "img, mask = data_generator.__next__()"
   ]
  },
  {
   "cell_type": "markdown",
   "id": "b46e9ef5-c529-4e63-8b04-54456d602c8d",
   "metadata": {},
   "source": [
    "Previous Approach Based on Survival Metadata\n",
    "---"
   ]
  },
  {
   "cell_type": "code",
   "execution_count": 2,
   "id": "d6e498e5-5ea9-4c45-a200-6ef183a3b21d",
   "metadata": {},
   "outputs": [],
   "source": [
    "def read_file(patient_id, contrast):\n",
    "    filenames = [file_pattern for tumour in tumours]\n",
    "    try:\n",
    "        x = nib.load(filenames[0])\n",
    "    except FileNotFoundError:\n",
    "        x = nib.load(filenames[1])\n",
    "    filenames.replace()\n",
    "    nii_data = x.get_fdata()\n",
    "    return nii_data"
   ]
  },
  {
   "cell_type": "code",
   "execution_count": 6,
   "id": "604ab48b-0089-4466-98b5-5e755874b89b",
   "metadata": {},
   "outputs": [],
   "source": [
    "metadata = pd.read_csv(training_set)"
   ]
  },
  {
   "cell_type": "code",
   "execution_count": 7,
   "id": "77aa6ea7-cbe5-420a-a59b-060372239a10",
   "metadata": {},
   "outputs": [],
   "source": [
    "def create_filename(row, contrast):\n",
    "    possible_filenames = [file_pattern.format(prefix=prefix, tumour=tumour, patient_id=row['BraTS18ID'], contrast=contrast) for tumour in tumours]\n",
    "    filename = [filename for filename in possible_filenames if os.path.exists(filename)][0]\n",
    "    return filename"
   ]
  },
  {
   "cell_type": "code",
   "execution_count": 8,
   "id": "7413eaf2-6ec3-44c8-9465-eae48509627d",
   "metadata": {},
   "outputs": [],
   "source": [
    "metadata['filename_flair'] = metadata.apply(create_filename, axis=1, contrast='flair')\n",
    "metadata['filename_t1ce'] = metadata.apply(create_filename, axis=1, contrast='t1ce')\n",
    "metadata['filename_seg'] = metadata.apply(create_filename, axis=1, contrast='seg')"
   ]
  },
  {
   "cell_type": "code",
   "execution_count": 9,
   "id": "33e7db5c-ea58-48c8-9592-992f4eb05fc2",
   "metadata": {},
   "outputs": [
    {
     "data": {
      "text/html": [
       "<div>\n",
       "<style scoped>\n",
       "    .dataframe tbody tr th:only-of-type {\n",
       "        vertical-align: middle;\n",
       "    }\n",
       "\n",
       "    .dataframe tbody tr th {\n",
       "        vertical-align: top;\n",
       "    }\n",
       "\n",
       "    .dataframe thead th {\n",
       "        text-align: right;\n",
       "    }\n",
       "</style>\n",
       "<table border=\"1\" class=\"dataframe\">\n",
       "  <thead>\n",
       "    <tr style=\"text-align: right;\">\n",
       "      <th></th>\n",
       "      <th>BraTS18ID</th>\n",
       "      <th>Age</th>\n",
       "      <th>Survival</th>\n",
       "      <th>ResectionStatus</th>\n",
       "      <th>filename_flair</th>\n",
       "      <th>filename_t1ce</th>\n",
       "      <th>filename_seg</th>\n",
       "    </tr>\n",
       "  </thead>\n",
       "  <tbody>\n",
       "    <tr>\n",
       "      <th>0</th>\n",
       "      <td>Brats18_TCIA08_167_1</td>\n",
       "      <td>74.907</td>\n",
       "      <td>153</td>\n",
       "      <td>NaN</td>\n",
       "      <td>/home/atom/Documents/datasets/brats/MICCAI_Bra...</td>\n",
       "      <td>/home/atom/Documents/datasets/brats/MICCAI_Bra...</td>\n",
       "      <td>/home/atom/Documents/datasets/brats/MICCAI_Bra...</td>\n",
       "    </tr>\n",
       "    <tr>\n",
       "      <th>1</th>\n",
       "      <td>Brats18_TCIA08_242_1</td>\n",
       "      <td>66.479</td>\n",
       "      <td>147</td>\n",
       "      <td>NaN</td>\n",
       "      <td>/home/atom/Documents/datasets/brats/MICCAI_Bra...</td>\n",
       "      <td>/home/atom/Documents/datasets/brats/MICCAI_Bra...</td>\n",
       "      <td>/home/atom/Documents/datasets/brats/MICCAI_Bra...</td>\n",
       "    </tr>\n",
       "    <tr>\n",
       "      <th>2</th>\n",
       "      <td>Brats18_TCIA08_319_1</td>\n",
       "      <td>64.860</td>\n",
       "      <td>254</td>\n",
       "      <td>NaN</td>\n",
       "      <td>/home/atom/Documents/datasets/brats/MICCAI_Bra...</td>\n",
       "      <td>/home/atom/Documents/datasets/brats/MICCAI_Bra...</td>\n",
       "      <td>/home/atom/Documents/datasets/brats/MICCAI_Bra...</td>\n",
       "    </tr>\n",
       "    <tr>\n",
       "      <th>3</th>\n",
       "      <td>Brats18_TCIA08_469_1</td>\n",
       "      <td>63.899</td>\n",
       "      <td>519</td>\n",
       "      <td>NaN</td>\n",
       "      <td>/home/atom/Documents/datasets/brats/MICCAI_Bra...</td>\n",
       "      <td>/home/atom/Documents/datasets/brats/MICCAI_Bra...</td>\n",
       "      <td>/home/atom/Documents/datasets/brats/MICCAI_Bra...</td>\n",
       "    </tr>\n",
       "    <tr>\n",
       "      <th>4</th>\n",
       "      <td>Brats18_TCIA08_218_1</td>\n",
       "      <td>57.345</td>\n",
       "      <td>346</td>\n",
       "      <td>NaN</td>\n",
       "      <td>/home/atom/Documents/datasets/brats/MICCAI_Bra...</td>\n",
       "      <td>/home/atom/Documents/datasets/brats/MICCAI_Bra...</td>\n",
       "      <td>/home/atom/Documents/datasets/brats/MICCAI_Bra...</td>\n",
       "    </tr>\n",
       "    <tr>\n",
       "      <th>...</th>\n",
       "      <td>...</td>\n",
       "      <td>...</td>\n",
       "      <td>...</td>\n",
       "      <td>...</td>\n",
       "      <td>...</td>\n",
       "      <td>...</td>\n",
       "      <td>...</td>\n",
       "    </tr>\n",
       "    <tr>\n",
       "      <th>158</th>\n",
       "      <td>Brats18_CBICA_ABB_1</td>\n",
       "      <td>68.493</td>\n",
       "      <td>465</td>\n",
       "      <td>GTR</td>\n",
       "      <td>/home/atom/Documents/datasets/brats/MICCAI_Bra...</td>\n",
       "      <td>/home/atom/Documents/datasets/brats/MICCAI_Bra...</td>\n",
       "      <td>/home/atom/Documents/datasets/brats/MICCAI_Bra...</td>\n",
       "    </tr>\n",
       "    <tr>\n",
       "      <th>159</th>\n",
       "      <td>Brats18_CBICA_AAP_1</td>\n",
       "      <td>39.068</td>\n",
       "      <td>788</td>\n",
       "      <td>GTR</td>\n",
       "      <td>/home/atom/Documents/datasets/brats/MICCAI_Bra...</td>\n",
       "      <td>/home/atom/Documents/datasets/brats/MICCAI_Bra...</td>\n",
       "      <td>/home/atom/Documents/datasets/brats/MICCAI_Bra...</td>\n",
       "    </tr>\n",
       "    <tr>\n",
       "      <th>160</th>\n",
       "      <td>Brats18_CBICA_AAL_1</td>\n",
       "      <td>54.301</td>\n",
       "      <td>464</td>\n",
       "      <td>GTR</td>\n",
       "      <td>/home/atom/Documents/datasets/brats/MICCAI_Bra...</td>\n",
       "      <td>/home/atom/Documents/datasets/brats/MICCAI_Bra...</td>\n",
       "      <td>/home/atom/Documents/datasets/brats/MICCAI_Bra...</td>\n",
       "    </tr>\n",
       "    <tr>\n",
       "      <th>161</th>\n",
       "      <td>Brats18_CBICA_AAG_1</td>\n",
       "      <td>52.263</td>\n",
       "      <td>616</td>\n",
       "      <td>GTR</td>\n",
       "      <td>/home/atom/Documents/datasets/brats/MICCAI_Bra...</td>\n",
       "      <td>/home/atom/Documents/datasets/brats/MICCAI_Bra...</td>\n",
       "      <td>/home/atom/Documents/datasets/brats/MICCAI_Bra...</td>\n",
       "    </tr>\n",
       "    <tr>\n",
       "      <th>162</th>\n",
       "      <td>Brats18_CBICA_AAB_1</td>\n",
       "      <td>60.463</td>\n",
       "      <td>289</td>\n",
       "      <td>GTR</td>\n",
       "      <td>/home/atom/Documents/datasets/brats/MICCAI_Bra...</td>\n",
       "      <td>/home/atom/Documents/datasets/brats/MICCAI_Bra...</td>\n",
       "      <td>/home/atom/Documents/datasets/brats/MICCAI_Bra...</td>\n",
       "    </tr>\n",
       "  </tbody>\n",
       "</table>\n",
       "<p>163 rows × 7 columns</p>\n",
       "</div>"
      ],
      "text/plain": [
       "                BraTS18ID     Age  Survival ResectionStatus  \\\n",
       "0    Brats18_TCIA08_167_1  74.907       153             NaN   \n",
       "1    Brats18_TCIA08_242_1  66.479       147             NaN   \n",
       "2    Brats18_TCIA08_319_1  64.860       254             NaN   \n",
       "3    Brats18_TCIA08_469_1  63.899       519             NaN   \n",
       "4    Brats18_TCIA08_218_1  57.345       346             NaN   \n",
       "..                    ...     ...       ...             ...   \n",
       "158   Brats18_CBICA_ABB_1  68.493       465             GTR   \n",
       "159   Brats18_CBICA_AAP_1  39.068       788             GTR   \n",
       "160   Brats18_CBICA_AAL_1  54.301       464             GTR   \n",
       "161   Brats18_CBICA_AAG_1  52.263       616             GTR   \n",
       "162   Brats18_CBICA_AAB_1  60.463       289             GTR   \n",
       "\n",
       "                                        filename_flair  \\\n",
       "0    /home/atom/Documents/datasets/brats/MICCAI_Bra...   \n",
       "1    /home/atom/Documents/datasets/brats/MICCAI_Bra...   \n",
       "2    /home/atom/Documents/datasets/brats/MICCAI_Bra...   \n",
       "3    /home/atom/Documents/datasets/brats/MICCAI_Bra...   \n",
       "4    /home/atom/Documents/datasets/brats/MICCAI_Bra...   \n",
       "..                                                 ...   \n",
       "158  /home/atom/Documents/datasets/brats/MICCAI_Bra...   \n",
       "159  /home/atom/Documents/datasets/brats/MICCAI_Bra...   \n",
       "160  /home/atom/Documents/datasets/brats/MICCAI_Bra...   \n",
       "161  /home/atom/Documents/datasets/brats/MICCAI_Bra...   \n",
       "162  /home/atom/Documents/datasets/brats/MICCAI_Bra...   \n",
       "\n",
       "                                         filename_t1ce  \\\n",
       "0    /home/atom/Documents/datasets/brats/MICCAI_Bra...   \n",
       "1    /home/atom/Documents/datasets/brats/MICCAI_Bra...   \n",
       "2    /home/atom/Documents/datasets/brats/MICCAI_Bra...   \n",
       "3    /home/atom/Documents/datasets/brats/MICCAI_Bra...   \n",
       "4    /home/atom/Documents/datasets/brats/MICCAI_Bra...   \n",
       "..                                                 ...   \n",
       "158  /home/atom/Documents/datasets/brats/MICCAI_Bra...   \n",
       "159  /home/atom/Documents/datasets/brats/MICCAI_Bra...   \n",
       "160  /home/atom/Documents/datasets/brats/MICCAI_Bra...   \n",
       "161  /home/atom/Documents/datasets/brats/MICCAI_Bra...   \n",
       "162  /home/atom/Documents/datasets/brats/MICCAI_Bra...   \n",
       "\n",
       "                                          filename_seg  \n",
       "0    /home/atom/Documents/datasets/brats/MICCAI_Bra...  \n",
       "1    /home/atom/Documents/datasets/brats/MICCAI_Bra...  \n",
       "2    /home/atom/Documents/datasets/brats/MICCAI_Bra...  \n",
       "3    /home/atom/Documents/datasets/brats/MICCAI_Bra...  \n",
       "4    /home/atom/Documents/datasets/brats/MICCAI_Bra...  \n",
       "..                                                 ...  \n",
       "158  /home/atom/Documents/datasets/brats/MICCAI_Bra...  \n",
       "159  /home/atom/Documents/datasets/brats/MICCAI_Bra...  \n",
       "160  /home/atom/Documents/datasets/brats/MICCAI_Bra...  \n",
       "161  /home/atom/Documents/datasets/brats/MICCAI_Bra...  \n",
       "162  /home/atom/Documents/datasets/brats/MICCAI_Bra...  \n",
       "\n",
       "[163 rows x 7 columns]"
      ]
     },
     "execution_count": 9,
     "metadata": {},
     "output_type": "execute_result"
    }
   ],
   "source": [
    "metadata"
   ]
  },
  {
   "cell_type": "markdown",
   "id": "9a6fd7b2",
   "metadata": {},
   "source": [
    "# Jason's Implementation"
   ]
  },
  {
   "cell_type": "markdown",
   "id": "922a2260",
   "metadata": {},
   "source": [
    "## Load Data in Batches"
   ]
  },
  {
   "cell_type": "code",
   "execution_count": 12,
   "id": "c36ce91c",
   "metadata": {},
   "outputs": [],
   "source": [
    "def generate_brats_batch(file_pattern, contrasts, patient_list, batch_size=32):\n",
    "    \"\"\"\n",
    "    Generate arrays for each batch, for x (data) and y (labels), where the contrast is treated like a colour channel.\n",
    "    \n",
    "    Example:\n",
    "    x_batch shape: (32, 240, 240, 155, 4)\n",
    "    y_batch shape: (32, 240, 240, 155)\n",
    "    \"\"\"\n",
    "    \n",
    "    keys = dict(prefix=prefix, tumour=\"*\", patient_id=\"*\")\n",
    "    filenames = {contrast: glob.glob(file_pattern.format(contrast=contrast, **keys)) \n",
    "                 for contrast in contrasts}\n",
    "    \n",
    "    arbitrary_contrast = contrasts[0]\n",
    "    shape = nib.load(filenames[arbitrary_contrast][0]).get_fdata().shape\n",
    "\n",
    "    # define empty arrays for batches\n",
    "    x_batch = np.empty((batch_size, ) + shape + (len(contrasts), )) #, dtype=np.int32)\n",
    "    y_batch = np.empty((batch_size, ) + shape) #, dtype=np.int32)\n",
    "    num_images = len(filenames[arbitrary_contrast])\n",
    "\n",
    "    # shuffle \n",
    "    np.random.shuffle(filenames[arbitrary_contrast])\n",
    "\n",
    "    for bindex in tqdm.tqdm_notebook(range(0, num_images, batch_size), total=num_images):\n",
    "        filenames = filenames[arbitrary_contrast][bindex:bindex + batch_size]\n",
    "        for findex, filename in enumerate(filenames):\n",
    "            for cindex, contrast in enumerate(contrasts):\n",
    "                x_batch[findex, ..., cindex] = nib.load(filename.replace(arbitrary_contrast, contrast)).get_fdata()\n",
    "                y_batch[findex] = nib.load(filename.replace(arbitrary_contrast, 'seg')).get_fdata()                \n",
    "        yield (x_batch, y_batch)\n",
    "    "
   ]
  },
  {
   "cell_type": "code",
   "execution_count": 22,
   "id": "2716eba4",
   "metadata": {},
   "outputs": [],
   "source": [
    "tumour = 'hgg'\n",
    "prefix = '/Users/jasonfung/Documents/EECE571'\n",
    "file_dir = prefix + tumour\n",
    "dataset_file_list = os.listdir(file_dir)\n",
    "contrasts = []\n",
    "\n",
    "file_pattern = '{prefix}/MICCAI_BraTS_2018_Data_Training/{tumour}/{patient_id}/{patient_id}_{contrast}.nii.gz'\n",
    "\n",
    "batch_size = 32\n",
    "\n",
    "# shuffle and split the dataset file list\n",
    "import random\n",
    "random.seed(42)\n",
    "file_list_shuffled = dataset_file_list.copy()\n",
    "random.shuffle(file_list_shuffled)\n",
    "test_ratio = 0.2\n",
    "\n",
    "train_file, test_file = file_list_shuffled[0:int(len(file_list_shuffled)*(1-test_ratio))], file_list_shuffled[int(len(file_list_shuffled)*(1-test_ratio)):]\n",
    "# train and test file holds patient ID's\n",
    "\n",
    "# go through all batch sizes until it reaches the end of the directory \n",
    "start_batch = 0\n",
    "limit = len(train_file)\n",
    "end_batch = batch_size\n",
    "\n",
    "while end_batch < limit:\n",
    "    img_list = []\n",
    "    mask_list = []\n",
    "\n",
    "    file_pattern = '{prefix}/MICCAI_BraTS_2018_Data_Training/{tumour}/{patient_id}/{patient_id}_{contrast}.nii.gz'\n",
    "\n",
    "\n",
    "    \n",
    "    \n",
    "    \n",
    "\n"
   ]
  },
  {
   "cell_type": "code",
   "execution_count": 20,
   "id": "d9e3d86e",
   "metadata": {},
   "outputs": [
    {
     "name": "stdout",
     "output_type": "stream",
     "text": [
      "Segmentation Models: using `keras` framework.\n"
     ]
    }
   ],
   "source": [
    "import segmentation_models_3D as sm\n",
    "\n"
   ]
  },
  {
   "cell_type": "code",
   "execution_count": 24,
   "id": "e03b0f6f",
   "metadata": {},
   "outputs": [],
   "source": [
    "keys = dict(prefix=prefix, tumour=\"*\", patient_id=\"*\")\n",
    "filenames = {contrast: glob.glob(file_pattern.format(contrast=contrast, **keys)) for contrast in contrasts}"
   ]
  },
  {
   "cell_type": "code",
   "execution_count": 25,
   "id": "a96f535e",
   "metadata": {},
   "outputs": [
    {
     "data": {
      "text/plain": [
       "{'Brats18_CBICA_ARW_1_seg.nii.gz': [],\n",
       " 'Brats18_CBICA_ARW_1_flair.nii.gz': [],\n",
       " 'Brats18_CBICA_ARW_1_t1.nii.gz': [],\n",
       " 'Brats18_CBICA_ARW_1_t2.nii.gz': [],\n",
       " 'Brats18_CBICA_ARW_1_t1ce.nii.gz': []}"
      ]
     },
     "execution_count": 25,
     "metadata": {},
     "output_type": "execute_result"
    }
   ],
   "source": [
    "filenames"
   ]
  },
  {
   "cell_type": "code",
   "execution_count": null,
   "id": "9bb04853",
   "metadata": {},
   "outputs": [],
   "source": []
  }
 ],
 "metadata": {
  "kernelspec": {
   "display_name": "Python 3 (ipykernel)",
   "language": "python",
   "name": "python3"
  },
  "language_info": {
   "codemirror_mode": {
    "name": "ipython",
    "version": 3
   },
   "file_extension": ".py",
   "mimetype": "text/x-python",
   "name": "python",
   "nbconvert_exporter": "python",
   "pygments_lexer": "ipython3",
   "version": "3.9.9"
  }
 },
 "nbformat": 4,
 "nbformat_minor": 5
}
