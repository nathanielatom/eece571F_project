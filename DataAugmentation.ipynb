{
 "cells": [
  {
   "cell_type": "code",
   "execution_count": 2,
   "id": "902977c5-1c0f-441b-82a6-fcc55a8bd967",
   "metadata": {},
   "outputs": [],
   "source": [
    "import os\n",
    "\n",
    "import numpy as np\n",
    "import pandas as pd\n",
    "import nibabel as nib\n",
    "import matplotlib.pyplot as plt\n",
    "from keras_preprocessing.image import ImageDataGenerator"
   ]
  },
  {
   "cell_type": "code",
   "execution_count": 4,
   "id": "d6e498e5-5ea9-4c45-a200-6ef183a3b21d",
   "metadata": {},
   "outputs": [],
   "source": [
    "def read_file(patient_id, contrast):\n",
    "    filenames = [file_pattern for tumour in tumours]\n",
    "    try:\n",
    "        x = nib.load(filenames[0])\n",
    "    except FileNotFoundError:\n",
    "        x = nib.load(filenames[1])\n",
    "    filenames.replace()\n",
    "    nii_data = x.get_fdata()\n",
    "    return nii_data"
   ]
  },
  {
   "cell_type": "code",
   "execution_count": 3,
   "id": "64b2ed22-b951-4e06-b648-d9bd2a0d829a",
   "metadata": {},
   "outputs": [],
   "source": [
    "tumours = ['LGG','HGG']\n",
    "prefix = 'C:/Users/Fungj/Documents/EECE_571F/MICCAI_BraTS_2018_Data_Training'\n",
    "training_set = f'{prefix}/MICCAI_BraTS_2018_Data_Training/survival_data.csv'\n",
    "file_pattern = '{prefix}/MICCAI_BraTS_2018_Data_Training/{tumour}/{patient_id}/{patient_id}_{contrast}.nii.gz'\n",
    "patient_id = 'Brats18_TCIA09_620_1'\n",
    "contrasts = ['t1ce', 'flair', 't1', 't2']\n",
    "tumours = ['LGG', 'HGG']\n"
   ]
  },
  {
   "cell_type": "code",
   "execution_count": 4,
   "id": "604ab48b-0089-4466-98b5-5e755874b89b",
   "metadata": {},
   "outputs": [],
   "source": [
    "metadata = pd.read_csv(training_set)"
   ]
  },
  {
   "cell_type": "code",
   "execution_count": 5,
   "id": "77aa6ea7-cbe5-420a-a59b-060372239a10",
   "metadata": {},
   "outputs": [],
   "source": [
    "def create_filename(row, contrast):\n",
    "    possible_filenames = [file_pattern.format(prefix=prefix, tumour=tumour, patient_id=row['BraTS18ID'], contrast=contrast) for tumour in tumours]\n",
    "    filename = [filename for filename in possible_filenames if os.path.exists(filename)][0]\n",
    "    return filename"
   ]
  },
  {
   "cell_type": "code",
   "execution_count": 8,
   "id": "7413eaf2-6ec3-44c8-9465-eae48509627d",
   "metadata": {},
   "outputs": [],
   "source": [
    "metadata['filename_flair'] = metadata.apply(create_filename, axis=1, contrast='flair')\n",
    "metadata['filename_t1ce'] = metadata.apply(create_filename, axis=1, contrast='t1ce')\n",
    "metadata['filename_seg'] = metadata.apply(create_filename, axis=1, contrast='seg')"
   ]
  },
  {
   "cell_type": "code",
   "execution_count": 9,
   "id": "33e7db5c-ea58-48c8-9592-992f4eb05fc2",
   "metadata": {},
   "outputs": [
    {
     "data": {
      "text/html": [
       "<div>\n",
       "<style scoped>\n",
       "    .dataframe tbody tr th:only-of-type {\n",
       "        vertical-align: middle;\n",
       "    }\n",
       "\n",
       "    .dataframe tbody tr th {\n",
       "        vertical-align: top;\n",
       "    }\n",
       "\n",
       "    .dataframe thead th {\n",
       "        text-align: right;\n",
       "    }\n",
       "</style>\n",
       "<table border=\"1\" class=\"dataframe\">\n",
       "  <thead>\n",
       "    <tr style=\"text-align: right;\">\n",
       "      <th></th>\n",
       "      <th>BraTS18ID</th>\n",
       "      <th>Age</th>\n",
       "      <th>Survival</th>\n",
       "      <th>ResectionStatus</th>\n",
       "      <th>filename_flair</th>\n",
       "      <th>filename_t1ce</th>\n",
       "      <th>filename_seg</th>\n",
       "    </tr>\n",
       "  </thead>\n",
       "  <tbody>\n",
       "    <tr>\n",
       "      <th>0</th>\n",
       "      <td>Brats18_TCIA08_167_1</td>\n",
       "      <td>74.907</td>\n",
       "      <td>153</td>\n",
       "      <td>NaN</td>\n",
       "      <td>/home/atom/Documents/datasets/brats/MICCAI_Bra...</td>\n",
       "      <td>/home/atom/Documents/datasets/brats/MICCAI_Bra...</td>\n",
       "      <td>/home/atom/Documents/datasets/brats/MICCAI_Bra...</td>\n",
       "    </tr>\n",
       "    <tr>\n",
       "      <th>1</th>\n",
       "      <td>Brats18_TCIA08_242_1</td>\n",
       "      <td>66.479</td>\n",
       "      <td>147</td>\n",
       "      <td>NaN</td>\n",
       "      <td>/home/atom/Documents/datasets/brats/MICCAI_Bra...</td>\n",
       "      <td>/home/atom/Documents/datasets/brats/MICCAI_Bra...</td>\n",
       "      <td>/home/atom/Documents/datasets/brats/MICCAI_Bra...</td>\n",
       "    </tr>\n",
       "    <tr>\n",
       "      <th>2</th>\n",
       "      <td>Brats18_TCIA08_319_1</td>\n",
       "      <td>64.860</td>\n",
       "      <td>254</td>\n",
       "      <td>NaN</td>\n",
       "      <td>/home/atom/Documents/datasets/brats/MICCAI_Bra...</td>\n",
       "      <td>/home/atom/Documents/datasets/brats/MICCAI_Bra...</td>\n",
       "      <td>/home/atom/Documents/datasets/brats/MICCAI_Bra...</td>\n",
       "    </tr>\n",
       "    <tr>\n",
       "      <th>3</th>\n",
       "      <td>Brats18_TCIA08_469_1</td>\n",
       "      <td>63.899</td>\n",
       "      <td>519</td>\n",
       "      <td>NaN</td>\n",
       "      <td>/home/atom/Documents/datasets/brats/MICCAI_Bra...</td>\n",
       "      <td>/home/atom/Documents/datasets/brats/MICCAI_Bra...</td>\n",
       "      <td>/home/atom/Documents/datasets/brats/MICCAI_Bra...</td>\n",
       "    </tr>\n",
       "    <tr>\n",
       "      <th>4</th>\n",
       "      <td>Brats18_TCIA08_218_1</td>\n",
       "      <td>57.345</td>\n",
       "      <td>346</td>\n",
       "      <td>NaN</td>\n",
       "      <td>/home/atom/Documents/datasets/brats/MICCAI_Bra...</td>\n",
       "      <td>/home/atom/Documents/datasets/brats/MICCAI_Bra...</td>\n",
       "      <td>/home/atom/Documents/datasets/brats/MICCAI_Bra...</td>\n",
       "    </tr>\n",
       "    <tr>\n",
       "      <th>...</th>\n",
       "      <td>...</td>\n",
       "      <td>...</td>\n",
       "      <td>...</td>\n",
       "      <td>...</td>\n",
       "      <td>...</td>\n",
       "      <td>...</td>\n",
       "      <td>...</td>\n",
       "    </tr>\n",
       "    <tr>\n",
       "      <th>158</th>\n",
       "      <td>Brats18_CBICA_ABB_1</td>\n",
       "      <td>68.493</td>\n",
       "      <td>465</td>\n",
       "      <td>GTR</td>\n",
       "      <td>/home/atom/Documents/datasets/brats/MICCAI_Bra...</td>\n",
       "      <td>/home/atom/Documents/datasets/brats/MICCAI_Bra...</td>\n",
       "      <td>/home/atom/Documents/datasets/brats/MICCAI_Bra...</td>\n",
       "    </tr>\n",
       "    <tr>\n",
       "      <th>159</th>\n",
       "      <td>Brats18_CBICA_AAP_1</td>\n",
       "      <td>39.068</td>\n",
       "      <td>788</td>\n",
       "      <td>GTR</td>\n",
       "      <td>/home/atom/Documents/datasets/brats/MICCAI_Bra...</td>\n",
       "      <td>/home/atom/Documents/datasets/brats/MICCAI_Bra...</td>\n",
       "      <td>/home/atom/Documents/datasets/brats/MICCAI_Bra...</td>\n",
       "    </tr>\n",
       "    <tr>\n",
       "      <th>160</th>\n",
       "      <td>Brats18_CBICA_AAL_1</td>\n",
       "      <td>54.301</td>\n",
       "      <td>464</td>\n",
       "      <td>GTR</td>\n",
       "      <td>/home/atom/Documents/datasets/brats/MICCAI_Bra...</td>\n",
       "      <td>/home/atom/Documents/datasets/brats/MICCAI_Bra...</td>\n",
       "      <td>/home/atom/Documents/datasets/brats/MICCAI_Bra...</td>\n",
       "    </tr>\n",
       "    <tr>\n",
       "      <th>161</th>\n",
       "      <td>Brats18_CBICA_AAG_1</td>\n",
       "      <td>52.263</td>\n",
       "      <td>616</td>\n",
       "      <td>GTR</td>\n",
       "      <td>/home/atom/Documents/datasets/brats/MICCAI_Bra...</td>\n",
       "      <td>/home/atom/Documents/datasets/brats/MICCAI_Bra...</td>\n",
       "      <td>/home/atom/Documents/datasets/brats/MICCAI_Bra...</td>\n",
       "    </tr>\n",
       "    <tr>\n",
       "      <th>162</th>\n",
       "      <td>Brats18_CBICA_AAB_1</td>\n",
       "      <td>60.463</td>\n",
       "      <td>289</td>\n",
       "      <td>GTR</td>\n",
       "      <td>/home/atom/Documents/datasets/brats/MICCAI_Bra...</td>\n",
       "      <td>/home/atom/Documents/datasets/brats/MICCAI_Bra...</td>\n",
       "      <td>/home/atom/Documents/datasets/brats/MICCAI_Bra...</td>\n",
       "    </tr>\n",
       "  </tbody>\n",
       "</table>\n",
       "<p>163 rows × 7 columns</p>\n",
       "</div>"
      ],
      "text/plain": [
       "                BraTS18ID     Age  Survival ResectionStatus  \\\n",
       "0    Brats18_TCIA08_167_1  74.907       153             NaN   \n",
       "1    Brats18_TCIA08_242_1  66.479       147             NaN   \n",
       "2    Brats18_TCIA08_319_1  64.860       254             NaN   \n",
       "3    Brats18_TCIA08_469_1  63.899       519             NaN   \n",
       "4    Brats18_TCIA08_218_1  57.345       346             NaN   \n",
       "..                    ...     ...       ...             ...   \n",
       "158   Brats18_CBICA_ABB_1  68.493       465             GTR   \n",
       "159   Brats18_CBICA_AAP_1  39.068       788             GTR   \n",
       "160   Brats18_CBICA_AAL_1  54.301       464             GTR   \n",
       "161   Brats18_CBICA_AAG_1  52.263       616             GTR   \n",
       "162   Brats18_CBICA_AAB_1  60.463       289             GTR   \n",
       "\n",
       "                                        filename_flair  \\\n",
       "0    /home/atom/Documents/datasets/brats/MICCAI_Bra...   \n",
       "1    /home/atom/Documents/datasets/brats/MICCAI_Bra...   \n",
       "2    /home/atom/Documents/datasets/brats/MICCAI_Bra...   \n",
       "3    /home/atom/Documents/datasets/brats/MICCAI_Bra...   \n",
       "4    /home/atom/Documents/datasets/brats/MICCAI_Bra...   \n",
       "..                                                 ...   \n",
       "158  /home/atom/Documents/datasets/brats/MICCAI_Bra...   \n",
       "159  /home/atom/Documents/datasets/brats/MICCAI_Bra...   \n",
       "160  /home/atom/Documents/datasets/brats/MICCAI_Bra...   \n",
       "161  /home/atom/Documents/datasets/brats/MICCAI_Bra...   \n",
       "162  /home/atom/Documents/datasets/brats/MICCAI_Bra...   \n",
       "\n",
       "                                         filename_t1ce  \\\n",
       "0    /home/atom/Documents/datasets/brats/MICCAI_Bra...   \n",
       "1    /home/atom/Documents/datasets/brats/MICCAI_Bra...   \n",
       "2    /home/atom/Documents/datasets/brats/MICCAI_Bra...   \n",
       "3    /home/atom/Documents/datasets/brats/MICCAI_Bra...   \n",
       "4    /home/atom/Documents/datasets/brats/MICCAI_Bra...   \n",
       "..                                                 ...   \n",
       "158  /home/atom/Documents/datasets/brats/MICCAI_Bra...   \n",
       "159  /home/atom/Documents/datasets/brats/MICCAI_Bra...   \n",
       "160  /home/atom/Documents/datasets/brats/MICCAI_Bra...   \n",
       "161  /home/atom/Documents/datasets/brats/MICCAI_Bra...   \n",
       "162  /home/atom/Documents/datasets/brats/MICCAI_Bra...   \n",
       "\n",
       "                                          filename_seg  \n",
       "0    /home/atom/Documents/datasets/brats/MICCAI_Bra...  \n",
       "1    /home/atom/Documents/datasets/brats/MICCAI_Bra...  \n",
       "2    /home/atom/Documents/datasets/brats/MICCAI_Bra...  \n",
       "3    /home/atom/Documents/datasets/brats/MICCAI_Bra...  \n",
       "4    /home/atom/Documents/datasets/brats/MICCAI_Bra...  \n",
       "..                                                 ...  \n",
       "158  /home/atom/Documents/datasets/brats/MICCAI_Bra...  \n",
       "159  /home/atom/Documents/datasets/brats/MICCAI_Bra...  \n",
       "160  /home/atom/Documents/datasets/brats/MICCAI_Bra...  \n",
       "161  /home/atom/Documents/datasets/brats/MICCAI_Bra...  \n",
       "162  /home/atom/Documents/datasets/brats/MICCAI_Bra...  \n",
       "\n",
       "[163 rows x 7 columns]"
      ]
     },
     "execution_count": 9,
     "metadata": {},
     "output_type": "execute_result"
    }
   ],
   "source": [
    "metadata"
   ]
  },
  {
   "cell_type": "markdown",
   "id": "9a6fd7b2",
   "metadata": {},
   "source": [
    "# Jason's Implementation"
   ]
  },
  {
   "cell_type": "markdown",
   "id": "922a2260",
   "metadata": {},
   "source": [
    "## Load Data in Batches"
   ]
  },
  {
   "cell_type": "code",
   "execution_count": null,
   "id": "c36ce91c",
   "metadata": {},
   "outputs": [],
   "source": [
    "# edit this function tomorrow\n",
    "def load_img(img_dir, img_list):\n",
    "    images=[]\n",
    "    for i, image_name in enumerate(img_list):    \n",
    "        if (image_name.split('.')[1] == 'npy'):\n",
    "            \n",
    "            image = np.load(img_dir+image_name)\n",
    "                      \n",
    "            images.append(image)\n",
    "    images = np.array(images)\n",
    "    \n",
    "    return(images)\n",
    "\n",
    "# edit this function tomorrow\n",
    "def imageLoader(img_dir, img_list, mask_dir, mask_list, batch_size):\n",
    "\n",
    "    L = len(img_list)\n",
    "\n",
    "    #keras needs the generator infinite, so we will use while true  \n",
    "    while True:\n",
    "\n",
    "        batch_start = 0\n",
    "        batch_end = batch_size\n",
    "\n",
    "        while batch_start < L:\n",
    "            limit = min(batch_end, L)\n",
    "                       \n",
    "            X = load_img(img_dir, img_list[batch_start:limit])\n",
    "            Y = load_img(mask_dir, mask_list[batch_start:limit])\n",
    "\n",
    "            yield (X,Y) #a tuple with two numpy arrays with batch_size samples     \n",
    "\n",
    "            batch_start += batch_size   \n",
    "            batch_end += batch_size"
   ]
  },
  {
   "cell_type": "code",
   "execution_count": 46,
   "id": "2716eba4",
   "metadata": {},
   "outputs": [],
   "source": [
    "tumour = 'HGG'\n",
    "prefix = 'C:/Users/Fungj/Documents/EECE_571F/MICCAI_BraTS_2018_Data_Training/'\n",
    "file_dir = prefix + tumour\n",
    "dataset_file_list = os.listdir(file_dir)\n",
    "contrasts = os.listdir(os.path.join(file_dir,dataset_file_list[2]))\n",
    "\n",
    "batch_size = 32\n",
    "\n",
    "# shuffle and split the dataset file list\n",
    "import random\n",
    "random.seed(42)\n",
    "file_list_shuffled = dataset_file_list.copy()\n",
    "random.shuffle(file_list_shuffled)\n",
    "test_ratio = 0.2\n",
    "\n",
    "train_file, test_file = file_list_shuffled[0:int(len(file_list_shuffled)*(1-test_ratio))], file_list_shuffled[int(len(file_list_shuffled)*(1-test_ratio)):]\n",
    "\n",
    "\n",
    "\n",
    "\n"
   ]
  },
  {
   "cell_type": "code",
   "execution_count": 47,
   "id": "433e5a85-f42a-4489-960d-237a1b336f1d",
   "metadata": {},
   "outputs": [
    {
     "data": {
      "text/plain": [
       "'Brats18_CBICA_AVV_1'"
      ]
     },
     "execution_count": 47,
     "metadata": {},
     "output_type": "execute_result"
    }
   ],
   "source": [
    "train_file[167]"
   ]
  },
  {
   "cell_type": "code",
   "execution_count": 48,
   "id": "69a154a5-7634-42e8-8d7f-7bc474d4da90",
   "metadata": {},
   "outputs": [
    {
     "data": {
      "text/plain": [
       "'Brats18_TCIA02_608_1'"
      ]
     },
     "execution_count": 48,
     "metadata": {},
     "output_type": "execute_result"
    }
   ],
   "source": [
    "test_file[41]"
   ]
  },
  {
   "cell_type": "code",
   "execution_count": 42,
   "id": "df11bd5f-838a-4788-aca5-c09a439e0a47",
   "metadata": {},
   "outputs": [
    {
     "data": {
      "text/plain": [
       "'Brats18_TCIA02_608_1'"
      ]
     },
     "execution_count": 42,
     "metadata": {},
     "output_type": "execute_result"
    }
   ],
   "source": [
    "file_list_shuffled[-1]"
   ]
  },
  {
   "cell_type": "code",
   "execution_count": null,
   "id": "84a18b21",
   "metadata": {},
   "outputs": [],
   "source": []
  }
 ],
 "metadata": {
  "kernelspec": {
   "display_name": "Python 3 (ipykernel)",
   "language": "python",
   "name": "python3"
  },
  "language_info": {
   "codemirror_mode": {
    "name": "ipython",
    "version": 3
   },
   "file_extension": ".py",
   "mimetype": "text/x-python",
   "name": "python",
   "nbconvert_exporter": "python",
   "pygments_lexer": "ipython3",
   "version": "3.9.9"
  }
 },
 "nbformat": 4,
 "nbformat_minor": 5
}
