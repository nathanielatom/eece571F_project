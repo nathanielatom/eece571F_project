{
 "cells": [
  {
   "cell_type": "code",
   "execution_count": 3,
   "id": "6629451d-a480-4236-bd2c-2ff39635cdda",
   "metadata": {},
   "outputs": [],
   "source": [
    "# import libraries \n",
    "import numpy as np\n",
    "import os\n",
    "\n",
    "tumours = ['LGG','HGG']\n",
    "\n",
    "# prefix = '/Users/jasonfung/Documents/EECE571' # Jason's Macbook\n",
    "# prefix = 'C:/Users/Fungj/Documents/EECE_571F' # Jason's Desktop\n",
    "brats_dir = '/MICCAI_BraTS_2018_Data_Training/'\n",
    "prefix = '/home/atom/Documents/datasets/brats' # Adam's Station\n",
    "file_pattern = '{prefix}/MICCAI_BraTS_2018_Data_Training/{tumour}/{patient_id}/{patient_id}_{contrast}.nii.gz'\n",
    "# patient_id = 'Brats18_TCIA09_620_1'\n",
    "contrasts = ['t1ce', 'flair', 't2']\n",
    "tumours = ['LGG', 'HGG']\n",
    "\n",
    "data_list_LGG = os.listdir(os.path.join(prefix+brats_dir,tumours[0]))\n",
    "data_list_HGG = os.listdir(os.path.join(prefix+brats_dir,tumours[1]))\n",
    "dataset_file_list = data_list_HGG + data_list_LGG\n",
    "\n",
    "# shuffle and split the dataset file list\n",
    "import random\n",
    "random.seed(42)\n",
    "file_list_shuffled = dataset_file_list.copy()\n",
    "random.shuffle(file_list_shuffled)\n",
    "test_ratio = 0.2\n",
    "\n",
    "train_file, test_file = file_list_shuffled[0:int(len(file_list_shuffled)*(1-test_ratio))], file_list_shuffled[int(len(file_list_shuffled)*(1-test_ratio)):]"
   ]
  },
  {
   "cell_type": "code",
   "execution_count": null,
   "id": "e3648850-478a-46b9-900a-0fab752b5425",
   "metadata": {},
   "outputs": [],
   "source": [
    "# loop over each raw image and mask to get mean\n"
   ]
  }
 ],
 "metadata": {
  "kernelspec": {
   "display_name": "Python 3 (ipykernel)",
   "language": "python",
   "name": "python3"
  },
  "language_info": {
   "codemirror_mode": {
    "name": "ipython",
    "version": 3
   },
   "file_extension": ".py",
   "mimetype": "text/x-python",
   "name": "python",
   "nbconvert_exporter": "python",
   "pygments_lexer": "ipython3",
   "version": "3.9.7"
  }
 },
 "nbformat": 4,
 "nbformat_minor": 5
}
