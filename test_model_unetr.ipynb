{
 "cells": [
  {
   "cell_type": "markdown",
   "id": "938fb092-0639-4321-9e33-a8bc8ff8234c",
   "metadata": {},
   "source": [
    "# Load Libraries and Model"
   ]
  },
  {
   "cell_type": "code",
   "execution_count": 30,
   "id": "415c049f-0a09-40c2-8e6c-ca67c12b5859",
   "metadata": {},
   "outputs": [],
   "source": [
    "import sys\n",
    "path = '/home/atom/Dropbox/Skule/EECE571F/Project/research-contributions/UNETR/BTCV/networks' # '/Users/Atom/Dropbox/Skule/EECE571F/Project/research-contributions/UNETR/BTCV/networks'\n",
    "sys.path.append(path)"
   ]
  },
  {
   "cell_type": "code",
   "execution_count": 31,
   "id": "6dcb50b5-3c4e-44a8-adad-fa94ff7aa4c0",
   "metadata": {
    "tags": []
   },
   "outputs": [],
   "source": [
    "import glob\n",
    "\n",
    "from tqdm import trange\n",
    "import nibabel as nib\n",
    "import numpy as np\n",
    "import torch\n",
    "from sklearn.preprocessing import MinMaxScaler\n",
    "scalar = MinMaxScaler()\n",
    "from skimage.transform import resize\n",
    "import matplotlib.pyplot as plt\n",
    "\n",
    "from unetr import UNETR\n",
    "# from self_attention_cv.Transformer3Dsegmentation.tranf3Dseg import Transformer3dSeg\n",
    "# from self_attention_cv.transunet import TransUnet\n",
    "# from self_attention_cv import TransformerEncoder\n",
    "# from self_attention_cv import ViT, ResNet50ViT"
   ]
  },
  {
   "cell_type": "code",
   "execution_count": 3,
   "id": "133eaa9e-a422-4706-97d1-18fb16df1f71",
   "metadata": {},
   "outputs": [],
   "source": [
    "def to_categorical(y, num_classes):\n",
    "    \"\"\" 1-hot encodes a tensor \"\"\"\n",
    "    return np.eye(num_classes, dtype='bool')[y.astype(np.int16)]"
   ]
  },
  {
   "cell_type": "code",
   "execution_count": 4,
   "id": "ceda36f1-4fa6-4c15-8969-9696bfb6066a",
   "metadata": {},
   "outputs": [],
   "source": [
    "def generate_brats_batch(prefix, \n",
    "                         contrasts, \n",
    "                         batch_size=32, \n",
    "                         tumour='*', \n",
    "                         patient_ids='*',\n",
    "                         resample_size=(None, None, None),\n",
    "                         augment_size=None,\n",
    "                         infinite=True):\n",
    "    \"\"\"\n",
    "    Generate arrays for each batch, for x (data) and y (labels), where the contrast is treated like a colour channel.\n",
    "    \n",
    "    Example:\n",
    "    x_batch shape: (32, 240, 240, 155, 4)\n",
    "    y_batch shape: (32, 240, 240, 155)\n",
    "    \n",
    "    augment_size must be less than or equal to the batch_size, if None will not augment.\n",
    "    \n",
    "    \"\"\"\n",
    "    file_pattern = '{prefix}/MICCAI_BraTS_2018_Data_Training/{tumour}/{patient_id}/{patient_id}_{contrast}.nii.gz'\n",
    "    while True:\n",
    "        n_classes = 4\n",
    "\n",
    "        # get list of filenames for every contrast available\n",
    "        keys = dict(prefix=prefix, tumour=tumour)\n",
    "        filenames_by_contrast = {}\n",
    "        for contrast in contrasts:\n",
    "            filenames_by_contrast[contrast] = glob.glob(file_pattern.format(contrast=contrast, patient_id=patient_ids, **keys)) if patient_ids == '*' else []\n",
    "            if patient_ids != '*':\n",
    "                contrast_files = []\n",
    "                for patient_id in patient_ids:\n",
    "                    contrast_files.extend(glob.glob(file_pattern.format(contrast=contrast, patient_id=patient_id, **keys)))\n",
    "                filenames_by_contrast[contrast] = contrast_files\n",
    "\n",
    "        # get the shape of one 3D volume and initialize the batch lists\n",
    "        arbitrary_contrast = contrasts[0]\n",
    "        shape = nib.load(filenames_by_contrast[arbitrary_contrast][0]).get_fdata().shape if resample_size == (None, None, None) else resample_size\n",
    "\n",
    "        # initialize empty array of batches\n",
    "        x_batch = np.empty((batch_size, ) + shape + (len(contrasts), )) #, dtype=np.int32)\n",
    "        y_batch = np.empty((batch_size, ) + shape + (n_classes,)) #, dtype=np.int32)\n",
    "        num_images = len(filenames_by_contrast[arbitrary_contrast])\n",
    "        np.random.shuffle(filenames_by_contrast[arbitrary_contrast])\n",
    "        for bindex in trange(0, num_images, batch_size):\n",
    "            filenames = filenames_by_contrast[arbitrary_contrast][bindex:bindex + batch_size]\n",
    "            for findex, filename in enumerate(filenames):\n",
    "                for cindex, contrast in enumerate(contrasts):\n",
    "\n",
    "                    # load raw image batches and normalize the pixels\n",
    "                    tmp_img = nib.load(filename.replace(arbitrary_contrast, contrast)).get_fdata()\n",
    "                    if resample_size != (None, None, None):\n",
    "                        tmp_img = resize(tmp_img, resample_size, mode='edge')\n",
    "                    tmp_img = scalar.fit_transform(tmp_img.reshape(-1, tmp_img.shape[-1])).reshape(tmp_img.shape)\n",
    "                    x_batch[findex, ..., cindex] = tmp_img\n",
    "\n",
    "                    # load mask batches and change to categorical\n",
    "                    tmp_mask = nib.load(filename.replace(arbitrary_contrast, 'seg')).get_fdata()\n",
    "                    tmp_mask[tmp_mask==4] = 3\n",
    "                    tmp_mask = to_categorical(tmp_mask, num_classes=4)\n",
    "                    if resample_size != (None, None, None):\n",
    "                        tmp_mask = resize(tmp_mask, resample_size, mode='edge')\n",
    "                    y_batch[findex] = tmp_mask\n",
    "\n",
    "            if bindex + batch_size > num_images:\n",
    "                x_batch, y_batch = x_batch[:num_images - bindex], y_batch[:num_images - bindex]\n",
    "            if augment_size is not None:\n",
    "                # x_aug, y_aug = augment(x_batch, y_batch, augment_size)\n",
    "                x_aug = None\n",
    "                y_aug = None\n",
    "                yield np.append(x_batch, x_aug), np.append(y_batch, y_aug)\n",
    "            else:\n",
    "                yield x_batch, y_batch\n",
    "        if not infinite:\n",
    "            break"
   ]
  },
  {
   "cell_type": "code",
   "execution_count": 5,
   "id": "3595d619-a8bc-4ea6-a5de-10efe4978352",
   "metadata": {},
   "outputs": [],
   "source": [
    "# prefix = '/home/atom/Documents/datasets/brats' # Adam's Station\n",
    "prefix = '/Users/Atom/Documents/datasets/brats'\n",
    "trained_model = 'unetr_models/model_20220418_212816_45'"
   ]
  },
  {
   "cell_type": "code",
   "execution_count": 6,
   "id": "992ce1df-c983-4e61-845b-d16bd1493a57",
   "metadata": {},
   "outputs": [],
   "source": [
    "brats_classes = 4\n",
    "brats_contrasts = 4\n",
    "brats_x = 80 # 240\n",
    "brats_y = 80 # 240\n",
    "brats_z = 80 # 155\n",
    "resampled_shape = (brats_x, brats_y, brats_z)\n",
    "\n",
    "patch_size = 16\n",
    "feature_size = 20\n",
    "embedding_size = 768 # 1536\n",
    "msa_heads = 6 # 12\n",
    "mlp_size = 1024 # 2048\n",
    "\n",
    "dropout = 0.10\n",
    "max_epochs = 50\n",
    "learning_rate = 0.0005"
   ]
  },
  {
   "cell_type": "code",
   "execution_count": 7,
   "id": "cd8de522-3bd3-4eea-b4c4-c179b182c3a7",
   "metadata": {},
   "outputs": [],
   "source": [
    "class OURUNETR(UNETR):\n",
    "    \n",
    "    @property\n",
    "    def patch_size(self):\n",
    "        return (patch_size, patch_size, patch_size)\n",
    "    \n",
    "    @patch_size.setter\n",
    "    def patch_size(self, value):\n",
    "        pass"
   ]
  },
  {
   "cell_type": "code",
   "execution_count": 8,
   "id": "facf80e7-4b96-449b-b01a-20280d0f0512",
   "metadata": {},
   "outputs": [],
   "source": [
    "model = OURUNETR(\n",
    "    in_channels=brats_contrasts,\n",
    "    out_channels=brats_classes,\n",
    "    img_size=(brats_x, brats_y, brats_z),\n",
    "    feature_size=feature_size,\n",
    "    hidden_size=embedding_size,\n",
    "    mlp_dim=mlp_size,\n",
    "    num_heads=msa_heads,\n",
    "    pos_embed='perceptron',\n",
    "    norm_name='instance',\n",
    "    conv_block=True,\n",
    "    res_block=True,\n",
    "    dropout_rate=dropout)"
   ]
  },
  {
   "cell_type": "code",
   "execution_count": 9,
   "id": "c1924979-bb58-4841-b341-0988dc17605b",
   "metadata": {},
   "outputs": [
    {
     "data": {
      "text/plain": [
       "<All keys matched successfully>"
      ]
     },
     "execution_count": 9,
     "metadata": {},
     "output_type": "execute_result"
    }
   ],
   "source": [
    "model.load_state_dict(torch.load(f'{prefix}/{trained_model}', map_location=torch.device('cpu')))"
   ]
  },
  {
   "cell_type": "code",
   "execution_count": 10,
   "id": "4c8e85e3-c8be-4186-9b82-a625f96d1c09",
   "metadata": {},
   "outputs": [
    {
     "data": {
      "text/plain": [
       "OURUNETR(\n",
       "  (vit): ViT(\n",
       "    (patch_embedding): PatchEmbeddingBlock(\n",
       "      (patch_embeddings): Sequential(\n",
       "        (0): Rearrange('b c (h p1) (w p2) (d p3) -> b (h w d) (p1 p2 p3 c)', p1=16, p2=16, p3=16)\n",
       "        (1): Linear(in_features=16384, out_features=768, bias=True)\n",
       "      )\n",
       "      (dropout): Dropout(p=0.1, inplace=False)\n",
       "    )\n",
       "    (blocks): ModuleList(\n",
       "      (0): TransformerBlock(\n",
       "        (mlp): MLPBlock(\n",
       "          (linear1): Linear(in_features=768, out_features=1024, bias=True)\n",
       "          (linear2): Linear(in_features=1024, out_features=768, bias=True)\n",
       "          (fn): GELU()\n",
       "          (drop1): Dropout(p=0.1, inplace=False)\n",
       "          (drop2): Dropout(p=0.1, inplace=False)\n",
       "        )\n",
       "        (norm1): LayerNorm((768,), eps=1e-05, elementwise_affine=True)\n",
       "        (attn): SABlock(\n",
       "          (out_proj): Linear(in_features=768, out_features=768, bias=True)\n",
       "          (qkv): Linear(in_features=768, out_features=2304, bias=False)\n",
       "          (drop_output): Dropout(p=0.1, inplace=False)\n",
       "          (drop_weights): Dropout(p=0.1, inplace=False)\n",
       "        )\n",
       "        (norm2): LayerNorm((768,), eps=1e-05, elementwise_affine=True)\n",
       "      )\n",
       "      (1): TransformerBlock(\n",
       "        (mlp): MLPBlock(\n",
       "          (linear1): Linear(in_features=768, out_features=1024, bias=True)\n",
       "          (linear2): Linear(in_features=1024, out_features=768, bias=True)\n",
       "          (fn): GELU()\n",
       "          (drop1): Dropout(p=0.1, inplace=False)\n",
       "          (drop2): Dropout(p=0.1, inplace=False)\n",
       "        )\n",
       "        (norm1): LayerNorm((768,), eps=1e-05, elementwise_affine=True)\n",
       "        (attn): SABlock(\n",
       "          (out_proj): Linear(in_features=768, out_features=768, bias=True)\n",
       "          (qkv): Linear(in_features=768, out_features=2304, bias=False)\n",
       "          (drop_output): Dropout(p=0.1, inplace=False)\n",
       "          (drop_weights): Dropout(p=0.1, inplace=False)\n",
       "        )\n",
       "        (norm2): LayerNorm((768,), eps=1e-05, elementwise_affine=True)\n",
       "      )\n",
       "      (2): TransformerBlock(\n",
       "        (mlp): MLPBlock(\n",
       "          (linear1): Linear(in_features=768, out_features=1024, bias=True)\n",
       "          (linear2): Linear(in_features=1024, out_features=768, bias=True)\n",
       "          (fn): GELU()\n",
       "          (drop1): Dropout(p=0.1, inplace=False)\n",
       "          (drop2): Dropout(p=0.1, inplace=False)\n",
       "        )\n",
       "        (norm1): LayerNorm((768,), eps=1e-05, elementwise_affine=True)\n",
       "        (attn): SABlock(\n",
       "          (out_proj): Linear(in_features=768, out_features=768, bias=True)\n",
       "          (qkv): Linear(in_features=768, out_features=2304, bias=False)\n",
       "          (drop_output): Dropout(p=0.1, inplace=False)\n",
       "          (drop_weights): Dropout(p=0.1, inplace=False)\n",
       "        )\n",
       "        (norm2): LayerNorm((768,), eps=1e-05, elementwise_affine=True)\n",
       "      )\n",
       "      (3): TransformerBlock(\n",
       "        (mlp): MLPBlock(\n",
       "          (linear1): Linear(in_features=768, out_features=1024, bias=True)\n",
       "          (linear2): Linear(in_features=1024, out_features=768, bias=True)\n",
       "          (fn): GELU()\n",
       "          (drop1): Dropout(p=0.1, inplace=False)\n",
       "          (drop2): Dropout(p=0.1, inplace=False)\n",
       "        )\n",
       "        (norm1): LayerNorm((768,), eps=1e-05, elementwise_affine=True)\n",
       "        (attn): SABlock(\n",
       "          (out_proj): Linear(in_features=768, out_features=768, bias=True)\n",
       "          (qkv): Linear(in_features=768, out_features=2304, bias=False)\n",
       "          (drop_output): Dropout(p=0.1, inplace=False)\n",
       "          (drop_weights): Dropout(p=0.1, inplace=False)\n",
       "        )\n",
       "        (norm2): LayerNorm((768,), eps=1e-05, elementwise_affine=True)\n",
       "      )\n",
       "      (4): TransformerBlock(\n",
       "        (mlp): MLPBlock(\n",
       "          (linear1): Linear(in_features=768, out_features=1024, bias=True)\n",
       "          (linear2): Linear(in_features=1024, out_features=768, bias=True)\n",
       "          (fn): GELU()\n",
       "          (drop1): Dropout(p=0.1, inplace=False)\n",
       "          (drop2): Dropout(p=0.1, inplace=False)\n",
       "        )\n",
       "        (norm1): LayerNorm((768,), eps=1e-05, elementwise_affine=True)\n",
       "        (attn): SABlock(\n",
       "          (out_proj): Linear(in_features=768, out_features=768, bias=True)\n",
       "          (qkv): Linear(in_features=768, out_features=2304, bias=False)\n",
       "          (drop_output): Dropout(p=0.1, inplace=False)\n",
       "          (drop_weights): Dropout(p=0.1, inplace=False)\n",
       "        )\n",
       "        (norm2): LayerNorm((768,), eps=1e-05, elementwise_affine=True)\n",
       "      )\n",
       "      (5): TransformerBlock(\n",
       "        (mlp): MLPBlock(\n",
       "          (linear1): Linear(in_features=768, out_features=1024, bias=True)\n",
       "          (linear2): Linear(in_features=1024, out_features=768, bias=True)\n",
       "          (fn): GELU()\n",
       "          (drop1): Dropout(p=0.1, inplace=False)\n",
       "          (drop2): Dropout(p=0.1, inplace=False)\n",
       "        )\n",
       "        (norm1): LayerNorm((768,), eps=1e-05, elementwise_affine=True)\n",
       "        (attn): SABlock(\n",
       "          (out_proj): Linear(in_features=768, out_features=768, bias=True)\n",
       "          (qkv): Linear(in_features=768, out_features=2304, bias=False)\n",
       "          (drop_output): Dropout(p=0.1, inplace=False)\n",
       "          (drop_weights): Dropout(p=0.1, inplace=False)\n",
       "        )\n",
       "        (norm2): LayerNorm((768,), eps=1e-05, elementwise_affine=True)\n",
       "      )\n",
       "      (6): TransformerBlock(\n",
       "        (mlp): MLPBlock(\n",
       "          (linear1): Linear(in_features=768, out_features=1024, bias=True)\n",
       "          (linear2): Linear(in_features=1024, out_features=768, bias=True)\n",
       "          (fn): GELU()\n",
       "          (drop1): Dropout(p=0.1, inplace=False)\n",
       "          (drop2): Dropout(p=0.1, inplace=False)\n",
       "        )\n",
       "        (norm1): LayerNorm((768,), eps=1e-05, elementwise_affine=True)\n",
       "        (attn): SABlock(\n",
       "          (out_proj): Linear(in_features=768, out_features=768, bias=True)\n",
       "          (qkv): Linear(in_features=768, out_features=2304, bias=False)\n",
       "          (drop_output): Dropout(p=0.1, inplace=False)\n",
       "          (drop_weights): Dropout(p=0.1, inplace=False)\n",
       "        )\n",
       "        (norm2): LayerNorm((768,), eps=1e-05, elementwise_affine=True)\n",
       "      )\n",
       "      (7): TransformerBlock(\n",
       "        (mlp): MLPBlock(\n",
       "          (linear1): Linear(in_features=768, out_features=1024, bias=True)\n",
       "          (linear2): Linear(in_features=1024, out_features=768, bias=True)\n",
       "          (fn): GELU()\n",
       "          (drop1): Dropout(p=0.1, inplace=False)\n",
       "          (drop2): Dropout(p=0.1, inplace=False)\n",
       "        )\n",
       "        (norm1): LayerNorm((768,), eps=1e-05, elementwise_affine=True)\n",
       "        (attn): SABlock(\n",
       "          (out_proj): Linear(in_features=768, out_features=768, bias=True)\n",
       "          (qkv): Linear(in_features=768, out_features=2304, bias=False)\n",
       "          (drop_output): Dropout(p=0.1, inplace=False)\n",
       "          (drop_weights): Dropout(p=0.1, inplace=False)\n",
       "        )\n",
       "        (norm2): LayerNorm((768,), eps=1e-05, elementwise_affine=True)\n",
       "      )\n",
       "      (8): TransformerBlock(\n",
       "        (mlp): MLPBlock(\n",
       "          (linear1): Linear(in_features=768, out_features=1024, bias=True)\n",
       "          (linear2): Linear(in_features=1024, out_features=768, bias=True)\n",
       "          (fn): GELU()\n",
       "          (drop1): Dropout(p=0.1, inplace=False)\n",
       "          (drop2): Dropout(p=0.1, inplace=False)\n",
       "        )\n",
       "        (norm1): LayerNorm((768,), eps=1e-05, elementwise_affine=True)\n",
       "        (attn): SABlock(\n",
       "          (out_proj): Linear(in_features=768, out_features=768, bias=True)\n",
       "          (qkv): Linear(in_features=768, out_features=2304, bias=False)\n",
       "          (drop_output): Dropout(p=0.1, inplace=False)\n",
       "          (drop_weights): Dropout(p=0.1, inplace=False)\n",
       "        )\n",
       "        (norm2): LayerNorm((768,), eps=1e-05, elementwise_affine=True)\n",
       "      )\n",
       "      (9): TransformerBlock(\n",
       "        (mlp): MLPBlock(\n",
       "          (linear1): Linear(in_features=768, out_features=1024, bias=True)\n",
       "          (linear2): Linear(in_features=1024, out_features=768, bias=True)\n",
       "          (fn): GELU()\n",
       "          (drop1): Dropout(p=0.1, inplace=False)\n",
       "          (drop2): Dropout(p=0.1, inplace=False)\n",
       "        )\n",
       "        (norm1): LayerNorm((768,), eps=1e-05, elementwise_affine=True)\n",
       "        (attn): SABlock(\n",
       "          (out_proj): Linear(in_features=768, out_features=768, bias=True)\n",
       "          (qkv): Linear(in_features=768, out_features=2304, bias=False)\n",
       "          (drop_output): Dropout(p=0.1, inplace=False)\n",
       "          (drop_weights): Dropout(p=0.1, inplace=False)\n",
       "        )\n",
       "        (norm2): LayerNorm((768,), eps=1e-05, elementwise_affine=True)\n",
       "      )\n",
       "      (10): TransformerBlock(\n",
       "        (mlp): MLPBlock(\n",
       "          (linear1): Linear(in_features=768, out_features=1024, bias=True)\n",
       "          (linear2): Linear(in_features=1024, out_features=768, bias=True)\n",
       "          (fn): GELU()\n",
       "          (drop1): Dropout(p=0.1, inplace=False)\n",
       "          (drop2): Dropout(p=0.1, inplace=False)\n",
       "        )\n",
       "        (norm1): LayerNorm((768,), eps=1e-05, elementwise_affine=True)\n",
       "        (attn): SABlock(\n",
       "          (out_proj): Linear(in_features=768, out_features=768, bias=True)\n",
       "          (qkv): Linear(in_features=768, out_features=2304, bias=False)\n",
       "          (drop_output): Dropout(p=0.1, inplace=False)\n",
       "          (drop_weights): Dropout(p=0.1, inplace=False)\n",
       "        )\n",
       "        (norm2): LayerNorm((768,), eps=1e-05, elementwise_affine=True)\n",
       "      )\n",
       "      (11): TransformerBlock(\n",
       "        (mlp): MLPBlock(\n",
       "          (linear1): Linear(in_features=768, out_features=1024, bias=True)\n",
       "          (linear2): Linear(in_features=1024, out_features=768, bias=True)\n",
       "          (fn): GELU()\n",
       "          (drop1): Dropout(p=0.1, inplace=False)\n",
       "          (drop2): Dropout(p=0.1, inplace=False)\n",
       "        )\n",
       "        (norm1): LayerNorm((768,), eps=1e-05, elementwise_affine=True)\n",
       "        (attn): SABlock(\n",
       "          (out_proj): Linear(in_features=768, out_features=768, bias=True)\n",
       "          (qkv): Linear(in_features=768, out_features=2304, bias=False)\n",
       "          (drop_output): Dropout(p=0.1, inplace=False)\n",
       "          (drop_weights): Dropout(p=0.1, inplace=False)\n",
       "        )\n",
       "        (norm2): LayerNorm((768,), eps=1e-05, elementwise_affine=True)\n",
       "      )\n",
       "    )\n",
       "    (norm): LayerNorm((768,), eps=1e-05, elementwise_affine=True)\n",
       "  )\n",
       "  (encoder1): UnetrBasicBlock(\n",
       "    (layer): UnetResBlock(\n",
       "      (conv1): Convolution(\n",
       "        (conv): Conv3d(4, 20, kernel_size=(3, 3, 3), stride=(1, 1, 1), padding=(1, 1, 1), bias=False)\n",
       "      )\n",
       "      (conv2): Convolution(\n",
       "        (conv): Conv3d(20, 20, kernel_size=(3, 3, 3), stride=(1, 1, 1), padding=(1, 1, 1), bias=False)\n",
       "      )\n",
       "      (conv3): Convolution(\n",
       "        (conv): Conv3d(4, 20, kernel_size=(1, 1, 1), stride=(1, 1, 1), bias=False)\n",
       "      )\n",
       "      (lrelu): LeakyReLU(negative_slope=0.01, inplace=True)\n",
       "      (norm1): InstanceNorm3d(20, eps=1e-05, momentum=0.1, affine=False, track_running_stats=False)\n",
       "      (norm2): InstanceNorm3d(20, eps=1e-05, momentum=0.1, affine=False, track_running_stats=False)\n",
       "      (norm3): InstanceNorm3d(20, eps=1e-05, momentum=0.1, affine=False, track_running_stats=False)\n",
       "    )\n",
       "  )\n",
       "  (encoder2): UnetrPrUpBlock(\n",
       "    (transp_conv_init): Convolution(\n",
       "      (conv): ConvTranspose3d(768, 40, kernel_size=(2, 2, 2), stride=(2, 2, 2), bias=False)\n",
       "    )\n",
       "    (blocks): ModuleList(\n",
       "      (0): Sequential(\n",
       "        (0): Convolution(\n",
       "          (conv): ConvTranspose3d(40, 40, kernel_size=(2, 2, 2), stride=(2, 2, 2), bias=False)\n",
       "        )\n",
       "        (1): UnetResBlock(\n",
       "          (conv1): Convolution(\n",
       "            (conv): Conv3d(40, 40, kernel_size=(3, 3, 3), stride=(1, 1, 1), padding=(1, 1, 1), bias=False)\n",
       "          )\n",
       "          (conv2): Convolution(\n",
       "            (conv): Conv3d(40, 40, kernel_size=(3, 3, 3), stride=(1, 1, 1), padding=(1, 1, 1), bias=False)\n",
       "          )\n",
       "          (conv3): Convolution(\n",
       "            (conv): Conv3d(40, 40, kernel_size=(1, 1, 1), stride=(1, 1, 1), bias=False)\n",
       "          )\n",
       "          (lrelu): LeakyReLU(negative_slope=0.01, inplace=True)\n",
       "          (norm1): InstanceNorm3d(40, eps=1e-05, momentum=0.1, affine=False, track_running_stats=False)\n",
       "          (norm2): InstanceNorm3d(40, eps=1e-05, momentum=0.1, affine=False, track_running_stats=False)\n",
       "          (norm3): InstanceNorm3d(40, eps=1e-05, momentum=0.1, affine=False, track_running_stats=False)\n",
       "        )\n",
       "      )\n",
       "      (1): Sequential(\n",
       "        (0): Convolution(\n",
       "          (conv): ConvTranspose3d(40, 40, kernel_size=(2, 2, 2), stride=(2, 2, 2), bias=False)\n",
       "        )\n",
       "        (1): UnetResBlock(\n",
       "          (conv1): Convolution(\n",
       "            (conv): Conv3d(40, 40, kernel_size=(3, 3, 3), stride=(1, 1, 1), padding=(1, 1, 1), bias=False)\n",
       "          )\n",
       "          (conv2): Convolution(\n",
       "            (conv): Conv3d(40, 40, kernel_size=(3, 3, 3), stride=(1, 1, 1), padding=(1, 1, 1), bias=False)\n",
       "          )\n",
       "          (conv3): Convolution(\n",
       "            (conv): Conv3d(40, 40, kernel_size=(1, 1, 1), stride=(1, 1, 1), bias=False)\n",
       "          )\n",
       "          (lrelu): LeakyReLU(negative_slope=0.01, inplace=True)\n",
       "          (norm1): InstanceNorm3d(40, eps=1e-05, momentum=0.1, affine=False, track_running_stats=False)\n",
       "          (norm2): InstanceNorm3d(40, eps=1e-05, momentum=0.1, affine=False, track_running_stats=False)\n",
       "          (norm3): InstanceNorm3d(40, eps=1e-05, momentum=0.1, affine=False, track_running_stats=False)\n",
       "        )\n",
       "      )\n",
       "    )\n",
       "  )\n",
       "  (encoder3): UnetrPrUpBlock(\n",
       "    (transp_conv_init): Convolution(\n",
       "      (conv): ConvTranspose3d(768, 80, kernel_size=(2, 2, 2), stride=(2, 2, 2), bias=False)\n",
       "    )\n",
       "    (blocks): ModuleList(\n",
       "      (0): Sequential(\n",
       "        (0): Convolution(\n",
       "          (conv): ConvTranspose3d(80, 80, kernel_size=(2, 2, 2), stride=(2, 2, 2), bias=False)\n",
       "        )\n",
       "        (1): UnetResBlock(\n",
       "          (conv1): Convolution(\n",
       "            (conv): Conv3d(80, 80, kernel_size=(3, 3, 3), stride=(1, 1, 1), padding=(1, 1, 1), bias=False)\n",
       "          )\n",
       "          (conv2): Convolution(\n",
       "            (conv): Conv3d(80, 80, kernel_size=(3, 3, 3), stride=(1, 1, 1), padding=(1, 1, 1), bias=False)\n",
       "          )\n",
       "          (conv3): Convolution(\n",
       "            (conv): Conv3d(80, 80, kernel_size=(1, 1, 1), stride=(1, 1, 1), bias=False)\n",
       "          )\n",
       "          (lrelu): LeakyReLU(negative_slope=0.01, inplace=True)\n",
       "          (norm1): InstanceNorm3d(80, eps=1e-05, momentum=0.1, affine=False, track_running_stats=False)\n",
       "          (norm2): InstanceNorm3d(80, eps=1e-05, momentum=0.1, affine=False, track_running_stats=False)\n",
       "          (norm3): InstanceNorm3d(80, eps=1e-05, momentum=0.1, affine=False, track_running_stats=False)\n",
       "        )\n",
       "      )\n",
       "    )\n",
       "  )\n",
       "  (encoder4): UnetrPrUpBlock(\n",
       "    (transp_conv_init): Convolution(\n",
       "      (conv): ConvTranspose3d(768, 160, kernel_size=(2, 2, 2), stride=(2, 2, 2), bias=False)\n",
       "    )\n",
       "    (blocks): ModuleList()\n",
       "  )\n",
       "  (decoder5): UnetrUpBlock(\n",
       "    (transp_conv): Convolution(\n",
       "      (conv): ConvTranspose3d(768, 160, kernel_size=(2, 2, 2), stride=(2, 2, 2), bias=False)\n",
       "    )\n",
       "    (conv_block): UnetResBlock(\n",
       "      (conv1): Convolution(\n",
       "        (conv): Conv3d(320, 160, kernel_size=(3, 3, 3), stride=(1, 1, 1), padding=(1, 1, 1), bias=False)\n",
       "      )\n",
       "      (conv2): Convolution(\n",
       "        (conv): Conv3d(160, 160, kernel_size=(3, 3, 3), stride=(1, 1, 1), padding=(1, 1, 1), bias=False)\n",
       "      )\n",
       "      (conv3): Convolution(\n",
       "        (conv): Conv3d(320, 160, kernel_size=(1, 1, 1), stride=(1, 1, 1), bias=False)\n",
       "      )\n",
       "      (lrelu): LeakyReLU(negative_slope=0.01, inplace=True)\n",
       "      (norm1): InstanceNorm3d(160, eps=1e-05, momentum=0.1, affine=False, track_running_stats=False)\n",
       "      (norm2): InstanceNorm3d(160, eps=1e-05, momentum=0.1, affine=False, track_running_stats=False)\n",
       "      (norm3): InstanceNorm3d(160, eps=1e-05, momentum=0.1, affine=False, track_running_stats=False)\n",
       "    )\n",
       "  )\n",
       "  (decoder4): UnetrUpBlock(\n",
       "    (transp_conv): Convolution(\n",
       "      (conv): ConvTranspose3d(160, 80, kernel_size=(2, 2, 2), stride=(2, 2, 2), bias=False)\n",
       "    )\n",
       "    (conv_block): UnetResBlock(\n",
       "      (conv1): Convolution(\n",
       "        (conv): Conv3d(160, 80, kernel_size=(3, 3, 3), stride=(1, 1, 1), padding=(1, 1, 1), bias=False)\n",
       "      )\n",
       "      (conv2): Convolution(\n",
       "        (conv): Conv3d(80, 80, kernel_size=(3, 3, 3), stride=(1, 1, 1), padding=(1, 1, 1), bias=False)\n",
       "      )\n",
       "      (conv3): Convolution(\n",
       "        (conv): Conv3d(160, 80, kernel_size=(1, 1, 1), stride=(1, 1, 1), bias=False)\n",
       "      )\n",
       "      (lrelu): LeakyReLU(negative_slope=0.01, inplace=True)\n",
       "      (norm1): InstanceNorm3d(80, eps=1e-05, momentum=0.1, affine=False, track_running_stats=False)\n",
       "      (norm2): InstanceNorm3d(80, eps=1e-05, momentum=0.1, affine=False, track_running_stats=False)\n",
       "      (norm3): InstanceNorm3d(80, eps=1e-05, momentum=0.1, affine=False, track_running_stats=False)\n",
       "    )\n",
       "  )\n",
       "  (decoder3): UnetrUpBlock(\n",
       "    (transp_conv): Convolution(\n",
       "      (conv): ConvTranspose3d(80, 40, kernel_size=(2, 2, 2), stride=(2, 2, 2), bias=False)\n",
       "    )\n",
       "    (conv_block): UnetResBlock(\n",
       "      (conv1): Convolution(\n",
       "        (conv): Conv3d(80, 40, kernel_size=(3, 3, 3), stride=(1, 1, 1), padding=(1, 1, 1), bias=False)\n",
       "      )\n",
       "      (conv2): Convolution(\n",
       "        (conv): Conv3d(40, 40, kernel_size=(3, 3, 3), stride=(1, 1, 1), padding=(1, 1, 1), bias=False)\n",
       "      )\n",
       "      (conv3): Convolution(\n",
       "        (conv): Conv3d(80, 40, kernel_size=(1, 1, 1), stride=(1, 1, 1), bias=False)\n",
       "      )\n",
       "      (lrelu): LeakyReLU(negative_slope=0.01, inplace=True)\n",
       "      (norm1): InstanceNorm3d(40, eps=1e-05, momentum=0.1, affine=False, track_running_stats=False)\n",
       "      (norm2): InstanceNorm3d(40, eps=1e-05, momentum=0.1, affine=False, track_running_stats=False)\n",
       "      (norm3): InstanceNorm3d(40, eps=1e-05, momentum=0.1, affine=False, track_running_stats=False)\n",
       "    )\n",
       "  )\n",
       "  (decoder2): UnetrUpBlock(\n",
       "    (transp_conv): Convolution(\n",
       "      (conv): ConvTranspose3d(40, 20, kernel_size=(2, 2, 2), stride=(2, 2, 2), bias=False)\n",
       "    )\n",
       "    (conv_block): UnetResBlock(\n",
       "      (conv1): Convolution(\n",
       "        (conv): Conv3d(40, 20, kernel_size=(3, 3, 3), stride=(1, 1, 1), padding=(1, 1, 1), bias=False)\n",
       "      )\n",
       "      (conv2): Convolution(\n",
       "        (conv): Conv3d(20, 20, kernel_size=(3, 3, 3), stride=(1, 1, 1), padding=(1, 1, 1), bias=False)\n",
       "      )\n",
       "      (conv3): Convolution(\n",
       "        (conv): Conv3d(40, 20, kernel_size=(1, 1, 1), stride=(1, 1, 1), bias=False)\n",
       "      )\n",
       "      (lrelu): LeakyReLU(negative_slope=0.01, inplace=True)\n",
       "      (norm1): InstanceNorm3d(20, eps=1e-05, momentum=0.1, affine=False, track_running_stats=False)\n",
       "      (norm2): InstanceNorm3d(20, eps=1e-05, momentum=0.1, affine=False, track_running_stats=False)\n",
       "      (norm3): InstanceNorm3d(20, eps=1e-05, momentum=0.1, affine=False, track_running_stats=False)\n",
       "    )\n",
       "  )\n",
       "  (out): UnetOutBlock(\n",
       "    (conv): Convolution(\n",
       "      (conv): Conv3d(20, 4, kernel_size=(1, 1, 1), stride=(1, 1, 1))\n",
       "    )\n",
       "  )\n",
       ")"
      ]
     },
     "execution_count": 10,
     "metadata": {},
     "output_type": "execute_result"
    }
   ],
   "source": [
    "model"
   ]
  },
  {
   "cell_type": "markdown",
   "id": "71eabb26-6d12-4b42-a7c6-ab1f5c943080",
   "metadata": {},
   "source": [
    "# Load sample data"
   ]
  },
  {
   "cell_type": "code",
   "execution_count": 50,
   "id": "df483d64-02f5-43d8-9744-f9913238372f",
   "metadata": {},
   "outputs": [],
   "source": [
    "test_id = 'Brats18_CBICA_APR_1' # 'Brats18_TCIA01_147_1'\n",
    "tumour = 'HGG'\n",
    "contrast = 'flair'\n",
    "contrasts = ['t1ce', 'flair', 't2', 't1']\n",
    "filename = f'{prefix}/MICCAI_BraTS_2018_Data_Training/{tumour}/{test_id}/{test_id}_{contrast}.nii.gz'"
   ]
  },
  {
   "cell_type": "code",
   "execution_count": 51,
   "id": "00f02569-a348-44f8-ab87-02c3cc8dd3a7",
   "metadata": {},
   "outputs": [],
   "source": [
    "nii_img  = nib.load(filename)\n",
    "nii_data = nii_img.get_fdata()"
   ]
  },
  {
   "cell_type": "code",
   "execution_count": 52,
   "id": "7dc5aa2a-e265-4220-a23d-aab9d6499cc0",
   "metadata": {},
   "outputs": [
    {
     "data": {
      "text/plain": [
       "(240, 240, 155)"
      ]
     },
     "execution_count": 52,
     "metadata": {},
     "output_type": "execute_result"
    }
   ],
   "source": [
    "nii_data.shape"
   ]
  },
  {
   "cell_type": "code",
   "execution_count": 53,
   "id": "f82f7396-cd3a-4432-8b19-327524f8c7e1",
   "metadata": {},
   "outputs": [
    {
     "name": "stderr",
     "output_type": "stream",
     "text": [
      "100%|███████████████████████████████████████████████████████████████████████████████████████████████| 1/1 [00:02<00:00,  2.38s/it]\n"
     ]
    }
   ],
   "source": [
    "model.eval()\n",
    "with torch.no_grad():\n",
    "    for img, mask in generate_brats_batch(prefix, contrasts, batch_size=1, patient_ids=[test_id], infinite=False, resample_size=resampled_shape):\n",
    "        # img (1, 240, 240, 155, 4) -> (1, 4, 240, 240, 155)\n",
    "        img, mask = np.rollaxis(img, -1, 1), np.rollaxis(mask, -1, 1)\n",
    "        \n",
    "        output = torch.softmax(model(torch.FloatTensor(img)), 1)\n",
    "        \n",
    "        # output = torch.argmax(to_categorical_tensor(output,4), 1)\n",
    "        # print(\"output shape \", output.shape)\n",
    "        # print(f'output max {output.max()} and min {output.min()}')\n",
    "        # test = to_categorical_tf(torch.argmax(output,dim=1),4)\n",
    "                    \n",
    "        # full_output[..., i:i+block_side, j:j+block_side, k:k+block_side] = output # np.repeat(np.repeat(np.repeat(output, patch_side, axis=-3), patch_side, axis=-2), patch_side, axis=-1)\n",
    "        # print(\"output shape: \", full_output.shape)\n",
    "                    "
   ]
  },
  {
   "cell_type": "code",
   "execution_count": 54,
   "id": "84caf7cf-9a82-42f6-9bcd-56ea000191f8",
   "metadata": {},
   "outputs": [
    {
     "name": "stderr",
     "output_type": "stream",
     "text": [
      "  0%|                                                                                                       | 0/1 [00:01<?, ?it/s]\n"
     ]
    }
   ],
   "source": [
    "_, ground_truth = next(generate_brats_batch(prefix, contrasts, batch_size=1, patient_ids=[test_id], infinite=False))"
   ]
  },
  {
   "cell_type": "markdown",
   "id": "3bc13d12-34c7-470d-b415-7ead9de1bcd1",
   "metadata": {},
   "source": [
    "# Visualize"
   ]
  },
  {
   "cell_type": "code",
   "execution_count": 82,
   "id": "f67aa774-7a19-4a05-ba23-afb4e4df5f4b",
   "metadata": {},
   "outputs": [],
   "source": [
    "slice_percent = 0.59"
   ]
  },
  {
   "cell_type": "code",
   "execution_count": 83,
   "id": "4a196301-9bcf-4eb4-8217-493d1274fb5a",
   "metadata": {},
   "outputs": [
    {
     "data": {
      "text/plain": [
       "47"
      ]
     },
     "execution_count": 83,
     "metadata": {},
     "output_type": "execute_result"
    }
   ],
   "source": [
    "int(round(slice_percent * output.shape[-1]))"
   ]
  },
  {
   "cell_type": "code",
   "execution_count": 84,
   "id": "693313e1-56c7-4e5c-94cd-3e4407c3809d",
   "metadata": {},
   "outputs": [
    {
     "name": "stdout",
     "output_type": "stream",
     "text": [
      "[0.9983779, 0.7320725, 0.62788993, 0.68501526]\n"
     ]
    }
   ],
   "source": [
    "from tensorflow.keras.metrics import IoU\n",
    "predict_mask = output.cpu().detach().numpy()\n",
    "predict_mask = np.argmax(predict_mask, axis=1)[0,:,:,:]\n",
    "ground_truth_mask = np.argmax(mask, axis=1)[0,:,:,:]\n",
    "\n",
    "n_classes = 4\n",
    "iou_list = []\n",
    "for i in range(n_classes):\n",
    "    IOU = IoU(num_classes=n_classes, target_class_ids=[i])\n",
    "    IOU.update_state(predict_mask, ground_truth_mask)\n",
    "    iou_list.append(IOU.result().numpy())\n",
    "\n",
    "print(iou_list)"
   ]
  },
  {
   "cell_type": "code",
   "execution_count": 85,
   "id": "18b0d90a-4ad6-4490-8172-256a85ee3b82",
   "metadata": {},
   "outputs": [
    {
     "data": {
      "text/plain": [
       "<matplotlib.colorbar.Colorbar at 0x7fccf1fa4370>"
      ]
     },
     "execution_count": 85,
     "metadata": {},
     "output_type": "execute_result"
    },
    {
     "data": {
      "image/png": "[encoded data removed]",
      "text/plain": [
       "<Figure size 1440x720 with 5 Axes>"
      ]
     },
     "metadata": {
      "needs_background": "light"
     },
     "output_type": "display_data"
    }
   ],
   "source": [
    "fig, axs = plt.subplots(1, 4, figsize=(20, 10))\n",
    "titles = ['No Tumour', 'Tumour Core', 'Whole Tumour', 'Enhancing Tumour']\n",
    "for i in range(brats_classes):\n",
    "    im = axs[i].imshow(output[0, i, :, :, int(round(slice_percent * output.shape[-1]))], vmin=0, vmax=1);\n",
    "    axs[i].set_title(f'{titles[i]} - IOU: {iou_list[i]:.3g}')\n",
    "fig.colorbar(im, ax=axs.ravel().tolist(), fraction=0.01, pad=0.02)\n",
    "# plt.savefig(f'../results/unetr/{test_id}_predicted_probs.png')"
   ]
  },
  {
   "cell_type": "code",
   "execution_count": 86,
   "id": "b4df3dee-b675-4b8a-b46a-5477453f5ab2",
   "metadata": {},
   "outputs": [],
   "source": [
    "# np.savez('../results/unetr/pred_mask.npz', pred_mask=output.argmax(axis=1)[0, :, :, int(round(slice_percent * output.shape[-1]))])"
   ]
  },
  {
   "cell_type": "code",
   "execution_count": 87,
   "id": "b4ea67a0-3fab-4587-a043-b497aca7627e",
   "metadata": {},
   "outputs": [
    {
     "data": {
      "text/plain": [
       "Text(0.5, 1.0, 'Original Ground Truth Segmentation')"
      ]
     },
     "execution_count": 87,
     "metadata": {},
     "output_type": "execute_result"
    },
    {
     "data": {
      "image/png": "[encoded data removed]",
      "text/plain": [
       "<Figure size 1080x360 with 3 Axes>"
      ]
     },
     "metadata": {
      "needs_background": "light"
     },
     "output_type": "display_data"
    }
   ],
   "source": [
    "fig, axs = plt.subplots(1, 3, figsize=(15, 5))\n",
    "axs[0].imshow(output.argmax(axis=1)[0, :, :, int(round(slice_percent * output.shape[-1]))]);\n",
    "axs[0].set_title('Predicted Segmentation')\n",
    "axs[1].imshow(mask.argmax(axis=1)[0, :, :, int(round(slice_percent * mask.shape[-1]))]);\n",
    "axs[1].set_title('Resampled Ground Truth Segmentation')\n",
    "axs[2].imshow(ground_truth.argmax(axis=-1)[0, :, :, int(round(slice_percent * ground_truth.shape[-2]))]);\n",
    "axs[2].set_title('Original Ground Truth Segmentation')\n",
    "# add legend\n",
    "# plt.savefig(f'../results/unetr/{test_id}_predicted_vs_gt.png')"
   ]
  },
  {
   "cell_type": "code",
   "execution_count": 27,
   "id": "286c5ade-35c2-4a98-b2bf-6c95c91535cb",
   "metadata": {},
   "outputs": [
    {
     "data": {
      "text/plain": [
       "(1, 240, 240, 155, 4)"
      ]
     },
     "execution_count": 27,
     "metadata": {},
     "output_type": "execute_result"
    }
   ],
   "source": [
    "ground_truth.shape"
   ]
  },
  {
   "cell_type": "code",
   "execution_count": 29,
   "id": "1130c4b1-ea7f-436a-ab08-c325b41a8262",
   "metadata": {},
   "outputs": [],
   "source": [
    "import napari\n",
    "viewer = napari.view_image(output[0, 1].detach().numpy(), name=\"tumour core prediction probabilities\")\n",
    "for i in range(len(contrasts)):\n",
    "    viewer.add_image(img[0, i, ...], name=test_id + '' + contrasts[i])\n",
    "\n",
    "gt_layer = viewer.add_labels(mask.argmax(axis=1)[0], name=\"ground truth\")\n",
    "pred_layer = viewer.add_labels(output.argmax(axis=1)[0].detach().numpy(), name=\"predicted classes\")"
   ]
  },
  {
   "cell_type": "code",
   "execution_count": 3,
   "id": "655c2be8-e9f8-411a-b39c-f2c1a87c8731",
   "metadata": {},
   "outputs": [],
   "source": [
    "# try to quantify attention of the UNETR"
   ]
  },
  {
   "cell_type": "code",
   "execution_count": null,
   "id": "972886ee-4419-40aa-978c-dca014715ce4",
   "metadata": {},
   "outputs": [],
   "source": []
  },
  {
   "cell_type": "code",
   "execution_count": null,
   "id": "a8b7a621-3605-4985-a370-05b49b08cd37",
   "metadata": {},
   "outputs": [],
   "source": []
  },
  {
   "cell_type": "code",
   "execution_count": null,
   "id": "3ee96468-ba95-4637-a548-3ef52b44f002",
   "metadata": {},
   "outputs": [],
   "source": []
  },
  {
   "cell_type": "code",
   "execution_count": null,
   "id": "f3024c2f",
   "metadata": {},
   "outputs": [],
   "source": []
  }
 ],
 "metadata": {
  "kernelspec": {
   "display_name": "Python 3 (ipykernel)",
   "language": "python",
   "name": "python3"
  },
  "language_info": {
   "codemirror_mode": {
    "name": "ipython",
    "version": 3
   },
   "file_extension": ".py",
   "mimetype": "text/x-python",
   "name": "python",
   "nbconvert_exporter": "python",
   "pygments_lexer": "ipython3",
   "version": "3.9.7"
  }
 },
 "nbformat": 4,
 "nbformat_minor": 5
}
