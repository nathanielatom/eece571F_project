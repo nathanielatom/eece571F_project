{
 "cells": [
  {
   "cell_type": "markdown",
   "id": "938fb092-0639-4321-9e33-a8bc8ff8234c",
   "metadata": {},
   "source": [
    "# Load Libraries and Model"
   ]
  },
  {
   "cell_type": "code",
   "execution_count": 1,
   "id": "6dcb50b5-3c4e-44a8-adad-fa94ff7aa4c0",
   "metadata": {
    "tags": []
   },
   "outputs": [],
   "source": [
    "import glob\n",
    "\n",
    "from tqdm import trange\n",
    "import nibabel as nib\n",
    "import numpy as np\n",
    "import torch\n",
    "from sklearn.preprocessing import MinMaxScaler\n",
    "scalar = MinMaxScaler()\n",
    "\n",
    "from self_attention_cv.Transformer3Dsegmentation.tranf3Dseg import Transformer3dSeg\n",
    "from self_attention_cv.transunet import TransUnet\n",
    "from self_attention_cv import TransformerEncoder\n",
    "from self_attention_cv import ViT, ResNet50ViT"
   ]
  },
  {
   "cell_type": "code",
   "execution_count": 2,
   "id": "133eaa9e-a422-4706-97d1-18fb16df1f71",
   "metadata": {},
   "outputs": [],
   "source": [
    "def to_categorical(y, num_classes):\n",
    "    \"\"\" 1-hot encodes a tensor \"\"\"\n",
    "    return np.eye(num_classes, dtype='uint8')[y.astype(np.int16)]"
   ]
  },
  {
   "cell_type": "code",
   "execution_count": 3,
   "id": "ceda36f1-4fa6-4c15-8969-9696bfb6066a",
   "metadata": {},
   "outputs": [],
   "source": [
    "def generate_brats_batch(prefix, \n",
    "                         contrasts, \n",
    "                         batch_size=32, \n",
    "                         tumour='*', \n",
    "                         patient_ids='*',\n",
    "                         augment_size=None,\n",
    "                         infinite=True):\n",
    "    \"\"\"\n",
    "    Generate arrays for each batch, for x (data) and y (labels), where the contrast is treated like a colour channel.\n",
    "    \n",
    "    Example:\n",
    "    x_batch shape: (32, 240, 240, 155, 4)\n",
    "    y_batch shape: (32, 240, 240, 155)\n",
    "    \n",
    "    augment_size must be less than or equal to the batch_size, if None will not augment.\n",
    "    \n",
    "    \"\"\"\n",
    "    file_pattern = '{prefix}/MICCAI_BraTS_2018_Data_Training/{tumour}/{patient_id}/{patient_id}_{contrast}.nii.gz'\n",
    "    while True:\n",
    "        n_classes = 4\n",
    "\n",
    "        # get list of filenames for every contrast available\n",
    "        keys = dict(prefix=prefix, tumour=tumour)\n",
    "        filenames_by_contrast = {}\n",
    "        for contrast in contrasts:\n",
    "            filenames_by_contrast[contrast] = glob.glob(file_pattern.format(contrast=contrast, patient_id=patient_ids, **keys)) if patient_ids == '*' else []\n",
    "            if patient_ids != '*':\n",
    "                contrast_files = []\n",
    "                for patient_id in patient_ids:\n",
    "                    contrast_files.extend(glob.glob(file_pattern.format(contrast=contrast, patient_id=patient_id, **keys)))\n",
    "                filenames_by_contrast[contrast] = contrast_files\n",
    "\n",
    "        # get the shape of one 3D volume and initialize the batch lists\n",
    "        arbitrary_contrast = contrasts[0]\n",
    "        shape = nib.load(filenames_by_contrast[arbitrary_contrast][0]).get_fdata().shape\n",
    "\n",
    "        # initialize empty array of batches\n",
    "        x_batch = np.empty((batch_size, ) + shape + (len(contrasts), )) #, dtype=np.int32)\n",
    "        y_batch = np.empty((batch_size, ) + shape + (n_classes,)) #, dtype=np.int32)\n",
    "        num_images = len(filenames_by_contrast[arbitrary_contrast])\n",
    "        np.random.shuffle(filenames_by_contrast[arbitrary_contrast])\n",
    "        for bindex in trange(0, num_images, batch_size):\n",
    "            filenames = filenames_by_contrast[arbitrary_contrast][bindex:bindex + batch_size]\n",
    "            for findex, filename in enumerate(filenames):\n",
    "                for cindex, contrast in enumerate(contrasts):\n",
    "\n",
    "                    # load raw image batches and normalize the pixels\n",
    "                    tmp_img = nib.load(filename.replace(arbitrary_contrast, contrast)).get_fdata()\n",
    "                    tmp_img = scalar.fit_transform(tmp_img.reshape(-1, tmp_img.shape[-1])).reshape(tmp_img.shape)\n",
    "                    x_batch[findex, ..., cindex] = tmp_img\n",
    "\n",
    "                    # load mask batches and change to categorical\n",
    "                    tmp_mask = nib.load(filename.replace(arbitrary_contrast, 'seg')).get_fdata()\n",
    "                    tmp_mask[tmp_mask==4] = 3\n",
    "                    tmp_mask = to_categorical(tmp_mask, num_classes = 4)\n",
    "                    y_batch[findex] = tmp_mask\n",
    "\n",
    "            if bindex + batch_size > num_images:\n",
    "                x_batch, y_batch = x_batch[:num_images - bindex], y_batch[:num_images - bindex]\n",
    "            if augment_size is not None:\n",
    "                # x_aug, y_aug = augment(x_batch, y_batch, augment_size)\n",
    "                x_aug = None\n",
    "                y_aug = None\n",
    "                yield np.append(x_batch, x_aug), np.append(y_batch, y_aug)\n",
    "            else:\n",
    "                yield x_batch, y_batch\n",
    "        if not infinite:\n",
    "            break"
   ]
  },
  {
   "cell_type": "code",
   "execution_count": 4,
   "id": "3595d619-a8bc-4ea6-a5de-10efe4978352",
   "metadata": {},
   "outputs": [],
   "source": [
    "# prefix = '/home/atom/Documents/datasets/brats' # Adam's Station\n",
    "prefix = '/Users/Atom/Documents/datasets/brats'\n",
    "trained_model = 'transformer_models/model_20220404_045427_30'"
   ]
  },
  {
   "cell_type": "code",
   "execution_count": 5,
   "id": "992ce1df-c983-4e61-845b-d16bd1493a57",
   "metadata": {},
   "outputs": [],
   "source": [
    "brats_classes = 4\n",
    "brats_contrasts = 4\n",
    "brats_x = 240\n",
    "brats_y = 240\n",
    "brats_z = 155\n",
    "\n",
    "block_side = 24 # W in the paper\n",
    "patch_side = 8 # w in the paper, so n = W/w = 3, N = 27\n",
    "embedding_size = 1024 # D\n",
    "transformer_blocks = 5 # K\n",
    "msa_heads = 4\n",
    "mlp_size = 1024\n",
    "\n",
    "dropout = 0.25\n",
    "max_epochs = 50\n",
    "learning_rate = 0.003"
   ]
  },
  {
   "cell_type": "code",
   "execution_count": 6,
   "id": "facf80e7-4b96-449b-b01a-20280d0f0512",
   "metadata": {},
   "outputs": [],
   "source": [
    "model = Transformer3dSeg(subvol_dim=block_side, \n",
    "                         patch_dim=patch_side, \n",
    "                         num_classes=brats_classes,\n",
    "                         in_channels=brats_contrasts,\n",
    "                         dim=embedding_size,\n",
    "                         blocks=transformer_blocks, \n",
    "                         heads=msa_heads, \n",
    "                         dim_linear_block=mlp_size,\n",
    "                         dropout=dropout) #, transformer=TransformerEncoder)"
   ]
  },
  {
   "cell_type": "code",
   "execution_count": 7,
   "id": "c1924979-bb58-4841-b341-0988dc17605b",
   "metadata": {},
   "outputs": [
    {
     "data": {
      "text/plain": [
       "<All keys matched successfully>"
      ]
     },
     "execution_count": 7,
     "metadata": {},
     "output_type": "execute_result"
    }
   ],
   "source": [
    "model.load_state_dict(torch.load(f'{prefix}/{trained_model}', map_location=torch.device('cpu')))"
   ]
  },
  {
   "cell_type": "code",
   "execution_count": 8,
   "id": "4c8e85e3-c8be-4186-9b82-a625f96d1c09",
   "metadata": {},
   "outputs": [
    {
     "data": {
      "text/plain": [
       "Transformer3dSeg(\n",
       "  (project_patches): Linear(in_features=2048, out_features=1024, bias=True)\n",
       "  (emb_dropout): Dropout(p=0.25, inplace=False)\n",
       "  (transformer): TransformerEncoder(\n",
       "    (layers): ModuleList(\n",
       "      (0): TransformerBlock(\n",
       "        (mhsa): MultiHeadSelfAttention(\n",
       "          (to_qvk): Linear(in_features=1024, out_features=3072, bias=False)\n",
       "          (W_0): Linear(in_features=1024, out_features=1024, bias=False)\n",
       "        )\n",
       "        (drop): Dropout(p=0.25, inplace=False)\n",
       "        (norm_1): LayerNorm((1024,), eps=1e-05, elementwise_affine=True)\n",
       "        (norm_2): LayerNorm((1024,), eps=1e-05, elementwise_affine=True)\n",
       "        (linear): Sequential(\n",
       "          (0): Linear(in_features=1024, out_features=1024, bias=True)\n",
       "          (1): GELU()\n",
       "          (2): Dropout(p=0.25, inplace=False)\n",
       "          (3): Linear(in_features=1024, out_features=1024, bias=True)\n",
       "          (4): Dropout(p=0.25, inplace=False)\n",
       "        )\n",
       "      )\n",
       "      (1): TransformerBlock(\n",
       "        (mhsa): MultiHeadSelfAttention(\n",
       "          (to_qvk): Linear(in_features=1024, out_features=3072, bias=False)\n",
       "          (W_0): Linear(in_features=1024, out_features=1024, bias=False)\n",
       "        )\n",
       "        (drop): Dropout(p=0.25, inplace=False)\n",
       "        (norm_1): LayerNorm((1024,), eps=1e-05, elementwise_affine=True)\n",
       "        (norm_2): LayerNorm((1024,), eps=1e-05, elementwise_affine=True)\n",
       "        (linear): Sequential(\n",
       "          (0): Linear(in_features=1024, out_features=1024, bias=True)\n",
       "          (1): GELU()\n",
       "          (2): Dropout(p=0.25, inplace=False)\n",
       "          (3): Linear(in_features=1024, out_features=1024, bias=True)\n",
       "          (4): Dropout(p=0.25, inplace=False)\n",
       "        )\n",
       "      )\n",
       "      (2): TransformerBlock(\n",
       "        (mhsa): MultiHeadSelfAttention(\n",
       "          (to_qvk): Linear(in_features=1024, out_features=3072, bias=False)\n",
       "          (W_0): Linear(in_features=1024, out_features=1024, bias=False)\n",
       "        )\n",
       "        (drop): Dropout(p=0.25, inplace=False)\n",
       "        (norm_1): LayerNorm((1024,), eps=1e-05, elementwise_affine=True)\n",
       "        (norm_2): LayerNorm((1024,), eps=1e-05, elementwise_affine=True)\n",
       "        (linear): Sequential(\n",
       "          (0): Linear(in_features=1024, out_features=1024, bias=True)\n",
       "          (1): GELU()\n",
       "          (2): Dropout(p=0.25, inplace=False)\n",
       "          (3): Linear(in_features=1024, out_features=1024, bias=True)\n",
       "          (4): Dropout(p=0.25, inplace=False)\n",
       "        )\n",
       "      )\n",
       "      (3): TransformerBlock(\n",
       "        (mhsa): MultiHeadSelfAttention(\n",
       "          (to_qvk): Linear(in_features=1024, out_features=3072, bias=False)\n",
       "          (W_0): Linear(in_features=1024, out_features=1024, bias=False)\n",
       "        )\n",
       "        (drop): Dropout(p=0.25, inplace=False)\n",
       "        (norm_1): LayerNorm((1024,), eps=1e-05, elementwise_affine=True)\n",
       "        (norm_2): LayerNorm((1024,), eps=1e-05, elementwise_affine=True)\n",
       "        (linear): Sequential(\n",
       "          (0): Linear(in_features=1024, out_features=1024, bias=True)\n",
       "          (1): GELU()\n",
       "          (2): Dropout(p=0.25, inplace=False)\n",
       "          (3): Linear(in_features=1024, out_features=1024, bias=True)\n",
       "          (4): Dropout(p=0.25, inplace=False)\n",
       "        )\n",
       "      )\n",
       "      (4): TransformerBlock(\n",
       "        (mhsa): MultiHeadSelfAttention(\n",
       "          (to_qvk): Linear(in_features=1024, out_features=3072, bias=False)\n",
       "          (W_0): Linear(in_features=1024, out_features=1024, bias=False)\n",
       "        )\n",
       "        (drop): Dropout(p=0.25, inplace=False)\n",
       "        (norm_1): LayerNorm((1024,), eps=1e-05, elementwise_affine=True)\n",
       "        (norm_2): LayerNorm((1024,), eps=1e-05, elementwise_affine=True)\n",
       "        (linear): Sequential(\n",
       "          (0): Linear(in_features=1024, out_features=1024, bias=True)\n",
       "          (1): GELU()\n",
       "          (2): Dropout(p=0.25, inplace=False)\n",
       "          (3): Linear(in_features=1024, out_features=1024, bias=True)\n",
       "          (4): Dropout(p=0.25, inplace=False)\n",
       "        )\n",
       "      )\n",
       "    )\n",
       "  )\n",
       "  (mlp_seg_head): Linear(in_features=1024, out_features=108, bias=True)\n",
       ")"
      ]
     },
     "execution_count": 8,
     "metadata": {},
     "output_type": "execute_result"
    }
   ],
   "source": [
    "model"
   ]
  },
  {
   "cell_type": "markdown",
   "id": "71eabb26-6d12-4b42-a7c6-ab1f5c943080",
   "metadata": {},
   "source": [
    "# Load sample data"
   ]
  },
  {
   "cell_type": "code",
   "execution_count": 9,
   "id": "df483d64-02f5-43d8-9744-f9913238372f",
   "metadata": {},
   "outputs": [],
   "source": [
    "test_id = 'Brats18_TCIA01_147_1'\n",
    "tumour = 'HGG'\n",
    "contrast = 'flair'\n",
    "contrasts = ['t1ce', 'flair', 't2', 't1']\n",
    "filename = f'{prefix}/MICCAI_BraTS_2018_Data_Training/{tumour}/{test_id}/{test_id}_{contrast}.nii.gz'"
   ]
  },
  {
   "cell_type": "code",
   "execution_count": 10,
   "id": "00f02569-a348-44f8-ab87-02c3cc8dd3a7",
   "metadata": {},
   "outputs": [],
   "source": [
    "nii_img  = nib.load(filename)\n",
    "nii_data = nii_img.get_fdata()"
   ]
  },
  {
   "cell_type": "code",
   "execution_count": 11,
   "id": "7dc5aa2a-e265-4220-a23d-aab9d6499cc0",
   "metadata": {},
   "outputs": [
    {
     "data": {
      "text/plain": [
       "(240, 240, 155)"
      ]
     },
     "execution_count": 11,
     "metadata": {},
     "output_type": "execute_result"
    }
   ],
   "source": [
    "nii_data.shape"
   ]
  },
  {
   "cell_type": "code",
   "execution_count": 12,
   "id": "f82f7396-cd3a-4432-8b19-327524f8c7e1",
   "metadata": {},
   "outputs": [
    {
     "name": "stderr",
     "output_type": "stream",
     "text": [
      "100%|███████████████████████████████████████████████████████████████████████████████████████████████| 1/1 [00:40<00:00, 40.20s/it]\n"
     ]
    }
   ],
   "source": [
    "model.eval()\n",
    "with torch.no_grad():\n",
    "    for img, mask in generate_brats_batch(prefix, contrasts, batch_size=1, patient_ids=[test_id], infinite=False):\n",
    "        # img (1, 240, 240, 155, 4) -> (1, 4, 240, 240, 155)\n",
    "        img, mask = np.rollaxis(img, -1, 1), np.rollaxis(mask, -1, 1)\n",
    "        full_output = np.zeros_like(mask)\n",
    "        for i in range(0, brats_x, block_side):\n",
    "            for j in range(0, brats_y, block_side):\n",
    "                for k in range(6, brats_z - block_side, block_side):\n",
    "                    img_block = img[..., i:i+block_side, j:j+block_side, k:k+block_side]\n",
    "                    mask_block = mask[..., i:i+block_side, j:j+block_side, k:k+block_side]\n",
    "                    output = torch.softmax(model(torch.FloatTensor(img_block)), 1)\n",
    "                    full_output[..., i:i+block_side, j:j+block_side, k:k+block_side] = np.repeat(np.repeat(np.repeat(output, patch_side, axis=-3), patch_side, axis=-2), patch_side, axis=-1)\n",
    "                    "
   ]
  },
  {
   "cell_type": "code",
   "execution_count": 13,
   "id": "84caf7cf-9a82-42f6-9bcd-56ea000191f8",
   "metadata": {},
   "outputs": [],
   "source": [
    "ground_truth = nib.load(filename.replace(contrast, 'seg')).get_fdata().astype(int)"
   ]
  },
  {
   "cell_type": "markdown",
   "id": "3bc13d12-34c7-470d-b415-7ead9de1bcd1",
   "metadata": {},
   "source": [
    "# Visualize"
   ]
  },
  {
   "cell_type": "code",
   "execution_count": 14,
   "id": "b2b8b1a4-ca16-435c-8465-7e558b276d62",
   "metadata": {},
   "outputs": [
    {
     "data": {
      "text/plain": [
       "(1, 4, 240, 240, 155)"
      ]
     },
     "execution_count": 14,
     "metadata": {},
     "output_type": "execute_result"
    }
   ],
   "source": [
    "full_output.shape"
   ]
  },
  {
   "cell_type": "code",
   "execution_count": 21,
   "id": "b4ea67a0-3fab-4587-a043-b497aca7627e",
   "metadata": {},
   "outputs": [
    {
     "data": {
      "image/png": "[encoded data removed]",
      "text/plain": [
       "<Figure size 432x288 with 2 Axes>"
      ]
     },
     "metadata": {
      "needs_background": "light"
     },
     "output_type": "display_data"
    }
   ],
   "source": [
    "import matplotlib.pyplot as plt\n",
    "plt.imshow(full_output[0, 2, :, :, 75]);\n",
    "plt.colorbar();\n",
    "# plt.hist(full_output[0, 0].flatten())"
   ]
  },
  {
   "cell_type": "code",
   "execution_count": 22,
   "id": "1130c4b1-ea7f-436a-ab08-c325b41a8262",
   "metadata": {},
   "outputs": [],
   "source": [
    "import napari\n",
    "viewer = napari.view_image(full_output[0, 0], name=\"tumour core prediction probabilities\")\n",
    "for i in range(len(contrasts)):\n",
    "    viewer.add_image(img[0, i, ...], name=test_id + '' + contrasts[i])\n",
    "\n",
    "gt_layer = viewer.add_labels(ground_truth, name=\"ground truth\")\n",
    "pred_layer = viewer.add_labels(full_output.argmax(axis=1)[0], name=\"predicted classes\")"
   ]
  },
  {
   "cell_type": "code",
   "execution_count": null,
   "id": "655c2be8-e9f8-411a-b39c-f2c1a87c8731",
   "metadata": {},
   "outputs": [],
   "source": []
  },
  {
   "cell_type": "code",
   "execution_count": null,
   "id": "972886ee-4419-40aa-978c-dca014715ce4",
   "metadata": {},
   "outputs": [],
   "source": []
  },
  {
   "cell_type": "code",
   "execution_count": null,
   "id": "a8b7a621-3605-4985-a370-05b49b08cd37",
   "metadata": {},
   "outputs": [],
   "source": []
  },
  {
   "cell_type": "code",
   "execution_count": null,
   "id": "3ee96468-ba95-4637-a548-3ef52b44f002",
   "metadata": {},
   "outputs": [],
   "source": []
  },
  {
   "cell_type": "code",
   "execution_count": null,
   "id": "f3024c2f",
   "metadata": {},
   "outputs": [],
   "source": []
  }
 ],
 "metadata": {
  "kernelspec": {
   "display_name": "Python 3 (ipykernel)",
   "language": "python",
   "name": "python3"
  },
  "language_info": {
   "codemirror_mode": {
    "name": "ipython",
    "version": 3
   },
   "file_extension": ".py",
   "mimetype": "text/x-python",
   "name": "python",
   "nbconvert_exporter": "python",
   "pygments_lexer": "ipython3",
   "version": "3.9.10"
  }
 },
 "nbformat": 4,
 "nbformat_minor": 5
}
