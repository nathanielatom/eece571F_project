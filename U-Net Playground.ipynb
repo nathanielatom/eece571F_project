{
 "cells": [
  {
   "cell_type": "markdown",
   "id": "1f510593-1b05-47b6-93db-bdd07955cbb3",
   "metadata": {},
   "source": [
    "## Imports"
   ]
  },
  {
   "cell_type": "code",
   "execution_count": 3,
   "id": "2d51d5e2-4052-472c-9f5b-f6281130d567",
   "metadata": {},
   "outputs": [
    {
     "name": "stdout",
     "output_type": "stream",
     "text": [
      "[PhysicalDevice(name='/physical_device:GPU:0', device_type='GPU')]\n"
     ]
    }
   ],
   "source": [
    "import os\n",
    "import glob\n",
    "\n",
    "from tqdm import tqdm\n",
    "import pickle\n",
    "import random\n",
    "import numpy as np\n",
    "import pandas as pd\n",
    "import nibabel as nib\n",
    "import scipy.ndimage as sci\n",
    "import matplotlib.pyplot as plt\n",
    "from sklearn.preprocessing import MinMaxScaler\n",
    "\n",
    "import tensorflow as tf\n",
    "from tensorflow import keras\n",
    "devices = tf.config.list_physical_devices('GPU')\n",
    "print(devices)\n",
    "from tensorflow.keras import backend as K\n",
    "from tensorflow.keras.utils import to_categorical\n",
    "# from keras_preprocessing.image import ImageDataGenerator"
   ]
  },
  {
   "cell_type": "markdown",
   "id": "3d8a7fb8-c4be-4767-ad85-600613a22860",
   "metadata": {
    "tags": []
   },
   "source": [
    "## Functions"
   ]
  },
  {
   "cell_type": "code",
   "execution_count": 4,
   "id": "b3b2c059-dfcd-4af4-9eef-18821b067b0b",
   "metadata": {},
   "outputs": [],
   "source": [
    "def crop_3D(img, new_size):\n",
    "    img_shape = img.shape\n",
    "    x_mid = int(img_shape[0]/2)\n",
    "    y_mid = int(img_shape[1]/2)\n",
    "    z_mid = int(img_shape[2]/2)\n",
    "\n",
    "    x_diff = int(abs(new_size[0]-x_mid))\n",
    "    y_diff = int(abs(new_size[1]-y_mid))\n",
    "    z_diff = int(abs(new_size[2]-z_mid))\n",
    "\n",
    "    x_start = x_mid-x_diff\n",
    "    y_start = y_mid-y_diff\n",
    "    z_start = z_mid-z_diff\n",
    "\n",
    "    tmp_img = img[x_start:x_start+new_size[0],y_start:y_start+new_size[1],z_start:z_start+new_size[2]]\n",
    "    return tmp_img\n",
    "\n",
    "scalar = MinMaxScaler()\n",
    "def generate_brats_batch(file_pattern, \n",
    "                         contrasts, \n",
    "                         batch_size=32, \n",
    "                         tumour='*', \n",
    "                         patient_ids='*',\n",
    "                         crop_size = (None,None,None), \n",
    "                         augment_size=None,\n",
    "                         infinite = True):\n",
    "    \"\"\"\n",
    "    Generate arrays for each batch, for x (data) and y (labels), where the contrast is treated like a colour channel.\n",
    "    \n",
    "    Example:\n",
    "    x_batch shape: (32, 240, 240, 155, 4)\n",
    "    y_batch shape: (32, 240, 240, 155)\n",
    "    \n",
    "    augment_size must be less than or equal to the batch_size, if None will not augment.\n",
    "    \n",
    "    \"\"\"\n",
    "    while True:\n",
    "        n_classes = 4\n",
    "\n",
    "        # get list of filenames for every contrast available\n",
    "        keys = dict(prefix=prefix, tumour=tumour)\n",
    "        filenames_by_contrast = {}\n",
    "        for contrast in contrasts:\n",
    "            filenames_by_contrast[contrast] = glob.glob(file_pattern.format(contrast=contrast, patient_id=patient_ids, **keys)) if patient_ids == '*' else []\n",
    "            if patient_ids != '*':\n",
    "                contrast_files = []\n",
    "                for patient_id in patient_ids:\n",
    "                    contrast_files.extend(glob.glob(file_pattern.format(contrast=contrast, patient_id=patient_id, **keys)))\n",
    "                filenames_by_contrast[contrast] = contrast_files\n",
    "\n",
    "        # get the shape of one 3D volume and initialize the batch lists\n",
    "        arbitrary_contrast = contrasts[0]\n",
    "        if crop_size == (None,None,None):\n",
    "            shape = nib.load(filenames_by_contrast[arbitrary_contrast][0]).get_fdata().shape\n",
    "        else:\n",
    "            shape = crop_size\n",
    "\n",
    "        # initialize empty array of batches\n",
    "        x_batch = np.empty((batch_size, ) + shape + (len(contrasts), )) #, dtype=np.int32)\n",
    "        y_batch = np.empty((batch_size, ) + shape + (n_classes,)) #, dtype=np.int32)\n",
    "        num_images = len(filenames_by_contrast[arbitrary_contrast])\n",
    "        np.random.shuffle(filenames_by_contrast[arbitrary_contrast])\n",
    "        for bindex in tqdm(range(0, num_images, batch_size), total=num_images):\n",
    "            filenames = filenames_by_contrast[arbitrary_contrast][bindex:bindex + batch_size]\n",
    "            for findex, filename in enumerate(filenames):\n",
    "                for cindex, contrast in enumerate(contrasts):\n",
    "\n",
    "                    # load raw image batches and normalize the pixels\n",
    "                    tmp_img = nib.load(filename.replace(arbitrary_contrast, contrast)).get_fdata()\n",
    "                    tmp_img = scalar.fit_transform(tmp_img.reshape(-1, tmp_img.shape[-1])).reshape(tmp_img.shape)\n",
    "                    x_batch[findex, ..., cindex] = crop_3D(tmp_img, crop_size)\n",
    "\n",
    "                    # load mask batches and change to categorical\n",
    "                    tmp_mask = nib.load(filename.replace(arbitrary_contrast, 'seg')).get_fdata()\n",
    "                    tmp_mask[tmp_mask==4] = 3\n",
    "                    tmp_mask = crop_3D(tmp_mask, crop_size)\n",
    "                    tmp_mask = to_categorical(tmp_mask, num_classes = 4)\n",
    "                    y_batch[findex] = tmp_mask\n",
    "\n",
    "            if bindex + batch_size > num_images:\n",
    "                x_batch, y_batch = x_batch[:num_images - bindex], y_batch[:num_images - bindex]\n",
    "            if augment_size is not None:\n",
    "                # x_aug, y_aug = augment(x_batch, y_batch, augment_size)\n",
    "                x_aug = None\n",
    "                y_aug = None\n",
    "                yield np.append(x_batch, x_aug), np.append(y_batch, y_aug)\n",
    "            else:\n",
    "                yield x_batch, y_batch\n",
    "        if not infinite:\n",
    "            break\n"
   ]
  },
  {
   "cell_type": "markdown",
   "id": "37c79f82-35c6-4fcc-a88c-f3fb767ea7a9",
   "metadata": {},
   "source": [
    "## Train Model"
   ]
  },
  {
   "cell_type": "code",
   "execution_count": 5,
   "id": "66005d4f-0e64-45ff-b690-f4f9931f8d8b",
   "metadata": {},
   "outputs": [
    {
     "name": "stderr",
     "output_type": "stream",
     "text": [
      "2022-04-01 15:27:02.898908: I tensorflow/core/platform/cpu_feature_guard.cc:151] This TensorFlow binary is optimized with oneAPI Deep Neural Network Library (oneDNN) to use the following CPU instructions in performance-critical operations:  AVX2 FMA\n",
      "To enable them in other operations, rebuild TensorFlow with the appropriate compiler flags.\n",
      "2022-04-01 15:27:02.899462: I tensorflow/stream_executor/cuda/cuda_gpu_executor.cc:936] successful NUMA node read from SysFS had negative value (-1), but there must be at least one NUMA node, so returning NUMA node zero\n",
      "2022-04-01 15:27:02.899858: I tensorflow/stream_executor/cuda/cuda_gpu_executor.cc:936] successful NUMA node read from SysFS had negative value (-1), but there must be at least one NUMA node, so returning NUMA node zero\n",
      "2022-04-01 15:27:02.900205: I tensorflow/stream_executor/cuda/cuda_gpu_executor.cc:936] successful NUMA node read from SysFS had negative value (-1), but there must be at least one NUMA node, so returning NUMA node zero\n",
      "2022-04-01 15:27:03.364027: I tensorflow/stream_executor/cuda/cuda_gpu_executor.cc:936] successful NUMA node read from SysFS had negative value (-1), but there must be at least one NUMA node, so returning NUMA node zero\n",
      "2022-04-01 15:27:03.364266: I tensorflow/stream_executor/cuda/cuda_gpu_executor.cc:936] successful NUMA node read from SysFS had negative value (-1), but there must be at least one NUMA node, so returning NUMA node zero\n",
      "2022-04-01 15:27:03.364437: I tensorflow/stream_executor/cuda/cuda_gpu_executor.cc:936] successful NUMA node read from SysFS had negative value (-1), but there must be at least one NUMA node, so returning NUMA node zero\n",
      "2022-04-01 15:27:03.364592: I tensorflow/core/common_runtime/gpu/gpu_device.cc:1525] Created device /job:localhost/replica:0/task:0/device:GPU:0 with 10417 MB memory:  -> device: 0, name: NVIDIA GeForce GTX 1080 Ti, pci bus id: 0000:06:00.0, compute capability: 6.1\n"
     ]
    },
    {
     "name": "stdout",
     "output_type": "stream",
     "text": [
      "softmax\n",
      "(None, 128, 128, 128, 3)\n",
      "(None, 128, 128, 128, 4)\n",
      "Segmentation Models: using `tf.keras` framework.\n",
      "softmax\n"
     ]
    },
    {
     "name": "stderr",
     "output_type": "stream",
     "text": [
      "  0%|                                                                                                     | 0/227 [00:00<?, ?it/s]"
     ]
    },
    {
     "name": "stdout",
     "output_type": "stream",
     "text": [
      "Epoch 1/8\n"
     ]
    },
    {
     "name": "stderr",
     "output_type": "stream",
     "text": [
      "  0%|▍                                                                                            | 1/227 [00:04<15:09,  4.02s/it]2022-04-01 15:27:08.617309: I tensorflow/stream_executor/cuda/cuda_dnn.cc:368] Loaded cuDNN version 8302\n",
      "2022-04-01 15:27:12.296274: W tensorflow/core/common_runtime/bfc_allocator.cc:275] Allocator (GPU_0_bfc) ran out of memory trying to allocate 1.02GiB with freed_by_count=0. The caller indicates that this is not a failure, but may mean that there could be performance gains if more memory were available.\n",
      "2022-04-01 15:27:12.296300: W tensorflow/core/kernels/gpu_utils.cc:50] Failed to allocate memory for convolution redzone checking; skipping this check. This is benign and only means that we won't check cudnn for out-of-bounds reads and writes. This message will only be printed once.\n",
      "2022-04-01 15:27:12.296483: W tensorflow/core/common_runtime/bfc_allocator.cc:275] Allocator (GPU_0_bfc) ran out of memory trying to allocate 1.05GiB with freed_by_count=0. The caller indicates that this is not a failure, but may mean that there could be performance gains if more memory were available.\n"
     ]
    },
    {
     "name": "stdout",
     "output_type": "stream",
     "text": [
      "  1/114 [..............................] - ETA: 19:17 - loss: 1.0608 - iou_score: 0.0309"
     ]
    },
    {
     "name": "stderr",
     "output_type": "stream",
     "text": [
      "  1%|▊                                                                                            | 2/227 [00:12<23:52,  6.37s/it]"
     ]
    },
    {
     "name": "stdout",
     "output_type": "stream",
     "text": [
      "  2/114 [..............................] - ETA: 3:03 - loss: 1.0575 - iou_score: 0.0317 "
     ]
    },
    {
     "name": "stderr",
     "output_type": "stream",
     "text": [
      "  1%|█▏                                                                                           | 3/227 [00:13<15:42,  4.21s/it]"
     ]
    },
    {
     "name": "stdout",
     "output_type": "stream",
     "text": [
      "  3/114 [..............................] - ETA: 3:01 - loss: 1.0552 - iou_score: 0.0356"
     ]
    },
    {
     "name": "stderr",
     "output_type": "stream",
     "text": [
      "  2%|█▋                                                                                           | 4/227 [00:15<11:52,  3.19s/it]"
     ]
    },
    {
     "name": "stdout",
     "output_type": "stream",
     "text": [
      "  4/114 [>.............................] - ETA: 3:00 - loss: 1.0530 - iou_score: 0.0383"
     ]
    },
    {
     "name": "stderr",
     "output_type": "stream",
     "text": [
      "  2%|██                                                                                           | 5/227 [00:16<09:44,  2.63s/it]"
     ]
    },
    {
     "name": "stdout",
     "output_type": "stream",
     "text": [
      "  5/114 [>.............................] - ETA: 2:58 - loss: 1.0525 - iou_score: 0.0379"
     ]
    },
    {
     "name": "stderr",
     "output_type": "stream",
     "text": [
      "  3%|██▍                                                                                          | 6/227 [00:18<08:26,  2.29s/it]"
     ]
    },
    {
     "name": "stdout",
     "output_type": "stream",
     "text": [
      "  6/114 [>.............................] - ETA: 2:56 - loss: 1.0522 - iou_score: 0.0363"
     ]
    },
    {
     "name": "stderr",
     "output_type": "stream",
     "text": [
      "  3%|██▊                                                                                          | 7/227 [00:20<07:37,  2.08s/it]"
     ]
    },
    {
     "name": "stdout",
     "output_type": "stream",
     "text": [
      "  7/114 [>.............................] - ETA: 2:55 - loss: 1.0516 - iou_score: 0.0345"
     ]
    },
    {
     "name": "stderr",
     "output_type": "stream",
     "text": [
      "  4%|███▎                                                                                         | 8/227 [00:21<07:04,  1.94s/it]"
     ]
    },
    {
     "name": "stdout",
     "output_type": "stream",
     "text": [
      "  8/114 [=>............................] - ETA: 2:53 - loss: 1.0496 - iou_score: 0.0370"
     ]
    },
    {
     "name": "stderr",
     "output_type": "stream",
     "text": [
      "  4%|███▋                                                                                         | 9/227 [00:23<06:42,  1.85s/it]"
     ]
    },
    {
     "name": "stdout",
     "output_type": "stream",
     "text": [
      "  9/114 [=>............................] - ETA: 2:52 - loss: 1.0490 - iou_score: 0.0355"
     ]
    },
    {
     "name": "stderr",
     "output_type": "stream",
     "text": [
      "  4%|████                                                                                        | 10/227 [00:25<06:26,  1.78s/it]"
     ]
    },
    {
     "name": "stdout",
     "output_type": "stream",
     "text": [
      " 10/114 [=>............................] - ETA: 2:50 - loss: 1.0479 - iou_score: 0.0358"
     ]
    },
    {
     "name": "stderr",
     "output_type": "stream",
     "text": [
      "  5%|████▍                                                                                       | 11/227 [00:26<06:16,  1.74s/it]"
     ]
    },
    {
     "name": "stdout",
     "output_type": "stream",
     "text": [
      " 11/114 [=>............................] - ETA: 2:48 - loss: 1.0469 - iou_score: 0.0356"
     ]
    },
    {
     "name": "stderr",
     "output_type": "stream",
     "text": [
      "  5%|████▊                                                                                       | 12/227 [00:28<06:07,  1.71s/it]"
     ]
    },
    {
     "name": "stdout",
     "output_type": "stream",
     "text": [
      " 12/114 [==>...........................] - ETA: 2:47 - loss: 1.0459 - iou_score: 0.0354"
     ]
    },
    {
     "name": "stderr",
     "output_type": "stream",
     "text": [
      "  6%|█████▎                                                                                      | 13/227 [00:30<06:01,  1.69s/it]"
     ]
    },
    {
     "name": "stdout",
     "output_type": "stream",
     "text": [
      " 13/114 [==>...........................] - ETA: 2:45 - loss: 1.0446 - iou_score: 0.0366"
     ]
    },
    {
     "name": "stderr",
     "output_type": "stream",
     "text": [
      "  6%|█████▋                                                                                      | 14/227 [00:31<05:57,  1.68s/it]"
     ]
    },
    {
     "name": "stdout",
     "output_type": "stream",
     "text": [
      " 14/114 [==>...........................] - ETA: 2:44 - loss: 1.0429 - iou_score: 0.0389"
     ]
    },
    {
     "name": "stderr",
     "output_type": "stream",
     "text": [
      "  7%|██████                                                                                      | 15/227 [00:33<05:53,  1.67s/it]"
     ]
    },
    {
     "name": "stdout",
     "output_type": "stream",
     "text": [
      " 15/114 [==>...........................] - ETA: 2:42 - loss: 1.0425 - iou_score: 0.0378"
     ]
    },
    {
     "name": "stderr",
     "output_type": "stream",
     "text": [
      "  7%|██████▍                                                                                     | 16/227 [00:35<05:50,  1.66s/it]"
     ]
    },
    {
     "name": "stdout",
     "output_type": "stream",
     "text": [
      " 16/114 [===>..........................] - ETA: 2:40 - loss: 1.0422 - iou_score: 0.0362"
     ]
    },
    {
     "name": "stderr",
     "output_type": "stream",
     "text": [
      "  7%|██████▉                                                                                     | 17/227 [00:36<05:47,  1.65s/it]"
     ]
    },
    {
     "name": "stdout",
     "output_type": "stream",
     "text": [
      " 17/114 [===>..........................] - ETA: 2:39 - loss: 1.0415 - iou_score: 0.0358"
     ]
    },
    {
     "name": "stderr",
     "output_type": "stream",
     "text": [
      "  8%|███████▎                                                                                    | 18/227 [00:38<05:45,  1.65s/it]"
     ]
    },
    {
     "name": "stdout",
     "output_type": "stream",
     "text": [
      " 18/114 [===>..........................] - ETA: 2:37 - loss: 1.0409 - iou_score: 0.0362"
     ]
    },
    {
     "name": "stderr",
     "output_type": "stream",
     "text": [
      "  8%|███████▋                                                                                    | 19/227 [00:39<05:42,  1.65s/it]"
     ]
    },
    {
     "name": "stdout",
     "output_type": "stream",
     "text": [
      " 19/114 [====>.........................] - ETA: 2:35 - loss: 1.0405 - iou_score: 0.0356"
     ]
    },
    {
     "name": "stderr",
     "output_type": "stream",
     "text": [
      "  9%|████████                                                                                    | 20/227 [00:41<05:40,  1.65s/it]"
     ]
    },
    {
     "name": "stdout",
     "output_type": "stream",
     "text": [
      " 20/114 [====>.........................] - ETA: 2:34 - loss: 1.0401 - iou_score: 0.0351"
     ]
    },
    {
     "name": "stderr",
     "output_type": "stream",
     "text": [
      "  9%|████████▌                                                                                   | 21/227 [00:43<05:38,  1.65s/it]"
     ]
    },
    {
     "name": "stdout",
     "output_type": "stream",
     "text": [
      " 21/114 [====>.........................] - ETA: 2:32 - loss: 1.0397 - iou_score: 0.0345"
     ]
    },
    {
     "name": "stderr",
     "output_type": "stream",
     "text": [
      " 10%|████████▉                                                                                   | 22/227 [00:44<05:37,  1.64s/it]"
     ]
    },
    {
     "name": "stdout",
     "output_type": "stream",
     "text": [
      " 22/114 [====>.........................] - ETA: 2:31 - loss: 1.0394 - iou_score: 0.0341"
     ]
    },
    {
     "name": "stderr",
     "output_type": "stream",
     "text": [
      " 10%|█████████▎                                                                                  | 23/227 [00:46<05:35,  1.65s/it]"
     ]
    },
    {
     "name": "stdout",
     "output_type": "stream",
     "text": [
      " 23/114 [=====>........................] - ETA: 2:29 - loss: 1.0386 - iou_score: 0.0349"
     ]
    },
    {
     "name": "stderr",
     "output_type": "stream",
     "text": [
      " 11%|█████████▋                                                                                  | 24/227 [00:48<05:34,  1.65s/it]"
     ]
    },
    {
     "name": "stdout",
     "output_type": "stream",
     "text": [
      " 24/114 [=====>........................] - ETA: 2:27 - loss: 1.0385 - iou_score: 0.0337"
     ]
    },
    {
     "name": "stderr",
     "output_type": "stream",
     "text": [
      " 11%|██████████▏                                                                                 | 25/227 [00:49<05:32,  1.65s/it]"
     ]
    },
    {
     "name": "stdout",
     "output_type": "stream",
     "text": [
      " 25/114 [=====>........................] - ETA: 2:26 - loss: 1.0383 - iou_score: 0.0330"
     ]
    },
    {
     "name": "stderr",
     "output_type": "stream",
     "text": [
      " 11%|██████████▌                                                                                 | 26/227 [00:51<05:31,  1.65s/it]"
     ]
    },
    {
     "name": "stdout",
     "output_type": "stream",
     "text": [
      " 26/114 [=====>........................] - ETA: 2:24 - loss: 1.0369 - iou_score: 0.0359"
     ]
    },
    {
     "name": "stderr",
     "output_type": "stream",
     "text": [
      " 12%|██████████▉                                                                                 | 27/227 [00:53<05:29,  1.65s/it]"
     ]
    },
    {
     "name": "stdout",
     "output_type": "stream",
     "text": [
      " 27/114 [======>.......................] - ETA: 2:22 - loss: 1.0365 - iou_score: 0.0360"
     ]
    },
    {
     "name": "stderr",
     "output_type": "stream",
     "text": [
      " 12%|███████████▎                                                                                | 28/227 [00:54<05:27,  1.65s/it]"
     ]
    },
    {
     "name": "stdout",
     "output_type": "stream",
     "text": [
      " 28/114 [======>.......................] - ETA: 2:21 - loss: 1.0363 - iou_score: 0.0353"
     ]
    },
    {
     "name": "stderr",
     "output_type": "stream",
     "text": [
      " 13%|███████████▊                                                                                | 29/227 [00:56<05:26,  1.65s/it]"
     ]
    },
    {
     "name": "stdout",
     "output_type": "stream",
     "text": [
      " 29/114 [======>.......................] - ETA: 2:19 - loss: 1.0355 - iou_score: 0.0366"
     ]
    },
    {
     "name": "stderr",
     "output_type": "stream",
     "text": [
      " 13%|████████████▏                                                                               | 30/227 [00:58<05:24,  1.65s/it]"
     ]
    },
    {
     "name": "stdout",
     "output_type": "stream",
     "text": [
      " 30/114 [======>.......................] - ETA: 2:18 - loss: 1.0347 - iou_score: 0.0386"
     ]
    },
    {
     "name": "stderr",
     "output_type": "stream",
     "text": [
      " 14%|████████████▌                                                                               | 31/227 [00:59<05:22,  1.65s/it]"
     ]
    },
    {
     "name": "stdout",
     "output_type": "stream",
     "text": [
      " 31/114 [=======>......................] - ETA: 2:16 - loss: 1.0346 - iou_score: 0.0376"
     ]
    },
    {
     "name": "stderr",
     "output_type": "stream",
     "text": [
      " 14%|████████████▉                                                                               | 32/227 [01:01<05:21,  1.65s/it]"
     ]
    },
    {
     "name": "stdout",
     "output_type": "stream",
     "text": [
      " 32/114 [=======>......................] - ETA: 2:14 - loss: 1.0340 - iou_score: 0.0387"
     ]
    },
    {
     "name": "stderr",
     "output_type": "stream",
     "text": [
      " 15%|█████████████▎                                                                              | 33/227 [01:02<05:20,  1.65s/it]"
     ]
    },
    {
     "name": "stdout",
     "output_type": "stream",
     "text": [
      " 33/114 [=======>......................] - ETA: 2:13 - loss: 1.0339 - iou_score: 0.0379"
     ]
    },
    {
     "name": "stderr",
     "output_type": "stream",
     "text": [
      " 15%|█████████████▊                                                                              | 34/227 [01:04<05:18,  1.65s/it]"
     ]
    },
    {
     "name": "stdout",
     "output_type": "stream",
     "text": [
      " 34/114 [=======>......................] - ETA: 2:11 - loss: 1.0336 - iou_score: 0.0378"
     ]
    },
    {
     "name": "stderr",
     "output_type": "stream",
     "text": [
      " 15%|██████████████▏                                                                             | 35/227 [01:06<05:16,  1.65s/it]"
     ]
    },
    {
     "name": "stdout",
     "output_type": "stream",
     "text": [
      " 35/114 [========>.....................] - ETA: 2:09 - loss: 1.0335 - iou_score: 0.0370"
     ]
    },
    {
     "name": "stderr",
     "output_type": "stream",
     "text": [
      " 16%|██████████████▌                                                                             | 36/227 [01:07<05:15,  1.65s/it]"
     ]
    },
    {
     "name": "stdout",
     "output_type": "stream",
     "text": [
      " 36/114 [========>.....................] - ETA: 2:08 - loss: 1.0332 - iou_score: 0.0369"
     ]
    },
    {
     "name": "stderr",
     "output_type": "stream",
     "text": [
      " 16%|██████████████▉                                                                             | 37/227 [01:09<05:13,  1.65s/it]"
     ]
    },
    {
     "name": "stdout",
     "output_type": "stream",
     "text": [
      " 37/114 [========>.....................] - ETA: 2:06 - loss: 1.0332 - iou_score: 0.0361"
     ]
    },
    {
     "name": "stderr",
     "output_type": "stream",
     "text": [
      " 17%|███████████████▍                                                                            | 38/227 [01:11<05:11,  1.65s/it]"
     ]
    },
    {
     "name": "stdout",
     "output_type": "stream",
     "text": [
      " 38/114 [=========>....................] - ETA: 2:05 - loss: 1.0330 - iou_score: 0.0357"
     ]
    },
    {
     "name": "stderr",
     "output_type": "stream",
     "text": [
      " 17%|███████████████▊                                                                            | 39/227 [01:12<05:10,  1.65s/it]"
     ]
    },
    {
     "name": "stdout",
     "output_type": "stream",
     "text": [
      " 39/114 [=========>....................] - ETA: 2:03 - loss: 1.0329 - iou_score: 0.0351"
     ]
    },
    {
     "name": "stderr",
     "output_type": "stream",
     "text": [
      " 18%|████████████████▏                                                                           | 40/227 [01:14<05:09,  1.66s/it]"
     ]
    },
    {
     "name": "stdout",
     "output_type": "stream",
     "text": [
      " 40/114 [=========>....................] - ETA: 2:01 - loss: 1.0327 - iou_score: 0.0346"
     ]
    },
    {
     "name": "stderr",
     "output_type": "stream",
     "text": [
      " 18%|████████████████▌                                                                           | 41/227 [01:16<05:07,  1.65s/it]"
     ]
    },
    {
     "name": "stdout",
     "output_type": "stream",
     "text": [
      " 41/114 [=========>....................] - ETA: 2:00 - loss: 1.0322 - iou_score: 0.0352"
     ]
    },
    {
     "name": "stderr",
     "output_type": "stream",
     "text": [
      " 19%|█████████████████                                                                           | 42/227 [01:17<05:05,  1.65s/it]"
     ]
    },
    {
     "name": "stdout",
     "output_type": "stream",
     "text": [
      " 42/114 [==========>...................] - ETA: 1:58 - loss: 1.0317 - iou_score: 0.0362"
     ]
    },
    {
     "name": "stderr",
     "output_type": "stream",
     "text": [
      " 19%|█████████████████▍                                                                          | 43/227 [01:19<05:04,  1.65s/it]"
     ]
    },
    {
     "name": "stdout",
     "output_type": "stream",
     "text": [
      " 43/114 [==========>...................] - ETA: 1:56 - loss: 1.0316 - iou_score: 0.0356"
     ]
    },
    {
     "name": "stderr",
     "output_type": "stream",
     "text": [
      " 19%|█████████████████▊                                                                          | 44/227 [01:21<05:02,  1.65s/it]"
     ]
    },
    {
     "name": "stdout",
     "output_type": "stream",
     "text": [
      " 44/114 [==========>...................] - ETA: 1:55 - loss: 1.0313 - iou_score: 0.0361"
     ]
    },
    {
     "name": "stderr",
     "output_type": "stream",
     "text": [
      " 20%|██████████████████▏                                                                         | 45/227 [01:22<05:01,  1.65s/it]"
     ]
    },
    {
     "name": "stdout",
     "output_type": "stream",
     "text": [
      " 45/114 [==========>...................] - ETA: 1:53 - loss: 1.0311 - iou_score: 0.0358"
     ]
    },
    {
     "name": "stderr",
     "output_type": "stream",
     "text": [
      " 20%|██████████████████▋                                                                         | 46/227 [01:24<04:59,  1.65s/it]"
     ]
    },
    {
     "name": "stdout",
     "output_type": "stream",
     "text": [
      " 46/114 [===========>..................] - ETA: 1:51 - loss: 1.0308 - iou_score: 0.0362"
     ]
    },
    {
     "name": "stderr",
     "output_type": "stream",
     "text": [
      " 21%|███████████████████                                                                         | 47/227 [01:26<04:58,  1.66s/it]"
     ]
    },
    {
     "name": "stdout",
     "output_type": "stream",
     "text": [
      " 47/114 [===========>..................] - ETA: 1:50 - loss: 1.0308 - iou_score: 0.0356"
     ]
    },
    {
     "name": "stderr",
     "output_type": "stream",
     "text": [
      " 21%|███████████████████▍                                                                        | 48/227 [01:27<04:56,  1.66s/it]"
     ]
    },
    {
     "name": "stdout",
     "output_type": "stream",
     "text": [
      " 48/114 [===========>..................] - ETA: 1:48 - loss: 1.0305 - iou_score: 0.0358"
     ]
    },
    {
     "name": "stderr",
     "output_type": "stream",
     "text": [
      " 22%|███████████████████▊                                                                        | 49/227 [01:29<04:54,  1.66s/it]"
     ]
    },
    {
     "name": "stdout",
     "output_type": "stream",
     "text": [
      " 49/114 [===========>..................] - ETA: 1:47 - loss: 1.0302 - iou_score: 0.0364"
     ]
    },
    {
     "name": "stderr",
     "output_type": "stream",
     "text": [
      " 22%|████████████████████▎                                                                       | 50/227 [01:31<04:52,  1.65s/it]"
     ]
    },
    {
     "name": "stdout",
     "output_type": "stream",
     "text": [
      " 50/114 [============>.................] - ETA: 1:45 - loss: 1.0302 - iou_score: 0.0359"
     ]
    },
    {
     "name": "stderr",
     "output_type": "stream",
     "text": [
      " 22%|████████████████████▋                                                                       | 51/227 [01:32<04:51,  1.66s/it]"
     ]
    },
    {
     "name": "stdout",
     "output_type": "stream",
     "text": [
      " 51/114 [============>.................] - ETA: 1:43 - loss: 1.0299 - iou_score: 0.0359"
     ]
    },
    {
     "name": "stderr",
     "output_type": "stream",
     "text": [
      " 23%|█████████████████████                                                                       | 52/227 [01:34<04:50,  1.66s/it]"
     ]
    },
    {
     "name": "stdout",
     "output_type": "stream",
     "text": [
      " 52/114 [============>.................] - ETA: 1:42 - loss: 1.0296 - iou_score: 0.0361"
     ]
    },
    {
     "name": "stderr",
     "output_type": "stream",
     "text": [
      " 23%|█████████████████████▍                                                                      | 53/227 [01:36<04:48,  1.66s/it]"
     ]
    },
    {
     "name": "stdout",
     "output_type": "stream",
     "text": [
      " 53/114 [============>.................] - ETA: 1:40 - loss: 1.0293 - iou_score: 0.0365"
     ]
    },
    {
     "name": "stderr",
     "output_type": "stream",
     "text": [
      " 24%|█████████████████████▉                                                                      | 54/227 [01:37<04:46,  1.66s/it]"
     ]
    },
    {
     "name": "stdout",
     "output_type": "stream",
     "text": [
      " 54/114 [=============>................] - ETA: 1:38 - loss: 1.0288 - iou_score: 0.0361"
     ]
    },
    {
     "name": "stderr",
     "output_type": "stream",
     "text": [
      " 24%|██████████████████████▎                                                                     | 55/227 [01:39<04:45,  1.66s/it]"
     ]
    },
    {
     "name": "stdout",
     "output_type": "stream",
     "text": [
      " 55/114 [=============>................] - ETA: 1:37 - loss: 1.0287 - iou_score: 0.0357"
     ]
    },
    {
     "name": "stderr",
     "output_type": "stream",
     "text": [
      " 25%|██████████████████████▋                                                                     | 56/227 [01:41<04:43,  1.66s/it]"
     ]
    },
    {
     "name": "stdout",
     "output_type": "stream",
     "text": [
      " 56/114 [=============>................] - ETA: 1:35 - loss: 1.0285 - iou_score: 0.0357"
     ]
    },
    {
     "name": "stderr",
     "output_type": "stream",
     "text": [
      " 25%|███████████████████████                                                                     | 57/227 [01:42<04:42,  1.66s/it]"
     ]
    },
    {
     "name": "stdout",
     "output_type": "stream",
     "text": [
      " 57/114 [==============>...............] - ETA: 1:34 - loss: 1.0282 - iou_score: 0.0364"
     ]
    },
    {
     "name": "stderr",
     "output_type": "stream",
     "text": [
      " 26%|███████████████████████▌                                                                    | 58/227 [01:44<04:40,  1.66s/it]"
     ]
    },
    {
     "name": "stdout",
     "output_type": "stream",
     "text": [
      " 58/114 [==============>...............] - ETA: 1:32 - loss: 1.0281 - iou_score: 0.0361"
     ]
    },
    {
     "name": "stderr",
     "output_type": "stream",
     "text": [
      " 26%|███████████████████████▉                                                                    | 59/227 [01:46<04:38,  1.66s/it]"
     ]
    },
    {
     "name": "stdout",
     "output_type": "stream",
     "text": [
      " 59/114 [==============>...............] - ETA: 1:30 - loss: 1.0278 - iou_score: 0.0368"
     ]
    },
    {
     "name": "stderr",
     "output_type": "stream",
     "text": [
      " 26%|████████████████████████▎                                                                   | 60/227 [01:47<04:37,  1.66s/it]"
     ]
    },
    {
     "name": "stdout",
     "output_type": "stream",
     "text": [
      " 60/114 [==============>...............] - ETA: 1:29 - loss: 1.0278 - iou_score: 0.0364"
     ]
    },
    {
     "name": "stderr",
     "output_type": "stream",
     "text": [
      " 27%|████████████████████████▋                                                                   | 61/227 [01:49<04:35,  1.66s/it]"
     ]
    },
    {
     "name": "stdout",
     "output_type": "stream",
     "text": [
      " 61/114 [===============>..............] - ETA: 1:27 - loss: 1.0274 - iou_score: 0.0373"
     ]
    },
    {
     "name": "stderr",
     "output_type": "stream",
     "text": [
      " 27%|█████████████████████████▏                                                                  | 62/227 [01:51<04:33,  1.66s/it]"
     ]
    },
    {
     "name": "stdout",
     "output_type": "stream",
     "text": [
      " 62/114 [===============>..............] - ETA: 1:25 - loss: 1.0273 - iou_score: 0.0370"
     ]
    },
    {
     "name": "stderr",
     "output_type": "stream",
     "text": [
      " 28%|█████████████████████████▌                                                                  | 63/227 [01:52<04:32,  1.66s/it]"
     ]
    },
    {
     "name": "stdout",
     "output_type": "stream",
     "text": [
      " 63/114 [===============>..............] - ETA: 1:24 - loss: 1.0269 - iou_score: 0.0373"
     ]
    },
    {
     "name": "stderr",
     "output_type": "stream",
     "text": [
      " 28%|█████████████████████████▉                                                                  | 64/227 [01:54<04:30,  1.66s/it]"
     ]
    },
    {
     "name": "stdout",
     "output_type": "stream",
     "text": [
      " 64/114 [===============>..............] - ETA: 1:22 - loss: 1.0268 - iou_score: 0.0371"
     ]
    },
    {
     "name": "stderr",
     "output_type": "stream",
     "text": [
      " 29%|██████████████████████████▎                                                                 | 65/227 [01:56<04:29,  1.66s/it]"
     ]
    },
    {
     "name": "stdout",
     "output_type": "stream",
     "text": [
      " 65/114 [================>.............] - ETA: 1:20 - loss: 1.0267 - iou_score: 0.0367"
     ]
    },
    {
     "name": "stderr",
     "output_type": "stream",
     "text": [
      " 29%|██████████████████████████▋                                                                 | 66/227 [01:57<04:27,  1.66s/it]"
     ]
    },
    {
     "name": "stdout",
     "output_type": "stream",
     "text": [
      " 66/114 [================>.............] - ETA: 1:19 - loss: 1.0267 - iou_score: 0.0363"
     ]
    },
    {
     "name": "stderr",
     "output_type": "stream",
     "text": [
      " 30%|███████████████████████████▏                                                                | 67/227 [01:59<04:25,  1.66s/it]"
     ]
    },
    {
     "name": "stdout",
     "output_type": "stream",
     "text": [
      " 67/114 [================>.............] - ETA: 1:17 - loss: 1.0266 - iou_score: 0.0359"
     ]
    },
    {
     "name": "stderr",
     "output_type": "stream",
     "text": [
      " 30%|███████████████████████████▌                                                                | 68/227 [02:00<04:23,  1.66s/it]"
     ]
    },
    {
     "name": "stdout",
     "output_type": "stream",
     "text": [
      " 68/114 [================>.............] - ETA: 1:15 - loss: 1.0263 - iou_score: 0.0362"
     ]
    },
    {
     "name": "stderr",
     "output_type": "stream",
     "text": [
      " 30%|███████████████████████████▉                                                                | 69/227 [02:02<04:22,  1.66s/it]"
     ]
    },
    {
     "name": "stdout",
     "output_type": "stream",
     "text": [
      " 69/114 [=================>............] - ETA: 1:14 - loss: 1.0262 - iou_score: 0.0360"
     ]
    },
    {
     "name": "stderr",
     "output_type": "stream",
     "text": [
      " 31%|████████████████████████████▎                                                               | 70/227 [02:04<04:20,  1.66s/it]"
     ]
    },
    {
     "name": "stdout",
     "output_type": "stream",
     "text": [
      " 70/114 [=================>............] - ETA: 1:12 - loss: 1.0260 - iou_score: 0.0361"
     ]
    },
    {
     "name": "stderr",
     "output_type": "stream",
     "text": [
      " 31%|████████████████████████████▊                                                               | 71/227 [02:05<04:19,  1.66s/it]"
     ]
    },
    {
     "name": "stdout",
     "output_type": "stream",
     "text": [
      " 71/114 [=================>............] - ETA: 1:11 - loss: 1.0258 - iou_score: 0.0369"
     ]
    },
    {
     "name": "stderr",
     "output_type": "stream",
     "text": [
      " 32%|█████████████████████████████▏                                                              | 72/227 [02:07<04:17,  1.66s/it]"
     ]
    },
    {
     "name": "stdout",
     "output_type": "stream",
     "text": [
      " 72/114 [=================>............] - ETA: 1:09 - loss: 1.0257 - iou_score: 0.0369"
     ]
    },
    {
     "name": "stderr",
     "output_type": "stream",
     "text": [
      " 32%|█████████████████████████████▌                                                              | 73/227 [02:09<04:15,  1.66s/it]"
     ]
    },
    {
     "name": "stdout",
     "output_type": "stream",
     "text": [
      " 73/114 [==================>...........] - ETA: 1:07 - loss: 1.0253 - iou_score: 0.0379"
     ]
    },
    {
     "name": "stderr",
     "output_type": "stream",
     "text": [
      " 33%|█████████████████████████████▉                                                              | 74/227 [02:10<04:14,  1.66s/it]"
     ]
    },
    {
     "name": "stdout",
     "output_type": "stream",
     "text": [
      " 74/114 [==================>...........] - ETA: 1:06 - loss: 1.0251 - iou_score: 0.0384"
     ]
    },
    {
     "name": "stderr",
     "output_type": "stream",
     "text": [
      " 33%|██████████████████████████████▍                                                             | 75/227 [02:12<04:13,  1.66s/it]"
     ]
    },
    {
     "name": "stdout",
     "output_type": "stream",
     "text": [
      " 75/114 [==================>...........] - ETA: 1:04 - loss: 1.0249 - iou_score: 0.0384"
     ]
    },
    {
     "name": "stderr",
     "output_type": "stream",
     "text": [
      " 33%|██████████████████████████████▊                                                             | 76/227 [02:14<04:11,  1.66s/it]"
     ]
    },
    {
     "name": "stdout",
     "output_type": "stream",
     "text": [
      " 76/114 [===================>..........] - ETA: 1:02 - loss: 1.0247 - iou_score: 0.0386"
     ]
    },
    {
     "name": "stderr",
     "output_type": "stream",
     "text": [
      " 34%|███████████████████████████████▏                                                            | 77/227 [02:15<04:09,  1.66s/it]"
     ]
    },
    {
     "name": "stdout",
     "output_type": "stream",
     "text": [
      " 77/114 [===================>..........] - ETA: 1:01 - loss: 1.0244 - iou_score: 0.0394"
     ]
    },
    {
     "name": "stderr",
     "output_type": "stream",
     "text": [
      " 34%|███████████████████████████████▌                                                            | 78/227 [02:17<04:07,  1.66s/it]"
     ]
    },
    {
     "name": "stdout",
     "output_type": "stream",
     "text": [
      " 78/114 [===================>..........] - ETA: 59s - loss: 1.0241 - iou_score: 0.0399 "
     ]
    },
    {
     "name": "stderr",
     "output_type": "stream",
     "text": [
      " 35%|████████████████████████████████                                                            | 79/227 [02:19<04:06,  1.66s/it]"
     ]
    },
    {
     "name": "stdout",
     "output_type": "stream",
     "text": [
      " 79/114 [===================>..........] - ETA: 57s - loss: 1.0239 - iou_score: 0.0403"
     ]
    },
    {
     "name": "stderr",
     "output_type": "stream",
     "text": [
      " 35%|████████████████████████████████▍                                                           | 80/227 [02:20<04:04,  1.67s/it]"
     ]
    },
    {
     "name": "stdout",
     "output_type": "stream",
     "text": [
      " 80/114 [====================>.........] - ETA: 56s - loss: 1.0236 - iou_score: 0.0408"
     ]
    },
    {
     "name": "stderr",
     "output_type": "stream",
     "text": [
      " 36%|████████████████████████████████▊                                                           | 81/227 [02:22<04:02,  1.66s/it]"
     ]
    },
    {
     "name": "stdout",
     "output_type": "stream",
     "text": [
      " 81/114 [====================>.........] - ETA: 54s - loss: 1.0232 - iou_score: 0.0420"
     ]
    },
    {
     "name": "stderr",
     "output_type": "stream",
     "text": [
      " 36%|█████████████████████████████████▏                                                          | 82/227 [02:24<04:01,  1.66s/it]"
     ]
    },
    {
     "name": "stdout",
     "output_type": "stream",
     "text": [
      " 82/114 [====================>.........] - ETA: 52s - loss: 1.0231 - iou_score: 0.0417"
     ]
    },
    {
     "name": "stderr",
     "output_type": "stream",
     "text": [
      " 37%|█████████████████████████████████▋                                                          | 83/227 [02:25<03:59,  1.67s/it]"
     ]
    },
    {
     "name": "stdout",
     "output_type": "stream",
     "text": [
      " 83/114 [====================>.........] - ETA: 51s - loss: 1.0230 - iou_score: 0.0416"
     ]
    },
    {
     "name": "stderr",
     "output_type": "stream",
     "text": [
      " 37%|██████████████████████████████████                                                          | 84/227 [02:27<03:58,  1.67s/it]"
     ]
    },
    {
     "name": "stdout",
     "output_type": "stream",
     "text": [
      " 84/114 [=====================>........] - ETA: 49s - loss: 1.0226 - iou_score: 0.0430"
     ]
    },
    {
     "name": "stderr",
     "output_type": "stream",
     "text": [
      " 37%|██████████████████████████████████▍                                                         | 85/227 [02:29<03:56,  1.67s/it]"
     ]
    },
    {
     "name": "stdout",
     "output_type": "stream",
     "text": [
      " 85/114 [=====================>........] - ETA: 47s - loss: 1.0225 - iou_score: 0.0429"
     ]
    },
    {
     "name": "stderr",
     "output_type": "stream",
     "text": [
      " 38%|██████████████████████████████████▊                                                         | 86/227 [02:30<03:54,  1.67s/it]"
     ]
    },
    {
     "name": "stdout",
     "output_type": "stream",
     "text": [
      " 86/114 [=====================>........] - ETA: 46s - loss: 1.0223 - iou_score: 0.0430"
     ]
    },
    {
     "name": "stderr",
     "output_type": "stream",
     "text": [
      " 38%|███████████████████████████████████▎                                                        | 87/227 [02:32<03:52,  1.66s/it]"
     ]
    },
    {
     "name": "stdout",
     "output_type": "stream",
     "text": [
      " 87/114 [=====================>........] - ETA: 44s - loss: 1.0222 - iou_score: 0.0429"
     ]
    },
    {
     "name": "stderr",
     "output_type": "stream",
     "text": [
      " 39%|███████████████████████████████████▋                                                        | 88/227 [02:34<03:51,  1.67s/it]"
     ]
    },
    {
     "name": "stdout",
     "output_type": "stream",
     "text": [
      " 88/114 [======================>.......] - ETA: 43s - loss: 1.0222 - iou_score: 0.0425"
     ]
    },
    {
     "name": "stderr",
     "output_type": "stream",
     "text": [
      " 39%|████████████████████████████████████                                                        | 89/227 [02:35<03:50,  1.67s/it]"
     ]
    },
    {
     "name": "stdout",
     "output_type": "stream",
     "text": [
      " 89/114 [======================>.......] - ETA: 41s - loss: 1.0219 - iou_score: 0.0426"
     ]
    },
    {
     "name": "stderr",
     "output_type": "stream",
     "text": [
      " 40%|████████████████████████████████████▍                                                       | 90/227 [02:37<03:48,  1.67s/it]"
     ]
    },
    {
     "name": "stdout",
     "output_type": "stream",
     "text": [
      " 90/114 [======================>.......] - ETA: 39s - loss: 1.0219 - iou_score: 0.0421"
     ]
    },
    {
     "name": "stderr",
     "output_type": "stream",
     "text": [
      " 40%|████████████████████████████████████▉                                                       | 91/227 [02:39<03:47,  1.67s/it]"
     ]
    },
    {
     "name": "stdout",
     "output_type": "stream",
     "text": [
      " 91/114 [======================>.......] - ETA: 38s - loss: 1.0217 - iou_score: 0.0419"
     ]
    },
    {
     "name": "stderr",
     "output_type": "stream",
     "text": [
      " 41%|█████████████████████████████████████▎                                                      | 92/227 [02:40<03:45,  1.67s/it]"
     ]
    },
    {
     "name": "stdout",
     "output_type": "stream",
     "text": [
      " 92/114 [=======================>......] - ETA: 36s - loss: 1.0215 - iou_score: 0.0423"
     ]
    },
    {
     "name": "stderr",
     "output_type": "stream",
     "text": [
      " 41%|█████████████████████████████████████▋                                                      | 93/227 [02:42<03:43,  1.67s/it]"
     ]
    },
    {
     "name": "stdout",
     "output_type": "stream",
     "text": [
      " 93/114 [=======================>......] - ETA: 34s - loss: 1.0211 - iou_score: 0.0431"
     ]
    },
    {
     "name": "stderr",
     "output_type": "stream",
     "text": [
      " 41%|██████████████████████████████████████                                                      | 94/227 [02:44<03:41,  1.67s/it]"
     ]
    },
    {
     "name": "stdout",
     "output_type": "stream",
     "text": [
      " 94/114 [=======================>......] - ETA: 33s - loss: 1.0210 - iou_score: 0.0436"
     ]
    },
    {
     "name": "stderr",
     "output_type": "stream",
     "text": [
      " 42%|██████████████████████████████████████▌                                                     | 95/227 [02:45<03:40,  1.67s/it]"
     ]
    },
    {
     "name": "stdout",
     "output_type": "stream",
     "text": [
      " 95/114 [========================>.....] - ETA: 31s - loss: 1.0207 - iou_score: 0.0438"
     ]
    },
    {
     "name": "stderr",
     "output_type": "stream",
     "text": [
      " 42%|██████████████████████████████████████▉                                                     | 96/227 [02:47<03:38,  1.67s/it]"
     ]
    },
    {
     "name": "stdout",
     "output_type": "stream",
     "text": [
      " 96/114 [========================>.....] - ETA: 29s - loss: 1.0207 - iou_score: 0.0435"
     ]
    },
    {
     "name": "stderr",
     "output_type": "stream",
     "text": [
      " 43%|███████████████████████████████████████▎                                                    | 97/227 [02:49<03:37,  1.67s/it]"
     ]
    },
    {
     "name": "stdout",
     "output_type": "stream",
     "text": [
      " 97/114 [========================>.....] - ETA: 28s - loss: 1.0206 - iou_score: 0.0431"
     ]
    },
    {
     "name": "stderr",
     "output_type": "stream",
     "text": [
      " 43%|███████████████████████████████████████▋                                                    | 98/227 [02:50<03:35,  1.67s/it]"
     ]
    },
    {
     "name": "stdout",
     "output_type": "stream",
     "text": [
      " 98/114 [========================>.....] - ETA: 26s - loss: 1.0204 - iou_score: 0.0440"
     ]
    },
    {
     "name": "stderr",
     "output_type": "stream",
     "text": [
      " 44%|████████████████████████████████████████                                                    | 99/227 [02:52<03:33,  1.67s/it]"
     ]
    },
    {
     "name": "stdout",
     "output_type": "stream",
     "text": [
      " 99/114 [=========================>....] - ETA: 24s - loss: 1.0202 - iou_score: 0.0446"
     ]
    },
    {
     "name": "stderr",
     "output_type": "stream",
     "text": [
      " 44%|████████████████████████████████████████                                                   | 100/227 [02:54<03:31,  1.67s/it]"
     ]
    },
    {
     "name": "stdout",
     "output_type": "stream",
     "text": [
      "100/114 [=========================>....] - ETA: 23s - loss: 1.0198 - iou_score: 0.0458"
     ]
    },
    {
     "name": "stderr",
     "output_type": "stream",
     "text": [
      " 44%|████████████████████████████████████████▍                                                  | 101/227 [02:55<03:30,  1.67s/it]"
     ]
    },
    {
     "name": "stdout",
     "output_type": "stream",
     "text": [
      "101/114 [=========================>....] - ETA: 21s - loss: 1.0195 - iou_score: 0.0467"
     ]
    },
    {
     "name": "stderr",
     "output_type": "stream",
     "text": [
      " 45%|████████████████████████████████████████▉                                                  | 102/227 [02:57<03:28,  1.67s/it]"
     ]
    },
    {
     "name": "stdout",
     "output_type": "stream",
     "text": [
      "102/114 [=========================>....] - ETA: 19s - loss: 1.0195 - iou_score: 0.0465"
     ]
    },
    {
     "name": "stderr",
     "output_type": "stream",
     "text": [
      " 45%|█████████████████████████████████████████▎                                                 | 103/227 [02:59<03:26,  1.67s/it]"
     ]
    },
    {
     "name": "stdout",
     "output_type": "stream",
     "text": [
      "103/114 [==========================>...] - ETA: 18s - loss: 1.0194 - iou_score: 0.0462"
     ]
    },
    {
     "name": "stderr",
     "output_type": "stream",
     "text": [
      " 46%|█████████████████████████████████████████▋                                                 | 104/227 [03:00<03:24,  1.67s/it]"
     ]
    },
    {
     "name": "stdout",
     "output_type": "stream",
     "text": [
      "104/114 [==========================>...] - ETA: 16s - loss: 1.0191 - iou_score: 0.0472"
     ]
    },
    {
     "name": "stderr",
     "output_type": "stream",
     "text": [
      " 46%|██████████████████████████████████████████                                                 | 105/227 [03:02<03:23,  1.67s/it]"
     ]
    },
    {
     "name": "stdout",
     "output_type": "stream",
     "text": [
      "105/114 [==========================>...] - ETA: 14s - loss: 1.0190 - iou_score: 0.0469"
     ]
    },
    {
     "name": "stderr",
     "output_type": "stream",
     "text": [
      " 47%|██████████████████████████████████████████▍                                                | 106/227 [03:04<03:21,  1.67s/it]"
     ]
    },
    {
     "name": "stdout",
     "output_type": "stream",
     "text": [
      "106/114 [==========================>...] - ETA: 13s - loss: 1.0187 - iou_score: 0.0473"
     ]
    },
    {
     "name": "stderr",
     "output_type": "stream",
     "text": [
      " 47%|██████████████████████████████████████████▉                                                | 107/227 [03:05<03:19,  1.67s/it]"
     ]
    },
    {
     "name": "stdout",
     "output_type": "stream",
     "text": [
      "107/114 [===========================>..] - ETA: 11s - loss: 1.0187 - iou_score: 0.0469"
     ]
    },
    {
     "name": "stderr",
     "output_type": "stream",
     "text": [
      " 48%|███████████████████████████████████████████▎                                               | 108/227 [03:07<03:18,  1.67s/it]"
     ]
    },
    {
     "name": "stdout",
     "output_type": "stream",
     "text": [
      "108/114 [===========================>..] - ETA: 9s - loss: 1.0186 - iou_score: 0.0466 "
     ]
    },
    {
     "name": "stderr",
     "output_type": "stream",
     "text": [
      " 48%|███████████████████████████████████████████▋                                               | 109/227 [03:09<03:16,  1.67s/it]"
     ]
    },
    {
     "name": "stdout",
     "output_type": "stream",
     "text": [
      "109/114 [===========================>..] - ETA: 8s - loss: 1.0184 - iou_score: 0.0471"
     ]
    },
    {
     "name": "stderr",
     "output_type": "stream",
     "text": [
      " 48%|████████████████████████████████████████████                                               | 110/227 [03:10<03:15,  1.67s/it]"
     ]
    },
    {
     "name": "stdout",
     "output_type": "stream",
     "text": [
      "110/114 [===========================>..] - ETA: 6s - loss: 1.0182 - iou_score: 0.0475"
     ]
    },
    {
     "name": "stderr",
     "output_type": "stream",
     "text": [
      " 49%|████████████████████████████████████████████▍                                              | 111/227 [03:12<03:13,  1.67s/it]"
     ]
    },
    {
     "name": "stdout",
     "output_type": "stream",
     "text": [
      "111/114 [============================>.] - ETA: 4s - loss: 1.0179 - iou_score: 0.0483"
     ]
    },
    {
     "name": "stderr",
     "output_type": "stream",
     "text": [
      " 49%|████████████████████████████████████████████▉                                              | 112/227 [03:14<03:11,  1.67s/it]"
     ]
    },
    {
     "name": "stdout",
     "output_type": "stream",
     "text": [
      "112/114 [============================>.] - ETA: 3s - loss: 1.0177 - iou_score: 0.0491"
     ]
    },
    {
     "name": "stderr",
     "output_type": "stream",
     "text": [
      " 50%|█████████████████████████████████████████████▎                                             | 113/227 [03:16<03:10,  1.67s/it]"
     ]
    },
    {
     "name": "stdout",
     "output_type": "stream",
     "text": [
      "113/114 [============================>.] - ETA: 1s - loss: 1.0176 - iou_score: 0.0492"
     ]
    },
    {
     "name": "stderr",
     "output_type": "stream",
     "text": [
      " 50%|█████████████████████████████████████████████▋                                             | 114/227 [03:17<03:15,  1.73s/it]\n",
      "  0%|                                                                                                     | 0/227 [00:00<?, ?it/s]"
     ]
    },
    {
     "name": "stdout",
     "output_type": "stream",
     "text": [
      "114/114 [==============================] - ETA: 0s - loss: 1.0176 - iou_score: 0.0490"
     ]
    },
    {
     "name": "stderr",
     "output_type": "stream",
     "text": [
      "\n",
      "  0%|                                                                                                      | 0/58 [00:00<?, ?it/s]\u001b[A\n",
      "  2%|█▌                                                                                            | 1/58 [00:02<01:56,  2.05s/it]\u001b[A\n",
      "  3%|███▏                                                                                          | 2/58 [00:03<01:38,  1.77s/it]\u001b[A\n",
      "  5%|████▊                                                                                         | 3/58 [00:05<01:32,  1.68s/it]\u001b[A\n",
      "  7%|██████▍                                                                                       | 4/58 [00:06<01:27,  1.63s/it]\u001b[A\n",
      "  9%|████████                                                                                      | 5/58 [00:08<01:26,  1.63s/it]\u001b[A\n",
      " 10%|█████████▋                                                                                    | 6/58 [00:09<01:23,  1.60s/it]\u001b[A\n",
      " 12%|███████████▎                                                                                  | 7/58 [00:11<01:20,  1.58s/it]\u001b[A\n",
      " 14%|████████████▉                                                                                 | 8/58 [00:13<01:19,  1.59s/it]\u001b[A\n",
      " 16%|██████████████▌                                                                               | 9/58 [00:14<01:17,  1.58s/it]\u001b[A\n",
      " 17%|████████████████                                                                             | 10/58 [00:16<01:15,  1.58s/it]\u001b[A\n",
      " 19%|█████████████████▋                                                                           | 11/58 [00:17<01:13,  1.57s/it]\u001b[A\n",
      " 21%|███████████████████▏                                                                         | 12/58 [00:19<01:14,  1.61s/it]\u001b[A\n",
      " 22%|████████████████████▊                                                                        | 13/58 [00:20<01:11,  1.59s/it]\u001b[A\n",
      " 24%|██████████████████████▍                                                                      | 14/58 [00:22<01:09,  1.59s/it]\u001b[A\n",
      " 26%|████████████████████████                                                                     | 15/58 [00:24<01:07,  1.58s/it]\u001b[A\n",
      " 28%|█████████████████████████▋                                                                   | 16/58 [00:25<01:05,  1.57s/it]\u001b[A\n",
      " 29%|███████████████████████████▎                                                                 | 17/58 [00:27<01:03,  1.55s/it]\u001b[A\n",
      " 31%|████████████████████████████▊                                                                | 18/58 [00:28<01:01,  1.54s/it]\u001b[A\n",
      " 33%|██████████████████████████████▍                                                              | 19/58 [00:30<01:00,  1.55s/it]\u001b[A\n",
      " 34%|████████████████████████████████                                                             | 20/58 [00:31<00:59,  1.56s/it]\u001b[A\n",
      " 36%|█████████████████████████████████▋                                                           | 21/58 [00:33<00:57,  1.57s/it]\u001b[A\n",
      " 38%|███████████████████████████████████▎                                                         | 22/58 [00:34<00:56,  1.56s/it]\u001b[A\n",
      " 40%|████████████████████████████████████▉                                                        | 23/58 [00:36<00:54,  1.56s/it]\u001b[A\n",
      " 41%|██████████████████████████████████████▍                                                      | 24/58 [00:38<00:52,  1.56s/it]\u001b[A\n",
      " 43%|████████████████████████████████████████                                                     | 25/58 [00:39<00:51,  1.56s/it]\u001b[A\n",
      " 45%|█████████████████████████████████████████▋                                                   | 26/58 [00:41<00:49,  1.56s/it]\u001b[A\n",
      " 47%|███████████████████████████████████████████▎                                                 | 27/58 [00:42<00:48,  1.57s/it]\u001b[A\n",
      " 48%|████████████████████████████████████████████▉                                                | 28/58 [00:44<00:46,  1.56s/it]\u001b[A\n",
      " 50%|██████████████████████████████████████████████▌                                              | 29/58 [00:45<00:45,  1.58s/it]\u001b[A\n",
      "\n",
      "  0%|                                                                                                      | 0/58 [00:00<?, ?it/s]\u001b[A"
     ]
    },
    {
     "name": "stdout",
     "output_type": "stream",
     "text": [
      "114/114 [==============================] - 249s 2s/step - loss: 1.0176 - iou_score: 0.0490 - val_loss: 0.9545 - val_iou_score: 0.2905\n",
      "Epoch 2/8\n"
     ]
    },
    {
     "name": "stderr",
     "output_type": "stream",
     "text": [
      "  0%|▍                                                                                          | 1/227 [00:52<3:18:33, 52.71s/it]"
     ]
    },
    {
     "name": "stdout",
     "output_type": "stream",
     "text": [
      "  1/114 [..............................] - ETA: 3:09 - loss: 1.0122 - iou_score: 0.0103"
     ]
    },
    {
     "name": "stderr",
     "output_type": "stream",
     "text": [
      "  1%|▊                                                                                          | 2/227 [00:54<1:25:04, 22.69s/it]"
     ]
    },
    {
     "name": "stdout",
     "output_type": "stream",
     "text": [
      "  2/114 [..............................] - ETA: 3:06 - loss: 0.9989 - iou_score: 0.0523"
     ]
    },
    {
     "name": "stderr",
     "output_type": "stream",
     "text": [
      "  1%|█▏                                                                                           | 3/227 [00:56<48:51, 13.09s/it]"
     ]
    },
    {
     "name": "stdout",
     "output_type": "stream",
     "text": [
      "  3/114 [..............................] - ETA: 3:04 - loss: 0.9978 - iou_score: 0.0794"
     ]
    },
    {
     "name": "stderr",
     "output_type": "stream",
     "text": [
      "  2%|█▋                                                                                           | 4/227 [00:57<31:52,  8.57s/it]"
     ]
    },
    {
     "name": "stdout",
     "output_type": "stream",
     "text": [
      "  4/114 [>.............................] - ETA: 3:02 - loss: 0.9981 - iou_score: 0.0816"
     ]
    },
    {
     "name": "stderr",
     "output_type": "stream",
     "text": [
      "  2%|██                                                                                           | 5/227 [00:59<22:29,  6.08s/it]"
     ]
    },
    {
     "name": "stdout",
     "output_type": "stream",
     "text": [
      "  5/114 [>.............................] - ETA: 3:00 - loss: 0.9939 - iou_score: 0.0958"
     ]
    },
    {
     "name": "stderr",
     "output_type": "stream",
     "text": [
      "  3%|██▍                                                                                          | 6/227 [01:01<16:51,  4.58s/it]"
     ]
    },
    {
     "name": "stdout",
     "output_type": "stream",
     "text": [
      "  6/114 [>.............................] - ETA: 2:59 - loss: 0.9962 - iou_score: 0.0848"
     ]
    },
    {
     "name": "stderr",
     "output_type": "stream",
     "text": [
      "  3%|██▊                                                                                          | 7/227 [01:02<13:17,  3.63s/it]"
     ]
    },
    {
     "name": "stdout",
     "output_type": "stream",
     "text": [
      "  7/114 [>.............................] - ETA: 2:57 - loss: 0.9962 - iou_score: 0.0855"
     ]
    },
    {
     "name": "stderr",
     "output_type": "stream",
     "text": [
      "  4%|███▎                                                                                         | 8/227 [01:04<10:57,  3.00s/it]"
     ]
    },
    {
     "name": "stdout",
     "output_type": "stream",
     "text": [
      "  8/114 [=>............................] - ETA: 2:56 - loss: 0.9984 - iou_score: 0.0842"
     ]
    },
    {
     "name": "stderr",
     "output_type": "stream",
     "text": [
      "  4%|███▋                                                                                         | 9/227 [01:06<09:23,  2.58s/it]"
     ]
    },
    {
     "name": "stdout",
     "output_type": "stream",
     "text": [
      "  9/114 [=>............................] - ETA: 2:54 - loss: 1.0000 - iou_score: 0.0771"
     ]
    },
    {
     "name": "stderr",
     "output_type": "stream",
     "text": [
      "  4%|████                                                                                        | 10/227 [01:07<08:18,  2.30s/it]"
     ]
    },
    {
     "name": "stdout",
     "output_type": "stream",
     "text": [
      " 10/114 [=>............................] - ETA: 2:52 - loss: 1.0016 - iou_score: 0.0718"
     ]
    },
    {
     "name": "stderr",
     "output_type": "stream",
     "text": [
      "  5%|████▍                                                                                       | 11/227 [01:09<07:34,  2.10s/it]"
     ]
    },
    {
     "name": "stdout",
     "output_type": "stream",
     "text": [
      " 11/114 [=>............................] - ETA: 2:51 - loss: 1.0019 - iou_score: 0.0718"
     ]
    },
    {
     "name": "stderr",
     "output_type": "stream",
     "text": [
      "  5%|████▊                                                                                       | 12/227 [01:10<07:03,  1.97s/it]"
     ]
    },
    {
     "name": "stdout",
     "output_type": "stream",
     "text": [
      " 12/114 [==>...........................] - ETA: 2:49 - loss: 1.0027 - iou_score: 0.0677"
     ]
    },
    {
     "name": "stderr",
     "output_type": "stream",
     "text": [
      "  6%|█████▎                                                                                      | 13/227 [01:12<06:41,  1.88s/it]"
     ]
    },
    {
     "name": "stdout",
     "output_type": "stream",
     "text": [
      " 13/114 [==>...........................] - ETA: 2:47 - loss: 1.0033 - iou_score: 0.0632"
     ]
    },
    {
     "name": "stderr",
     "output_type": "stream",
     "text": [
      "  6%|█████▋                                                                                      | 14/227 [01:14<06:25,  1.81s/it]"
     ]
    },
    {
     "name": "stdout",
     "output_type": "stream",
     "text": [
      " 14/114 [==>...........................] - ETA: 2:46 - loss: 1.0030 - iou_score: 0.0641"
     ]
    },
    {
     "name": "stderr",
     "output_type": "stream",
     "text": [
      "  7%|██████                                                                                      | 15/227 [01:15<06:14,  1.76s/it]"
     ]
    },
    {
     "name": "stdout",
     "output_type": "stream",
     "text": [
      " 15/114 [==>...........................] - ETA: 2:44 - loss: 1.0024 - iou_score: 0.0642"
     ]
    },
    {
     "name": "stderr",
     "output_type": "stream",
     "text": [
      "  7%|██████▍                                                                                     | 16/227 [01:17<06:06,  1.74s/it]"
     ]
    },
    {
     "name": "stdout",
     "output_type": "stream",
     "text": [
      " 16/114 [===>..........................] - ETA: 2:42 - loss: 1.0026 - iou_score: 0.0628"
     ]
    },
    {
     "name": "stderr",
     "output_type": "stream",
     "text": [
      "  7%|██████▉                                                                                     | 17/227 [01:19<05:59,  1.71s/it]"
     ]
    },
    {
     "name": "stdout",
     "output_type": "stream",
     "text": [
      " 17/114 [===>..........................] - ETA: 2:41 - loss: 1.0023 - iou_score: 0.0654"
     ]
    },
    {
     "name": "stderr",
     "output_type": "stream",
     "text": [
      "  8%|███████▎                                                                                    | 18/227 [01:20<05:55,  1.70s/it]"
     ]
    },
    {
     "name": "stdout",
     "output_type": "stream",
     "text": [
      " 18/114 [===>..........................] - ETA: 2:39 - loss: 1.0027 - iou_score: 0.0628"
     ]
    },
    {
     "name": "stderr",
     "output_type": "stream",
     "text": [
      "  8%|███████▋                                                                                    | 19/227 [01:22<05:51,  1.69s/it]"
     ]
    },
    {
     "name": "stdout",
     "output_type": "stream",
     "text": [
      " 19/114 [====>.........................] - ETA: 2:37 - loss: 1.0018 - iou_score: 0.0685"
     ]
    },
    {
     "name": "stderr",
     "output_type": "stream",
     "text": [
      "  9%|████████                                                                                    | 20/227 [01:24<05:48,  1.68s/it]"
     ]
    },
    {
     "name": "stdout",
     "output_type": "stream",
     "text": [
      " 20/114 [====>.........................] - ETA: 2:36 - loss: 1.0022 - iou_score: 0.0653"
     ]
    },
    {
     "name": "stderr",
     "output_type": "stream",
     "text": [
      "  9%|████████▌                                                                                   | 21/227 [01:25<05:45,  1.68s/it]"
     ]
    },
    {
     "name": "stdout",
     "output_type": "stream",
     "text": [
      " 21/114 [====>.........................] - ETA: 2:34 - loss: 1.0023 - iou_score: 0.0637"
     ]
    },
    {
     "name": "stderr",
     "output_type": "stream",
     "text": [
      " 10%|████████▉                                                                                   | 22/227 [01:27<05:43,  1.67s/it]"
     ]
    },
    {
     "name": "stdout",
     "output_type": "stream",
     "text": [
      " 22/114 [====>.........................] - ETA: 2:33 - loss: 1.0010 - iou_score: 0.0659"
     ]
    },
    {
     "name": "stderr",
     "output_type": "stream",
     "text": [
      " 10%|█████████▎                                                                                  | 23/227 [01:29<05:41,  1.67s/it]"
     ]
    },
    {
     "name": "stdout",
     "output_type": "stream",
     "text": [
      " 23/114 [=====>........................] - ETA: 2:31 - loss: 1.0014 - iou_score: 0.0636"
     ]
    },
    {
     "name": "stderr",
     "output_type": "stream",
     "text": [
      " 11%|█████████▋                                                                                  | 24/227 [01:30<05:39,  1.67s/it]"
     ]
    },
    {
     "name": "stdout",
     "output_type": "stream",
     "text": [
      " 24/114 [=====>........................] - ETA: 2:29 - loss: 1.0006 - iou_score: 0.0684"
     ]
    },
    {
     "name": "stderr",
     "output_type": "stream",
     "text": [
      " 11%|██████████▏                                                                                 | 25/227 [01:32<05:37,  1.67s/it]"
     ]
    },
    {
     "name": "stdout",
     "output_type": "stream",
     "text": [
      " 25/114 [=====>........................] - ETA: 2:28 - loss: 1.0010 - iou_score: 0.0661"
     ]
    },
    {
     "name": "stderr",
     "output_type": "stream",
     "text": [
      " 11%|██████████▌                                                                                 | 26/227 [01:34<05:35,  1.67s/it]"
     ]
    },
    {
     "name": "stdout",
     "output_type": "stream",
     "text": [
      " 26/114 [=====>........................] - ETA: 2:26 - loss: 1.0009 - iou_score: 0.0659"
     ]
    },
    {
     "name": "stderr",
     "output_type": "stream",
     "text": [
      " 12%|██████████▉                                                                                 | 27/227 [01:35<05:33,  1.67s/it]"
     ]
    },
    {
     "name": "stdout",
     "output_type": "stream",
     "text": [
      " 27/114 [======>.......................] - ETA: 2:24 - loss: 1.0004 - iou_score: 0.0675"
     ]
    },
    {
     "name": "stderr",
     "output_type": "stream",
     "text": [
      " 12%|███████████▎                                                                                | 28/227 [01:37<05:32,  1.67s/it]"
     ]
    },
    {
     "name": "stdout",
     "output_type": "stream",
     "text": [
      " 28/114 [======>.......................] - ETA: 2:23 - loss: 1.0001 - iou_score: 0.0687"
     ]
    },
    {
     "name": "stderr",
     "output_type": "stream",
     "text": [
      " 13%|███████████▊                                                                                | 29/227 [01:39<05:30,  1.67s/it]"
     ]
    },
    {
     "name": "stdout",
     "output_type": "stream",
     "text": [
      " 29/114 [======>.......................] - ETA: 2:21 - loss: 0.9993 - iou_score: 0.0724"
     ]
    },
    {
     "name": "stderr",
     "output_type": "stream",
     "text": [
      " 13%|████████████▏                                                                               | 30/227 [01:40<05:29,  1.67s/it]"
     ]
    },
    {
     "name": "stdout",
     "output_type": "stream",
     "text": [
      " 30/114 [======>.......................] - ETA: 2:19 - loss: 0.9991 - iou_score: 0.0727"
     ]
    },
    {
     "name": "stderr",
     "output_type": "stream",
     "text": [
      " 14%|████████████▌                                                                               | 31/227 [01:42<05:26,  1.67s/it]"
     ]
    },
    {
     "name": "stdout",
     "output_type": "stream",
     "text": [
      " 31/114 [=======>......................] - ETA: 2:18 - loss: 0.9993 - iou_score: 0.0713"
     ]
    },
    {
     "name": "stderr",
     "output_type": "stream",
     "text": [
      " 14%|████████████▉                                                                               | 32/227 [01:44<05:25,  1.67s/it]"
     ]
    },
    {
     "name": "stdout",
     "output_type": "stream",
     "text": [
      " 32/114 [=======>......................] - ETA: 2:16 - loss: 0.9987 - iou_score: 0.0729"
     ]
    },
    {
     "name": "stderr",
     "output_type": "stream",
     "text": [
      " 15%|█████████████▎                                                                              | 33/227 [01:45<05:23,  1.67s/it]"
     ]
    },
    {
     "name": "stdout",
     "output_type": "stream",
     "text": [
      " 33/114 [=======>......................] - ETA: 2:14 - loss: 0.9980 - iou_score: 0.0761"
     ]
    },
    {
     "name": "stderr",
     "output_type": "stream",
     "text": [
      " 15%|█████████████▊                                                                              | 34/227 [01:47<05:21,  1.67s/it]"
     ]
    },
    {
     "name": "stdout",
     "output_type": "stream",
     "text": [
      " 34/114 [=======>......................] - ETA: 2:13 - loss: 0.9983 - iou_score: 0.0741"
     ]
    },
    {
     "name": "stderr",
     "output_type": "stream",
     "text": [
      " 15%|██████████████▏                                                                             | 35/227 [01:49<05:20,  1.67s/it]"
     ]
    },
    {
     "name": "stdout",
     "output_type": "stream",
     "text": [
      " 35/114 [========>.....................] - ETA: 2:11 - loss: 0.9978 - iou_score: 0.0757"
     ]
    },
    {
     "name": "stderr",
     "output_type": "stream",
     "text": [
      " 16%|██████████████▌                                                                             | 36/227 [01:51<05:18,  1.67s/it]"
     ]
    },
    {
     "name": "stdout",
     "output_type": "stream",
     "text": [
      " 36/114 [========>.....................] - ETA: 2:09 - loss: 0.9979 - iou_score: 0.0757"
     ]
    },
    {
     "name": "stderr",
     "output_type": "stream",
     "text": [
      " 16%|██████████████▉                                                                             | 37/227 [01:52<05:16,  1.67s/it]"
     ]
    },
    {
     "name": "stdout",
     "output_type": "stream",
     "text": [
      " 37/114 [========>.....................] - ETA: 2:08 - loss: 0.9982 - iou_score: 0.0746"
     ]
    },
    {
     "name": "stderr",
     "output_type": "stream",
     "text": [
      " 17%|███████████████▍                                                                            | 38/227 [01:54<05:15,  1.67s/it]"
     ]
    },
    {
     "name": "stdout",
     "output_type": "stream",
     "text": [
      " 38/114 [=========>....................] - ETA: 2:06 - loss: 0.9975 - iou_score: 0.0758"
     ]
    },
    {
     "name": "stderr",
     "output_type": "stream",
     "text": [
      " 17%|███████████████▊                                                                            | 39/227 [01:56<05:13,  1.67s/it]"
     ]
    },
    {
     "name": "stdout",
     "output_type": "stream",
     "text": [
      " 39/114 [=========>....................] - ETA: 2:04 - loss: 0.9979 - iou_score: 0.0742"
     ]
    },
    {
     "name": "stderr",
     "output_type": "stream",
     "text": [
      " 18%|████████████████▏                                                                           | 40/227 [01:57<05:12,  1.67s/it]"
     ]
    },
    {
     "name": "stdout",
     "output_type": "stream",
     "text": [
      " 40/114 [=========>....................] - ETA: 2:03 - loss: 0.9982 - iou_score: 0.0726"
     ]
    },
    {
     "name": "stderr",
     "output_type": "stream",
     "text": [
      " 18%|████████████████▌                                                                           | 41/227 [01:59<05:10,  1.67s/it]"
     ]
    },
    {
     "name": "stdout",
     "output_type": "stream",
     "text": [
      " 41/114 [=========>....................] - ETA: 2:01 - loss: 0.9984 - iou_score: 0.0711"
     ]
    },
    {
     "name": "stderr",
     "output_type": "stream",
     "text": [
      " 19%|█████████████████                                                                           | 42/227 [02:01<05:08,  1.67s/it]"
     ]
    },
    {
     "name": "stdout",
     "output_type": "stream",
     "text": [
      " 42/114 [==========>...................] - ETA: 1:59 - loss: 0.9980 - iou_score: 0.0732"
     ]
    },
    {
     "name": "stderr",
     "output_type": "stream",
     "text": [
      " 19%|█████████████████▍                                                                          | 43/227 [02:02<05:07,  1.67s/it]"
     ]
    },
    {
     "name": "stdout",
     "output_type": "stream",
     "text": [
      " 43/114 [==========>...................] - ETA: 1:58 - loss: 0.9981 - iou_score: 0.0725"
     ]
    },
    {
     "name": "stderr",
     "output_type": "stream",
     "text": [
      " 19%|█████████████████▊                                                                          | 44/227 [02:04<05:05,  1.67s/it]"
     ]
    },
    {
     "name": "stdout",
     "output_type": "stream",
     "text": [
      " 44/114 [==========>...................] - ETA: 1:56 - loss: 0.9979 - iou_score: 0.0739"
     ]
    },
    {
     "name": "stderr",
     "output_type": "stream",
     "text": [
      " 20%|██████████████████▏                                                                         | 45/227 [02:06<05:04,  1.67s/it]"
     ]
    },
    {
     "name": "stdout",
     "output_type": "stream",
     "text": [
      " 45/114 [==========>...................] - ETA: 1:54 - loss: 0.9978 - iou_score: 0.0740"
     ]
    },
    {
     "name": "stderr",
     "output_type": "stream",
     "text": [
      " 20%|██████████████████▋                                                                         | 46/227 [02:07<05:02,  1.67s/it]"
     ]
    },
    {
     "name": "stdout",
     "output_type": "stream",
     "text": [
      " 46/114 [===========>..................] - ETA: 1:53 - loss: 0.9975 - iou_score: 0.0757"
     ]
    },
    {
     "name": "stderr",
     "output_type": "stream",
     "text": [
      " 21%|███████████████████                                                                         | 47/227 [02:09<05:01,  1.67s/it]"
     ]
    },
    {
     "name": "stdout",
     "output_type": "stream",
     "text": [
      " 47/114 [===========>..................] - ETA: 1:51 - loss: 0.9977 - iou_score: 0.0751"
     ]
    },
    {
     "name": "stderr",
     "output_type": "stream",
     "text": [
      " 21%|███████████████████▍                                                                        | 48/227 [02:11<04:59,  1.67s/it]"
     ]
    },
    {
     "name": "stdout",
     "output_type": "stream",
     "text": [
      " 48/114 [===========>..................] - ETA: 1:50 - loss: 0.9973 - iou_score: 0.0756"
     ]
    },
    {
     "name": "stderr",
     "output_type": "stream",
     "text": [
      " 22%|███████████████████▊                                                                        | 49/227 [02:12<04:57,  1.67s/it]"
     ]
    },
    {
     "name": "stdout",
     "output_type": "stream",
     "text": [
      " 49/114 [===========>..................] - ETA: 1:48 - loss: 0.9971 - iou_score: 0.0755"
     ]
    },
    {
     "name": "stderr",
     "output_type": "stream",
     "text": [
      " 22%|████████████████████▎                                                                       | 50/227 [02:14<04:55,  1.67s/it]"
     ]
    },
    {
     "name": "stdout",
     "output_type": "stream",
     "text": [
      " 50/114 [============>.................] - ETA: 1:46 - loss: 0.9968 - iou_score: 0.0766"
     ]
    },
    {
     "name": "stderr",
     "output_type": "stream",
     "text": [
      " 22%|████████████████████▋                                                                       | 51/227 [02:16<04:54,  1.67s/it]"
     ]
    },
    {
     "name": "stdout",
     "output_type": "stream",
     "text": [
      " 51/114 [============>.................] - ETA: 1:45 - loss: 0.9963 - iou_score: 0.0783"
     ]
    },
    {
     "name": "stderr",
     "output_type": "stream",
     "text": [
      " 23%|█████████████████████                                                                       | 52/227 [02:17<04:52,  1.67s/it]"
     ]
    },
    {
     "name": "stdout",
     "output_type": "stream",
     "text": [
      " 52/114 [============>.................] - ETA: 1:43 - loss: 0.9961 - iou_score: 0.0794"
     ]
    },
    {
     "name": "stderr",
     "output_type": "stream",
     "text": [
      " 23%|█████████████████████▍                                                                      | 53/227 [02:19<04:51,  1.67s/it]"
     ]
    },
    {
     "name": "stdout",
     "output_type": "stream",
     "text": [
      " 53/114 [============>.................] - ETA: 1:41 - loss: 0.9964 - iou_score: 0.0786"
     ]
    },
    {
     "name": "stderr",
     "output_type": "stream",
     "text": [
      " 24%|█████████████████████▉                                                                      | 54/227 [02:21<04:49,  1.67s/it]"
     ]
    },
    {
     "name": "stdout",
     "output_type": "stream",
     "text": [
      " 54/114 [=============>................] - ETA: 1:40 - loss: 0.9963 - iou_score: 0.0788"
     ]
    },
    {
     "name": "stderr",
     "output_type": "stream",
     "text": [
      " 24%|██████████████████████▎                                                                     | 55/227 [02:22<04:47,  1.67s/it]"
     ]
    },
    {
     "name": "stdout",
     "output_type": "stream",
     "text": [
      " 55/114 [=============>................] - ETA: 1:38 - loss: 0.9966 - iou_score: 0.0775"
     ]
    },
    {
     "name": "stderr",
     "output_type": "stream",
     "text": [
      " 25%|██████████████████████▋                                                                     | 56/227 [02:24<04:45,  1.67s/it]"
     ]
    },
    {
     "name": "stdout",
     "output_type": "stream",
     "text": [
      " 56/114 [=============>................] - ETA: 1:36 - loss: 0.9965 - iou_score: 0.0777"
     ]
    },
    {
     "name": "stderr",
     "output_type": "stream",
     "text": [
      " 25%|███████████████████████                                                                     | 57/227 [02:26<04:44,  1.67s/it]"
     ]
    },
    {
     "name": "stdout",
     "output_type": "stream",
     "text": [
      " 57/114 [==============>...............] - ETA: 1:35 - loss: 0.9965 - iou_score: 0.0778"
     ]
    },
    {
     "name": "stderr",
     "output_type": "stream",
     "text": [
      " 26%|███████████████████████▌                                                                    | 58/227 [02:27<04:42,  1.67s/it]"
     ]
    },
    {
     "name": "stdout",
     "output_type": "stream",
     "text": [
      " 58/114 [==============>...............] - ETA: 1:33 - loss: 0.9964 - iou_score: 0.0778"
     ]
    },
    {
     "name": "stderr",
     "output_type": "stream",
     "text": [
      " 26%|███████████████████████▉                                                                    | 59/227 [02:29<04:41,  1.67s/it]"
     ]
    },
    {
     "name": "stdout",
     "output_type": "stream",
     "text": [
      " 59/114 [==============>...............] - ETA: 1:31 - loss: 0.9963 - iou_score: 0.0789"
     ]
    },
    {
     "name": "stderr",
     "output_type": "stream",
     "text": [
      " 26%|████████████████████████▎                                                                   | 60/227 [02:31<04:39,  1.67s/it]"
     ]
    },
    {
     "name": "stdout",
     "output_type": "stream",
     "text": [
      " 60/114 [==============>...............] - ETA: 1:30 - loss: 0.9962 - iou_score: 0.0797"
     ]
    },
    {
     "name": "stderr",
     "output_type": "stream",
     "text": [
      " 27%|████████████████████████▋                                                                   | 61/227 [02:32<04:37,  1.67s/it]"
     ]
    },
    {
     "name": "stdout",
     "output_type": "stream",
     "text": [
      " 61/114 [===============>..............] - ETA: 1:28 - loss: 0.9963 - iou_score: 0.0799"
     ]
    },
    {
     "name": "stderr",
     "output_type": "stream",
     "text": [
      " 27%|█████████████████████████▏                                                                  | 62/227 [02:34<04:35,  1.67s/it]"
     ]
    },
    {
     "name": "stdout",
     "output_type": "stream",
     "text": [
      " 62/114 [===============>..............] - ETA: 1:26 - loss: 0.9965 - iou_score: 0.0788"
     ]
    },
    {
     "name": "stderr",
     "output_type": "stream",
     "text": [
      " 28%|█████████████████████████▌                                                                  | 63/227 [02:36<04:34,  1.67s/it]"
     ]
    },
    {
     "name": "stdout",
     "output_type": "stream",
     "text": [
      " 63/114 [===============>..............] - ETA: 1:25 - loss: 0.9962 - iou_score: 0.0800"
     ]
    },
    {
     "name": "stderr",
     "output_type": "stream",
     "text": [
      " 28%|█████████████████████████▉                                                                  | 64/227 [02:37<04:32,  1.67s/it]"
     ]
    },
    {
     "name": "stdout",
     "output_type": "stream",
     "text": [
      " 64/114 [===============>..............] - ETA: 1:23 - loss: 0.9961 - iou_score: 0.0800"
     ]
    },
    {
     "name": "stderr",
     "output_type": "stream",
     "text": [
      " 29%|██████████████████████████▎                                                                 | 65/227 [02:39<04:31,  1.67s/it]"
     ]
    },
    {
     "name": "stdout",
     "output_type": "stream",
     "text": [
      " 65/114 [================>.............] - ETA: 1:21 - loss: 0.9961 - iou_score: 0.0801"
     ]
    },
    {
     "name": "stderr",
     "output_type": "stream",
     "text": [
      " 29%|██████████████████████████▋                                                                 | 66/227 [02:41<04:29,  1.67s/it]"
     ]
    },
    {
     "name": "stdout",
     "output_type": "stream",
     "text": [
      " 66/114 [================>.............] - ETA: 1:20 - loss: 0.9961 - iou_score: 0.0805"
     ]
    },
    {
     "name": "stderr",
     "output_type": "stream",
     "text": [
      " 30%|███████████████████████████▏                                                                | 67/227 [02:42<04:27,  1.67s/it]"
     ]
    },
    {
     "name": "stdout",
     "output_type": "stream",
     "text": [
      " 67/114 [================>.............] - ETA: 1:18 - loss: 0.9962 - iou_score: 0.0799"
     ]
    },
    {
     "name": "stderr",
     "output_type": "stream",
     "text": [
      " 30%|███████████████████████████▌                                                                | 68/227 [02:44<04:25,  1.67s/it]"
     ]
    },
    {
     "name": "stdout",
     "output_type": "stream",
     "text": [
      " 68/114 [================>.............] - ETA: 1:16 - loss: 0.9960 - iou_score: 0.0797"
     ]
    },
    {
     "name": "stderr",
     "output_type": "stream",
     "text": [
      " 30%|███████████████████████████▉                                                                | 69/227 [02:46<04:24,  1.67s/it]"
     ]
    },
    {
     "name": "stdout",
     "output_type": "stream",
     "text": [
      " 69/114 [=================>............] - ETA: 1:15 - loss: 0.9962 - iou_score: 0.0787"
     ]
    },
    {
     "name": "stderr",
     "output_type": "stream",
     "text": [
      " 31%|████████████████████████████▎                                                               | 70/227 [02:47<04:22,  1.67s/it]"
     ]
    },
    {
     "name": "stdout",
     "output_type": "stream",
     "text": [
      " 70/114 [=================>............] - ETA: 1:13 - loss: 0.9960 - iou_score: 0.0785"
     ]
    },
    {
     "name": "stderr",
     "output_type": "stream",
     "text": [
      " 31%|████████████████████████████▊                                                               | 71/227 [02:49<04:21,  1.67s/it]"
     ]
    },
    {
     "name": "stdout",
     "output_type": "stream",
     "text": [
      " 71/114 [=================>............] - ETA: 1:11 - loss: 0.9959 - iou_score: 0.0786"
     ]
    },
    {
     "name": "stderr",
     "output_type": "stream",
     "text": [
      " 32%|█████████████████████████████▏                                                              | 72/227 [02:51<04:19,  1.67s/it]"
     ]
    },
    {
     "name": "stdout",
     "output_type": "stream",
     "text": [
      " 72/114 [=================>............] - ETA: 1:10 - loss: 0.9959 - iou_score: 0.0781"
     ]
    },
    {
     "name": "stderr",
     "output_type": "stream",
     "text": [
      " 32%|█████████████████████████████▌                                                              | 73/227 [02:52<04:17,  1.67s/it]"
     ]
    },
    {
     "name": "stdout",
     "output_type": "stream",
     "text": [
      " 73/114 [==================>...........] - ETA: 1:08 - loss: 0.9957 - iou_score: 0.0777"
     ]
    },
    {
     "name": "stderr",
     "output_type": "stream",
     "text": [
      " 33%|█████████████████████████████▉                                                              | 74/227 [02:54<04:15,  1.67s/it]"
     ]
    },
    {
     "name": "stdout",
     "output_type": "stream",
     "text": [
      " 74/114 [==================>...........] - ETA: 1:06 - loss: 0.9959 - iou_score: 0.0770"
     ]
    },
    {
     "name": "stderr",
     "output_type": "stream",
     "text": [
      " 33%|██████████████████████████████▍                                                             | 75/227 [02:56<04:14,  1.67s/it]"
     ]
    },
    {
     "name": "stdout",
     "output_type": "stream",
     "text": [
      " 75/114 [==================>...........] - ETA: 1:05 - loss: 0.9959 - iou_score: 0.0766"
     ]
    },
    {
     "name": "stderr",
     "output_type": "stream",
     "text": [
      " 33%|██████████████████████████████▊                                                             | 76/227 [02:57<04:12,  1.67s/it]"
     ]
    },
    {
     "name": "stdout",
     "output_type": "stream",
     "text": [
      " 76/114 [===================>..........] - ETA: 1:03 - loss: 0.9958 - iou_score: 0.0767"
     ]
    },
    {
     "name": "stderr",
     "output_type": "stream",
     "text": [
      " 34%|███████████████████████████████▏                                                            | 77/227 [02:59<04:11,  1.68s/it]"
     ]
    },
    {
     "name": "stdout",
     "output_type": "stream",
     "text": [
      " 77/114 [===================>..........] - ETA: 1:01 - loss: 0.9959 - iou_score: 0.0760"
     ]
    },
    {
     "name": "stderr",
     "output_type": "stream",
     "text": [
      " 34%|███████████████████████████████▌                                                            | 78/227 [03:01<04:10,  1.68s/it]"
     ]
    },
    {
     "name": "stdout",
     "output_type": "stream",
     "text": [
      " 78/114 [===================>..........] - ETA: 1:00 - loss: 0.9959 - iou_score: 0.0761"
     ]
    },
    {
     "name": "stderr",
     "output_type": "stream",
     "text": [
      " 35%|████████████████████████████████                                                            | 79/227 [03:02<04:08,  1.68s/it]"
     ]
    },
    {
     "name": "stdout",
     "output_type": "stream",
     "text": [
      " 79/114 [===================>..........] - ETA: 58s - loss: 0.9958 - iou_score: 0.0773 "
     ]
    },
    {
     "name": "stderr",
     "output_type": "stream",
     "text": [
      " 35%|████████████████████████████████▍                                                           | 80/227 [03:04<04:05,  1.67s/it]"
     ]
    },
    {
     "name": "stdout",
     "output_type": "stream",
     "text": [
      " 80/114 [====================>.........] - ETA: 56s - loss: 0.9956 - iou_score: 0.0775"
     ]
    },
    {
     "name": "stderr",
     "output_type": "stream",
     "text": [
      " 36%|████████████████████████████████▊                                                           | 81/227 [03:06<04:04,  1.67s/it]"
     ]
    },
    {
     "name": "stdout",
     "output_type": "stream",
     "text": [
      " 81/114 [====================>.........] - ETA: 55s - loss: 0.9957 - iou_score: 0.0769"
     ]
    },
    {
     "name": "stderr",
     "output_type": "stream",
     "text": [
      " 36%|█████████████████████████████████▏                                                          | 82/227 [03:07<04:02,  1.68s/it]"
     ]
    },
    {
     "name": "stdout",
     "output_type": "stream",
     "text": [
      " 82/114 [====================>.........] - ETA: 53s - loss: 0.9958 - iou_score: 0.0765"
     ]
    },
    {
     "name": "stderr",
     "output_type": "stream",
     "text": [
      " 37%|█████████████████████████████████▋                                                          | 83/227 [03:09<04:01,  1.68s/it]"
     ]
    },
    {
     "name": "stdout",
     "output_type": "stream",
     "text": [
      " 83/114 [====================>.........] - ETA: 51s - loss: 0.9957 - iou_score: 0.0773"
     ]
    },
    {
     "name": "stderr",
     "output_type": "stream",
     "text": [
      " 37%|██████████████████████████████████                                                          | 84/227 [03:11<03:59,  1.67s/it]"
     ]
    },
    {
     "name": "stdout",
     "output_type": "stream",
     "text": [
      " 84/114 [=====================>........] - ETA: 50s - loss: 0.9956 - iou_score: 0.0774"
     ]
    },
    {
     "name": "stderr",
     "output_type": "stream",
     "text": [
      " 37%|██████████████████████████████████▍                                                         | 85/227 [03:12<03:57,  1.67s/it]"
     ]
    },
    {
     "name": "stdout",
     "output_type": "stream",
     "text": [
      " 85/114 [=====================>........] - ETA: 48s - loss: 0.9953 - iou_score: 0.0788"
     ]
    },
    {
     "name": "stderr",
     "output_type": "stream",
     "text": [
      " 38%|██████████████████████████████████▊                                                         | 86/227 [03:14<03:55,  1.67s/it]"
     ]
    },
    {
     "name": "stdout",
     "output_type": "stream",
     "text": [
      " 86/114 [=====================>........] - ETA: 46s - loss: 0.9952 - iou_score: 0.0787"
     ]
    },
    {
     "name": "stderr",
     "output_type": "stream",
     "text": [
      " 38%|███████████████████████████████████▎                                                        | 87/227 [03:16<03:54,  1.67s/it]"
     ]
    },
    {
     "name": "stdout",
     "output_type": "stream",
     "text": [
      " 87/114 [=====================>........] - ETA: 45s - loss: 0.9949 - iou_score: 0.0789"
     ]
    },
    {
     "name": "stderr",
     "output_type": "stream",
     "text": [
      " 39%|███████████████████████████████████▋                                                        | 88/227 [03:17<03:52,  1.67s/it]"
     ]
    },
    {
     "name": "stdout",
     "output_type": "stream",
     "text": [
      " 88/114 [======================>.......] - ETA: 43s - loss: 0.9950 - iou_score: 0.0786"
     ]
    },
    {
     "name": "stderr",
     "output_type": "stream",
     "text": [
      " 39%|████████████████████████████████████                                                        | 89/227 [03:19<03:50,  1.67s/it]"
     ]
    },
    {
     "name": "stdout",
     "output_type": "stream",
     "text": [
      " 89/114 [======================>.......] - ETA: 41s - loss: 0.9949 - iou_score: 0.0795"
     ]
    },
    {
     "name": "stderr",
     "output_type": "stream",
     "text": [
      " 40%|████████████████████████████████████▍                                                       | 90/227 [03:21<03:49,  1.67s/it]"
     ]
    },
    {
     "name": "stdout",
     "output_type": "stream",
     "text": [
      " 90/114 [======================>.......] - ETA: 40s - loss: 0.9950 - iou_score: 0.0788"
     ]
    },
    {
     "name": "stderr",
     "output_type": "stream",
     "text": [
      " 40%|████████████████████████████████████▉                                                       | 91/227 [03:22<03:47,  1.67s/it]"
     ]
    },
    {
     "name": "stdout",
     "output_type": "stream",
     "text": [
      " 91/114 [======================>.......] - ETA: 38s - loss: 0.9950 - iou_score: 0.0786"
     ]
    },
    {
     "name": "stderr",
     "output_type": "stream",
     "text": [
      " 41%|█████████████████████████████████████▎                                                      | 92/227 [03:24<03:45,  1.67s/it]"
     ]
    },
    {
     "name": "stdout",
     "output_type": "stream",
     "text": [
      " 92/114 [=======================>......] - ETA: 36s - loss: 0.9946 - iou_score: 0.0797"
     ]
    },
    {
     "name": "stderr",
     "output_type": "stream",
     "text": [
      " 41%|█████████████████████████████████████▋                                                      | 93/227 [03:26<03:44,  1.67s/it]"
     ]
    },
    {
     "name": "stdout",
     "output_type": "stream",
     "text": [
      " 93/114 [=======================>......] - ETA: 35s - loss: 0.9944 - iou_score: 0.0808"
     ]
    },
    {
     "name": "stderr",
     "output_type": "stream",
     "text": [
      " 41%|██████████████████████████████████████                                                      | 94/227 [03:28<03:42,  1.67s/it]2022-04-01 15:34:00.243953: W tensorflow/core/common_runtime/bfc_allocator.cc:462] Allocator (GPU_0_bfc) ran out of memory trying to allocate 1.00GiB (rounded to 1073741824)requested by op gradient_tape/u-net/conv3d_35/Conv3D/Conv3DBackpropInputV2\n",
      "If the cause is memory fragmentation maybe the environment variable 'TF_GPU_ALLOCATOR=cuda_malloc_async' will improve the situation. \n",
      "Current allocation summary follows.\n",
      "Current allocation summary follows.\n",
      "2022-04-01 15:34:00.244072: I tensorflow/core/common_runtime/bfc_allocator.cc:1010] BFCAllocator dump for GPU_0_bfc\n",
      "2022-04-01 15:34:00.244113: I tensorflow/core/common_runtime/bfc_allocator.cc:1017] Bin (256): \tTotal Chunks: 239, Chunks in use: 236. 59.8KiB allocated for chunks. 59.0KiB in use in bin. 28.6KiB client-requested in use in bin.\n",
      "2022-04-01 15:34:00.244141: I tensorflow/core/common_runtime/bfc_allocator.cc:1017] Bin (512): \tTotal Chunks: 80, Chunks in use: 80. 40.8KiB allocated for chunks. 40.8KiB in use in bin. 40.0KiB client-requested in use in bin.\n",
      "2022-04-01 15:34:00.244163: I tensorflow/core/common_runtime/bfc_allocator.cc:1017] Bin (1024): \tTotal Chunks: 77, Chunks in use: 77. 79.2KiB allocated for chunks. 79.2KiB in use in bin. 77.0KiB client-requested in use in bin.\n",
      "2022-04-01 15:34:00.244185: I tensorflow/core/common_runtime/bfc_allocator.cc:1017] Bin (2048): \tTotal Chunks: 36, Chunks in use: 36. 72.0KiB allocated for chunks. 72.0KiB in use in bin. 72.0KiB client-requested in use in bin.\n",
      "2022-04-01 15:34:00.244204: I tensorflow/core/common_runtime/bfc_allocator.cc:1017] Bin (4096): \tTotal Chunks: 0, Chunks in use: 0. 0B allocated for chunks. 0B in use in bin. 0B client-requested in use in bin.\n",
      "2022-04-01 15:34:00.244227: I tensorflow/core/common_runtime/bfc_allocator.cc:1017] Bin (8192): \tTotal Chunks: 4, Chunks in use: 4. 41.0KiB allocated for chunks. 41.0KiB in use in bin. 40.5KiB client-requested in use in bin.\n",
      "2022-04-01 15:34:00.244245: I tensorflow/core/common_runtime/bfc_allocator.cc:1017] Bin (16384): \tTotal Chunks: 0, Chunks in use: 0. 0B allocated for chunks. 0B in use in bin. 0B client-requested in use in bin.\n",
      "2022-04-01 15:34:00.244263: I tensorflow/core/common_runtime/bfc_allocator.cc:1017] Bin (32768): \tTotal Chunks: 0, Chunks in use: 0. 0B allocated for chunks. 0B in use in bin. 0B client-requested in use in bin.\n",
      "2022-04-01 15:34:00.244287: I tensorflow/core/common_runtime/bfc_allocator.cc:1017] Bin (65536): \tTotal Chunks: 10, Chunks in use: 10. 959.5KiB allocated for chunks. 959.5KiB in use in bin. 904.0KiB client-requested in use in bin.\n",
      "2022-04-01 15:34:00.244310: I tensorflow/core/common_runtime/bfc_allocator.cc:1017] Bin (131072): \tTotal Chunks: 11, Chunks in use: 11. 2.23MiB allocated for chunks. 2.23MiB in use in bin. 2.11MiB client-requested in use in bin.\n",
      "2022-04-01 15:34:00.244331: I tensorflow/core/common_runtime/bfc_allocator.cc:1017] Bin (262144): \tTotal Chunks: 12, Chunks in use: 12. 4.60MiB allocated for chunks. 4.60MiB in use in bin. 4.38MiB client-requested in use in bin.\n",
      "2022-04-01 15:34:00.244352: I tensorflow/core/common_runtime/bfc_allocator.cc:1017] Bin (524288): \tTotal Chunks: 8, Chunks in use: 8. 6.75MiB allocated for chunks. 6.75MiB in use in bin. 6.75MiB client-requested in use in bin.\n",
      "2022-04-01 15:34:00.244376: I tensorflow/core/common_runtime/bfc_allocator.cc:1017] Bin (1048576): \tTotal Chunks: 14, Chunks in use: 14. 22.13MiB allocated for chunks. 22.13MiB in use in bin. 19.50MiB client-requested in use in bin.\n",
      "2022-04-01 15:34:00.244400: I tensorflow/core/common_runtime/bfc_allocator.cc:1017] Bin (2097152): \tTotal Chunks: 12, Chunks in use: 12. 36.00MiB allocated for chunks. 36.00MiB in use in bin. 35.00MiB client-requested in use in bin.\n",
      "2022-04-01 15:34:00.244424: I tensorflow/core/common_runtime/bfc_allocator.cc:1017] Bin (4194304): \tTotal Chunks: 14, Chunks in use: 14. 82.88MiB allocated for chunks. 82.88MiB in use in bin. 78.00MiB client-requested in use in bin.\n",
      "2022-04-01 15:34:00.244448: I tensorflow/core/common_runtime/bfc_allocator.cc:1017] Bin (8388608): \tTotal Chunks: 17, Chunks in use: 17. 184.00MiB allocated for chunks. 184.00MiB in use in bin. 180.00MiB client-requested in use in bin.\n",
      "2022-04-01 15:34:00.244472: I tensorflow/core/common_runtime/bfc_allocator.cc:1017] Bin (16777216): \tTotal Chunks: 6, Chunks in use: 6. 133.00MiB allocated for chunks. 133.00MiB in use in bin. 129.00MiB client-requested in use in bin.\n",
      "2022-04-01 15:34:00.244495: I tensorflow/core/common_runtime/bfc_allocator.cc:1017] Bin (33554432): \tTotal Chunks: 12, Chunks in use: 11. 465.29MiB allocated for chunks. 401.50MiB in use in bin. 363.00MiB client-requested in use in bin.\n",
      "2022-04-01 15:34:00.244518: I tensorflow/core/common_runtime/bfc_allocator.cc:1017] Bin (67108864): \tTotal Chunks: 3, Chunks in use: 3. 192.00MiB allocated for chunks. 192.00MiB in use in bin. 192.00MiB client-requested in use in bin.\n",
      "2022-04-01 15:34:00.244556: I tensorflow/core/common_runtime/bfc_allocator.cc:1017] Bin (134217728): \tTotal Chunks: 9, Chunks in use: 9. 1.12GiB allocated for chunks. 1.12GiB in use in bin. 1.12GiB client-requested in use in bin.\n",
      "2022-04-01 15:34:00.244579: I tensorflow/core/common_runtime/bfc_allocator.cc:1017] Bin (268435456): \tTotal Chunks: 13, Chunks in use: 9. 7.94GiB allocated for chunks. 5.42GiB in use in bin. 5.25GiB client-requested in use in bin.\n",
      "2022-04-01 15:34:00.244600: I tensorflow/core/common_runtime/bfc_allocator.cc:1033] Bin for 1.00GiB was 256.00MiB, Chunk State: \n",
      "2022-04-01 15:34:00.244643: I tensorflow/core/common_runtime/bfc_allocator.cc:1039]   Size: 512.00MiB | Requested Size: 512.00MiB | in_use: 0 | bin_num: 20, prev:   Size: 512B | Requested Size: 512B | in_use: 1 | bin_num: -1, next:   Size: 64.00MiB | Requested Size: 64.00MiB | in_use: 1 | bin_num: -1\n",
      "2022-04-01 15:34:00.244679: I tensorflow/core/common_runtime/bfc_allocator.cc:1039]   Size: 512.06MiB | Requested Size: 128B | in_use: 0 | bin_num: 20, prev:   Size: 512.00MiB | Requested Size: 512.00MiB | in_use: 1 | bin_num: -1, next:   Size: 1.00GiB | Requested Size: 1.00GiB | in_use: 1 | bin_num: -1\n",
      "2022-04-01 15:34:00.244710: I tensorflow/core/common_runtime/bfc_allocator.cc:1039]   Size: 544.00MiB | Requested Size: 512.00MiB | in_use: 0 | bin_num: 20, prev:   Size: 1.00GiB | Requested Size: 1.00GiB | in_use: 1 | bin_num: -1, next:   Size: 256B | Requested Size: 4B | in_use: 1 | bin_num: -1\n",
      "2022-04-01 15:34:00.244736: I tensorflow/core/common_runtime/bfc_allocator.cc:1039]   Size: 1011.03MiB | Requested Size: 108.0KiB | in_use: 0 | bin_num: 20, prev:   Size: 1.00GiB | Requested Size: 1.00GiB | in_use: 1 | bin_num: -1\n",
      "2022-04-01 15:34:00.244752: I tensorflow/core/common_runtime/bfc_allocator.cc:1046] Next region of size 10923474944\n",
      "2022-04-01 15:34:00.244772: I tensorflow/core/common_runtime/bfc_allocator.cc:1066] InUse at 7fbac4000000 of size 1280 next 1\n",
      "2022-04-01 15:34:00.244789: I tensorflow/core/common_runtime/bfc_allocator.cc:1066] InUse at 7fbac4000500 of size 256 next 2\n",
      "2022-04-01 15:34:00.244805: I tensorflow/core/common_runtime/bfc_allocator.cc:1066] InUse at 7fbac4000600 of size 256 next 3\n",
      "2022-04-01 15:34:00.244820: I tensorflow/core/common_runtime/bfc_allocator.cc:1066] InUse at 7fbac4000700 of size 256 next 4\n",
      "2022-04-01 15:34:00.244834: I tensorflow/core/common_runtime/bfc_allocator.cc:1066] InUse at 7fbac4000800 of size 256 next 5\n",
      "2022-04-01 15:34:00.244848: I tensorflow/core/common_runtime/bfc_allocator.cc:1066] InUse at 7fbac4000900 of size 256 next 8\n",
      "2022-04-01 15:34:00.244862: I tensorflow/core/common_runtime/bfc_allocator.cc:1066] InUse at 7fbac4000a00 of size 256 next 9\n",
      "2022-04-01 15:34:00.244877: I tensorflow/core/common_runtime/bfc_allocator.cc:1066] InUse at 7fbac4000b00 of size 256 next 10\n",
      "2022-04-01 15:34:00.244891: I tensorflow/core/common_runtime/bfc_allocator.cc:1066] InUse at 7fbac4000c00 of size 256 next 11\n",
      "2022-04-01 15:34:00.244906: I tensorflow/core/common_runtime/bfc_allocator.cc:1066] InUse at 7fbac4000d00 of size 256 next 12\n",
      "2022-04-01 15:34:00.244920: I tensorflow/core/common_runtime/bfc_allocator.cc:1066] InUse at 7fbac4000e00 of size 256 next 13\n",
      "2022-04-01 15:34:00.244934: I tensorflow/core/common_runtime/bfc_allocator.cc:1066] InUse at 7fbac4000f00 of size 256 next 14\n",
      "2022-04-01 15:34:00.244949: I tensorflow/core/common_runtime/bfc_allocator.cc:1066] InUse at 7fbac4001000 of size 256 next 15\n",
      "2022-04-01 15:34:00.244963: I tensorflow/core/common_runtime/bfc_allocator.cc:1066] InUse at 7fbac4001100 of size 256 next 18\n",
      "2022-04-01 15:34:00.244977: I tensorflow/core/common_runtime/bfc_allocator.cc:1066] InUse at 7fbac4001200 of size 256 next 19\n",
      "2022-04-01 15:34:00.244991: I tensorflow/core/common_runtime/bfc_allocator.cc:1066] InUse at 7fbac4001300 of size 256 next 20\n",
      "2022-04-01 15:34:00.245004: I tensorflow/core/common_runtime/bfc_allocator.cc:1066] InUse at 7fbac4001400 of size 256 next 21\n",
      "2022-04-01 15:34:00.245022: I tensorflow/core/common_runtime/bfc_allocator.cc:1066] InUse at 7fbac4001500 of size 256 next 22\n",
      "2022-04-01 15:34:00.245038: I tensorflow/core/common_runtime/bfc_allocator.cc:1066] InUse at 7fbac4001600 of size 256 next 23\n",
      "2022-04-01 15:34:00.245051: I tensorflow/core/common_runtime/bfc_allocator.cc:1066] InUse at 7fbac4001700 of size 256 next 26\n",
      "2022-04-01 15:34:00.245064: I tensorflow/core/common_runtime/bfc_allocator.cc:1066] InUse at 7fbac4001800 of size 256 next 27\n",
      "2022-04-01 15:34:00.245077: I tensorflow/core/common_runtime/bfc_allocator.cc:1066] InUse at 7fbac4001900 of size 256 next 28\n",
      "2022-04-01 15:34:00.245092: I tensorflow/core/common_runtime/bfc_allocator.cc:1066] InUse at 7fbac4001a00 of size 256 next 29\n",
      "2022-04-01 15:34:00.245105: I tensorflow/core/common_runtime/bfc_allocator.cc:1066] InUse at 7fbac4001b00 of size 256 next 30\n",
      "2022-04-01 15:34:00.245119: I tensorflow/core/common_runtime/bfc_allocator.cc:1066] InUse at 7fbac4001c00 of size 256 next 31\n",
      "2022-04-01 15:34:00.245133: I tensorflow/core/common_runtime/bfc_allocator.cc:1066] InUse at 7fbac4001d00 of size 256 next 32\n",
      "2022-04-01 15:34:00.245147: I tensorflow/core/common_runtime/bfc_allocator.cc:1066] InUse at 7fbac4001e00 of size 256 next 33\n",
      "2022-04-01 15:34:00.245160: I tensorflow/core/common_runtime/bfc_allocator.cc:1066] InUse at 7fbac4001f00 of size 256 next 36\n",
      "2022-04-01 15:34:00.245174: I tensorflow/core/common_runtime/bfc_allocator.cc:1066] InUse at 7fbac4002000 of size 256 next 37\n",
      "2022-04-01 15:34:00.245187: I tensorflow/core/common_runtime/bfc_allocator.cc:1066] InUse at 7fbac4002100 of size 256 next 38\n",
      "2022-04-01 15:34:00.245201: I tensorflow/core/common_runtime/bfc_allocator.cc:1066] InUse at 7fbac4002200 of size 256 next 39\n",
      "2022-04-01 15:34:00.245214: I tensorflow/core/common_runtime/bfc_allocator.cc:1066] InUse at 7fbac4002300 of size 256 next 40\n",
      "2022-04-01 15:34:00.245228: I tensorflow/core/common_runtime/bfc_allocator.cc:1066] InUse at 7fbac4002400 of size 256 next 41\n",
      "2022-04-01 15:34:00.245244: I tensorflow/core/common_runtime/bfc_allocator.cc:1066] InUse at 7fbac4002500 of size 512 next 44\n",
      "2022-04-01 15:34:00.245258: I tensorflow/core/common_runtime/bfc_allocator.cc:1066] InUse at 7fbac4002700 of size 512 next 45\n",
      "2022-04-01 15:34:00.245271: I tensorflow/core/common_runtime/bfc_allocator.cc:1066] InUse at 7fbac4002900 of size 512 next 46\n",
      "2022-04-01 15:34:00.245285: I tensorflow/core/common_runtime/bfc_allocator.cc:1066] InUse at 7fbac4002b00 of size 512 next 47\n",
      "2022-04-01 15:34:00.245298: I tensorflow/core/common_runtime/bfc_allocator.cc:1066] InUse at 7fbac4002d00 of size 512 next 48\n",
      "2022-04-01 15:34:00.245313: I tensorflow/core/common_runtime/bfc_allocator.cc:1066] InUse at 7fbac4002f00 of size 256 next 49\n",
      "2022-04-01 15:34:00.245326: I tensorflow/core/common_runtime/bfc_allocator.cc:1066] InUse at 7fbac4003000 of size 256 next 50\n",
      "2022-04-01 15:34:00.245340: I tensorflow/core/common_runtime/bfc_allocator.cc:1066] InUse at 7fbac4003100 of size 512 next 51\n",
      "2022-04-01 15:34:00.245354: I tensorflow/core/common_runtime/bfc_allocator.cc:1066] InUse at 7fbac4003300 of size 512 next 54\n",
      "2022-04-01 15:34:00.245369: I tensorflow/core/common_runtime/bfc_allocator.cc:1066] InUse at 7fbac4003500 of size 512 next 55\n",
      "2022-04-01 15:34:00.245382: I tensorflow/core/common_runtime/bfc_allocator.cc:1066] InUse at 7fbac4003700 of size 512 next 56\n",
      "2022-04-01 15:34:00.245395: I tensorflow/core/common_runtime/bfc_allocator.cc:1066] InUse at 7fbac4003900 of size 512 next 57\n",
      "2022-04-01 15:34:00.245409: I tensorflow/core/common_runtime/bfc_allocator.cc:1066] InUse at 7fbac4003b00 of size 256 next 58\n",
      "2022-04-01 15:34:00.245423: I tensorflow/core/common_runtime/bfc_allocator.cc:1066] InUse at 7fbac4003c00 of size 256 next 59\n",
      "2022-04-01 15:34:00.245437: I tensorflow/core/common_runtime/bfc_allocator.cc:1066] InUse at 7fbac4003d00 of size 1024 next 62\n",
      "2022-04-01 15:34:00.245451: I tensorflow/core/common_runtime/bfc_allocator.cc:1066] InUse at 7fbac4004100 of size 1024 next 63\n",
      "2022-04-01 15:34:00.245468: I tensorflow/core/common_runtime/bfc_allocator.cc:1066] InUse at 7fbac4004500 of size 1024 next 64\n",
      "2022-04-01 15:34:00.245482: I tensorflow/core/common_runtime/bfc_allocator.cc:1066] InUse at 7fbac4004900 of size 1024 next 65\n",
      "2022-04-01 15:34:00.245496: I tensorflow/core/common_runtime/bfc_allocator.cc:1066] InUse at 7fbac4004d00 of size 1024 next 66\n",
      "2022-04-01 15:34:00.245509: I tensorflow/core/common_runtime/bfc_allocator.cc:1066] InUse at 7fbac4005100 of size 256 next 67\n",
      "2022-04-01 15:34:00.245522: I tensorflow/core/common_runtime/bfc_allocator.cc:1066] InUse at 7fbac4005200 of size 256 next 68\n",
      "2022-04-01 15:34:00.245539: I tensorflow/core/common_runtime/bfc_allocator.cc:1066] InUse at 7fbac4005300 of size 1792 next 6\n",
      "2022-04-01 15:34:00.245553: I tensorflow/core/common_runtime/bfc_allocator.cc:1066] InUse at 7fbac4005a00 of size 10496 next 7\n",
      "2022-04-01 15:34:00.245566: I tensorflow/core/common_runtime/bfc_allocator.cc:1066] InUse at 7fbac4008300 of size 1024 next 69\n",
      "2022-04-01 15:34:00.245580: I tensorflow/core/common_runtime/bfc_allocator.cc:1066] InUse at 7fbac4008700 of size 1024 next 72\n",
      "2022-04-01 15:34:00.245593: I tensorflow/core/common_runtime/bfc_allocator.cc:1066] InUse at 7fbac4008b00 of size 1024 next 73\n",
      "2022-04-01 15:34:00.245606: I tensorflow/core/common_runtime/bfc_allocator.cc:1066] InUse at 7fbac4008f00 of size 1024 next 74\n",
      "2022-04-01 15:34:00.245620: I tensorflow/core/common_runtime/bfc_allocator.cc:1066] InUse at 7fbac4009300 of size 256 next 75\n",
      "2022-04-01 15:34:00.245633: I tensorflow/core/common_runtime/bfc_allocator.cc:1066] InUse at 7fbac4009400 of size 256 next 76\n",
      "2022-04-01 15:34:00.245647: I tensorflow/core/common_runtime/bfc_allocator.cc:1066] InUse at 7fbac4009500 of size 2048 next 79\n",
      "2022-04-01 15:34:00.245662: I tensorflow/core/common_runtime/bfc_allocator.cc:1066] InUse at 7fbac4009d00 of size 2048 next 80\n",
      "2022-04-01 15:34:00.245675: I tensorflow/core/common_runtime/bfc_allocator.cc:1066] InUse at 7fbac400a500 of size 2048 next 81\n",
      "2022-04-01 15:34:00.245688: I tensorflow/core/common_runtime/bfc_allocator.cc:1066] InUse at 7fbac400ad00 of size 2048 next 82\n",
      "2022-04-01 15:34:00.245702: I tensorflow/core/common_runtime/bfc_allocator.cc:1066] InUse at 7fbac400b500 of size 2048 next 83\n",
      "2022-04-01 15:34:00.245716: I tensorflow/core/common_runtime/bfc_allocator.cc:1066] InUse at 7fbac400bd00 of size 256 next 84\n",
      "2022-04-01 15:34:00.245729: I tensorflow/core/common_runtime/bfc_allocator.cc:1066] InUse at 7fbac400be00 of size 256 next 85\n",
      "2022-04-01 15:34:00.245743: I tensorflow/core/common_runtime/bfc_allocator.cc:1066] InUse at 7fbac400bf00 of size 2048 next 86\n",
      "2022-04-01 15:34:00.245757: I tensorflow/core/common_runtime/bfc_allocator.cc:1066] InUse at 7fbac400c700 of size 2048 next 89\n",
      "2022-04-01 15:34:00.245771: I tensorflow/core/common_runtime/bfc_allocator.cc:1066] InUse at 7fbac400cf00 of size 2048 next 90\n",
      "2022-04-01 15:34:00.245784: I tensorflow/core/common_runtime/bfc_allocator.cc:1066] InUse at 7fbac400d700 of size 2048 next 91\n",
      "2022-04-01 15:34:00.245797: I tensorflow/core/common_runtime/bfc_allocator.cc:1066] InUse at 7fbac400df00 of size 2048 next 92\n",
      "2022-04-01 15:34:00.245811: I tensorflow/core/common_runtime/bfc_allocator.cc:1066] InUse at 7fbac400e700 of size 256 next 93\n",
      "2022-04-01 15:34:00.245825: I tensorflow/core/common_runtime/bfc_allocator.cc:1066] InUse at 7fbac400e800 of size 256 next 94\n",
      "2022-04-01 15:34:00.245838: I tensorflow/core/common_runtime/bfc_allocator.cc:1066] InUse at 7fbac400e900 of size 1024 next 95\n",
      "2022-04-01 15:34:00.245852: I tensorflow/core/common_runtime/bfc_allocator.cc:1066] InUse at 7fbac400ed00 of size 1024 next 99\n",
      "2022-04-01 15:34:00.245866: I tensorflow/core/common_runtime/bfc_allocator.cc:1066] InUse at 7fbac400f100 of size 1024 next 100\n",
      "2022-04-01 15:34:00.245880: I tensorflow/core/common_runtime/bfc_allocator.cc:1066] InUse at 7fbac400f500 of size 1024 next 101\n",
      "2022-04-01 15:34:00.245893: I tensorflow/core/common_runtime/bfc_allocator.cc:1066] InUse at 7fbac400f900 of size 1024 next 102\n",
      "2022-04-01 15:34:00.245909: I tensorflow/core/common_runtime/bfc_allocator.cc:1066] InUse at 7fbac400fd00 of size 1024 next 103\n",
      "2022-04-01 15:34:00.245923: I tensorflow/core/common_runtime/bfc_allocator.cc:1066] InUse at 7fbac4010100 of size 1024 next 104\n",
      "2022-04-01 15:34:00.245936: I tensorflow/core/common_runtime/bfc_allocator.cc:1066] InUse at 7fbac4010500 of size 1024 next 106\n",
      "2022-04-01 15:34:00.245950: I tensorflow/core/common_runtime/bfc_allocator.cc:1066] InUse at 7fbac4010900 of size 1024 next 107\n",
      "2022-04-01 15:34:00.245963: I tensorflow/core/common_runtime/bfc_allocator.cc:1066] InUse at 7fbac4010d00 of size 1024 next 108\n",
      "2022-04-01 15:34:00.245977: I tensorflow/core/common_runtime/bfc_allocator.cc:1066] InUse at 7fbac4011100 of size 1024 next 109\n",
      "2022-04-01 15:34:00.245991: I tensorflow/core/common_runtime/bfc_allocator.cc:1066] InUse at 7fbac4011500 of size 256 next 110\n",
      "2022-04-01 15:34:00.246004: I tensorflow/core/common_runtime/bfc_allocator.cc:1066] InUse at 7fbac4011600 of size 256 next 111\n",
      "2022-04-01 15:34:00.246018: I tensorflow/core/common_runtime/bfc_allocator.cc:1066] InUse at 7fbac4011700 of size 512 next 112\n",
      "2022-04-01 15:34:00.246032: I tensorflow/core/common_runtime/bfc_allocator.cc:1066] InUse at 7fbac4011900 of size 512 next 113\n",
      "2022-04-01 15:34:00.246045: I tensorflow/core/common_runtime/bfc_allocator.cc:1066] InUse at 7fbac4011b00 of size 512 next 116\n",
      "2022-04-01 15:34:00.246059: I tensorflow/core/common_runtime/bfc_allocator.cc:1066] InUse at 7fbac4011d00 of size 512 next 117\n",
      "2022-04-01 15:34:00.246073: I tensorflow/core/common_runtime/bfc_allocator.cc:1066] InUse at 7fbac4011f00 of size 512 next 118\n",
      "2022-04-01 15:34:00.246087: I tensorflow/core/common_runtime/bfc_allocator.cc:1066] InUse at 7fbac4012100 of size 512 next 119\n",
      "2022-04-01 15:34:00.246101: I tensorflow/core/common_runtime/bfc_allocator.cc:1066] InUse at 7fbac4012300 of size 512 next 120\n",
      "2022-04-01 15:34:00.246114: I tensorflow/core/common_runtime/bfc_allocator.cc:1066] InUse at 7fbac4012500 of size 512 next 122\n",
      "2022-04-01 15:34:00.246127: I tensorflow/core/common_runtime/bfc_allocator.cc:1066] InUse at 7fbac4012700 of size 512 next 123\n",
      "2022-04-01 15:34:00.246141: I tensorflow/core/common_runtime/bfc_allocator.cc:1066] InUse at 7fbac4012900 of size 512 next 124\n",
      "2022-04-01 15:34:00.246155: I tensorflow/core/common_runtime/bfc_allocator.cc:1066] InUse at 7fbac4012b00 of size 512 next 125\n",
      "2022-04-01 15:34:00.246168: I tensorflow/core/common_runtime/bfc_allocator.cc:1066] InUse at 7fbac4012d00 of size 256 next 126\n",
      "2022-04-01 15:34:00.246182: I tensorflow/core/common_runtime/bfc_allocator.cc:1066] InUse at 7fbac4012e00 of size 256 next 127\n",
      "2022-04-01 15:34:00.246196: I tensorflow/core/common_runtime/bfc_allocator.cc:1066] InUse at 7fbac4012f00 of size 256 next 128\n",
      "2022-04-01 15:34:00.246210: I tensorflow/core/common_runtime/bfc_allocator.cc:1066] InUse at 7fbac4013000 of size 256 next 129\n",
      "2022-04-01 15:34:00.246223: I tensorflow/core/common_runtime/bfc_allocator.cc:1066] InUse at 7fbac4013100 of size 256 next 132\n",
      "2022-04-01 15:34:00.246237: I tensorflow/core/common_runtime/bfc_allocator.cc:1066] InUse at 7fbac4013200 of size 256 next 133\n",
      "2022-04-01 15:34:00.246251: I tensorflow/core/common_runtime/bfc_allocator.cc:1066] InUse at 7fbac4013300 of size 256 next 134\n",
      "2022-04-01 15:34:00.246264: I tensorflow/core/common_runtime/bfc_allocator.cc:1066] InUse at 7fbac4013400 of size 256 next 135\n",
      "2022-04-01 15:34:00.246278: I tensorflow/core/common_runtime/bfc_allocator.cc:1066] InUse at 7fbac4013500 of size 256 next 136\n",
      "2022-04-01 15:34:00.246292: I tensorflow/core/common_runtime/bfc_allocator.cc:1066] InUse at 7fbac4013600 of size 256 next 138\n",
      "2022-04-01 15:34:00.246305: I tensorflow/core/common_runtime/bfc_allocator.cc:1066] InUse at 7fbac4013700 of size 256 next 139\n",
      "2022-04-01 15:34:00.246319: I tensorflow/core/common_runtime/bfc_allocator.cc:1066] InUse at 7fbac4013800 of size 256 next 140\n",
      "2022-04-01 15:34:00.246332: I tensorflow/core/common_runtime/bfc_allocator.cc:1066] InUse at 7fbac4013900 of size 256 next 141\n",
      "2022-04-01 15:34:00.246346: I tensorflow/core/common_runtime/bfc_allocator.cc:1066] InUse at 7fbac4013a00 of size 256 next 142\n",
      "2022-04-01 15:34:00.246360: I tensorflow/core/common_runtime/bfc_allocator.cc:1066] InUse at 7fbac4013b00 of size 256 next 143\n",
      "2022-04-01 15:34:00.246374: I tensorflow/core/common_runtime/bfc_allocator.cc:1066] InUse at 7fbac4013c00 of size 256 next 268\n",
      "2022-04-01 15:34:00.246387: I tensorflow/core/common_runtime/bfc_allocator.cc:1066] InUse at 7fbac4013d00 of size 256 next 270\n",
      "2022-04-01 15:34:00.246401: I tensorflow/core/common_runtime/bfc_allocator.cc:1066] InUse at 7fbac4013e00 of size 256 next 272\n",
      "2022-04-01 15:34:00.246415: I tensorflow/core/common_runtime/bfc_allocator.cc:1066] InUse at 7fbac4013f00 of size 256 next 273\n",
      "2022-04-01 15:34:00.246429: I tensorflow/core/common_runtime/bfc_allocator.cc:1066] InUse at 7fbac4014000 of size 256 next 447\n",
      "2022-04-01 15:34:00.246442: I tensorflow/core/common_runtime/bfc_allocator.cc:1066] InUse at 7fbac4014100 of size 256 next 275\n",
      "2022-04-01 15:34:00.246456: I tensorflow/core/common_runtime/bfc_allocator.cc:1066] InUse at 7fbac4014200 of size 256 next 276\n",
      "2022-04-01 15:34:00.246470: I tensorflow/core/common_runtime/bfc_allocator.cc:1066] InUse at 7fbac4014300 of size 256 next 278\n",
      "2022-04-01 15:34:00.246484: I tensorflow/core/common_runtime/bfc_allocator.cc:1066] InUse at 7fbac4014400 of size 256 next 279\n",
      "2022-04-01 15:34:00.246497: I tensorflow/core/common_runtime/bfc_allocator.cc:1066] InUse at 7fbac4014500 of size 256 next 567\n",
      "2022-04-01 15:34:00.246511: I tensorflow/core/common_runtime/bfc_allocator.cc:1066] InUse at 7fbac4014600 of size 256 next 281\n",
      "2022-04-01 15:34:00.246525: I tensorflow/core/common_runtime/bfc_allocator.cc:1066] InUse at 7fbac4014700 of size 256 next 282\n",
      "2022-04-01 15:34:00.246538: I tensorflow/core/common_runtime/bfc_allocator.cc:1066] InUse at 7fbac4014800 of size 256 next 283\n",
      "2022-04-01 15:34:00.246552: I tensorflow/core/common_runtime/bfc_allocator.cc:1066] InUse at 7fbac4014900 of size 256 next 286\n",
      "2022-04-01 15:34:00.246565: I tensorflow/core/common_runtime/bfc_allocator.cc:1066] InUse at 7fbac4014a00 of size 256 next 287\n",
      "2022-04-01 15:34:00.246579: I tensorflow/core/common_runtime/bfc_allocator.cc:1066] InUse at 7fbac4014b00 of size 256 next 284\n",
      "2022-04-01 15:34:00.246592: I tensorflow/core/common_runtime/bfc_allocator.cc:1066] InUse at 7fbac4014c00 of size 512 next 285\n",
      "2022-04-01 15:34:00.246606: I tensorflow/core/common_runtime/bfc_allocator.cc:1066] InUse at 7fbac4014e00 of size 256 next 288\n",
      "2022-04-01 15:34:00.246619: I tensorflow/core/common_runtime/bfc_allocator.cc:1066] InUse at 7fbac4014f00 of size 256 next 289\n",
      "2022-04-01 15:34:00.246633: I tensorflow/core/common_runtime/bfc_allocator.cc:1066] InUse at 7fbac4015000 of size 256 next 290\n",
      "2022-04-01 15:34:00.246647: I tensorflow/core/common_runtime/bfc_allocator.cc:1066] InUse at 7fbac4015100 of size 256 next 291\n",
      "2022-04-01 15:34:00.246660: I tensorflow/core/common_runtime/bfc_allocator.cc:1066] InUse at 7fbac4015200 of size 256 next 292\n",
      "2022-04-01 15:34:00.246673: I tensorflow/core/common_runtime/bfc_allocator.cc:1066] InUse at 7fbac4015300 of size 256 next 293\n",
      "2022-04-01 15:34:00.246687: I tensorflow/core/common_runtime/bfc_allocator.cc:1066] InUse at 7fbac4015400 of size 256 next 294\n",
      "2022-04-01 15:34:00.246701: I tensorflow/core/common_runtime/bfc_allocator.cc:1066] InUse at 7fbac4015500 of size 256 next 295\n",
      "2022-04-01 15:34:00.246715: I tensorflow/core/common_runtime/bfc_allocator.cc:1066] InUse at 7fbac4015600 of size 10496 next 296\n",
      "2022-04-01 15:34:00.246728: I tensorflow/core/common_runtime/bfc_allocator.cc:1066] InUse at 7fbac4017f00 of size 256 next 297\n",
      "2022-04-01 15:34:00.246742: I tensorflow/core/common_runtime/bfc_allocator.cc:1066] InUse at 7fbac4018000 of size 256 next 298\n",
      "2022-04-01 15:34:00.246755: I tensorflow/core/common_runtime/bfc_allocator.cc:1066] InUse at 7fbac4018100 of size 256 next 299\n",
      "2022-04-01 15:34:00.246769: I tensorflow/core/common_runtime/bfc_allocator.cc:1066] InUse at 7fbac4018200 of size 256 next 300\n",
      "2022-04-01 15:34:00.246785: I tensorflow/core/common_runtime/bfc_allocator.cc:1066] InUse at 7fbac4018300 of size 256 next 301\n",
      "2022-04-01 15:34:00.246800: I tensorflow/core/common_runtime/bfc_allocator.cc:1066] InUse at 7fbac4018400 of size 256 next 302\n",
      "2022-04-01 15:34:00.246813: I tensorflow/core/common_runtime/bfc_allocator.cc:1066] InUse at 7fbac4018500 of size 256 next 303\n",
      "2022-04-01 15:34:00.246827: I tensorflow/core/common_runtime/bfc_allocator.cc:1066] InUse at 7fbac4018600 of size 256 next 304\n",
      "2022-04-01 15:34:00.246841: I tensorflow/core/common_runtime/bfc_allocator.cc:1066] InUse at 7fbac4018700 of size 256 next 305\n",
      "2022-04-01 15:34:00.246855: I tensorflow/core/common_runtime/bfc_allocator.cc:1066] InUse at 7fbac4018800 of size 256 next 306\n",
      "2022-04-01 15:34:00.246868: I tensorflow/core/common_runtime/bfc_allocator.cc:1066] InUse at 7fbac4018900 of size 256 next 307\n",
      "2022-04-01 15:34:00.246882: I tensorflow/core/common_runtime/bfc_allocator.cc:1066] InUse at 7fbac4018a00 of size 256 next 308\n",
      "2022-04-01 15:34:00.246896: I tensorflow/core/common_runtime/bfc_allocator.cc:1066] InUse at 7fbac4018b00 of size 512 next 309\n",
      "2022-04-01 15:34:00.246910: I tensorflow/core/common_runtime/bfc_allocator.cc:1066] InUse at 7fbac4018d00 of size 512 next 310\n",
      "2022-04-01 15:34:00.246924: I tensorflow/core/common_runtime/bfc_allocator.cc:1066] InUse at 7fbac4018f00 of size 512 next 311\n",
      "2022-04-01 15:34:00.246937: I tensorflow/core/common_runtime/bfc_allocator.cc:1066] InUse at 7fbac4019100 of size 512 next 312\n",
      "2022-04-01 15:34:00.246951: I tensorflow/core/common_runtime/bfc_allocator.cc:1066] InUse at 7fbac4019300 of size 512 next 313\n",
      "2022-04-01 15:34:00.246964: I tensorflow/core/common_runtime/bfc_allocator.cc:1066] InUse at 7fbac4019500 of size 512 next 314\n",
      "2022-04-01 15:34:00.246978: I tensorflow/core/common_runtime/bfc_allocator.cc:1066] InUse at 7fbac4019700 of size 1024 next 315\n",
      "2022-04-01 15:34:00.246992: I tensorflow/core/common_runtime/bfc_allocator.cc:1066] InUse at 7fbac4019b00 of size 1024 next 316\n",
      "2022-04-01 15:34:00.247005: I tensorflow/core/common_runtime/bfc_allocator.cc:1066] InUse at 7fbac4019f00 of size 1024 next 317\n",
      "2022-04-01 15:34:00.247019: I tensorflow/core/common_runtime/bfc_allocator.cc:1066] InUse at 7fbac401a300 of size 1024 next 318\n",
      "2022-04-01 15:34:00.247032: I tensorflow/core/common_runtime/bfc_allocator.cc:1066] InUse at 7fbac401a700 of size 1024 next 319\n",
      "2022-04-01 15:34:00.247046: I tensorflow/core/common_runtime/bfc_allocator.cc:1066] InUse at 7fbac401ab00 of size 1024 next 320\n",
      "2022-04-01 15:34:00.247059: I tensorflow/core/common_runtime/bfc_allocator.cc:1066] InUse at 7fbac401af00 of size 2048 next 321\n",
      "2022-04-01 15:34:00.247073: I tensorflow/core/common_runtime/bfc_allocator.cc:1066] InUse at 7fbac401b700 of size 2048 next 322\n",
      "2022-04-01 15:34:00.247087: I tensorflow/core/common_runtime/bfc_allocator.cc:1066] InUse at 7fbac401bf00 of size 2048 next 323\n",
      "2022-04-01 15:34:00.247100: I tensorflow/core/common_runtime/bfc_allocator.cc:1066] InUse at 7fbac401c700 of size 2048 next 324\n",
      "2022-04-01 15:34:00.247114: I tensorflow/core/common_runtime/bfc_allocator.cc:1066] InUse at 7fbac401cf00 of size 2048 next 325\n",
      "2022-04-01 15:34:00.247128: I tensorflow/core/common_runtime/bfc_allocator.cc:1066] InUse at 7fbac401d700 of size 2048 next 326\n",
      "2022-04-01 15:34:00.247141: I tensorflow/core/common_runtime/bfc_allocator.cc:1066] InUse at 7fbac401df00 of size 1024 next 327\n",
      "2022-04-01 15:34:00.247155: I tensorflow/core/common_runtime/bfc_allocator.cc:1066] InUse at 7fbac401e300 of size 1024 next 329\n",
      "2022-04-01 15:34:00.247168: I tensorflow/core/common_runtime/bfc_allocator.cc:1066] InUse at 7fbac401e700 of size 1024 next 330\n",
      "2022-04-01 15:34:00.247182: I tensorflow/core/common_runtime/bfc_allocator.cc:1066] InUse at 7fbac401eb00 of size 1024 next 331\n",
      "2022-04-01 15:34:00.247195: I tensorflow/core/common_runtime/bfc_allocator.cc:1066] InUse at 7fbac401ef00 of size 1024 next 333\n",
      "2022-04-01 15:34:00.247209: I tensorflow/core/common_runtime/bfc_allocator.cc:1066] InUse at 7fbac401f300 of size 1024 next 334\n",
      "2022-04-01 15:34:00.247225: I tensorflow/core/common_runtime/bfc_allocator.cc:1066] InUse at 7fbac401f700 of size 1024 next 335\n",
      "2022-04-01 15:34:00.247239: I tensorflow/core/common_runtime/bfc_allocator.cc:1066] InUse at 7fbac401fb00 of size 512 next 336\n",
      "2022-04-01 15:34:00.247253: I tensorflow/core/common_runtime/bfc_allocator.cc:1066] InUse at 7fbac401fd00 of size 512 next 338\n",
      "2022-04-01 15:34:00.247310: I tensorflow/core/common_runtime/bfc_allocator.cc:1066] InUse at 7fbac401ff00 of size 512 next 339\n",
      "2022-04-01 15:34:00.247341: I tensorflow/core/common_runtime/bfc_allocator.cc:1066] InUse at 7fbac4020100 of size 512 next 340\n",
      "2022-04-01 15:34:00.247369: I tensorflow/core/common_runtime/bfc_allocator.cc:1066] InUse at 7fbac4020300 of size 512 next 342\n",
      "2022-04-01 15:34:00.247393: I tensorflow/core/common_runtime/bfc_allocator.cc:1066] InUse at 7fbac4020500 of size 512 next 343\n",
      "2022-04-01 15:34:00.247406: I tensorflow/core/common_runtime/bfc_allocator.cc:1066] InUse at 7fbac4020700 of size 512 next 344\n",
      "2022-04-01 15:34:00.247419: I tensorflow/core/common_runtime/bfc_allocator.cc:1066] InUse at 7fbac4020900 of size 256 next 346\n",
      "2022-04-01 15:34:00.247432: I tensorflow/core/common_runtime/bfc_allocator.cc:1066] InUse at 7fbac4020a00 of size 256 next 348\n",
      "2022-04-01 15:34:00.247445: I tensorflow/core/common_runtime/bfc_allocator.cc:1066] InUse at 7fbac4020b00 of size 256 next 349\n",
      "2022-04-01 15:34:00.247458: I tensorflow/core/common_runtime/bfc_allocator.cc:1066] InUse at 7fbac4020c00 of size 256 next 350\n",
      "2022-04-01 15:34:00.247471: I tensorflow/core/common_runtime/bfc_allocator.cc:1066] InUse at 7fbac4020d00 of size 256 next 352\n",
      "2022-04-01 15:34:00.247483: I tensorflow/core/common_runtime/bfc_allocator.cc:1066] InUse at 7fbac4020e00 of size 256 next 353\n",
      "2022-04-01 15:34:00.247496: I tensorflow/core/common_runtime/bfc_allocator.cc:1066] InUse at 7fbac4020f00 of size 256 next 354\n",
      "2022-04-01 15:34:00.247508: I tensorflow/core/common_runtime/bfc_allocator.cc:1066] InUse at 7fbac4021000 of size 256 next 355\n",
      "2022-04-01 15:34:00.247521: I tensorflow/core/common_runtime/bfc_allocator.cc:1066] InUse at 7fbac4021100 of size 256 next 357\n",
      "2022-04-01 15:34:00.247534: I tensorflow/core/common_runtime/bfc_allocator.cc:1066] InUse at 7fbac4021200 of size 256 next 358\n",
      "2022-04-01 15:34:00.247547: I tensorflow/core/common_runtime/bfc_allocator.cc:1066] InUse at 7fbac4021300 of size 256 next 359\n",
      "2022-04-01 15:34:00.247559: I tensorflow/core/common_runtime/bfc_allocator.cc:1066] InUse at 7fbac4021400 of size 256 next 361\n",
      "2022-04-01 15:34:00.247575: I tensorflow/core/common_runtime/bfc_allocator.cc:1066] InUse at 7fbac4021500 of size 256 next 362\n",
      "2022-04-01 15:34:00.247588: I tensorflow/core/common_runtime/bfc_allocator.cc:1066] InUse at 7fbac4021600 of size 256 next 363\n",
      "2022-04-01 15:34:00.247601: I tensorflow/core/common_runtime/bfc_allocator.cc:1066] InUse at 7fbac4021700 of size 512 next 364\n",
      "2022-04-01 15:34:00.247613: I tensorflow/core/common_runtime/bfc_allocator.cc:1066] InUse at 7fbac4021900 of size 256 next 365\n",
      "2022-04-01 15:34:00.247626: I tensorflow/core/common_runtime/bfc_allocator.cc:1066] InUse at 7fbac4021a00 of size 256 next 367\n",
      "2022-04-01 15:34:00.247639: I tensorflow/core/common_runtime/bfc_allocator.cc:1066] InUse at 7fbac4021b00 of size 256 next 368\n",
      "2022-04-01 15:34:00.247652: I tensorflow/core/common_runtime/bfc_allocator.cc:1066] InUse at 7fbac4021c00 of size 256 next 369\n",
      "2022-04-01 15:34:00.247665: I tensorflow/core/common_runtime/bfc_allocator.cc:1066] InUse at 7fbac4021d00 of size 256 next 371\n",
      "2022-04-01 15:34:00.247678: I tensorflow/core/common_runtime/bfc_allocator.cc:1066] InUse at 7fbac4021e00 of size 256 next 372\n",
      "2022-04-01 15:34:00.247691: I tensorflow/core/common_runtime/bfc_allocator.cc:1066] InUse at 7fbac4021f00 of size 256 next 373\n",
      "2022-04-01 15:34:00.247704: I tensorflow/core/common_runtime/bfc_allocator.cc:1066] InUse at 7fbac4022000 of size 256 next 375\n",
      "2022-04-01 15:34:00.247717: I tensorflow/core/common_runtime/bfc_allocator.cc:1066] InUse at 7fbac4022100 of size 256 next 376\n",
      "2022-04-01 15:34:00.247730: I tensorflow/core/common_runtime/bfc_allocator.cc:1066] InUse at 7fbac4022200 of size 256 next 377\n",
      "2022-04-01 15:34:00.247743: I tensorflow/core/common_runtime/bfc_allocator.cc:1066] InUse at 7fbac4022300 of size 256 next 379\n",
      "2022-04-01 15:34:00.247755: I tensorflow/core/common_runtime/bfc_allocator.cc:1066] InUse at 7fbac4022400 of size 256 next 380\n",
      "2022-04-01 15:34:00.247768: I tensorflow/core/common_runtime/bfc_allocator.cc:1066] InUse at 7fbac4022500 of size 256 next 381\n",
      "2022-04-01 15:34:00.247781: I tensorflow/core/common_runtime/bfc_allocator.cc:1066] InUse at 7fbac4022600 of size 512 next 383\n",
      "2022-04-01 15:34:00.247794: I tensorflow/core/common_runtime/bfc_allocator.cc:1066] InUse at 7fbac4022800 of size 512 next 384\n",
      "2022-04-01 15:34:00.247806: I tensorflow/core/common_runtime/bfc_allocator.cc:1066] InUse at 7fbac4022a00 of size 512 next 385\n",
      "2022-04-01 15:34:00.247819: I tensorflow/core/common_runtime/bfc_allocator.cc:1066] InUse at 7fbac4022c00 of size 512 next 387\n",
      "2022-04-01 15:34:00.247831: I tensorflow/core/common_runtime/bfc_allocator.cc:1066] InUse at 7fbac4022e00 of size 512 next 388\n",
      "2022-04-01 15:34:00.247844: I tensorflow/core/common_runtime/bfc_allocator.cc:1066] InUse at 7fbac4023000 of size 512 next 389\n",
      "2022-04-01 15:34:00.247857: I tensorflow/core/common_runtime/bfc_allocator.cc:1066] InUse at 7fbac4023200 of size 1024 next 391\n",
      "2022-04-01 15:34:00.247869: I tensorflow/core/common_runtime/bfc_allocator.cc:1066] InUse at 7fbac4023600 of size 1792 next 269\n",
      "2022-04-01 15:34:00.247884: I tensorflow/core/common_runtime/bfc_allocator.cc:1066] InUse at 7fbac4023d00 of size 108032 next 17\n",
      "2022-04-01 15:34:00.247898: I tensorflow/core/common_runtime/bfc_allocator.cc:1066] InUse at 7fbac403e300 of size 110592 next 16\n",
      "2022-04-01 15:34:00.247913: I tensorflow/core/common_runtime/bfc_allocator.cc:1066] InUse at 7fbac4059300 of size 65536 next 146\n",
      "2022-04-01 15:34:00.247926: I tensorflow/core/common_runtime/bfc_allocator.cc:1066] InUse at 7fbac4069300 of size 256 next 144\n",
      "2022-04-01 15:34:00.247940: I tensorflow/core/common_runtime/bfc_allocator.cc:1066] InUse at 7fbac4069400 of size 256 next 145\n",
      "2022-04-01 15:34:00.247953: I tensorflow/core/common_runtime/bfc_allocator.cc:1066] InUse at 7fbac4069500 of size 256 next 148\n",
      "2022-04-01 15:34:00.247966: I tensorflow/core/common_runtime/bfc_allocator.cc:1066] InUse at 7fbac4069600 of size 256 next 149\n",
      "2022-04-01 15:34:00.247979: I tensorflow/core/common_runtime/bfc_allocator.cc:1066] InUse at 7fbac4069700 of size 256 next 150\n",
      "2022-04-01 15:34:00.247992: I tensorflow/core/common_runtime/bfc_allocator.cc:1066] InUse at 7fbac4069800 of size 256 next 151\n",
      "2022-04-01 15:34:00.248005: I tensorflow/core/common_runtime/bfc_allocator.cc:1066] InUse at 7fbac4069900 of size 256 next 152\n",
      "2022-04-01 15:34:00.248017: I tensorflow/core/common_runtime/bfc_allocator.cc:1066] InUse at 7fbac4069a00 of size 256 next 154\n",
      "2022-04-01 15:34:00.248030: I tensorflow/core/common_runtime/bfc_allocator.cc:1066] InUse at 7fbac4069b00 of size 256 next 155\n",
      "2022-04-01 15:34:00.248043: I tensorflow/core/common_runtime/bfc_allocator.cc:1066] InUse at 7fbac4069c00 of size 256 next 156\n",
      "2022-04-01 15:34:00.248055: I tensorflow/core/common_runtime/bfc_allocator.cc:1066] InUse at 7fbac4069d00 of size 256 next 157\n",
      "2022-04-01 15:34:00.248068: I tensorflow/core/common_runtime/bfc_allocator.cc:1066] InUse at 7fbac4069e00 of size 256 next 158\n",
      "2022-04-01 15:34:00.248081: I tensorflow/core/common_runtime/bfc_allocator.cc:1066] InUse at 7fbac4069f00 of size 256 next 159\n",
      "2022-04-01 15:34:00.248094: I tensorflow/core/common_runtime/bfc_allocator.cc:1066] InUse at 7fbac406a000 of size 256 next 160\n",
      "2022-04-01 15:34:00.248106: I tensorflow/core/common_runtime/bfc_allocator.cc:1066] InUse at 7fbac406a100 of size 256 next 161\n",
      "2022-04-01 15:34:00.248119: I tensorflow/core/common_runtime/bfc_allocator.cc:1066] InUse at 7fbac406a200 of size 256 next 164\n",
      "2022-04-01 15:34:00.248132: I tensorflow/core/common_runtime/bfc_allocator.cc:1066] InUse at 7fbac406a300 of size 256 next 167\n",
      "2022-04-01 15:34:00.248149: I tensorflow/core/common_runtime/bfc_allocator.cc:1066] InUse at 7fbac406a400 of size 256 next 162\n",
      "2022-04-01 15:34:00.248162: I tensorflow/core/common_runtime/bfc_allocator.cc:1066] InUse at 7fbac406a500 of size 512 next 163\n",
      "2022-04-01 15:34:00.248175: I tensorflow/core/common_runtime/bfc_allocator.cc:1066] InUse at 7fbac406a700 of size 256 next 468\n",
      "2022-04-01 15:34:00.248188: I tensorflow/core/common_runtime/bfc_allocator.cc:1066] InUse at 7fbac406a800 of size 256 next 169\n",
      "2022-04-01 15:34:00.248201: I tensorflow/core/common_runtime/bfc_allocator.cc:1066] InUse at 7fbac406a900 of size 256 next 170\n",
      "2022-04-01 15:34:00.248214: I tensorflow/core/common_runtime/bfc_allocator.cc:1066] InUse at 7fbac406aa00 of size 256 next 171\n",
      "2022-04-01 15:34:00.248227: I tensorflow/core/common_runtime/bfc_allocator.cc:1066] InUse at 7fbac406ab00 of size 256 next 172\n",
      "2022-04-01 15:34:00.248239: I tensorflow/core/common_runtime/bfc_allocator.cc:1066] InUse at 7fbac406ac00 of size 256 next 509\n",
      "2022-04-01 15:34:00.248252: I tensorflow/core/common_runtime/bfc_allocator.cc:1066] InUse at 7fbac406ad00 of size 256 next 174\n",
      "2022-04-01 15:34:00.248265: I tensorflow/core/common_runtime/bfc_allocator.cc:1066] InUse at 7fbac406ae00 of size 256 next 175\n",
      "2022-04-01 15:34:00.248277: I tensorflow/core/common_runtime/bfc_allocator.cc:1066] InUse at 7fbac406af00 of size 256 next 177\n",
      "2022-04-01 15:34:00.248290: I tensorflow/core/common_runtime/bfc_allocator.cc:1066] InUse at 7fbac406b000 of size 256 next 178\n",
      "2022-04-01 15:34:00.248303: I tensorflow/core/common_runtime/bfc_allocator.cc:1066] InUse at 7fbac406b100 of size 256 next 472\n",
      "2022-04-01 15:34:00.248315: I tensorflow/core/common_runtime/bfc_allocator.cc:1066] InUse at 7fbac406b200 of size 256 next 180\n",
      "2022-04-01 15:34:00.248328: I tensorflow/core/common_runtime/bfc_allocator.cc:1066] InUse at 7fbac406b300 of size 256 next 182\n",
      "2022-04-01 15:34:00.248340: I tensorflow/core/common_runtime/bfc_allocator.cc:1066] InUse at 7fbac406b400 of size 256 next 183\n",
      "2022-04-01 15:34:00.248353: I tensorflow/core/common_runtime/bfc_allocator.cc:1066] InUse at 7fbac406b500 of size 256 next 184\n",
      "2022-04-01 15:34:00.248366: I tensorflow/core/common_runtime/bfc_allocator.cc:1066] InUse at 7fbac406b600 of size 256 next 497\n",
      "2022-04-01 15:34:00.248379: I tensorflow/core/common_runtime/bfc_allocator.cc:1066] InUse at 7fbac406b700 of size 256 next 186\n",
      "2022-04-01 15:34:00.248391: I tensorflow/core/common_runtime/bfc_allocator.cc:1066] InUse at 7fbac406b800 of size 512 next 189\n",
      "2022-04-01 15:34:00.248404: I tensorflow/core/common_runtime/bfc_allocator.cc:1066] InUse at 7fbac406ba00 of size 512 next 190\n",
      "2022-04-01 15:34:00.248417: I tensorflow/core/common_runtime/bfc_allocator.cc:1066] InUse at 7fbac406bc00 of size 512 next 191\n",
      "2022-04-01 15:34:00.248430: I tensorflow/core/common_runtime/bfc_allocator.cc:1066] InUse at 7fbac406be00 of size 256 next 503\n",
      "2022-04-01 15:34:00.248442: I tensorflow/core/common_runtime/bfc_allocator.cc:1066] InUse at 7fbac406bf00 of size 256 next 554\n",
      "2022-04-01 15:34:00.248455: I tensorflow/core/common_runtime/bfc_allocator.cc:1066] InUse at 7fbac406c000 of size 256 next 545\n",
      "2022-04-01 15:34:00.248468: I tensorflow/core/common_runtime/bfc_allocator.cc:1066] InUse at 7fbac406c100 of size 256 next 193\n",
      "2022-04-01 15:34:00.248480: I tensorflow/core/common_runtime/bfc_allocator.cc:1066] InUse at 7fbac406c200 of size 512 next 196\n",
      "2022-04-01 15:34:00.248493: I tensorflow/core/common_runtime/bfc_allocator.cc:1066] InUse at 7fbac406c400 of size 512 next 197\n",
      "2022-04-01 15:34:00.248506: I tensorflow/core/common_runtime/bfc_allocator.cc:1066] InUse at 7fbac406c600 of size 512 next 198\n",
      "2022-04-01 15:34:00.248519: I tensorflow/core/common_runtime/bfc_allocator.cc:1066] InUse at 7fbac406c800 of size 256 next 490\n",
      "2022-04-01 15:34:00.248532: I tensorflow/core/common_runtime/bfc_allocator.cc:1066] InUse at 7fbac406c900 of size 256 next 512\n",
      "2022-04-01 15:34:00.248544: I tensorflow/core/common_runtime/bfc_allocator.cc:1066] InUse at 7fbac406ca00 of size 256 next 479\n",
      "2022-04-01 15:34:00.248560: I tensorflow/core/common_runtime/bfc_allocator.cc:1066] Free  at 7fbac406cb00 of size 256 next 200\n",
      "2022-04-01 15:34:00.248573: I tensorflow/core/common_runtime/bfc_allocator.cc:1066] InUse at 7fbac406cc00 of size 1024 next 203\n",
      "2022-04-01 15:34:00.248586: I tensorflow/core/common_runtime/bfc_allocator.cc:1066] InUse at 7fbac406d000 of size 1024 next 204\n",
      "2022-04-01 15:34:00.248599: I tensorflow/core/common_runtime/bfc_allocator.cc:1066] InUse at 7fbac406d400 of size 1024 next 205\n",
      "2022-04-01 15:34:00.248612: I tensorflow/core/common_runtime/bfc_allocator.cc:1066] InUse at 7fbac406d800 of size 1024 next 508\n",
      "2022-04-01 15:34:00.248625: I tensorflow/core/common_runtime/bfc_allocator.cc:1066] InUse at 7fbac406dc00 of size 256 next 464\n",
      "2022-04-01 15:34:00.248638: I tensorflow/core/common_runtime/bfc_allocator.cc:1066] InUse at 7fbac406dd00 of size 256 next 577\n",
      "2022-04-01 15:34:00.248651: I tensorflow/core/common_runtime/bfc_allocator.cc:1066] InUse at 7fbac406de00 of size 256 next 596\n",
      "2022-04-01 15:34:00.248664: I tensorflow/core/common_runtime/bfc_allocator.cc:1066] InUse at 7fbac406df00 of size 256 next 207\n",
      "2022-04-01 15:34:00.248677: I tensorflow/core/common_runtime/bfc_allocator.cc:1066] InUse at 7fbac406e000 of size 1024 next 210\n",
      "2022-04-01 15:34:00.248690: I tensorflow/core/common_runtime/bfc_allocator.cc:1066] InUse at 7fbac406e400 of size 1024 next 211\n",
      "2022-04-01 15:34:00.248703: I tensorflow/core/common_runtime/bfc_allocator.cc:1066] InUse at 7fbac406e800 of size 1024 next 212\n",
      "2022-04-01 15:34:00.248716: I tensorflow/core/common_runtime/bfc_allocator.cc:1066] InUse at 7fbac406ec00 of size 512 next 532\n",
      "2022-04-01 15:34:00.248730: I tensorflow/core/common_runtime/bfc_allocator.cc:1066] InUse at 7fbac406ee00 of size 768 next 541\n",
      "2022-04-01 15:34:00.248742: I tensorflow/core/common_runtime/bfc_allocator.cc:1066] InUse at 7fbac406f100 of size 256 next 482\n",
      "2022-04-01 15:34:00.248755: I tensorflow/core/common_runtime/bfc_allocator.cc:1066] Free  at 7fbac406f200 of size 256 next 591\n",
      "2022-04-01 15:34:00.248768: I tensorflow/core/common_runtime/bfc_allocator.cc:1066] InUse at 7fbac406f300 of size 256 next 214\n",
      "2022-04-01 15:34:00.248781: I tensorflow/core/common_runtime/bfc_allocator.cc:1066] InUse at 7fbac406f400 of size 1280 next 166\n",
      "2022-04-01 15:34:00.248794: I tensorflow/core/common_runtime/bfc_allocator.cc:1066] InUse at 7fbac406f900 of size 10496 next 165\n",
      "2022-04-01 15:34:00.248807: I tensorflow/core/common_runtime/bfc_allocator.cc:1066] InUse at 7fbac4072200 of size 2048 next 217\n",
      "2022-04-01 15:34:00.248820: I tensorflow/core/common_runtime/bfc_allocator.cc:1066] InUse at 7fbac4072a00 of size 2048 next 218\n",
      "2022-04-01 15:34:00.248833: I tensorflow/core/common_runtime/bfc_allocator.cc:1066] InUse at 7fbac4073200 of size 2048 next 219\n",
      "2022-04-01 15:34:00.248846: I tensorflow/core/common_runtime/bfc_allocator.cc:1066] InUse at 7fbac4073a00 of size 256 next 280\n",
      "2022-04-01 15:34:00.248858: I tensorflow/core/common_runtime/bfc_allocator.cc:1066] InUse at 7fbac4073b00 of size 256 next 550\n",
      "2022-04-01 15:34:00.248871: I tensorflow/core/common_runtime/bfc_allocator.cc:1066] InUse at 7fbac4073c00 of size 256 next 260\n",
      "2022-04-01 15:34:00.248884: I tensorflow/core/common_runtime/bfc_allocator.cc:1066] InUse at 7fbac4073d00 of size 256 next 548\n",
      "2022-04-01 15:34:00.248897: I tensorflow/core/common_runtime/bfc_allocator.cc:1066] InUse at 7fbac4073e00 of size 2048 next 557\n",
      "2022-04-01 15:34:00.248910: I tensorflow/core/common_runtime/bfc_allocator.cc:1066] InUse at 7fbac4074600 of size 256 next 549\n",
      "2022-04-01 15:34:00.248923: I tensorflow/core/common_runtime/bfc_allocator.cc:1066] InUse at 7fbac4074700 of size 768 next 221\n",
      "2022-04-01 15:34:00.248936: I tensorflow/core/common_runtime/bfc_allocator.cc:1066] InUse at 7fbac4074a00 of size 2048 next 222\n",
      "2022-04-01 15:34:00.248949: I tensorflow/core/common_runtime/bfc_allocator.cc:1066] InUse at 7fbac4075200 of size 2048 next 225\n",
      "2022-04-01 15:34:00.248961: I tensorflow/core/common_runtime/bfc_allocator.cc:1066] InUse at 7fbac4075a00 of size 2048 next 226\n",
      "2022-04-01 15:34:00.248974: I tensorflow/core/common_runtime/bfc_allocator.cc:1066] InUse at 7fbac4076200 of size 512 next 466\n",
      "2022-04-01 15:34:00.248988: I tensorflow/core/common_runtime/bfc_allocator.cc:1066] InUse at 7fbac4076400 of size 512 next 535\n",
      "2022-04-01 15:34:00.249001: I tensorflow/core/common_runtime/bfc_allocator.cc:1066] InUse at 7fbac4076600 of size 768 next 475\n",
      "2022-04-01 15:34:00.249013: I tensorflow/core/common_runtime/bfc_allocator.cc:1066] InUse at 7fbac4076900 of size 512 next 553\n",
      "2022-04-01 15:34:00.249026: I tensorflow/core/common_runtime/bfc_allocator.cc:1066] InUse at 7fbac4076b00 of size 256 next 246\n",
      "2022-04-01 15:34:00.249039: I tensorflow/core/common_runtime/bfc_allocator.cc:1066] InUse at 7fbac4076c00 of size 256 next 562\n",
      "2022-04-01 15:34:00.249051: I tensorflow/core/common_runtime/bfc_allocator.cc:1066] InUse at 7fbac4076d00 of size 256 next 582\n",
      "2022-04-01 15:34:00.249064: I tensorflow/core/common_runtime/bfc_allocator.cc:1066] InUse at 7fbac4076e00 of size 256 next 227\n",
      "2022-04-01 15:34:00.249076: I tensorflow/core/common_runtime/bfc_allocator.cc:1066] InUse at 7fbac4076f00 of size 256 next 168\n",
      "2022-04-01 15:34:00.249089: I tensorflow/core/common_runtime/bfc_allocator.cc:1066] InUse at 7fbac4077000 of size 256 next 542\n",
      "2022-04-01 15:34:00.249102: I tensorflow/core/common_runtime/bfc_allocator.cc:1066] InUse at 7fbac4077100 of size 256 next 228\n",
      "2022-04-01 15:34:00.249114: I tensorflow/core/common_runtime/bfc_allocator.cc:1066] InUse at 7fbac4077200 of size 1024 next 230\n",
      "2022-04-01 15:34:00.249127: I tensorflow/core/common_runtime/bfc_allocator.cc:1066] InUse at 7fbac4077600 of size 1024 next 231\n",
      "2022-04-01 15:34:00.249140: I tensorflow/core/common_runtime/bfc_allocator.cc:1066] InUse at 7fbac4077a00 of size 1024 next 232\n",
      "2022-04-01 15:34:00.249153: I tensorflow/core/common_runtime/bfc_allocator.cc:1066] InUse at 7fbac4077e00 of size 1280 next 516\n",
      "2022-04-01 15:34:00.249165: I tensorflow/core/common_runtime/bfc_allocator.cc:1066] InUse at 7fbac4078300 of size 256 next 560\n",
      "2022-04-01 15:34:00.249178: I tensorflow/core/common_runtime/bfc_allocator.cc:1066] InUse at 7fbac4078400 of size 256 next 561\n",
      "2022-04-01 15:34:00.249190: I tensorflow/core/common_runtime/bfc_allocator.cc:1066] Free  at 7fbac4078500 of size 256 next 234\n",
      "2022-04-01 15:34:00.249203: I tensorflow/core/common_runtime/bfc_allocator.cc:1066] InUse at 7fbac4078600 of size 1024 next 235\n",
      "2022-04-01 15:34:00.249216: I tensorflow/core/common_runtime/bfc_allocator.cc:1066] InUse at 7fbac4078a00 of size 1024 next 237\n",
      "2022-04-01 15:34:00.249229: I tensorflow/core/common_runtime/bfc_allocator.cc:1066] InUse at 7fbac4078e00 of size 1024 next 238\n",
      "2022-04-01 15:34:00.249242: I tensorflow/core/common_runtime/bfc_allocator.cc:1066] InUse at 7fbac4079200 of size 512 next 552\n",
      "2022-04-01 15:34:00.249254: I tensorflow/core/common_runtime/bfc_allocator.cc:1066] InUse at 7fbac4079400 of size 512 next 551\n",
      "2022-04-01 15:34:00.249267: I tensorflow/core/common_runtime/bfc_allocator.cc:1066] InUse at 7fbac4079600 of size 512 next 488\n",
      "2022-04-01 15:34:00.249280: I tensorflow/core/common_runtime/bfc_allocator.cc:1066] InUse at 7fbac4079800 of size 256 next 473\n",
      "2022-04-01 15:34:00.249292: I tensorflow/core/common_runtime/bfc_allocator.cc:1066] InUse at 7fbac4079900 of size 256 next 240\n",
      "2022-04-01 15:34:00.249305: I tensorflow/core/common_runtime/bfc_allocator.cc:1066] InUse at 7fbac4079a00 of size 512 next 241\n",
      "2022-04-01 15:34:00.249318: I tensorflow/core/common_runtime/bfc_allocator.cc:1066] InUse at 7fbac4079c00 of size 512 next 243\n",
      "2022-04-01 15:34:00.249331: I tensorflow/core/common_runtime/bfc_allocator.cc:1066] InUse at 7fbac4079e00 of size 512 next 244\n",
      "2022-04-01 15:34:00.249343: I tensorflow/core/common_runtime/bfc_allocator.cc:1066] InUse at 7fbac407a000 of size 512 next 245\n",
      "2022-04-01 15:34:00.249356: I tensorflow/core/common_runtime/bfc_allocator.cc:1066] InUse at 7fbac407a200 of size 256 next 522\n",
      "2022-04-01 15:34:00.249369: I tensorflow/core/common_runtime/bfc_allocator.cc:1066] InUse at 7fbac407a300 of size 256 next 558\n",
      "2022-04-01 15:34:00.249385: I tensorflow/core/common_runtime/bfc_allocator.cc:1066] InUse at 7fbac407a400 of size 256 next 588\n",
      "2022-04-01 15:34:00.249399: I tensorflow/core/common_runtime/bfc_allocator.cc:1066] InUse at 7fbac407a500 of size 256 next 247\n",
      "2022-04-01 15:34:00.249411: I tensorflow/core/common_runtime/bfc_allocator.cc:1066] InUse at 7fbac407a600 of size 512 next 248\n",
      "2022-04-01 15:34:00.249424: I tensorflow/core/common_runtime/bfc_allocator.cc:1066] InUse at 7fbac407a800 of size 512 next 250\n",
      "2022-04-01 15:34:00.249437: I tensorflow/core/common_runtime/bfc_allocator.cc:1066] InUse at 7fbac407aa00 of size 512 next 251\n",
      "2022-04-01 15:34:00.249450: I tensorflow/core/common_runtime/bfc_allocator.cc:1066] InUse at 7fbac407ac00 of size 512 next 506\n",
      "2022-04-01 15:34:00.249463: I tensorflow/core/common_runtime/bfc_allocator.cc:1066] InUse at 7fbac407ae00 of size 512 next 253\n",
      "2022-04-01 15:34:00.249476: I tensorflow/core/common_runtime/bfc_allocator.cc:1066] InUse at 7fbac407b000 of size 256 next 254\n",
      "2022-04-01 15:34:00.249503: I tensorflow/core/common_runtime/bfc_allocator.cc:1066] InUse at 7fbac407b100 of size 256 next 257\n",
      "2022-04-01 15:34:00.249508: I tensorflow/core/common_runtime/bfc_allocator.cc:1066] InUse at 7fbac407b200 of size 256 next 258\n",
      "2022-04-01 15:34:00.249512: I tensorflow/core/common_runtime/bfc_allocator.cc:1066] InUse at 7fbac407b300 of size 256 next 259\n",
      "2022-04-01 15:34:00.249517: I tensorflow/core/common_runtime/bfc_allocator.cc:1066] InUse at 7fbac407b400 of size 256 next 199\n",
      "2022-04-01 15:34:00.249521: I tensorflow/core/common_runtime/bfc_allocator.cc:1066] InUse at 7fbac407b500 of size 256 next 261\n",
      "2022-04-01 15:34:00.249526: I tensorflow/core/common_runtime/bfc_allocator.cc:1066] InUse at 7fbac407b600 of size 256 next 262\n",
      "2022-04-01 15:34:00.249531: I tensorflow/core/common_runtime/bfc_allocator.cc:1066] InUse at 7fbac407b700 of size 256 next 264\n",
      "2022-04-01 15:34:00.249535: I tensorflow/core/common_runtime/bfc_allocator.cc:1066] InUse at 7fbac407b800 of size 256 next 265\n",
      "2022-04-01 15:34:00.249540: I tensorflow/core/common_runtime/bfc_allocator.cc:1066] InUse at 7fbac407b900 of size 256 next 192\n",
      "2022-04-01 15:34:00.249544: I tensorflow/core/common_runtime/bfc_allocator.cc:1066] InUse at 7fbac407ba00 of size 256 next 267\n",
      "2022-04-01 15:34:00.249549: I tensorflow/core/common_runtime/bfc_allocator.cc:1066] InUse at 7fbac407bb00 of size 79872 next 25\n",
      "2022-04-01 15:34:00.249554: I tensorflow/core/common_runtime/bfc_allocator.cc:1066] InUse at 7fbac408f300 of size 221184 next 24\n",
      "2022-04-01 15:34:00.249559: I tensorflow/core/common_runtime/bfc_allocator.cc:1066] InUse at 7fbac40c5300 of size 221184 next 147\n",
      "2022-04-01 15:34:00.249564: I tensorflow/core/common_runtime/bfc_allocator.cc:1066] InUse at 7fbac40fb300 of size 110592 next 153\n",
      "2022-04-01 15:34:00.249568: I tensorflow/core/common_runtime/bfc_allocator.cc:1066] InUse at 7fbac4116300 of size 192512 next 130\n",
      "2022-04-01 15:34:00.249573: I tensorflow/core/common_runtime/bfc_allocator.cc:1066] InUse at 7fbac4145300 of size 360448 next 35\n",
      "2022-04-01 15:34:00.249578: I tensorflow/core/common_runtime/bfc_allocator.cc:1066] InUse at 7fbac419d300 of size 442368 next 34\n",
      "2022-04-01 15:34:00.249583: I tensorflow/core/common_runtime/bfc_allocator.cc:1066] InUse at 7fbac4209300 of size 221184 next 271\n",
      "2022-04-01 15:34:00.249587: I tensorflow/core/common_runtime/bfc_allocator.cc:1066] InUse at 7fbac423f300 of size 221184 next 137\n",
      "2022-04-01 15:34:00.249592: I tensorflow/core/common_runtime/bfc_allocator.cc:1066] InUse at 7fbac4275300 of size 442368 next 43\n",
      "2022-04-01 15:34:00.249597: I tensorflow/core/common_runtime/bfc_allocator.cc:1066] InUse at 7fbac42e1300 of size 884736 next 42\n",
      "2022-04-01 15:34:00.249602: I tensorflow/core/common_runtime/bfc_allocator.cc:1066] InUse at 7fbac43b9300 of size 442368 next 181\n",
      "2022-04-01 15:34:00.249607: I tensorflow/core/common_runtime/bfc_allocator.cc:1066] InUse at 7fbac4425300 of size 1654784 next 114\n",
      "2022-04-01 15:34:00.249612: I tensorflow/core/common_runtime/bfc_allocator.cc:1066] InUse at 7fbac45b9300 of size 1441792 next 53\n",
      "2022-04-01 15:34:00.249617: I tensorflow/core/common_runtime/bfc_allocator.cc:1066] InUse at 7fbac4719300 of size 1769472 next 52\n",
      "2022-04-01 15:34:00.249622: I tensorflow/core/common_runtime/bfc_allocator.cc:1066] InUse at 7fbac48c9300 of size 221184 next 176\n",
      "2022-04-01 15:34:00.249627: I tensorflow/core/common_runtime/bfc_allocator.cc:1066] InUse at 7fbac48ff300 of size 110592 next 277\n",
      "2022-04-01 15:34:00.249632: I tensorflow/core/common_runtime/bfc_allocator.cc:1066] InUse at 7fbac491a300 of size 151552 next 255\n",
      "2022-04-01 15:34:00.249637: I tensorflow/core/common_runtime/bfc_allocator.cc:1066] InUse at 7fbac493f300 of size 401408 next 131\n",
      "2022-04-01 15:34:00.249641: I tensorflow/core/common_runtime/bfc_allocator.cc:1066] InUse at 7fbac49a1300 of size 884736 next 121\n",
      "2022-04-01 15:34:00.249646: I tensorflow/core/common_runtime/bfc_allocator.cc:1066] InUse at 7fbac4a79300 of size 1769472 next 61\n",
      "2022-04-01 15:34:00.249651: I tensorflow/core/common_runtime/bfc_allocator.cc:1066] InUse at 7fbac4c29300 of size 3538944 next 60\n",
      "2022-04-01 15:34:00.249656: I tensorflow/core/common_runtime/bfc_allocator.cc:1066] InUse at 7fbac4f89300 of size 884736 next 256\n",
      "2022-04-01 15:34:00.249661: I tensorflow/core/common_runtime/bfc_allocator.cc:1066] InUse at 7fbac5061300 of size 442368 next 263\n",
      "2022-04-01 15:34:00.249665: I tensorflow/core/common_runtime/bfc_allocator.cc:1066] InUse at 7fbac50cd300 of size 442368 next 195\n",
      "2022-04-01 15:34:00.249670: I tensorflow/core/common_runtime/bfc_allocator.cc:1066] InUse at 7fbac5139300 of size 1769472 next 194\n",
      "2022-04-01 15:34:00.249675: I tensorflow/core/common_runtime/bfc_allocator.cc:1066] InUse at 7fbac52e9300 of size 4849664 next 97\n",
      "2022-04-01 15:34:00.249680: I tensorflow/core/common_runtime/bfc_allocator.cc:1066] InUse at 7fbac5789300 of size 5767168 next 71\n",
      "2022-04-01 15:34:00.249685: I tensorflow/core/common_runtime/bfc_allocator.cc:1066] InUse at 7fbac5d09300 of size 7077888 next 70\n",
      "2022-04-01 15:34:00.249689: I tensorflow/core/common_runtime/bfc_allocator.cc:1066] InUse at 7fbac63c9300 of size 884736 next 188\n",
      "2022-04-01 15:34:00.249694: I tensorflow/core/common_runtime/bfc_allocator.cc:1066] InUse at 7fbac64a1300 of size 884736 next 187\n",
      "2022-04-01 15:34:00.249699: I tensorflow/core/common_runtime/bfc_allocator.cc:1066] InUse at 7fbac6579300 of size 1769472 next 115\n",
      "2022-04-01 15:34:00.249703: I tensorflow/core/common_runtime/bfc_allocator.cc:1066] InUse at 7fbac6729300 of size 3538944 next 105\n",
      "2022-04-01 15:34:00.249708: I tensorflow/core/common_runtime/bfc_allocator.cc:1066] InUse at 7fbac6a89300 of size 7077888 next 78\n",
      "2022-04-01 15:34:00.249713: I tensorflow/core/common_runtime/bfc_allocator.cc:1066] InUse at 7fbac7149300 of size 14155776 next 77\n",
      "2022-04-01 15:34:00.249718: I tensorflow/core/common_runtime/bfc_allocator.cc:1066] InUse at 7fbac7ec9300 of size 1769472 next 249\n",
      "2022-04-01 15:34:00.249722: I tensorflow/core/common_runtime/bfc_allocator.cc:1066] InUse at 7fbac8079300 of size 1769472 next 202\n",
      "2022-04-01 15:34:00.249727: I tensorflow/core/common_runtime/bfc_allocator.cc:1066] InUse at 7fbac8229300 of size 3538944 next 201\n",
      "2022-04-01 15:34:00.249732: I tensorflow/core/common_runtime/bfc_allocator.cc:1066] InUse at 7fbac8589300 of size 3538944 next 242\n",
      "2022-04-01 15:34:00.249736: I tensorflow/core/common_runtime/bfc_allocator.cc:1066] InUse at 7fbac88e9300 of size 3538944 next 98\n",
      "2022-04-01 15:34:00.249741: I tensorflow/core/common_runtime/bfc_allocator.cc:1066] InUse at 7fbac8c49300 of size 14155776 next 96\n",
      "2022-04-01 15:34:00.249746: I tensorflow/core/common_runtime/bfc_allocator.cc:1066] InUse at 7fbac99c9300 of size 7077888 next 209\n",
      "2022-04-01 15:34:00.249751: I tensorflow/core/common_runtime/bfc_allocator.cc:1066] InUse at 7fbaca089300 of size 7077888 next 208\n",
      "2022-04-01 15:34:00.249755: I tensorflow/core/common_runtime/bfc_allocator.cc:1066] InUse at 7fbaca749300 of size 7077888 next 236\n",
      "2022-04-01 15:34:00.249761: I tensorflow/core/common_runtime/bfc_allocator.cc:1066] InUse at 7fbacae09300 of size 7077888 next 88\n",
      "2022-04-01 15:34:00.249766: I tensorflow/core/common_runtime/bfc_allocator.cc:1066] InUse at 7fbacb4c9300 of size 28311552 next 87\n",
      "2022-04-01 15:34:00.249771: I tensorflow/core/common_runtime/bfc_allocator.cc:1066] InUse at 7fbaccfc9300 of size 14155776 next 216\n",
      "2022-04-01 15:34:00.249776: I tensorflow/core/common_runtime/bfc_allocator.cc:1066] InUse at 7fbacdd49300 of size 14155776 next 215\n",
      "2022-04-01 15:34:00.249780: I tensorflow/core/common_runtime/bfc_allocator.cc:1066] InUse at 7fbaceac9300 of size 14155776 next 229\n",
      "2022-04-01 15:34:00.249785: I tensorflow/core/common_runtime/bfc_allocator.cc:1066] InUse at 7fbacf849300 of size 42467328 next 224\n",
      "2022-04-01 15:34:00.249790: I tensorflow/core/common_runtime/bfc_allocator.cc:1066] InUse at 7fbad20c9300 of size 28311552 next 223\n",
      "2022-04-01 15:34:00.249795: I tensorflow/core/common_runtime/bfc_allocator.cc:1066] InUse at 7fbad3bc9300 of size 14155776 next 328\n",
      "2022-04-01 15:34:00.249799: I tensorflow/core/common_runtime/bfc_allocator.cc:1066] InUse at 7fbad4949300 of size 7077888 next 332\n",
      "2022-04-01 15:34:00.249804: I tensorflow/core/common_runtime/bfc_allocator.cc:1066] InUse at 7fbad5009300 of size 3538944 next 337\n",
      "2022-04-01 15:34:00.249809: I tensorflow/core/common_runtime/bfc_allocator.cc:1066] InUse at 7fbad5369300 of size 1769472 next 341\n",
      "2022-04-01 15:34:00.249814: I tensorflow/core/common_runtime/bfc_allocator.cc:1066] InUse at 7fbad5519300 of size 262144 next 345\n",
      "2022-04-01 15:34:00.249819: I tensorflow/core/common_runtime/bfc_allocator.cc:1066] InUse at 7fbad5559300 of size 884736 next 347\n",
      "2022-04-01 15:34:00.249823: I tensorflow/core/common_runtime/bfc_allocator.cc:1066] InUse at 7fbad5631300 of size 442368 next 351\n",
      "2022-04-01 15:34:00.249828: I tensorflow/core/common_runtime/bfc_allocator.cc:1066] InUse at 7fbad569d300 of size 221184 next 356\n",
      "2022-04-01 15:34:00.249833: I tensorflow/core/common_runtime/bfc_allocator.cc:1066] InUse at 7fbad56d3300 of size 110592 next 360\n",
      "2022-04-01 15:34:00.249838: I tensorflow/core/common_runtime/bfc_allocator.cc:1066] InUse at 7fbad56ee300 of size 10496 next 366\n",
      "2022-04-01 15:34:00.249842: I tensorflow/core/common_runtime/bfc_allocator.cc:1066] InUse at 7fbad56f0c00 of size 110592 next 370\n",
      "2022-04-01 15:34:00.249847: I tensorflow/core/common_runtime/bfc_allocator.cc:1066] InUse at 7fbad570bc00 of size 221184 next 374\n",
      "2022-04-01 15:34:00.249851: I tensorflow/core/common_runtime/bfc_allocator.cc:1066] InUse at 7fbad5741c00 of size 442368 next 378\n",
      "2022-04-01 15:34:00.249856: I tensorflow/core/common_runtime/bfc_allocator.cc:1066] InUse at 7fbad57adc00 of size 884736 next 382\n",
      "2022-04-01 15:34:00.249861: I tensorflow/core/common_runtime/bfc_allocator.cc:1066] InUse at 7fbad5885c00 of size 1769472 next 386\n",
      "2022-04-01 15:34:00.249866: I tensorflow/core/common_runtime/bfc_allocator.cc:1066] InUse at 7fbad5a35c00 of size 3538944 next 390\n",
      "2022-04-01 15:34:00.249870: I tensorflow/core/common_runtime/bfc_allocator.cc:1066] InUse at 7fbad5d95c00 of size 1024 next 392\n",
      "2022-04-01 15:34:00.249875: I tensorflow/core/common_runtime/bfc_allocator.cc:1066] InUse at 7fbad5d96000 of size 7077888 next 393\n",
      "2022-04-01 15:34:00.249880: I tensorflow/core/common_runtime/bfc_allocator.cc:1066] InUse at 7fbad6456000 of size 1024 next 394\n",
      "2022-04-01 15:34:00.249884: I tensorflow/core/common_runtime/bfc_allocator.cc:1066] InUse at 7fbad6456400 of size 1024 next 395\n",
      "2022-04-01 15:34:00.249889: I tensorflow/core/common_runtime/bfc_allocator.cc:1066] InUse at 7fbad6456800 of size 1024 next 396\n",
      "2022-04-01 15:34:00.249894: I tensorflow/core/common_runtime/bfc_allocator.cc:1066] InUse at 7fbad6456c00 of size 14155776 next 397\n",
      "2022-04-01 15:34:00.249898: I tensorflow/core/common_runtime/bfc_allocator.cc:1066] InUse at 7fbad71d6c00 of size 2048 next 398\n",
      "2022-04-01 15:34:00.249903: I tensorflow/core/common_runtime/bfc_allocator.cc:1066] InUse at 7fbad71d7400 of size 2048 next 399\n",
      "2022-04-01 15:34:00.249908: I tensorflow/core/common_runtime/bfc_allocator.cc:1066] InUse at 7fbad71d7c00 of size 2048 next 400\n",
      "2022-04-01 15:34:00.249912: I tensorflow/core/common_runtime/bfc_allocator.cc:1066] InUse at 7fbad71d8400 of size 28311552 next 401\n",
      "2022-04-01 15:34:00.249917: I tensorflow/core/common_runtime/bfc_allocator.cc:1066] InUse at 7fbad8cd8400 of size 2048 next 402\n",
      "2022-04-01 15:34:00.249921: I tensorflow/core/common_runtime/bfc_allocator.cc:1066] InUse at 7fbad8cd8c00 of size 2048 next 403\n",
      "2022-04-01 15:34:00.249926: I tensorflow/core/common_runtime/bfc_allocator.cc:1066] InUse at 7fbad8cd9400 of size 2048 next 404\n",
      "2022-04-01 15:34:00.249931: I tensorflow/core/common_runtime/bfc_allocator.cc:1066] InUse at 7fbad8cd9c00 of size 4194304 next 405\n",
      "2022-04-01 15:34:00.249935: I tensorflow/core/common_runtime/bfc_allocator.cc:1066] InUse at 7fbad90d9c00 of size 1024 next 406\n",
      "2022-04-01 15:34:00.249940: I tensorflow/core/common_runtime/bfc_allocator.cc:1066] InUse at 7fbad90da000 of size 14155776 next 407\n",
      "2022-04-01 15:34:00.249945: I tensorflow/core/common_runtime/bfc_allocator.cc:1066] InUse at 7fbad9e5a000 of size 1024 next 408\n",
      "2022-04-01 15:34:00.249949: I tensorflow/core/common_runtime/bfc_allocator.cc:1066] InUse at 7fbad9e5a400 of size 1024 next 409\n",
      "2022-04-01 15:34:00.249954: I tensorflow/core/common_runtime/bfc_allocator.cc:1066] InUse at 7fbad9e5a800 of size 1024 next 410\n",
      "2022-04-01 15:34:00.249959: I tensorflow/core/common_runtime/bfc_allocator.cc:1066] InUse at 7fbad9e5ac00 of size 7077888 next 411\n",
      "2022-04-01 15:34:00.249963: I tensorflow/core/common_runtime/bfc_allocator.cc:1066] InUse at 7fbada51ac00 of size 1024 next 412\n",
      "2022-04-01 15:34:00.249968: I tensorflow/core/common_runtime/bfc_allocator.cc:1066] InUse at 7fbada51b000 of size 1024 next 413\n",
      "2022-04-01 15:34:00.249972: I tensorflow/core/common_runtime/bfc_allocator.cc:1066] InUse at 7fbada51b400 of size 1024 next 414\n",
      "2022-04-01 15:34:00.249977: I tensorflow/core/common_runtime/bfc_allocator.cc:1066] InUse at 7fbada51b800 of size 1048576 next 415\n",
      "2022-04-01 15:34:00.249982: I tensorflow/core/common_runtime/bfc_allocator.cc:1066] InUse at 7fbada61b800 of size 512 next 416\n",
      "2022-04-01 15:34:00.249987: I tensorflow/core/common_runtime/bfc_allocator.cc:1066] InUse at 7fbada61ba00 of size 3538944 next 417\n",
      "2022-04-01 15:34:00.249991: I tensorflow/core/common_runtime/bfc_allocator.cc:1066] InUse at 7fbada97ba00 of size 512 next 418\n",
      "2022-04-01 15:34:00.249996: I tensorflow/core/common_runtime/bfc_allocator.cc:1066] InUse at 7fbada97bc00 of size 512 next 419\n",
      "2022-04-01 15:34:00.250001: I tensorflow/core/common_runtime/bfc_allocator.cc:1066] InUse at 7fbada97be00 of size 512 next 420\n",
      "2022-04-01 15:34:00.250005: I tensorflow/core/common_runtime/bfc_allocator.cc:1066] InUse at 7fbada97c000 of size 1769472 next 421\n",
      "2022-04-01 15:34:00.250010: I tensorflow/core/common_runtime/bfc_allocator.cc:1066] InUse at 7fbadab2c000 of size 512 next 422\n",
      "2022-04-01 15:34:00.250015: I tensorflow/core/common_runtime/bfc_allocator.cc:1066] InUse at 7fbadab2c200 of size 512 next 423\n",
      "2022-04-01 15:34:00.250019: I tensorflow/core/common_runtime/bfc_allocator.cc:1066] InUse at 7fbadab2c400 of size 512 next 424\n",
      "2022-04-01 15:34:00.250024: I tensorflow/core/common_runtime/bfc_allocator.cc:1066] InUse at 7fbadab2c600 of size 262144 next 425\n",
      "2022-04-01 15:34:00.250028: I tensorflow/core/common_runtime/bfc_allocator.cc:1066] InUse at 7fbadab6c600 of size 256 next 426\n",
      "2022-04-01 15:34:00.250033: I tensorflow/core/common_runtime/bfc_allocator.cc:1066] InUse at 7fbadab6c700 of size 884736 next 427\n",
      "2022-04-01 15:34:00.250038: I tensorflow/core/common_runtime/bfc_allocator.cc:1066] InUse at 7fbadac44700 of size 256 next 428\n",
      "2022-04-01 15:34:00.250042: I tensorflow/core/common_runtime/bfc_allocator.cc:1066] InUse at 7fbadac44800 of size 256 next 429\n",
      "2022-04-01 15:34:00.250047: I tensorflow/core/common_runtime/bfc_allocator.cc:1066] InUse at 7fbadac44900 of size 256 next 430\n",
      "2022-04-01 15:34:00.250053: I tensorflow/core/common_runtime/bfc_allocator.cc:1066] InUse at 7fbadac44a00 of size 442368 next 431\n",
      "2022-04-01 15:34:00.250057: I tensorflow/core/common_runtime/bfc_allocator.cc:1066] InUse at 7fbadacb0a00 of size 256 next 432\n",
      "2022-04-01 15:34:00.250062: I tensorflow/core/common_runtime/bfc_allocator.cc:1066] InUse at 7fbadacb0b00 of size 256 next 433\n",
      "2022-04-01 15:34:00.250066: I tensorflow/core/common_runtime/bfc_allocator.cc:1066] InUse at 7fbadacb0c00 of size 256 next 434\n",
      "2022-04-01 15:34:00.250072: I tensorflow/core/common_runtime/bfc_allocator.cc:1066] InUse at 7fbadacb0d00 of size 65536 next 435\n",
      "2022-04-01 15:34:00.250076: I tensorflow/core/common_runtime/bfc_allocator.cc:1066] InUse at 7fbadacc0d00 of size 256 next 436\n",
      "2022-04-01 15:34:00.250081: I tensorflow/core/common_runtime/bfc_allocator.cc:1066] InUse at 7fbadacc0e00 of size 221184 next 437\n",
      "2022-04-01 15:34:00.250086: I tensorflow/core/common_runtime/bfc_allocator.cc:1066] InUse at 7fbadacf6e00 of size 256 next 438\n",
      "2022-04-01 15:34:00.250090: I tensorflow/core/common_runtime/bfc_allocator.cc:1066] InUse at 7fbadacf6f00 of size 256 next 439\n",
      "2022-04-01 15:34:00.250095: I tensorflow/core/common_runtime/bfc_allocator.cc:1066] InUse at 7fbadacf7000 of size 256 next 440\n",
      "2022-04-01 15:34:00.250099: I tensorflow/core/common_runtime/bfc_allocator.cc:1066] InUse at 7fbadacf7100 of size 110592 next 441\n",
      "2022-04-01 15:34:00.250104: I tensorflow/core/common_runtime/bfc_allocator.cc:1066] InUse at 7fbadad12100 of size 256 next 442\n",
      "2022-04-01 15:34:00.250109: I tensorflow/core/common_runtime/bfc_allocator.cc:1066] InUse at 7fbadad12200 of size 256 next 443\n",
      "2022-04-01 15:34:00.250113: I tensorflow/core/common_runtime/bfc_allocator.cc:1066] InUse at 7fbadad12300 of size 256 next 444\n",
      "2022-04-01 15:34:00.250118: I tensorflow/core/common_runtime/bfc_allocator.cc:1066] InUse at 7fbadad12400 of size 512 next 445\n",
      "2022-04-01 15:34:00.250122: I tensorflow/core/common_runtime/bfc_allocator.cc:1066] InUse at 7fbadad12600 of size 256 next 446\n",
      "2022-04-01 15:34:00.250127: I tensorflow/core/common_runtime/bfc_allocator.cc:1066] InUse at 7fbadad12700 of size 256 next 502\n",
      "2022-04-01 15:34:00.250132: I tensorflow/core/common_runtime/bfc_allocator.cc:1066] InUse at 7fbadad12800 of size 256 next 448\n",
      "2022-04-01 15:34:00.250136: I tensorflow/core/common_runtime/bfc_allocator.cc:1066] InUse at 7fbadad12900 of size 256 next 449\n",
      "2022-04-01 15:34:00.250141: I tensorflow/core/common_runtime/bfc_allocator.cc:1066] InUse at 7fbadad12a00 of size 256 next 450\n",
      "2022-04-01 15:34:00.250145: I tensorflow/core/common_runtime/bfc_allocator.cc:1066] InUse at 7fbadad12b00 of size 256 next 451\n",
      "2022-04-01 15:34:00.250150: I tensorflow/core/common_runtime/bfc_allocator.cc:1066] InUse at 7fbadad12c00 of size 256 next 452\n",
      "2022-04-01 15:34:00.250154: I tensorflow/core/common_runtime/bfc_allocator.cc:1066] InUse at 7fbadad12d00 of size 256 next 453\n",
      "2022-04-01 15:34:00.250159: I tensorflow/core/common_runtime/bfc_allocator.cc:1066] InUse at 7fbadad12e00 of size 256 next 454\n",
      "2022-04-01 15:34:00.250163: I tensorflow/core/common_runtime/bfc_allocator.cc:1066] InUse at 7fbadad12f00 of size 256 next 455\n",
      "2022-04-01 15:34:00.250168: I tensorflow/core/common_runtime/bfc_allocator.cc:1066] InUse at 7fbadad13000 of size 256 next 456\n",
      "2022-04-01 15:34:00.250173: I tensorflow/core/common_runtime/bfc_allocator.cc:1066] InUse at 7fbadad13100 of size 256 next 457\n",
      "2022-04-01 15:34:00.250177: I tensorflow/core/common_runtime/bfc_allocator.cc:1066] InUse at 7fbadad13200 of size 256 next 458\n",
      "2022-04-01 15:34:00.250182: I tensorflow/core/common_runtime/bfc_allocator.cc:1066] InUse at 7fbadad13300 of size 256 next 459\n",
      "2022-04-01 15:34:00.250186: I tensorflow/core/common_runtime/bfc_allocator.cc:1066] InUse at 7fbadad13400 of size 256 next 460\n",
      "2022-04-01 15:34:00.250191: I tensorflow/core/common_runtime/bfc_allocator.cc:1066] InUse at 7fbadad13500 of size 256 next 461\n",
      "2022-04-01 15:34:00.250195: I tensorflow/core/common_runtime/bfc_allocator.cc:1066] InUse at 7fbadad13600 of size 256 next 462\n",
      "2022-04-01 15:34:00.250200: I tensorflow/core/common_runtime/bfc_allocator.cc:1066] InUse at 7fbadad13700 of size 256 next 463\n",
      "2022-04-01 15:34:00.250205: I tensorflow/core/common_runtime/bfc_allocator.cc:1066] InUse at 7fbadad13800 of size 50331648 next 518\n",
      "2022-04-01 15:34:00.250210: I tensorflow/core/common_runtime/bfc_allocator.cc:1066] InUse at 7fbaddd13800 of size 221184 next 594\n",
      "2022-04-01 15:34:00.250214: I tensorflow/core/common_runtime/bfc_allocator.cc:1066] Free  at 7fbaddd49800 of size 66887680 next 515\n",
      "2022-04-01 15:34:00.250219: I tensorflow/core/common_runtime/bfc_allocator.cc:1066] InUse at 7fbae1d13800 of size 50331648 next 467\n",
      "2022-04-01 15:34:00.250224: I tensorflow/core/common_runtime/bfc_allocator.cc:1066] InUse at 7fbae4d13800 of size 637534208 next 573\n",
      "2022-04-01 15:34:00.250229: I tensorflow/core/common_runtime/bfc_allocator.cc:1066] InUse at 7fbb0ad13800 of size 2048 next 498\n",
      "2022-04-01 15:34:00.250234: I tensorflow/core/common_runtime/bfc_allocator.cc:1066] InUse at 7fbb0ad14000 of size 4198400 next 489\n",
      "2022-04-01 15:34:00.250238: I tensorflow/core/common_runtime/bfc_allocator.cc:1066] InUse at 7fbb0b115000 of size 1024 next 504\n",
      "2022-04-01 15:34:00.250243: I tensorflow/core/common_runtime/bfc_allocator.cc:1066] InUse at 7fbb0b115400 of size 1024 next 525\n",
      "2022-04-01 15:34:00.250248: I tensorflow/core/common_runtime/bfc_allocator.cc:1066] InUse at 7fbb0b115800 of size 1024 next 496\n",
      "2022-04-01 15:34:00.250252: I tensorflow/core/common_runtime/bfc_allocator.cc:1066] InUse at 7fbb0b115c00 of size 1024 next 563\n",
      "2022-04-01 15:34:00.250257: I tensorflow/core/common_runtime/bfc_allocator.cc:1066] InUse at 7fbb0b116000 of size 4194304 next 571\n",
      "2022-04-01 15:34:00.250262: I tensorflow/core/common_runtime/bfc_allocator.cc:1066] InUse at 7fbb0b516000 of size 1048576 next 572\n",
      "2022-04-01 15:34:00.250267: I tensorflow/core/common_runtime/bfc_allocator.cc:1066] InUse at 7fbb0b616000 of size 3149824 next 578\n",
      "2022-04-01 15:34:00.250271: I tensorflow/core/common_runtime/bfc_allocator.cc:1066] InUse at 7fbb0b917000 of size 1024 next 574\n",
      "2022-04-01 15:34:00.250276: I tensorflow/core/common_runtime/bfc_allocator.cc:1066] InUse at 7fbb0b917400 of size 1024 next 476\n",
      "2022-04-01 15:34:00.250281: I tensorflow/core/common_runtime/bfc_allocator.cc:1066] InUse at 7fbb0b917800 of size 16777216 next 220\n",
      "2022-04-01 15:34:00.250286: I tensorflow/core/common_runtime/bfc_allocator.cc:1066] InUse at 7fbb0c917800 of size 20969472 next 465\n",
      "2022-04-01 15:34:00.250291: I tensorflow/core/common_runtime/bfc_allocator.cc:1066] InUse at 7fbb0dd17000 of size 512 next 570\n",
      "2022-04-01 15:34:00.250295: I tensorflow/core/common_runtime/bfc_allocator.cc:1066] InUse at 7fbb0dd17200 of size 512 next 492\n",
      "2022-04-01 15:34:00.250300: I tensorflow/core/common_runtime/bfc_allocator.cc:1066] InUse at 7fbb0dd17400 of size 536870912 next 544\n",
      "2022-04-01 15:34:00.250305: I tensorflow/core/common_runtime/bfc_allocator.cc:1066] InUse at 7fbb2dd17400 of size 536870912 next 481\n",
      "2022-04-01 15:34:00.250310: I tensorflow/core/common_runtime/bfc_allocator.cc:1066] InUse at 7fbb4dd17400 of size 536870912 next 500\n",
      "2022-04-01 15:34:00.250315: I tensorflow/core/common_runtime/bfc_allocator.cc:1066] InUse at 7fbb6dd17400 of size 624941056 next 537\n",
      "2022-04-01 15:34:00.250320: I tensorflow/core/common_runtime/bfc_allocator.cc:1066] InUse at 7fbb93114c00 of size 2048 next 485\n",
      "2022-04-01 15:34:00.250325: I tensorflow/core/common_runtime/bfc_allocator.cc:1066] InUse at 7fbb93115400 of size 512 next 590\n",
      "2022-04-01 15:34:00.250329: I tensorflow/core/common_runtime/bfc_allocator.cc:1066] InUse at 7fbb93115600 of size 1024 next 484\n",
      "2022-04-01 15:34:00.250334: I tensorflow/core/common_runtime/bfc_allocator.cc:1066] InUse at 7fbb93115a00 of size 1024 next 493\n",
      "2022-04-01 15:34:00.250339: I tensorflow/core/common_runtime/bfc_allocator.cc:1066] InUse at 7fbb93115e00 of size 1024 next 471\n",
      "2022-04-01 15:34:00.250343: I tensorflow/core/common_runtime/bfc_allocator.cc:1066] InUse at 7fbb93116200 of size 1024 next 520\n",
      "2022-04-01 15:34:00.250348: I tensorflow/core/common_runtime/bfc_allocator.cc:1066] InUse at 7fbb93116600 of size 1024 next 179\n",
      "2022-04-01 15:34:00.250352: I tensorflow/core/common_runtime/bfc_allocator.cc:1066] InUse at 7fbb93116a00 of size 1024 next 593\n",
      "2022-04-01 15:34:00.250357: I tensorflow/core/common_runtime/bfc_allocator.cc:1066] InUse at 7fbb93116e00 of size 2090496 next 499\n",
      "2022-04-01 15:34:00.250362: I tensorflow/core/common_runtime/bfc_allocator.cc:1066] InUse at 7fbb93315400 of size 512 next 566\n",
      "2022-04-01 15:34:00.250367: I tensorflow/core/common_runtime/bfc_allocator.cc:1066] Free  at 7fbb93315600 of size 536870912 next 533\n",
      "2022-04-01 15:34:00.250371: I tensorflow/core/common_runtime/bfc_allocator.cc:1066] InUse at 7fbbb3315600 of size 67108864 next 477\n",
      "2022-04-01 15:34:00.250376: I tensorflow/core/common_runtime/bfc_allocator.cc:1066] InUse at 7fbbb7315600 of size 67108864 next 530\n",
      "2022-04-01 15:34:00.250381: I tensorflow/core/common_runtime/bfc_allocator.cc:1066] InUse at 7fbbbb315600 of size 134217728 next 534\n",
      "2022-04-01 15:34:00.250386: I tensorflow/core/common_runtime/bfc_allocator.cc:1066] InUse at 7fbbc3315600 of size 134217728 next 584\n",
      "2022-04-01 15:34:00.250391: I tensorflow/core/common_runtime/bfc_allocator.cc:1066] InUse at 7fbbcb315600 of size 134217728 next 526\n",
      "2022-04-01 15:34:00.250395: I tensorflow/core/common_runtime/bfc_allocator.cc:1066] InUse at 7fbbd3315600 of size 134217728 next 505\n",
      "2022-04-01 15:34:00.250400: I tensorflow/core/common_runtime/bfc_allocator.cc:1066] InUse at 7fbbdb315600 of size 134217728 next 527\n",
      "2022-04-01 15:34:00.250404: I tensorflow/core/common_runtime/bfc_allocator.cc:1066] InUse at 7fbbe3315600 of size 134217728 next 546\n",
      "2022-04-01 15:34:00.250409: I tensorflow/core/common_runtime/bfc_allocator.cc:1066] InUse at 7fbbeb315600 of size 33554432 next 536\n",
      "2022-04-01 15:34:00.250414: I tensorflow/core/common_runtime/bfc_allocator.cc:1066] InUse at 7fbbed315600 of size 33554432 next 510\n",
      "2022-04-01 15:34:00.250420: I tensorflow/core/common_runtime/bfc_allocator.cc:1066] InUse at 7fbbef315600 of size 41943040 next 540\n",
      "2022-04-01 15:34:00.250424: I tensorflow/core/common_runtime/bfc_allocator.cc:1066] InUse at 7fbbf1b15600 of size 33554432 next 586\n",
      "2022-04-01 15:34:00.250429: I tensorflow/core/common_runtime/bfc_allocator.cc:1066] InUse at 7fbbf3b15600 of size 33554432 next 478\n",
      "2022-04-01 15:34:00.250434: I tensorflow/core/common_runtime/bfc_allocator.cc:1066] InUse at 7fbbf5b15600 of size 8388608 next 474\n",
      "2022-04-01 15:34:00.250439: I tensorflow/core/common_runtime/bfc_allocator.cc:1066] InUse at 7fbbf6315600 of size 8388608 next 531\n",
      "2022-04-01 15:34:00.250443: I tensorflow/core/common_runtime/bfc_allocator.cc:1066] InUse at 7fbbf6b15600 of size 8388608 next 555\n",
      "2022-04-01 15:34:00.250448: I tensorflow/core/common_runtime/bfc_allocator.cc:1066] InUse at 7fbbf7315600 of size 8388608 next 539\n",
      "2022-04-01 15:34:00.250453: I tensorflow/core/common_runtime/bfc_allocator.cc:1066] InUse at 7fbbf7b15600 of size 8388608 next 173\n",
      "2022-04-01 15:34:00.250457: I tensorflow/core/common_runtime/bfc_allocator.cc:1066] InUse at 7fbbf8315600 of size 8388608 next 565\n",
      "2022-04-01 15:34:00.250462: I tensorflow/core/common_runtime/bfc_allocator.cc:1066] InUse at 7fbbf8b15600 of size 2097152 next 595\n",
      "2022-04-01 15:34:00.250467: I tensorflow/core/common_runtime/bfc_allocator.cc:1066] InUse at 7fbbf8d15600 of size 2048 next 559\n",
      "2022-04-01 15:34:00.250471: I tensorflow/core/common_runtime/bfc_allocator.cc:1066] InUse at 7fbbf8d15e00 of size 2048 next 517\n",
      "2022-04-01 15:34:00.250476: I tensorflow/core/common_runtime/bfc_allocator.cc:1066] InUse at 7fbbf8d16600 of size 2048 next 206\n",
      "2022-04-01 15:34:00.250481: I tensorflow/core/common_runtime/bfc_allocator.cc:1066] InUse at 7fbbf8d16e00 of size 2097152 next 185\n",
      "2022-04-01 15:34:00.250486: I tensorflow/core/common_runtime/bfc_allocator.cc:1066] InUse at 7fbbf8f16e00 of size 2097152 next 575\n",
      "2022-04-01 15:34:00.250490: I tensorflow/core/common_runtime/bfc_allocator.cc:1066] InUse at 7fbbf9116e00 of size 2048 next 568\n",
      "2022-04-01 15:34:00.250496: I tensorflow/core/common_runtime/bfc_allocator.cc:1066] InUse at 7fbbf9117600 of size 2048 next 587\n",
      "2022-04-01 15:34:00.250501: I tensorflow/core/common_runtime/bfc_allocator.cc:1066] InUse at 7fbbf9117e00 of size 8388608 next 585\n",
      "2022-04-01 15:34:00.250506: I tensorflow/core/common_runtime/bfc_allocator.cc:1066] InUse at 7fbbf9917e00 of size 12582912 next 592\n",
      "2022-04-01 15:34:00.250510: I tensorflow/core/common_runtime/bfc_allocator.cc:1066] InUse at 7fbbfa517e00 of size 16777216 next 480\n",
      "2022-04-01 15:34:00.250515: I tensorflow/core/common_runtime/bfc_allocator.cc:1066] InUse at 7fbbfb517e00 of size 8388608 next 486\n",
      "2022-04-01 15:34:00.250520: I tensorflow/core/common_runtime/bfc_allocator.cc:1066] InUse at 7fbbfbd17e00 of size 1024 next 213\n",
      "2022-04-01 15:34:00.250524: I tensorflow/core/common_runtime/bfc_allocator.cc:1066] InUse at 7fbbfbd18200 of size 1024 next 521\n",
      "2022-04-01 15:34:00.250529: I tensorflow/core/common_runtime/bfc_allocator.cc:1066] InUse at 7fbbfbd18600 of size 33554432 next 252\n",
      "2022-04-01 15:34:00.250534: I tensorflow/core/common_runtime/bfc_allocator.cc:1066] InUse at 7fbbfdd18600 of size 34603008 next 523\n",
      "2022-04-01 15:34:00.250539: I tensorflow/core/common_runtime/bfc_allocator.cc:1066] InUse at 7fbbffe18600 of size 67108864 next 469\n",
      "2022-04-01 15:34:00.250543: I tensorflow/core/common_runtime/bfc_allocator.cc:1066] InUse at 7fbc03e18600 of size 33554432 next 589\n",
      "2022-04-01 15:34:00.250548: I tensorflow/core/common_runtime/bfc_allocator.cc:1066] InUse at 7fbc05e18600 of size 134217728 next 470\n",
      "2022-04-01 15:34:00.250553: I tensorflow/core/common_runtime/bfc_allocator.cc:1066] InUse at 7fbc0de18600 of size 134479872 next 519\n",
      "2022-04-01 15:34:00.250558: I tensorflow/core/common_runtime/bfc_allocator.cc:1066] InUse at 7fbc15e58600 of size 268435456 next 564\n",
      "2022-04-01 15:34:00.250562: I tensorflow/core/common_runtime/bfc_allocator.cc:1066] InUse at 7fbc25e58600 of size 134217728 next 547\n",
      "2022-04-01 15:34:00.250586: I tensorflow/core/common_runtime/bfc_allocator.cc:1066] InUse at 7fbc2de58600 of size 536870912 next 528\n",
      "2022-04-01 15:34:00.250590: I tensorflow/core/common_runtime/bfc_allocator.cc:1066] Free  at 7fbc4de58600 of size 536936448 next 483\n",
      "2022-04-01 15:34:00.250595: I tensorflow/core/common_runtime/bfc_allocator.cc:1066] InUse at 7fbc6de68600 of size 1073741824 next 494\n",
      "2022-04-01 15:34:00.250600: I tensorflow/core/common_runtime/bfc_allocator.cc:1066] Free  at 7fbcade68600 of size 570426112 next 598\n",
      "2022-04-01 15:34:00.250604: I tensorflow/core/common_runtime/bfc_allocator.cc:1066] InUse at 7fbccfe68900 of size 256 next 597\n",
      "2022-04-01 15:34:00.250609: I tensorflow/core/common_runtime/bfc_allocator.cc:1066] InUse at 7fbccfe68a00 of size 1073741824 next 576\n",
      "2022-04-01 15:34:00.250613: I tensorflow/core/common_runtime/bfc_allocator.cc:1066] Free  at 7fbd0fe68a00 of size 1060140544 next 18446744073709551615\n",
      "2022-04-01 15:34:00.250618: I tensorflow/core/common_runtime/bfc_allocator.cc:1071]      Summary of in-use Chunks by size: \n",
      "2022-04-01 15:34:00.250626: I tensorflow/core/common_runtime/bfc_allocator.cc:1074] 236 Chunks of size 256 totalling 59.0KiB\n",
      "2022-04-01 15:34:00.250633: I tensorflow/core/common_runtime/bfc_allocator.cc:1074] 77 Chunks of size 512 totalling 38.5KiB\n",
      "2022-04-01 15:34:00.250638: I tensorflow/core/common_runtime/bfc_allocator.cc:1074] 3 Chunks of size 768 totalling 2.2KiB\n",
      "2022-04-01 15:34:00.250644: I tensorflow/core/common_runtime/bfc_allocator.cc:1074] 72 Chunks of size 1024 totalling 72.0KiB\n",
      "2022-04-01 15:34:00.250649: I tensorflow/core/common_runtime/bfc_allocator.cc:1074] 3 Chunks of size 1280 totalling 3.8KiB\n",
      "2022-04-01 15:34:00.250655: I tensorflow/core/common_runtime/bfc_allocator.cc:1074] 2 Chunks of size 1792 totalling 3.5KiB\n",
      "2022-04-01 15:34:00.250660: I tensorflow/core/common_runtime/bfc_allocator.cc:1074] 36 Chunks of size 2048 totalling 72.0KiB\n",
      "2022-04-01 15:34:00.250666: I tensorflow/core/common_runtime/bfc_allocator.cc:1074] 4 Chunks of size 10496 totalling 41.0KiB\n",
      "2022-04-01 15:34:00.250672: I tensorflow/core/common_runtime/bfc_allocator.cc:1074] 2 Chunks of size 65536 totalling 128.0KiB\n",
      "2022-04-01 15:34:00.250677: I tensorflow/core/common_runtime/bfc_allocator.cc:1074] 1 Chunks of size 79872 totalling 78.0KiB\n",
      "2022-04-01 15:34:00.250683: I tensorflow/core/common_runtime/bfc_allocator.cc:1074] 1 Chunks of size 108032 totalling 105.5KiB\n",
      "2022-04-01 15:34:00.250688: I tensorflow/core/common_runtime/bfc_allocator.cc:1074] 6 Chunks of size 110592 totalling 648.0KiB\n",
      "2022-04-01 15:34:00.250694: I tensorflow/core/common_runtime/bfc_allocator.cc:1074] 1 Chunks of size 151552 totalling 148.0KiB\n",
      "2022-04-01 15:34:00.250699: I tensorflow/core/common_runtime/bfc_allocator.cc:1074] 1 Chunks of size 192512 totalling 188.0KiB\n",
      "2022-04-01 15:34:00.250705: I tensorflow/core/common_runtime/bfc_allocator.cc:1074] 9 Chunks of size 221184 totalling 1.90MiB\n",
      "2022-04-01 15:34:00.250710: I tensorflow/core/common_runtime/bfc_allocator.cc:1074] 2 Chunks of size 262144 totalling 512.0KiB\n",
      "2022-04-01 15:34:00.250716: I tensorflow/core/common_runtime/bfc_allocator.cc:1074] 1 Chunks of size 360448 totalling 352.0KiB\n",
      "2022-04-01 15:34:00.250722: I tensorflow/core/common_runtime/bfc_allocator.cc:1074] 1 Chunks of size 401408 totalling 392.0KiB\n",
      "2022-04-01 15:34:00.250727: I tensorflow/core/common_runtime/bfc_allocator.cc:1074] 8 Chunks of size 442368 totalling 3.38MiB\n",
      "2022-04-01 15:34:00.250732: I tensorflow/core/common_runtime/bfc_allocator.cc:1074] 8 Chunks of size 884736 totalling 6.75MiB\n",
      "2022-04-01 15:34:00.250738: I tensorflow/core/common_runtime/bfc_allocator.cc:1074] 2 Chunks of size 1048576 totalling 2.00MiB\n",
      "2022-04-01 15:34:00.250743: I tensorflow/core/common_runtime/bfc_allocator.cc:1074] 1 Chunks of size 1441792 totalling 1.38MiB\n",
      "2022-04-01 15:34:00.250748: I tensorflow/core/common_runtime/bfc_allocator.cc:1074] 1 Chunks of size 1654784 totalling 1.58MiB\n",
      "2022-04-01 15:34:00.250754: I tensorflow/core/common_runtime/bfc_allocator.cc:1074] 9 Chunks of size 1769472 totalling 15.19MiB\n",
      "2022-04-01 15:34:00.250759: I tensorflow/core/common_runtime/bfc_allocator.cc:1074] 1 Chunks of size 2090496 totalling 1.99MiB\n",
      "2022-04-01 15:34:00.250764: I tensorflow/core/common_runtime/bfc_allocator.cc:1074] 3 Chunks of size 2097152 totalling 6.00MiB\n",
      "2022-04-01 15:34:00.250769: I tensorflow/core/common_runtime/bfc_allocator.cc:1074] 1 Chunks of size 3149824 totalling 3.00MiB\n",
      "2022-04-01 15:34:00.250775: I tensorflow/core/common_runtime/bfc_allocator.cc:1074] 8 Chunks of size 3538944 totalling 27.00MiB\n",
      "2022-04-01 15:34:00.250780: I tensorflow/core/common_runtime/bfc_allocator.cc:1074] 2 Chunks of size 4194304 totalling 8.00MiB\n",
      "2022-04-01 15:34:00.250785: I tensorflow/core/common_runtime/bfc_allocator.cc:1074] 1 Chunks of size 4198400 totalling 4.00MiB\n",
      "2022-04-01 15:34:00.250791: I tensorflow/core/common_runtime/bfc_allocator.cc:1074] 1 Chunks of size 4849664 totalling 4.62MiB\n",
      "2022-04-01 15:34:00.250796: I tensorflow/core/common_runtime/bfc_allocator.cc:1074] 1 Chunks of size 5767168 totalling 5.50MiB\n",
      "2022-04-01 15:34:00.250802: I tensorflow/core/common_runtime/bfc_allocator.cc:1074] 9 Chunks of size 7077888 totalling 60.75MiB\n",
      "2022-04-01 15:34:00.250807: I tensorflow/core/common_runtime/bfc_allocator.cc:1074] 8 Chunks of size 8388608 totalling 64.00MiB\n",
      "2022-04-01 15:34:00.250813: I tensorflow/core/common_runtime/bfc_allocator.cc:1074] 1 Chunks of size 12582912 totalling 12.00MiB\n",
      "2022-04-01 15:34:00.250818: I tensorflow/core/common_runtime/bfc_allocator.cc:1074] 8 Chunks of size 14155776 totalling 108.00MiB\n",
      "2022-04-01 15:34:00.250824: I tensorflow/core/common_runtime/bfc_allocator.cc:1074] 2 Chunks of size 16777216 totalling 32.00MiB\n",
      "2022-04-01 15:34:00.250830: I tensorflow/core/common_runtime/bfc_allocator.cc:1074] 1 Chunks of size 20969472 totalling 20.00MiB\n",
      "2022-04-01 15:34:00.250835: I tensorflow/core/common_runtime/bfc_allocator.cc:1074] 3 Chunks of size 28311552 totalling 81.00MiB\n",
      "2022-04-01 15:34:00.250841: I tensorflow/core/common_runtime/bfc_allocator.cc:1074] 6 Chunks of size 33554432 totalling 192.00MiB\n",
      "2022-04-01 15:34:00.250846: I tensorflow/core/common_runtime/bfc_allocator.cc:1074] 1 Chunks of size 34603008 totalling 33.00MiB\n",
      "2022-04-01 15:34:00.250852: I tensorflow/core/common_runtime/bfc_allocator.cc:1074] 1 Chunks of size 41943040 totalling 40.00MiB\n",
      "2022-04-01 15:34:00.250857: I tensorflow/core/common_runtime/bfc_allocator.cc:1074] 1 Chunks of size 42467328 totalling 40.50MiB\n",
      "2022-04-01 15:34:00.250863: I tensorflow/core/common_runtime/bfc_allocator.cc:1074] 2 Chunks of size 50331648 totalling 96.00MiB\n",
      "2022-04-01 15:34:00.250868: I tensorflow/core/common_runtime/bfc_allocator.cc:1074] 3 Chunks of size 67108864 totalling 192.00MiB\n",
      "2022-04-01 15:34:00.250874: I tensorflow/core/common_runtime/bfc_allocator.cc:1074] 8 Chunks of size 134217728 totalling 1.00GiB\n",
      "2022-04-01 15:34:00.250879: I tensorflow/core/common_runtime/bfc_allocator.cc:1074] 1 Chunks of size 134479872 totalling 128.25MiB\n",
      "2022-04-01 15:34:00.250885: I tensorflow/core/common_runtime/bfc_allocator.cc:1074] 1 Chunks of size 268435456 totalling 256.00MiB\n",
      "2022-04-01 15:34:00.250890: I tensorflow/core/common_runtime/bfc_allocator.cc:1074] 4 Chunks of size 536870912 totalling 2.00GiB\n",
      "2022-04-01 15:34:00.250896: I tensorflow/core/common_runtime/bfc_allocator.cc:1074] 1 Chunks of size 624941056 totalling 595.99MiB\n",
      "2022-04-01 15:34:00.250902: I tensorflow/core/common_runtime/bfc_allocator.cc:1074] 1 Chunks of size 637534208 totalling 608.00MiB\n",
      "2022-04-01 15:34:00.250907: I tensorflow/core/common_runtime/bfc_allocator.cc:1074] 2 Chunks of size 1073741824 totalling 2.00GiB\n",
      "2022-04-01 15:34:00.250912: I tensorflow/core/common_runtime/bfc_allocator.cc:1078] Sum Total of in-use chunks: 7.59GiB\n",
      "2022-04-01 15:34:00.250918: I tensorflow/core/common_runtime/bfc_allocator.cc:1080] total_region_allocated_bytes_: 10923474944 memory_limit_: 10923474944 available bytes: 0 curr_region_allocation_bytes_: 21846949888\n",
      "2022-04-01 15:34:00.250928: I tensorflow/core/common_runtime/bfc_allocator.cc:1086] Stats: \n",
      "Limit:                     10923474944\n",
      "InUse:                      8152212480\n",
      "MaxInUse:                  10856365824\n",
      "NumAllocs:                      125875\n",
      "MaxAllocSize:               2470445056\n",
      "Reserved:                            0\n",
      "PeakReserved:                        0\n",
      "LargestFreeBlock:                    0\n",
      "\n",
      "2022-04-01 15:34:00.250962: W tensorflow/core/common_runtime/bfc_allocator.cc:474] ********************************____*************************____***********____***********_________\n",
      "2022-04-01 15:34:00.251012: W tensorflow/core/framework/op_kernel.cc:1745] OP_REQUIRES failed at conv_grad_ops_3d.cc:1472 : RESOURCE_EXHAUSTED: OOM when allocating tensor with shape[2,64,128,128,128] and type float on /job:localhost/replica:0/task:0/device:GPU:0 by allocator GPU_0_bfc\n"
     ]
    },
    {
     "ename": "ResourceExhaustedError",
     "evalue": "Graph execution error:\n\nDetected at node 'gradient_tape/u-net/conv3d_35/Conv3D/Conv3DBackpropInputV2' defined at (most recent call last):\n    File \"/home/atom/.miniconda/lib/python3.9/runpy.py\", line 197, in _run_module_as_main\n      return _run_code(code, main_globals, None,\n    File \"/home/atom/.miniconda/lib/python3.9/runpy.py\", line 87, in _run_code\n      exec(code, run_globals)\n    File \"/home/atom/.miniconda/lib/python3.9/site-packages/ipykernel_launcher.py\", line 16, in <module>\n      app.launch_new_instance()\n    File \"/home/atom/.miniconda/lib/python3.9/site-packages/traitlets/config/application.py\", line 846, in launch_instance\n      app.start()\n    File \"/home/atom/.miniconda/lib/python3.9/site-packages/ipykernel/kernelapp.py\", line 677, in start\n      self.io_loop.start()\n    File \"/home/atom/.miniconda/lib/python3.9/site-packages/tornado/platform/asyncio.py\", line 199, in start\n      self.asyncio_loop.run_forever()\n    File \"/home/atom/.miniconda/lib/python3.9/asyncio/base_events.py\", line 596, in run_forever\n      self._run_once()\n    File \"/home/atom/.miniconda/lib/python3.9/asyncio/base_events.py\", line 1890, in _run_once\n      handle._run()\n    File \"/home/atom/.miniconda/lib/python3.9/asyncio/events.py\", line 80, in _run\n      self._context.run(self._callback, *self._args)\n    File \"/home/atom/.miniconda/lib/python3.9/site-packages/ipykernel/kernelbase.py\", line 471, in dispatch_queue\n      await self.process_one()\n    File \"/home/atom/.miniconda/lib/python3.9/site-packages/ipykernel/kernelbase.py\", line 460, in process_one\n      await dispatch(*args)\n    File \"/home/atom/.miniconda/lib/python3.9/site-packages/ipykernel/kernelbase.py\", line 367, in dispatch_shell\n      await result\n    File \"/home/atom/.miniconda/lib/python3.9/site-packages/ipykernel/kernelbase.py\", line 662, in execute_request\n      reply_content = await reply_content\n    File \"/home/atom/.miniconda/lib/python3.9/site-packages/ipykernel/ipkernel.py\", line 360, in do_execute\n      res = shell.run_cell(code, store_history=store_history, silent=silent)\n    File \"/home/atom/.miniconda/lib/python3.9/site-packages/ipykernel/zmqshell.py\", line 532, in run_cell\n      return super().run_cell(*args, **kwargs)\n    File \"/home/atom/.miniconda/lib/python3.9/site-packages/IPython/core/interactiveshell.py\", line 2854, in run_cell\n      result = self._run_cell(\n    File \"/home/atom/.miniconda/lib/python3.9/site-packages/IPython/core/interactiveshell.py\", line 2900, in _run_cell\n      return runner(coro)\n    File \"/home/atom/.miniconda/lib/python3.9/site-packages/IPython/core/async_helpers.py\", line 129, in _pseudo_sync_runner\n      coro.send(None)\n    File \"/home/atom/.miniconda/lib/python3.9/site-packages/IPython/core/interactiveshell.py\", line 3098, in run_cell_async\n      has_raised = await self.run_ast_nodes(code_ast.body, cell_name,\n    File \"/home/atom/.miniconda/lib/python3.9/site-packages/IPython/core/interactiveshell.py\", line 3301, in run_ast_nodes\n      if await self.run_code(code, result, async_=asy):\n    File \"/home/atom/.miniconda/lib/python3.9/site-packages/IPython/core/interactiveshell.py\", line 3361, in run_code\n      exec(code_obj, self.user_global_ns, self.user_ns)\n    File \"/tmp/ipykernel_587143/637754494.py\", line 81, in <cell line: 1>\n      history = model.fit(train_datagen,\n    File \"/home/atom/.miniconda/lib/python3.9/site-packages/keras/utils/traceback_utils.py\", line 64, in error_handler\n      return fn(*args, **kwargs)\n    File \"/home/atom/.miniconda/lib/python3.9/site-packages/keras/engine/training.py\", line 1384, in fit\n      tmp_logs = self.train_function(iterator)\n    File \"/home/atom/.miniconda/lib/python3.9/site-packages/keras/engine/training.py\", line 1021, in train_function\n      return step_function(self, iterator)\n    File \"/home/atom/.miniconda/lib/python3.9/site-packages/keras/engine/training.py\", line 1010, in step_function\n      outputs = model.distribute_strategy.run(run_step, args=(data,))\n    File \"/home/atom/.miniconda/lib/python3.9/site-packages/keras/engine/training.py\", line 1000, in run_step\n      outputs = model.train_step(data)\n    File \"/home/atom/.miniconda/lib/python3.9/site-packages/keras/engine/training.py\", line 863, in train_step\n      self.optimizer.minimize(loss, self.trainable_variables, tape=tape)\n    File \"/home/atom/.miniconda/lib/python3.9/site-packages/keras/optimizer_v2/optimizer_v2.py\", line 530, in minimize\n      grads_and_vars = self._compute_gradients(\n    File \"/home/atom/.miniconda/lib/python3.9/site-packages/keras/optimizer_v2/optimizer_v2.py\", line 583, in _compute_gradients\n      grads_and_vars = self._get_gradients(tape, loss, var_list, grad_loss)\n    File \"/home/atom/.miniconda/lib/python3.9/site-packages/keras/optimizer_v2/optimizer_v2.py\", line 464, in _get_gradients\n      grads = tape.gradient(loss, var_list, grad_loss)\nNode: 'gradient_tape/u-net/conv3d_35/Conv3D/Conv3DBackpropInputV2'\nOOM when allocating tensor with shape[2,64,128,128,128] and type float on /job:localhost/replica:0/task:0/device:GPU:0 by allocator GPU_0_bfc\n\t [[{{node gradient_tape/u-net/conv3d_35/Conv3D/Conv3DBackpropInputV2}}]]\nHint: If you want to see a list of allocated tensors when OOM happens, add report_tensor_allocations_upon_oom to RunOptions for current allocation info. This isn't available when running in Eager mode.\n [Op:__inference_train_function_7148]",
     "output_type": "error",
     "traceback": [
      "\u001b[0;31m---------------------------------------------------------------------------\u001b[0m",
      "\u001b[0;31mResourceExhaustedError\u001b[0m                    Traceback (most recent call last)",
      "Input \u001b[0;32mIn [5]\u001b[0m, in \u001b[0;36m<cell line: 1>\u001b[0;34m()\u001b[0m\n\u001b[1;32m     75\u001b[0m my_callbacks \u001b[38;5;241m=\u001b[39m [tf\u001b[38;5;241m.\u001b[39mkeras\u001b[38;5;241m.\u001b[39mcallbacks\u001b[38;5;241m.\u001b[39mEarlyStopping(patience \u001b[38;5;241m=\u001b[39m \u001b[38;5;241m5\u001b[39m),\n\u001b[1;32m     76\u001b[0m                 tf\u001b[38;5;241m.\u001b[39mkeras\u001b[38;5;241m.\u001b[39mcallbacks\u001b[38;5;241m.\u001b[39mTensorBoard(log_dir \u001b[38;5;241m=\u001b[39m prefix \u001b[38;5;241m+\u001b[39m \u001b[38;5;124m'\u001b[39m\u001b[38;5;124mmodels/unet\u001b[39m\u001b[38;5;124m'\u001b[39m \u001b[38;5;241m+\u001b[39m \u001b[38;5;124m'\u001b[39m\u001b[38;5;124m./logs\u001b[39m\u001b[38;5;124m'\u001b[39m),\n\u001b[1;32m     77\u001b[0m                 tf\u001b[38;5;241m.\u001b[39mkeras\u001b[38;5;241m.\u001b[39mcallbacks\u001b[38;5;241m.\u001b[39mModelCheckpoint(filepath \u001b[38;5;241m=\u001b[39m prefix \u001b[38;5;241m+\u001b[39m \u001b[38;5;124m'\u001b[39m\u001b[38;5;124m/unet_model_20220321.h5\u001b[39m\u001b[38;5;124m'\u001b[39m, monitor \u001b[38;5;241m=\u001b[39m \u001b[38;5;124m'\u001b[39m\u001b[38;5;124mval_loss\u001b[39m\u001b[38;5;124m'\u001b[39m, save_best_only \u001b[38;5;241m=\u001b[39m \u001b[38;5;28;01mTrue\u001b[39;00m)\n\u001b[1;32m     78\u001b[0m                ]\n\u001b[1;32m     80\u001b[0m \u001b[38;5;28;01mwith\u001b[39;00m tf\u001b[38;5;241m.\u001b[39mdevice(\u001b[38;5;124m'\u001b[39m\u001b[38;5;124m/device:GPU:0\u001b[39m\u001b[38;5;124m'\u001b[39m):\n\u001b[0;32m---> 81\u001b[0m     history \u001b[38;5;241m=\u001b[39m model\u001b[38;5;241m.\u001b[39mfit(train_datagen,\n\u001b[1;32m     82\u001b[0m                         steps_per_epoch \u001b[38;5;241m=\u001b[39m steps_per_epoch,\n\u001b[1;32m     83\u001b[0m                         epochs \u001b[38;5;241m=\u001b[39m \u001b[38;5;241m8\u001b[39m,\n\u001b[1;32m     84\u001b[0m                         verbose \u001b[38;5;241m=\u001b[39m \u001b[38;5;241m1\u001b[39m,\n\u001b[1;32m     85\u001b[0m                         validation_data \u001b[38;5;241m=\u001b[39m test_datagen,\n\u001b[1;32m     86\u001b[0m                         validation_steps \u001b[38;5;241m=\u001b[39m val_steps_per_epoch,\n\u001b[1;32m     87\u001b[0m                         callbacks \u001b[38;5;241m=\u001b[39m my_callbacks)\n",
      "File \u001b[0;32m~/.miniconda/lib/python3.9/site-packages/keras/utils/traceback_utils.py:67\u001b[0m, in \u001b[0;36mfilter_traceback.<locals>.error_handler\u001b[0;34m(*args, **kwargs)\u001b[0m\n\u001b[1;32m     65\u001b[0m \u001b[38;5;28;01mexcept\u001b[39;00m \u001b[38;5;167;01mException\u001b[39;00m \u001b[38;5;28;01mas\u001b[39;00m e:  \u001b[38;5;66;03m# pylint: disable=broad-except\u001b[39;00m\n\u001b[1;32m     66\u001b[0m   filtered_tb \u001b[38;5;241m=\u001b[39m _process_traceback_frames(e\u001b[38;5;241m.\u001b[39m__traceback__)\n\u001b[0;32m---> 67\u001b[0m   \u001b[38;5;28;01mraise\u001b[39;00m e\u001b[38;5;241m.\u001b[39mwith_traceback(filtered_tb) \u001b[38;5;28;01mfrom\u001b[39;00m \u001b[38;5;28mNone\u001b[39m\n\u001b[1;32m     68\u001b[0m \u001b[38;5;28;01mfinally\u001b[39;00m:\n\u001b[1;32m     69\u001b[0m   \u001b[38;5;28;01mdel\u001b[39;00m filtered_tb\n",
      "File \u001b[0;32m~/.miniconda/lib/python3.9/site-packages/tensorflow/python/eager/execute.py:54\u001b[0m, in \u001b[0;36mquick_execute\u001b[0;34m(op_name, num_outputs, inputs, attrs, ctx, name)\u001b[0m\n\u001b[1;32m     52\u001b[0m \u001b[38;5;28;01mtry\u001b[39;00m:\n\u001b[1;32m     53\u001b[0m   ctx\u001b[38;5;241m.\u001b[39mensure_initialized()\n\u001b[0;32m---> 54\u001b[0m   tensors \u001b[38;5;241m=\u001b[39m pywrap_tfe\u001b[38;5;241m.\u001b[39mTFE_Py_Execute(ctx\u001b[38;5;241m.\u001b[39m_handle, device_name, op_name,\n\u001b[1;32m     55\u001b[0m                                       inputs, attrs, num_outputs)\n\u001b[1;32m     56\u001b[0m \u001b[38;5;28;01mexcept\u001b[39;00m core\u001b[38;5;241m.\u001b[39m_NotOkStatusException \u001b[38;5;28;01mas\u001b[39;00m e:\n\u001b[1;32m     57\u001b[0m   \u001b[38;5;28;01mif\u001b[39;00m name \u001b[38;5;129;01mis\u001b[39;00m \u001b[38;5;129;01mnot\u001b[39;00m \u001b[38;5;28;01mNone\u001b[39;00m:\n",
      "\u001b[0;31mResourceExhaustedError\u001b[0m: Graph execution error:\n\nDetected at node 'gradient_tape/u-net/conv3d_35/Conv3D/Conv3DBackpropInputV2' defined at (most recent call last):\n    File \"/home/atom/.miniconda/lib/python3.9/runpy.py\", line 197, in _run_module_as_main\n      return _run_code(code, main_globals, None,\n    File \"/home/atom/.miniconda/lib/python3.9/runpy.py\", line 87, in _run_code\n      exec(code, run_globals)\n    File \"/home/atom/.miniconda/lib/python3.9/site-packages/ipykernel_launcher.py\", line 16, in <module>\n      app.launch_new_instance()\n    File \"/home/atom/.miniconda/lib/python3.9/site-packages/traitlets/config/application.py\", line 846, in launch_instance\n      app.start()\n    File \"/home/atom/.miniconda/lib/python3.9/site-packages/ipykernel/kernelapp.py\", line 677, in start\n      self.io_loop.start()\n    File \"/home/atom/.miniconda/lib/python3.9/site-packages/tornado/platform/asyncio.py\", line 199, in start\n      self.asyncio_loop.run_forever()\n    File \"/home/atom/.miniconda/lib/python3.9/asyncio/base_events.py\", line 596, in run_forever\n      self._run_once()\n    File \"/home/atom/.miniconda/lib/python3.9/asyncio/base_events.py\", line 1890, in _run_once\n      handle._run()\n    File \"/home/atom/.miniconda/lib/python3.9/asyncio/events.py\", line 80, in _run\n      self._context.run(self._callback, *self._args)\n    File \"/home/atom/.miniconda/lib/python3.9/site-packages/ipykernel/kernelbase.py\", line 471, in dispatch_queue\n      await self.process_one()\n    File \"/home/atom/.miniconda/lib/python3.9/site-packages/ipykernel/kernelbase.py\", line 460, in process_one\n      await dispatch(*args)\n    File \"/home/atom/.miniconda/lib/python3.9/site-packages/ipykernel/kernelbase.py\", line 367, in dispatch_shell\n      await result\n    File \"/home/atom/.miniconda/lib/python3.9/site-packages/ipykernel/kernelbase.py\", line 662, in execute_request\n      reply_content = await reply_content\n    File \"/home/atom/.miniconda/lib/python3.9/site-packages/ipykernel/ipkernel.py\", line 360, in do_execute\n      res = shell.run_cell(code, store_history=store_history, silent=silent)\n    File \"/home/atom/.miniconda/lib/python3.9/site-packages/ipykernel/zmqshell.py\", line 532, in run_cell\n      return super().run_cell(*args, **kwargs)\n    File \"/home/atom/.miniconda/lib/python3.9/site-packages/IPython/core/interactiveshell.py\", line 2854, in run_cell\n      result = self._run_cell(\n    File \"/home/atom/.miniconda/lib/python3.9/site-packages/IPython/core/interactiveshell.py\", line 2900, in _run_cell\n      return runner(coro)\n    File \"/home/atom/.miniconda/lib/python3.9/site-packages/IPython/core/async_helpers.py\", line 129, in _pseudo_sync_runner\n      coro.send(None)\n    File \"/home/atom/.miniconda/lib/python3.9/site-packages/IPython/core/interactiveshell.py\", line 3098, in run_cell_async\n      has_raised = await self.run_ast_nodes(code_ast.body, cell_name,\n    File \"/home/atom/.miniconda/lib/python3.9/site-packages/IPython/core/interactiveshell.py\", line 3301, in run_ast_nodes\n      if await self.run_code(code, result, async_=asy):\n    File \"/home/atom/.miniconda/lib/python3.9/site-packages/IPython/core/interactiveshell.py\", line 3361, in run_code\n      exec(code_obj, self.user_global_ns, self.user_ns)\n    File \"/tmp/ipykernel_587143/637754494.py\", line 81, in <cell line: 1>\n      history = model.fit(train_datagen,\n    File \"/home/atom/.miniconda/lib/python3.9/site-packages/keras/utils/traceback_utils.py\", line 64, in error_handler\n      return fn(*args, **kwargs)\n    File \"/home/atom/.miniconda/lib/python3.9/site-packages/keras/engine/training.py\", line 1384, in fit\n      tmp_logs = self.train_function(iterator)\n    File \"/home/atom/.miniconda/lib/python3.9/site-packages/keras/engine/training.py\", line 1021, in train_function\n      return step_function(self, iterator)\n    File \"/home/atom/.miniconda/lib/python3.9/site-packages/keras/engine/training.py\", line 1010, in step_function\n      outputs = model.distribute_strategy.run(run_step, args=(data,))\n    File \"/home/atom/.miniconda/lib/python3.9/site-packages/keras/engine/training.py\", line 1000, in run_step\n      outputs = model.train_step(data)\n    File \"/home/atom/.miniconda/lib/python3.9/site-packages/keras/engine/training.py\", line 863, in train_step\n      self.optimizer.minimize(loss, self.trainable_variables, tape=tape)\n    File \"/home/atom/.miniconda/lib/python3.9/site-packages/keras/optimizer_v2/optimizer_v2.py\", line 530, in minimize\n      grads_and_vars = self._compute_gradients(\n    File \"/home/atom/.miniconda/lib/python3.9/site-packages/keras/optimizer_v2/optimizer_v2.py\", line 583, in _compute_gradients\n      grads_and_vars = self._get_gradients(tape, loss, var_list, grad_loss)\n    File \"/home/atom/.miniconda/lib/python3.9/site-packages/keras/optimizer_v2/optimizer_v2.py\", line 464, in _get_gradients\n      grads = tape.gradient(loss, var_list, grad_loss)\nNode: 'gradient_tape/u-net/conv3d_35/Conv3D/Conv3DBackpropInputV2'\nOOM when allocating tensor with shape[2,64,128,128,128] and type float on /job:localhost/replica:0/task:0/device:GPU:0 by allocator GPU_0_bfc\n\t [[{{node gradient_tape/u-net/conv3d_35/Conv3D/Conv3DBackpropInputV2}}]]\nHint: If you want to see a list of allocated tensors when OOM happens, add report_tensor_allocations_upon_oom to RunOptions for current allocation info. This isn't available when running in Eager mode.\n [Op:__inference_train_function_7148]"
     ]
    }
   ],
   "source": [
    "if __name__ == '__main__':\n",
    "    tumours = ['LGG','HGG']\n",
    "    # prefix = '/Users/jasonfung/Documents/EECE571' # Jason's Macbook\n",
    "    # prefix = 'C:/Users/Fungj/Documents/EECE_571F' # Jason's Desktop\n",
    "    brats_dir = '/MICCAI_BraTS_2018_Data_Training/'\n",
    "    prefix = '/home/atom/Documents/datasets/brats' # Adam's Station\n",
    "    file_pattern = '{prefix}/MICCAI_BraTS_2018_Data_Training/{tumour}/{patient_id}/{patient_id}_{contrast}.nii.gz'\n",
    "    # patient_id = 'Brats18_TCIA09_620_1'\n",
    "    contrasts = ['t1ce', 'flair', 't2']\n",
    "    tumours = ['LGG', 'HGG']\n",
    "\n",
    "    data_list_LGG = os.listdir(os.path.join(prefix+brats_dir,tumours[0]))\n",
    "    data_list_HGG = os.listdir(os.path.join(prefix+brats_dir,tumours[1]))\n",
    "    dataset_file_list = data_list_HGG + data_list_LGG\n",
    "\n",
    "    # shuffle and split the dataset file list\n",
    "    import random\n",
    "    random.seed(42)\n",
    "    file_list_shuffled = dataset_file_list.copy()\n",
    "    random.shuffle(file_list_shuffled)\n",
    "    test_ratio = 0.2\n",
    "\n",
    "    train_file, test_file = file_list_shuffled[0:int(len(file_list_shuffled)*(1-test_ratio))], file_list_shuffled[int(len(file_list_shuffled)*(1-test_ratio)):]\n",
    "    \n",
    "    if '.DS_Store' in train_file:\n",
    "        train_file.remove('.DS_Store')\n",
    "\n",
    "    batch_size = 2\n",
    "    train_datagen = generate_brats_batch(file_pattern, contrasts, batch_size = batch_size, patient_ids = train_file , crop_size= (128,128,128)) # first iteration\n",
    "    test_datagen = generate_brats_batch(file_pattern, contrasts, batch_size = batch_size, patient_ids = test_file, crop_size= (128,128,128)) # first iteration\n",
    "\n",
    "    from custom_unet import *\n",
    "    import segmentation_models_3D as sm \n",
    "    sm.set_framework('tf.keras')\n",
    "\n",
    "    # data parameters\n",
    "    x_size = 128\n",
    "    y_size = 128\n",
    "    z_size = 128\n",
    "    contrast_channels = 3\n",
    "    input_shape = (x_size, y_size, z_size, contrast_channels)\n",
    "    n_classes = 4\n",
    "\n",
    "    # define Hyper Parameters\n",
    "    LR = 0.0001\n",
    "    activation = 'softmax'\n",
    "\n",
    "    encoder_weights = 'imagenet'\n",
    "    BACKBONE = 'vgg16'\n",
    "    optim = tf.keras.optimizers.Adam(LR)\n",
    "    class_weights = [0.25, 0.25, 0.25, 0.25]\n",
    "\n",
    "    # limit memory growth\n",
    "    # gpus = tf.config.experimental.list_physical_devices('GPU')\n",
    "    # tf.config.experimental.set_memory_growth(gpus[0], True)\n",
    "\n",
    "    # Define Loss Functions\n",
    "    dice_loss = sm.losses.DiceLoss(class_weights=class_weights)\n",
    "    focal_loss = sm.losses.CategoricalFocalLoss()\n",
    "    total_loss = dice_loss + (1*focal_loss)\n",
    "    metrics = [sm.metrics.IOUScore(threshold = 0.5)]\n",
    "\n",
    "    # Define the model being used. In this case, UNet\n",
    "    model = unet_model((x_size,y_size,z_size,contrast_channels), \n",
    "                        n_classes, \n",
    "                        dropout = 0.1, \n",
    "                        max_pooling = True)\n",
    "\n",
    "    model.compile(optimizer = optim, loss = total_loss, metrics = metrics)\n",
    "\n",
    "    steps_per_epoch = len(train_file)//batch_size\n",
    "    val_steps_per_epoch = len(test_file)//batch_size\n",
    "    \n",
    "    \n",
    "    my_callbacks = [tf.keras.callbacks.EarlyStopping(patience = 5),\n",
    "                    tf.keras.callbacks.TensorBoard(log_dir = prefix + 'models/unet' + './logs'),\n",
    "                    tf.keras.callbacks.ModelCheckpoint(filepath = prefix + '/unet_model_20220321.h5', monitor = 'val_loss', save_best_only = True)\n",
    "                   ]\n",
    "                    \n",
    "    with tf.device('/device:GPU:0'):\n",
    "        history = model.fit(train_datagen,\n",
    "                            steps_per_epoch = steps_per_epoch,\n",
    "                            epochs = 8,\n",
    "                            verbose = 1,\n",
    "                            validation_data = test_datagen,\n",
    "                            validation_steps = val_steps_per_epoch,\n",
    "                            callbacks = my_callbacks)\n"
   ]
  },
  {
   "cell_type": "code",
   "execution_count": null,
   "id": "c35b8660-5f46-44e4-821d-887ce925dbcc",
   "metadata": {},
   "outputs": [],
   "source": []
  },
  {
   "cell_type": "code",
   "execution_count": null,
   "id": "4e4c7c5a-9ae2-4105-aba0-d0c035047bfc",
   "metadata": {},
   "outputs": [],
   "source": []
  }
 ],
 "metadata": {
  "kernelspec": {
   "display_name": "Python 3 (ipykernel)",
   "language": "python",
   "name": "python3"
  },
  "language_info": {
   "codemirror_mode": {
    "name": "ipython",
    "version": 3
   },
   "file_extension": ".py",
   "mimetype": "text/x-python",
   "name": "python",
   "nbconvert_exporter": "python",
   "pygments_lexer": "ipython3",
   "version": "3.9.7"
  }
 },
 "nbformat": 4,
 "nbformat_minor": 5
}
