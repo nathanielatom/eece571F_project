{
 "cells": [
  {
   "cell_type": "markdown",
   "id": "938fb092-0639-4321-9e33-a8bc8ff8234c",
   "metadata": {},
   "source": [
    "# Load Libraries and Model"
   ]
  },
  {
   "cell_type": "code",
   "execution_count": 1,
   "id": "f13a130c-1ad6-4029-8e70-489bc87ceb80",
   "metadata": {},
   "outputs": [],
   "source": [
    "import numpy as np\n",
    "import tensorflow as tf\n",
    "import tensorflow.keras as keras \n",
    "import nibabel as nib\n",
    "import os\n",
    "import glob\n",
    "from tqdm import tqdm\n",
    "from keras.models import load_model\n",
    "my_model = load_model('C:/Users/Fungj/Documents/EECE_571F/unet_model_20220401.h5', \n",
    "                      compile=False)"
   ]
  },
  {
   "cell_type": "code",
   "execution_count": 2,
   "id": "9bf064f4-1631-43d9-8423-ec2690b428a4",
   "metadata": {},
   "outputs": [],
   "source": [
    "def crop_3D(img, new_size):\n",
    "    img_shape = img.shape\n",
    "    x_mid = int(img_shape[0]/2)\n",
    "    y_mid = int(img_shape[1]/2)\n",
    "    z_mid = int(img_shape[2]/2)\n",
    "\n",
    "    x_diff = int(abs(new_size[0]-x_mid))\n",
    "    y_diff = int(abs(new_size[1]-y_mid))\n",
    "    z_diff = int(abs(new_size[2]-z_mid))\n",
    "\n",
    "    x_start = x_mid-x_diff\n",
    "    y_start = y_mid-y_diff\n",
    "    z_start = z_mid-z_diff\n",
    "\n",
    "    tmp_img = img[x_start:x_start+new_size[0],y_start:y_start+new_size[1],z_start:z_start+new_size[2]]\n",
    "    return tmp_img\n",
    "\n",
    "from sklearn.preprocessing import MinMaxScaler\n",
    "scaler = MinMaxScaler()\n",
    "\n",
    "def test_generate_brats_batch(file_pattern, \n",
    "                         contrasts, \n",
    "                         batch_size=32, \n",
    "                         tumour='*', \n",
    "                         patient_ids='*',\n",
    "                         crop_size = (None,None,None), \n",
    "                         augment_size=None,\n",
    "                         infinite = True):\n",
    "    \"\"\"\n",
    "    Generate arrays for each batch, for x (data) and y (labels), where the contrast is treated like a colour channel.\n",
    "    \n",
    "    Example:\n",
    "    x_batch shape: (32, 240, 240, 155, 4)\n",
    "    y_batch shape: (32, 240, 240, 155)\n",
    "    \n",
    "    augment_size must be less than or equal to the batch_size, if None will not augment.\n",
    "    \n",
    "    \"\"\"\n",
    "    while True:\n",
    "        n_classes = 4\n",
    "\n",
    "        # get list of filenames for every contrast available\n",
    "        keys = dict(prefix=prefix, tumour=tumour)\n",
    "        filenames_by_contrast = {}\n",
    "        for contrast in contrasts:\n",
    "            filenames_by_contrast[contrast] = glob.glob(file_pattern.format(contrast=contrast, patient_id=patient_ids, **keys)) if patient_ids == '*' else []\n",
    "            if patient_ids != '*':\n",
    "                contrast_files = []\n",
    "                for patient_id in patient_ids:\n",
    "                    contrast_files.extend(glob.glob(file_pattern.format(contrast=contrast, patient_id=patient_id, **keys)))\n",
    "                filenames_by_contrast[contrast] = contrast_files\n",
    "\n",
    "        # get the shape of one 3D volume and initialize the batch lists\n",
    "        arbitrary_contrast = contrasts[0]\n",
    "        if crop_size == (None,None,None):\n",
    "            shape = nib.load(filenames_by_contrast[arbitrary_contrast][0]).get_fdata().shape\n",
    "        else:\n",
    "            shape = crop_size\n",
    "\n",
    "        # initialize empty array of batches\n",
    "        x_batch = np.empty((batch_size, ) + shape + (len(contrasts), )) #, dtype=np.int32)\n",
    "        y_batch = np.empty((batch_size, ) + shape + (n_classes,)) #, dtype=np.int32)\n",
    "        num_images = len(filenames_by_contrast[arbitrary_contrast])\n",
    "#         np.random.shuffle(filenames_by_contrast[arbitrary_contrast])\n",
    "        for bindex in tqdm(range(0, num_images, batch_size), total=num_images):\n",
    "            filenames = filenames_by_contrast[arbitrary_contrast][bindex:bindex + batch_size]\n",
    "            for findex, filename in enumerate(filenames):\n",
    "                for cindex, contrast in enumerate(contrasts):\n",
    "                    # load raw image batches and normalize the pixels\n",
    "                    tmp_img = nib.load(filename.replace(arbitrary_contrast, contrast)).get_fdata()\n",
    "                    try:\n",
    "                        tmp_img = scaler.fit_transform(tmp_img.reshape(-1, tmp_img.shape[-1])).reshape(tmp_img.shape)\n",
    "                    except:\n",
    "                        print(filename)\n",
    "                        print(contrast)\n",
    "                    x_batch[findex, ..., cindex] = crop_3D(tmp_img, shape)\n",
    "                    # load mask batches and change to categorical\n",
    "                    tmp_mask = nib.load(filename.replace(arbitrary_contrast, 'seg')).get_fdata()\n",
    "                    tmp_mask[tmp_mask==4] = 3\n",
    "                    tmp_mask = crop_3D(tmp_mask, crop_size)\n",
    "                    tmp_mask = to_categorical(tmp_mask, num_classes = 4)\n",
    "                    y_batch[findex] = tmp_mask\n",
    "\n",
    "            if bindex + batch_size > num_images:\n",
    "                x_batch, y_batch = x_batch[:num_images - bindex], y_batch[:num_images - bindex]\n",
    "            if augment_size is not None:\n",
    "                # x_aug, y_aug = augment(x_batch, y_batch, augment_size)\n",
    "                x_aug = None\n",
    "                y_aug = None\n",
    "                yield np.append(x_batch, x_aug), np.append(y_batch, y_aug)\n",
    "            else:\n",
    "                yield x_batch, y_batch\n",
    "        if not infinite:\n",
    "            break\n"
   ]
  },
  {
   "cell_type": "code",
   "execution_count": 5,
   "id": "0545a993-cc4a-4642-9130-6a16301f0039",
   "metadata": {},
   "outputs": [],
   "source": [
    "tumours = ['LGG','HGG']\n",
    "\n",
    "# prefix = '/Users/jasonfung/Documents/EECE571' # Jason's Macbook\n",
    "prefix = 'C:/Users/Fungj/Documents/EECE_571F' # Jason's Desktop\n",
    "brats_dir = '/MICCAI_BraTS_2018_Data_Training/'\n",
    "# prefix = '/home/atom/Documents/datasets/brats' # Adam's Station\n",
    "file_pattern = '{prefix}/MICCAI_BraTS_2018_Data_Training/{tumour}/{patient_id}/{patient_id}_{contrast}.nii.gz'\n",
    "# patient_id = 'Brats18_TCIA09_620_1'\n",
    "contrasts = ['t1ce', 'flair', 't2']\n",
    "tumours = ['LGG', 'HGG']\n",
    "\n",
    "data_list_LGG = os.listdir(os.path.join(prefix+brats_dir,tumours[0]))\n",
    "data_list_HGG = os.listdir(os.path.join(prefix+brats_dir,tumours[1]))\n",
    "dataset_file_list = data_list_HGG + data_list_LGG\n",
    "\n",
    "# shuffle and split the dataset file list\n",
    "import random\n",
    "random.seed(42)\n",
    "file_list_shuffled = dataset_file_list.copy()\n",
    "random.shuffle(file_list_shuffled)\n",
    "test_ratio = 0.2\n",
    "\n",
    "train_file, test_file = file_list_shuffled[0:int(len(file_list_shuffled)*(1-test_ratio))], file_list_shuffled[int(len(file_list_shuffled)*(1-test_ratio)):]\n",
    "\n",
    "while '.DS_Store' in train_file:\n",
    "    train_file.remove('.DS_Store')\n",
    "while '.DS_Store' in test_file:\n",
    "    test_file.remove('.DS_Store')"
   ]
  },
  {
   "cell_type": "code",
   "execution_count": 6,
   "id": "1fcbe6cf-497b-4d2c-8212-f8314848eeca",
   "metadata": {},
   "outputs": [
    {
     "name": "stderr",
     "output_type": "stream",
     "text": [
      "  2%|█▍                                                                                 | 1/57 [00:06<06:18,  6.75s/it]"
     ]
    },
    {
     "name": "stdout",
     "output_type": "stream",
     "text": [
      "Mean IoU = 0.4278142\n"
     ]
    },
    {
     "name": "stderr",
     "output_type": "stream",
     "text": [
      "  4%|██▉                                                                                | 2/57 [00:08<03:20,  3.64s/it]"
     ]
    },
    {
     "name": "stdout",
     "output_type": "stream",
     "text": [
      "Mean IoU = 0.70331657\n"
     ]
    },
    {
     "name": "stderr",
     "output_type": "stream",
     "text": [
      "  5%|████▎                                                                              | 3/57 [00:09<02:24,  2.67s/it]"
     ]
    },
    {
     "name": "stdout",
     "output_type": "stream",
     "text": [
      "Mean IoU = 0.7418028\n"
     ]
    },
    {
     "name": "stderr",
     "output_type": "stream",
     "text": [
      "  7%|█████▊                                                                             | 4/57 [00:11<02:01,  2.30s/it]"
     ]
    },
    {
     "name": "stdout",
     "output_type": "stream",
     "text": [
      "Mean IoU = 0.45996386\n"
     ]
    },
    {
     "name": "stderr",
     "output_type": "stream",
     "text": [
      "  9%|███████▎                                                                           | 5/57 [00:12<01:44,  2.00s/it]"
     ]
    },
    {
     "name": "stdout",
     "output_type": "stream",
     "text": [
      "Mean IoU = 0.45747167\n"
     ]
    },
    {
     "name": "stderr",
     "output_type": "stream",
     "text": [
      " 11%|████████▋                                                                          | 6/57 [00:14<01:33,  1.83s/it]"
     ]
    },
    {
     "name": "stdout",
     "output_type": "stream",
     "text": [
      "Mean IoU = 0.24921918\n"
     ]
    },
    {
     "name": "stderr",
     "output_type": "stream",
     "text": [
      " 12%|██████████▏                                                                        | 7/57 [00:16<01:30,  1.81s/it]"
     ]
    },
    {
     "name": "stdout",
     "output_type": "stream",
     "text": [
      "Mean IoU = 0.6771083\n"
     ]
    },
    {
     "name": "stderr",
     "output_type": "stream",
     "text": [
      " 14%|███████████▋                                                                       | 8/57 [00:17<01:24,  1.73s/it]"
     ]
    },
    {
     "name": "stdout",
     "output_type": "stream",
     "text": [
      "Mean IoU = 0.46701872\n"
     ]
    },
    {
     "name": "stderr",
     "output_type": "stream",
     "text": [
      " 16%|█████████████                                                                      | 9/57 [00:19<01:18,  1.64s/it]"
     ]
    },
    {
     "name": "stdout",
     "output_type": "stream",
     "text": [
      "Mean IoU = 0.4962692\n"
     ]
    },
    {
     "name": "stderr",
     "output_type": "stream",
     "text": [
      " 18%|██████████████▍                                                                   | 10/57 [00:20<01:14,  1.59s/it]"
     ]
    },
    {
     "name": "stdout",
     "output_type": "stream",
     "text": [
      "Mean IoU = 0.7244271\n"
     ]
    },
    {
     "name": "stderr",
     "output_type": "stream",
     "text": [
      " 19%|███████████████▊                                                                  | 11/57 [00:22<01:10,  1.54s/it]"
     ]
    },
    {
     "name": "stdout",
     "output_type": "stream",
     "text": [
      "Mean IoU = 0.65726376\n"
     ]
    },
    {
     "name": "stderr",
     "output_type": "stream",
     "text": [
      " 21%|█████████████████▎                                                                | 12/57 [00:23<01:08,  1.52s/it]"
     ]
    },
    {
     "name": "stdout",
     "output_type": "stream",
     "text": [
      "Mean IoU = 0.76312906\n"
     ]
    },
    {
     "name": "stderr",
     "output_type": "stream",
     "text": [
      " 23%|██████████████████▋                                                               | 13/57 [00:25<01:06,  1.51s/it]"
     ]
    },
    {
     "name": "stdout",
     "output_type": "stream",
     "text": [
      "Mean IoU = 0.249789\n"
     ]
    },
    {
     "name": "stderr",
     "output_type": "stream",
     "text": [
      " 25%|████████████████████▏                                                             | 14/57 [00:26<01:04,  1.49s/it]"
     ]
    },
    {
     "name": "stdout",
     "output_type": "stream",
     "text": [
      "Mean IoU = 0.54841626\n"
     ]
    },
    {
     "name": "stderr",
     "output_type": "stream",
     "text": [
      " 26%|█████████████████████▌                                                            | 15/57 [00:28<01:02,  1.49s/it]"
     ]
    },
    {
     "name": "stdout",
     "output_type": "stream",
     "text": [
      "Mean IoU = 0.36724234\n"
     ]
    },
    {
     "name": "stderr",
     "output_type": "stream",
     "text": [
      " 28%|███████████████████████                                                           | 16/57 [00:29<01:00,  1.49s/it]"
     ]
    },
    {
     "name": "stdout",
     "output_type": "stream",
     "text": [
      "Mean IoU = 0.76649714\n"
     ]
    },
    {
     "name": "stderr",
     "output_type": "stream",
     "text": [
      " 30%|████████████████████████▍                                                         | 17/57 [00:30<00:59,  1.49s/it]"
     ]
    },
    {
     "name": "stdout",
     "output_type": "stream",
     "text": [
      "Mean IoU = 0.47119817\n"
     ]
    },
    {
     "name": "stderr",
     "output_type": "stream",
     "text": [
      " 32%|█████████████████████████▉                                                        | 18/57 [00:32<00:59,  1.52s/it]"
     ]
    },
    {
     "name": "stdout",
     "output_type": "stream",
     "text": [
      "Mean IoU = 0.46410137\n"
     ]
    },
    {
     "name": "stderr",
     "output_type": "stream",
     "text": [
      " 33%|███████████████████████████▎                                                      | 19/57 [00:34<00:57,  1.50s/it]"
     ]
    },
    {
     "name": "stdout",
     "output_type": "stream",
     "text": [
      "Mean IoU = 0.5848288\n"
     ]
    },
    {
     "name": "stderr",
     "output_type": "stream",
     "text": [
      " 35%|████████████████████████████▊                                                     | 20/57 [00:35<00:54,  1.49s/it]"
     ]
    },
    {
     "name": "stdout",
     "output_type": "stream",
     "text": [
      "Mean IoU = 0.44942355\n"
     ]
    },
    {
     "name": "stderr",
     "output_type": "stream",
     "text": [
      " 37%|██████████████████████████████▏                                                   | 21/57 [00:36<00:53,  1.48s/it]"
     ]
    },
    {
     "name": "stdout",
     "output_type": "stream",
     "text": [
      "Mean IoU = 0.58150536\n"
     ]
    },
    {
     "name": "stderr",
     "output_type": "stream",
     "text": [
      " 39%|███████████████████████████████▋                                                  | 22/57 [00:38<00:51,  1.47s/it]"
     ]
    },
    {
     "name": "stdout",
     "output_type": "stream",
     "text": [
      "Mean IoU = 0.6951019\n"
     ]
    },
    {
     "name": "stderr",
     "output_type": "stream",
     "text": [
      " 40%|█████████████████████████████████                                                 | 23/57 [00:39<00:49,  1.47s/it]"
     ]
    },
    {
     "name": "stdout",
     "output_type": "stream",
     "text": [
      "Mean IoU = 0.47167206\n"
     ]
    },
    {
     "name": "stderr",
     "output_type": "stream",
     "text": [
      " 42%|██████████████████████████████████▌                                               | 24/57 [00:41<00:48,  1.46s/it]"
     ]
    },
    {
     "name": "stdout",
     "output_type": "stream",
     "text": [
      "Mean IoU = 0.46550623\n"
     ]
    },
    {
     "name": "stderr",
     "output_type": "stream",
     "text": [
      " 44%|███████████████████████████████████▉                                              | 25/57 [00:42<00:47,  1.48s/it]"
     ]
    },
    {
     "name": "stdout",
     "output_type": "stream",
     "text": [
      "Mean IoU = 0.5201626\n"
     ]
    },
    {
     "name": "stderr",
     "output_type": "stream",
     "text": [
      " 46%|█████████████████████████████████████▍                                            | 26/57 [00:44<00:46,  1.49s/it]"
     ]
    },
    {
     "name": "stdout",
     "output_type": "stream",
     "text": [
      "Mean IoU = 0.49957895\n"
     ]
    },
    {
     "name": "stderr",
     "output_type": "stream",
     "text": [
      " 47%|██████████████████████████████████████▊                                           | 27/57 [00:45<00:45,  1.52s/it]"
     ]
    },
    {
     "name": "stdout",
     "output_type": "stream",
     "text": [
      "Mean IoU = 0.56028414\n"
     ]
    },
    {
     "name": "stderr",
     "output_type": "stream",
     "text": [
      " 49%|████████████████████████████████████████▎                                         | 28/57 [00:47<00:43,  1.51s/it]"
     ]
    },
    {
     "name": "stdout",
     "output_type": "stream",
     "text": [
      "Mean IoU = 0.561466\n"
     ]
    },
    {
     "name": "stderr",
     "output_type": "stream",
     "text": [
      " 51%|█████████████████████████████████████████▋                                        | 29/57 [00:48<00:42,  1.51s/it]"
     ]
    },
    {
     "name": "stdout",
     "output_type": "stream",
     "text": [
      "Mean IoU = 0.73238176\n"
     ]
    },
    {
     "name": "stderr",
     "output_type": "stream",
     "text": [
      " 53%|███████████████████████████████████████████▏                                      | 30/57 [00:50<00:42,  1.58s/it]"
     ]
    },
    {
     "name": "stdout",
     "output_type": "stream",
     "text": [
      "Mean IoU = 0.5074925\n"
     ]
    },
    {
     "name": "stderr",
     "output_type": "stream",
     "text": [
      " 54%|████████████████████████████████████████████▌                                     | 31/57 [00:52<00:40,  1.57s/it]"
     ]
    },
    {
     "name": "stdout",
     "output_type": "stream",
     "text": [
      "Mean IoU = 0.63949823\n"
     ]
    },
    {
     "name": "stderr",
     "output_type": "stream",
     "text": [
      " 56%|██████████████████████████████████████████████                                    | 32/57 [00:53<00:40,  1.60s/it]"
     ]
    },
    {
     "name": "stdout",
     "output_type": "stream",
     "text": [
      "Mean IoU = 0.46822137\n"
     ]
    },
    {
     "name": "stderr",
     "output_type": "stream",
     "text": [
      " 58%|███████████████████████████████████████████████▍                                  | 33/57 [00:55<00:39,  1.63s/it]"
     ]
    },
    {
     "name": "stdout",
     "output_type": "stream",
     "text": [
      "Mean IoU = 0.5393058\n"
     ]
    },
    {
     "name": "stderr",
     "output_type": "stream",
     "text": [
      " 60%|████████████████████████████████████████████████▉                                 | 34/57 [00:57<00:37,  1.63s/it]"
     ]
    },
    {
     "name": "stdout",
     "output_type": "stream",
     "text": [
      "Mean IoU = 0.36534587\n"
     ]
    },
    {
     "name": "stderr",
     "output_type": "stream",
     "text": [
      " 61%|██████████████████████████████████████████████████▎                               | 35/57 [00:58<00:35,  1.63s/it]"
     ]
    },
    {
     "name": "stdout",
     "output_type": "stream",
     "text": [
      "Mean IoU = 0.7354644\n"
     ]
    },
    {
     "name": "stderr",
     "output_type": "stream",
     "text": [
      " 63%|███████████████████████████████████████████████████▊                              | 36/57 [01:00<00:35,  1.70s/it]"
     ]
    },
    {
     "name": "stdout",
     "output_type": "stream",
     "text": [
      "Mean IoU = 0.5735866\n"
     ]
    },
    {
     "name": "stderr",
     "output_type": "stream",
     "text": [
      " 65%|█████████████████████████████████████████████████████▏                            | 37/57 [01:02<00:32,  1.63s/it]"
     ]
    },
    {
     "name": "stdout",
     "output_type": "stream",
     "text": [
      "Mean IoU = 0.5052252\n"
     ]
    },
    {
     "name": "stderr",
     "output_type": "stream",
     "text": [
      " 67%|██████████████████████████████████████████████████████▋                           | 38/57 [01:03<00:30,  1.58s/it]"
     ]
    },
    {
     "name": "stdout",
     "output_type": "stream",
     "text": [
      "Mean IoU = 0.37056613\n"
     ]
    },
    {
     "name": "stderr",
     "output_type": "stream",
     "text": [
      " 68%|████████████████████████████████████████████████████████                          | 39/57 [01:05<00:27,  1.54s/it]"
     ]
    },
    {
     "name": "stdout",
     "output_type": "stream",
     "text": [
      "Mean IoU = 0.3317931\n"
     ]
    },
    {
     "name": "stderr",
     "output_type": "stream",
     "text": [
      " 70%|█████████████████████████████████████████████████████████▌                        | 40/57 [01:06<00:26,  1.55s/it]"
     ]
    },
    {
     "name": "stdout",
     "output_type": "stream",
     "text": [
      "Mean IoU = 0.4912234\n"
     ]
    },
    {
     "name": "stderr",
     "output_type": "stream",
     "text": [
      " 72%|██████████████████████████████████████████████████████████▉                       | 41/57 [01:08<00:24,  1.53s/it]"
     ]
    },
    {
     "name": "stdout",
     "output_type": "stream",
     "text": [
      "Mean IoU = 0.53128195\n"
     ]
    },
    {
     "name": "stderr",
     "output_type": "stream",
     "text": [
      " 74%|████████████████████████████████████████████████████████████▍                     | 42/57 [01:09<00:23,  1.56s/it]"
     ]
    },
    {
     "name": "stdout",
     "output_type": "stream",
     "text": [
      "Mean IoU = 1.0\n"
     ]
    },
    {
     "name": "stderr",
     "output_type": "stream",
     "text": [
      " 75%|█████████████████████████████████████████████████████████████▊                    | 43/57 [01:11<00:21,  1.51s/it]"
     ]
    },
    {
     "name": "stdout",
     "output_type": "stream",
     "text": [
      "Mean IoU = 0.2562969\n"
     ]
    },
    {
     "name": "stderr",
     "output_type": "stream",
     "text": [
      " 77%|███████████████████████████████████████████████████████████████▎                  | 44/57 [01:12<00:19,  1.51s/it]"
     ]
    },
    {
     "name": "stdout",
     "output_type": "stream",
     "text": [
      "Mean IoU = 0.3333149\n"
     ]
    },
    {
     "name": "stderr",
     "output_type": "stream",
     "text": [
      " 79%|████████████████████████████████████████████████████████████████▋                 | 45/57 [01:14<00:17,  1.49s/it]"
     ]
    },
    {
     "name": "stdout",
     "output_type": "stream",
     "text": [
      "Mean IoU = 0.7142801\n"
     ]
    },
    {
     "name": "stderr",
     "output_type": "stream",
     "text": [
      " 81%|██████████████████████████████████████████████████████████████████▏               | 46/57 [01:15<00:16,  1.49s/it]"
     ]
    },
    {
     "name": "stdout",
     "output_type": "stream",
     "text": [
      "Mean IoU = 0.4781084\n"
     ]
    },
    {
     "name": "stderr",
     "output_type": "stream",
     "text": [
      " 82%|███████████████████████████████████████████████████████████████████▌              | 47/57 [01:17<00:15,  1.53s/it]"
     ]
    },
    {
     "name": "stdout",
     "output_type": "stream",
     "text": [
      "Mean IoU = 0.5708096\n"
     ]
    },
    {
     "name": "stderr",
     "output_type": "stream",
     "text": [
      " 84%|█████████████████████████████████████████████████████████████████████             | 48/57 [01:18<00:14,  1.56s/it]"
     ]
    },
    {
     "name": "stdout",
     "output_type": "stream",
     "text": [
      "Mean IoU = 0.26351073\n"
     ]
    },
    {
     "name": "stderr",
     "output_type": "stream",
     "text": [
      " 86%|██████████████████████████████████████████████████████████████████████▍           | 49/57 [01:20<00:12,  1.56s/it]"
     ]
    },
    {
     "name": "stdout",
     "output_type": "stream",
     "text": [
      "Mean IoU = 0.46874857\n"
     ]
    },
    {
     "name": "stderr",
     "output_type": "stream",
     "text": [
      " 88%|███████████████████████████████████████████████████████████████████████▉          | 50/57 [01:21<00:10,  1.55s/it]"
     ]
    },
    {
     "name": "stdout",
     "output_type": "stream",
     "text": [
      "Mean IoU = 0.7969532\n"
     ]
    },
    {
     "name": "stderr",
     "output_type": "stream",
     "text": [
      " 89%|█████████████████████████████████████████████████████████████████████████▎        | 51/57 [01:23<00:09,  1.53s/it]"
     ]
    },
    {
     "name": "stdout",
     "output_type": "stream",
     "text": [
      "Mean IoU = 0.49974775\n"
     ]
    },
    {
     "name": "stderr",
     "output_type": "stream",
     "text": [
      " 91%|██████████████████████████████████████████████████████████████████████████▊       | 52/57 [01:24<00:07,  1.52s/it]"
     ]
    },
    {
     "name": "stdout",
     "output_type": "stream",
     "text": [
      "Mean IoU = 0.33890224\n"
     ]
    },
    {
     "name": "stderr",
     "output_type": "stream",
     "text": [
      " 93%|████████████████████████████████████████████████████████████████████████████▏     | 53/57 [01:26<00:06,  1.52s/it]"
     ]
    },
    {
     "name": "stdout",
     "output_type": "stream",
     "text": [
      "Mean IoU = 0.66474336\n"
     ]
    },
    {
     "name": "stderr",
     "output_type": "stream",
     "text": [
      " 95%|█████████████████████████████████████████████████████████████████████████████▋    | 54/57 [01:27<00:04,  1.51s/it]"
     ]
    },
    {
     "name": "stdout",
     "output_type": "stream",
     "text": [
      "Mean IoU = 0.3220101\n"
     ]
    },
    {
     "name": "stderr",
     "output_type": "stream",
     "text": [
      " 96%|███████████████████████████████████████████████████████████████████████████████   | 55/57 [01:29<00:03,  1.50s/it]"
     ]
    },
    {
     "name": "stdout",
     "output_type": "stream",
     "text": [
      "Mean IoU = 0.49507034\n"
     ]
    },
    {
     "name": "stderr",
     "output_type": "stream",
     "text": [
      " 98%|████████████████████████████████████████████████████████████████████████████████▌ | 56/57 [01:31<00:01,  1.55s/it]"
     ]
    },
    {
     "name": "stdout",
     "output_type": "stream",
     "text": [
      "Mean IoU = 0.48433536\n",
      "Mean IoU = 1.0\n"
     ]
    }
   ],
   "source": [
    "from keras.metrics import MeanIoU\n",
    "from tensorflow.keras.utils import to_categorical\n",
    "\n",
    "batch_size = 1\n",
    "test_datagen = test_generate_brats_batch(file_pattern, contrasts, batch_size = batch_size, patient_ids = test_file, crop_size= (128,128,128)) # first iteration\n",
    "\n",
    "# predict on generator\n",
    "n_classes = 4\n",
    "IOU_keras = MeanIoU(num_classes=n_classes)\n",
    "\n",
    "\n",
    "\n",
    "i = 0\n",
    "\n",
    "while i < len(test_file)//batch_size:\n",
    "    i += 1\n",
    "    test_image_batch, test_mask_batch = test_datagen.__next__()\n",
    "    \n",
    "    test_mask_batch_argmax = np.argmax(test_mask_batch, axis=4)\n",
    "    test_pred_batch = my_model.predict(test_image_batch)\n",
    "    test_pred_batch_argmax = np.argmax(test_pred_batch, axis=4)\n",
    "    IOU_keras.reset_state()\n",
    "    IOU_keras.update_state(test_pred_batch_argmax, test_mask_batch_argmax)\n",
    "    print(\"Mean IoU =\", IOU_keras.result().numpy())\n"
   ]
  },
  {
   "cell_type": "code",
   "execution_count": 6,
   "id": "18ea0531",
   "metadata": {},
   "outputs": [
    {
     "name": "stdout",
     "output_type": "stream",
     "text": [
      "['Brats18_CBICA_AQG_1', 'Brats18_TCIA02_321_1', 'Brats18_CBICA_AXM_1', 'Brats18_TCIA09_141_1', 'Brats18_TCIA09_428_1', 'Brats18_TCIA02_473_1', 'Brats18_TCIA02_605_1', 'Brats18_2013_16_1', 'Brats18_CBICA_ATB_1', 'Brats18_TCIA02_274_1', 'Brats18_CBICA_AAB_1', 'Brats18_CBICA_AXW_1', 'Brats18_TCIA10_202_1', 'Brats18_CBICA_ALU_1', 'Brats18_TCIA02_198_1', 'Brats18_TCIA01_231_1', 'Brats18_TCIA05_444_1', 'Brats18_2013_23_1', 'Brats18_TCIA08_319_1', 'Brats18_CBICA_ASH_1', 'Brats18_TCIA02_394_1', 'Brats18_CBICA_AWH_1', 'Brats18_TCIA10_632_1', 'Brats18_CBICA_AXL_1', 'Brats18_CBICA_ABB_1', 'Brats18_CBICA_AYA_1', 'Brats18_CBICA_AAP_1', 'Brats18_TCIA13_633_1', 'Brats18_TCIA03_375_1', 'Brats18_TCIA01_150_1', 'Brats18_CBICA_ATV_1', 'Brats18_TCIA10_640_1', 'Brats18_TCIA03_474_1', 'Brats18_TCIA13_624_1', 'Brats18_CBICA_AUN_1', 'Brats18_2013_13_1', 'Brats18_TCIA02_283_1', 'Brats18_TCIA09_493_1', 'Brats18_TCIA01_186_1', 'Brats18_2013_24_1', 'Brats18_CBICA_AZD_1', 'Brats18_2013_26_1', 'Brats18_TCIA10_625_1', 'Brats18_TCIA01_335_1', 'Brats18_TCIA01_180_1', 'Brats18_CBICA_AQA_1', 'Brats18_2013_2_1', 'Brats18_2013_3_1', 'Brats18_2013_29_1', 'Brats18_CBICA_APR_1', 'Brats18_CBICA_AQO_1', 'Brats18_CBICA_ASU_1', 'Brats18_TCIA01_201_1', 'Brats18_TCIA01_425_1', 'Brats18_TCIA02_226_1', 'Brats18_2013_25_1', 'Brats18_CBICA_AQU_1']\n"
     ]
    }
   ],
   "source": [
    "print(test_file)"
   ]
  },
  {
   "cell_type": "code",
   "execution_count": 11,
   "id": "0b002a45-13f1-4b40-ab76-83b9d33977cc",
   "metadata": {},
   "outputs": [],
   "source": [
    "# prefix = '/Users/jasonfung/Documents/EECE571' # Jason's Macbook\n",
    "# prefix = '/home/atom/Documents/datasets/brats' # Adam's Station\n",
    "prefix = 'C:/Users/Fungj/Documents/EECE_571F' # Jason's Desktop\n",
    "brats_dir = '/MICCAI_BraTS_2018_Data_Training/'\n",
    "\n",
    "contrasts = ['t1ce', 'flair', 't2']\n",
    "\n",
    "# Get random image\n",
    "import random\n",
    "\n",
    "random.seed(42)\n",
    "img_num = random.randint(0,len(test_file))\n",
    "name = test_file[img_num]\n",
    "\n",
    "raw_img = np.empty((batch_size, ) + (128,128,128) + (len(contrasts), ))\n",
    "\n",
    "if name in os.listdir(prefix+brats_dir+'HGG'):\n",
    "    # load t2 and preprocess the data\n",
    "    for cindex, contrast in enumerate(contrasts):\n",
    "        tmp_img = nib.load(os.path.join(prefix+brats_dir+'HGG'+f'/{name}/{name}_{contrast}.nii.gz')).get_fdata()\n",
    "        tmp_img = scaler.fit_transform(tmp_img.reshape(-1, tmp_img.shape[-1])).reshape(tmp_img.shape)\n",
    "        tmp_img = crop_3D(tmp_img,(128,128,128))\n",
    "        raw_img[0,...,cindex] = tmp_img\n",
    "    \n",
    "    ground_truth_mask = np.int_(nib.load(os.path.join(prefix+brats_dir+'HGG'+f'/{name}/{name}_seg.nii.gz')).get_fdata())\n",
    "    ground_truth_mask[ground_truth_mask==4] = 3\n",
    "    ground_truth_mask = crop_3D(ground_truth_mask,(128,128,128))\n",
    "    \n",
    "else:\n",
    "    # load t2 and preprocess the data\n",
    "    for cindex, contrast in enumerate(contrasts):\n",
    "        tmp_img = nib.load(os.path.join(prefix+brats_dir+'LGG'+f'/{name}/{name}_{contrast}.nii.gz')).get_fdata()\n",
    "        tmp_img = scaler.fit_transform(tmp_img.reshape(-1, tmp_img.shape[-1])).reshape(tmp_img.shape)\n",
    "        tmp_img = crop_3D(tmp_img,(128,128,128))\n",
    "        raw_img[0,...,cindex] = tmp_img\n",
    "        \n",
    "    ground_truth_mask = np.int_(nib.load(os.path.join(prefix+brats_dir+'HGG'+f'/{name}/{name}_seg.nii.gz')).get_fdata())\n",
    "    ground_truth_mask[ground_truth_mask==4] = 3\n",
    "    ground_truth_mask = crop_3D(ground_truth_mask,(128,128,128))\n",
    "    "
   ]
  },
  {
   "cell_type": "code",
   "execution_count": 12,
   "id": "bbc4914a",
   "metadata": {},
   "outputs": [],
   "source": [
    "predict_mask = my_model.predict(raw_img) # perform inference\n",
    "predict_mask = np.argmax(predict_mask, axis=4)[0,:,:,:]"
   ]
  },
  {
   "cell_type": "code",
   "execution_count": 13,
   "id": "b0fbbdbd",
   "metadata": {},
   "outputs": [
    {
     "data": {
      "text/plain": [
       "3"
      ]
     },
     "execution_count": 13,
     "metadata": {},
     "output_type": "execute_result"
    }
   ],
   "source": [
    "ground_truth_mask.astype(int)\n",
    "ground_truth_mask.max()"
   ]
  },
  {
   "cell_type": "markdown",
   "id": "9af8b521",
   "metadata": {},
   "source": [
    "# Visualize MRI Volume"
   ]
  },
  {
   "cell_type": "code",
   "execution_count": 14,
   "id": "b61b53cd-363a-4e56-966b-8c52b0b072d5",
   "metadata": {},
   "outputs": [],
   "source": [
    "import napari\n",
    "viewer = napari.view_image(raw_img[0,...,0], name = name + '' + contrasts[0])\n",
    "viewer.add_image(raw_img[0,...,1], name = name + '' + contrasts[1])\n",
    "viewer.add_image(raw_img[0,...,2], name = name + '' + contrasts[2])\n",
    "\n",
    "gt_layer = viewer.add_labels(ground_truth_mask, name = \"ground truth\")\n",
    "pred_layer = viewer.add_labels(predict_mask, name = \"predicted\")"
   ]
  },
  {
   "cell_type": "code",
   "execution_count": null,
   "id": "f3024c2f",
   "metadata": {},
   "outputs": [],
   "source": []
  }
 ],
 "metadata": {
  "kernelspec": {
   "display_name": "Python 3 (ipykernel)",
   "language": "python",
   "name": "python3"
  },
  "language_info": {
   "codemirror_mode": {
    "name": "ipython",
    "version": 3
   },
   "file_extension": ".py",
   "mimetype": "text/x-python",
   "name": "python",
   "nbconvert_exporter": "python",
   "pygments_lexer": "ipython3",
   "version": "3.9.7"
  }
 },
 "nbformat": 4,
 "nbformat_minor": 5
}
