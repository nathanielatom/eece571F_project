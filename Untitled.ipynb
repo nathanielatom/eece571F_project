{
 "cells": [
  {
   "cell_type": "code",
   "execution_count": 9,
   "id": "902977c5-1c0f-441b-82a6-fcc55a8bd967",
   "metadata": {},
   "outputs": [],
   "source": [
    "import numpy as np\n",
    "import pandas as pd\n",
    "import nibabel as nib\n",
    "import matplotlib.pyplot as plt"
   ]
  },
  {
   "cell_type": "code",
   "execution_count": 10,
   "id": "d6e498e5-5ea9-4c45-a200-6ef183a3b21d",
   "metadata": {},
   "outputs": [],
   "source": [
    "def read_file(patient_id, contrast):\n",
    "    filenames = [f'{prefix}/MICCAI_BraTS_2018_Data_Training/{tumour}/{patient_id}/{patient_id}_{contrast}.nii.gz' for tumour in tumours]\n",
    "    try:\n",
    "        x = nib.load(filenames[0])\n",
    "    except FileNotFoundError:\n",
    "        x = nib.load(filenames[1])\n",
    "    filenames.replace()\n",
    "    nii_data = nii_img.get_fdata()\n",
    "    return nii_data"
   ]
  },
  {
   "cell_type": "code",
   "execution_count": 11,
   "id": "64b2ed22-b951-4e06-b648-d9bd2a0d829a",
   "metadata": {},
   "outputs": [],
   "source": [
    "prefix = '/home/atom/Documents/datasets/brats'\n",
    "training_set = f'{prefix}/MICCAI_BraTS_2018_Data_Training/survival_data.csv'\n",
    "patient_id = 'Brats18_TCIA09_620_1'\n",
    "contrasts = ['t1ce', 'flair', 't1', 't2']\n",
    "tumours = ['LGG', 'HGG']\n"
   ]
  },
  {
   "cell_type": "code",
   "execution_count": 5,
   "id": "604ab48b-0089-4466-98b5-5e755874b89b",
   "metadata": {},
   "outputs": [],
   "source": [
    "metadata = pd.read_csv(training_set)"
   ]
  },
  {
   "cell_type": "code",
   "execution_count": null,
   "id": "77aa6ea7-cbe5-420a-a59b-060372239a10",
   "metadata": {},
   "outputs": [],
   "source": []
  },
  {
   "cell_type": "code",
   "execution_count": 6,
   "id": "33e7db5c-ea58-48c8-9592-992f4eb05fc2",
   "metadata": {},
   "outputs": [
    {
     "data": {
      "text/html": [
       "<div>\n",
       "<style scoped>\n",
       "    .dataframe tbody tr th:only-of-type {\n",
       "        vertical-align: middle;\n",
       "    }\n",
       "\n",
       "    .dataframe tbody tr th {\n",
       "        vertical-align: top;\n",
       "    }\n",
       "\n",
       "    .dataframe thead th {\n",
       "        text-align: right;\n",
       "    }\n",
       "</style>\n",
       "<table border=\"1\" class=\"dataframe\">\n",
       "  <thead>\n",
       "    <tr style=\"text-align: right;\">\n",
       "      <th></th>\n",
       "      <th>BraTS18ID</th>\n",
       "      <th>Age</th>\n",
       "      <th>Survival</th>\n",
       "      <th>ResectionStatus</th>\n",
       "    </tr>\n",
       "  </thead>\n",
       "  <tbody>\n",
       "    <tr>\n",
       "      <th>0</th>\n",
       "      <td>Brats18_TCIA08_167_1</td>\n",
       "      <td>74.907</td>\n",
       "      <td>153</td>\n",
       "      <td>NaN</td>\n",
       "    </tr>\n",
       "    <tr>\n",
       "      <th>1</th>\n",
       "      <td>Brats18_TCIA08_242_1</td>\n",
       "      <td>66.479</td>\n",
       "      <td>147</td>\n",
       "      <td>NaN</td>\n",
       "    </tr>\n",
       "    <tr>\n",
       "      <th>2</th>\n",
       "      <td>Brats18_TCIA08_319_1</td>\n",
       "      <td>64.860</td>\n",
       "      <td>254</td>\n",
       "      <td>NaN</td>\n",
       "    </tr>\n",
       "    <tr>\n",
       "      <th>3</th>\n",
       "      <td>Brats18_TCIA08_469_1</td>\n",
       "      <td>63.899</td>\n",
       "      <td>519</td>\n",
       "      <td>NaN</td>\n",
       "    </tr>\n",
       "    <tr>\n",
       "      <th>4</th>\n",
       "      <td>Brats18_TCIA08_218_1</td>\n",
       "      <td>57.345</td>\n",
       "      <td>346</td>\n",
       "      <td>NaN</td>\n",
       "    </tr>\n",
       "    <tr>\n",
       "      <th>...</th>\n",
       "      <td>...</td>\n",
       "      <td>...</td>\n",
       "      <td>...</td>\n",
       "      <td>...</td>\n",
       "    </tr>\n",
       "    <tr>\n",
       "      <th>158</th>\n",
       "      <td>Brats18_CBICA_ABB_1</td>\n",
       "      <td>68.493</td>\n",
       "      <td>465</td>\n",
       "      <td>GTR</td>\n",
       "    </tr>\n",
       "    <tr>\n",
       "      <th>159</th>\n",
       "      <td>Brats18_CBICA_AAP_1</td>\n",
       "      <td>39.068</td>\n",
       "      <td>788</td>\n",
       "      <td>GTR</td>\n",
       "    </tr>\n",
       "    <tr>\n",
       "      <th>160</th>\n",
       "      <td>Brats18_CBICA_AAL_1</td>\n",
       "      <td>54.301</td>\n",
       "      <td>464</td>\n",
       "      <td>GTR</td>\n",
       "    </tr>\n",
       "    <tr>\n",
       "      <th>161</th>\n",
       "      <td>Brats18_CBICA_AAG_1</td>\n",
       "      <td>52.263</td>\n",
       "      <td>616</td>\n",
       "      <td>GTR</td>\n",
       "    </tr>\n",
       "    <tr>\n",
       "      <th>162</th>\n",
       "      <td>Brats18_CBICA_AAB_1</td>\n",
       "      <td>60.463</td>\n",
       "      <td>289</td>\n",
       "      <td>GTR</td>\n",
       "    </tr>\n",
       "  </tbody>\n",
       "</table>\n",
       "<p>163 rows × 4 columns</p>\n",
       "</div>"
      ],
      "text/plain": [
       "                BraTS18ID     Age  Survival ResectionStatus\n",
       "0    Brats18_TCIA08_167_1  74.907       153             NaN\n",
       "1    Brats18_TCIA08_242_1  66.479       147             NaN\n",
       "2    Brats18_TCIA08_319_1  64.860       254             NaN\n",
       "3    Brats18_TCIA08_469_1  63.899       519             NaN\n",
       "4    Brats18_TCIA08_218_1  57.345       346             NaN\n",
       "..                    ...     ...       ...             ...\n",
       "158   Brats18_CBICA_ABB_1  68.493       465             GTR\n",
       "159   Brats18_CBICA_AAP_1  39.068       788             GTR\n",
       "160   Brats18_CBICA_AAL_1  54.301       464             GTR\n",
       "161   Brats18_CBICA_AAG_1  52.263       616             GTR\n",
       "162   Brats18_CBICA_AAB_1  60.463       289             GTR\n",
       "\n",
       "[163 rows x 4 columns]"
      ]
     },
     "execution_count": 6,
     "metadata": {},
     "output_type": "execute_result"
    }
   ],
   "source": [
    "metadata"
   ]
  },
  {
   "cell_type": "code",
   "execution_count": null,
   "id": "df11bd5f-838a-4788-aca5-c09a439e0a47",
   "metadata": {},
   "outputs": [],
   "source": []
  }
 ],
 "metadata": {
  "kernelspec": {
   "display_name": "Python 3 (ipykernel)",
   "language": "python",
   "name": "python3"
  },
  "language_info": {
   "codemirror_mode": {
    "name": "ipython",
    "version": 3
   },
   "file_extension": ".py",
   "mimetype": "text/x-python",
   "name": "python",
   "nbconvert_exporter": "python",
   "pygments_lexer": "ipython3",
   "version": "3.8.12"
  }
 },
 "nbformat": 4,
 "nbformat_minor": 5
}
