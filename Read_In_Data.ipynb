{
 "cells": [
  {
   "cell_type": "code",
   "execution_count": 1,
   "metadata": {},
   "outputs": [
    {
     "name": "stdout",
     "output_type": "stream",
     "text": [
      "2.5.0\n"
     ]
    }
   ],
   "source": [
    "# import numerical libraries\n",
    "import numpy as np\n",
    "import glob\n",
    "import h5py\n",
    "import nibabel as nib\n",
    "import os\n",
    "\n",
    "# import machine learning libraries\n",
    "import tensorflow as tf\n",
    "print(tf.__version__)\n",
    "import tensorflow.keras\n",
    "import sklearn\n",
    "from sklearn.model_selection import train_test_split\n",
    "from sklearn.preprocessing import MinMaxScaler\n",
    "from skimage import io\n",
    "from tensorflow.keras.utils import to_categorical\n",
    "from tensorflow.keras import backend as K"
   ]
  },
  {
   "cell_type": "code",
   "execution_count": 9,
   "metadata": {},
   "outputs": [],
   "source": [
    "# instantiate the MinMax Scaling function\n",
    "scaler = MinMaxScaler()\n",
    "\n",
    "# load the data in batches\n",
    "patient_id = 'Brats18_TCIA06_165_1'\n",
    "contrast = 't1ce'\n",
    "tumour = 'HGG'\n",
    "filename = f'C:/Users/Fungj/Documents/EECE_571F/MICCAI_BraTS_2018_Data_Training/{tumour}/{patient_id}/{patient_id}_{contrast}.nii.gz'\n",
    "test_img = nib.load(filename).get_fdata()\n"
   ]
  },
  {
   "cell_type": "code",
   "execution_count": 46,
   "metadata": {},
   "outputs": [],
   "source": [
    "# get all the file names for loading images\n",
    "\n",
    "local_dir = 'C:/Users/Fungj/Documents/EECE_571F/MICCAI_BraTS_2018_Data_Training/HGG' # change this to your own directory\n",
    "\n",
    "t2_list = sorted(glob.glob(local_dir + '/*/*t2.nii.gz'))\n",
    "t1ce_list = sorted(glob.glob(local_dir + '/*/*t1ce.nii.gz'))\n",
    "flair_list = sorted(glob.glob(local_dir + '/*/*flair.nii.gz'))\n",
    "mask_list = sorted(glob.glob(local_dir + '/*/*seg.nii.gz'))"
   ]
  },
  {
   "cell_type": "code",
   "execution_count": 60,
   "metadata": {},
   "outputs": [
    {
     "name": "stdout",
     "output_type": "stream",
     "text": [
      "Loading image and masks number:  0\n",
      "Loading image and masks number:  1\n",
      "Loading image and masks number:  2\n",
      "Loading image and masks number:  3\n",
      "Loading image and masks number:  4\n"
     ]
    },
    {
     "ename": "KeyboardInterrupt",
     "evalue": "",
     "output_type": "error",
     "traceback": [
      "\u001b[1;31m---------------------------------------------------------------------------\u001b[0m",
      "\u001b[1;31mKeyboardInterrupt\u001b[0m                         Traceback (most recent call last)",
      "\u001b[1;32mc:\\Users\\Fungj\\Documents\\EECE_571F\\3D_BRATS.ipynb Cell 4'\u001b[0m in \u001b[0;36m<cell line: 3>\u001b[1;34m()\u001b[0m\n\u001b[0;32m     <a href='vscode-notebook-cell:/c%3A/Users/Fungj/Documents/EECE_571F/3D_BRATS.ipynb#ch0000005?line=20'>21</a>\u001b[0m tmp_mask[tmp_mask\u001b[39m==\u001b[39m\u001b[39m4\u001b[39m] \u001b[39m=\u001b[39m \u001b[39m3\u001b[39m \u001b[39m# reassign value 4 to 3 \u001b[39;00m\n\u001b[0;32m     <a href='vscode-notebook-cell:/c%3A/Users/Fungj/Documents/EECE_571F/3D_BRATS.ipynb#ch0000005?line=22'>23</a>\u001b[0m combined_img \u001b[39m=\u001b[39m np\u001b[39m.\u001b[39mstack([tmp_img_flair, tmp_img_t1ce, tmp_img_t2], axis \u001b[39m=\u001b[39m \u001b[39m3\u001b[39m)\n\u001b[1;32m---> <a href='vscode-notebook-cell:/c%3A/Users/Fungj/Documents/EECE_571F/3D_BRATS.ipynb#ch0000005?line=24'>25</a>\u001b[0m tmp_mask \u001b[39m=\u001b[39m to_categorical(tmp_mask, num_classes \u001b[39m=\u001b[39;49m \u001b[39m4\u001b[39;49m)\n\u001b[0;32m     <a href='vscode-notebook-cell:/c%3A/Users/Fungj/Documents/EECE_571F/3D_BRATS.ipynb#ch0000005?line=25'>26</a>\u001b[0m np\u001b[39m.\u001b[39msave(\u001b[39m'\u001b[39m\u001b[39mC:/Users/Fungj/Documents/EECE_571F/Raw_Image/image_\u001b[39m\u001b[39m'\u001b[39m\u001b[39m+\u001b[39m\u001b[39mstr\u001b[39m(img)\u001b[39m+\u001b[39m\u001b[39m'\u001b[39m\u001b[39m.npy\u001b[39m\u001b[39m'\u001b[39m, combined_img)\n\u001b[0;32m     <a href='vscode-notebook-cell:/c%3A/Users/Fungj/Documents/EECE_571F/3D_BRATS.ipynb#ch0000005?line=26'>27</a>\u001b[0m np\u001b[39m.\u001b[39msave(\u001b[39m'\u001b[39m\u001b[39mC:/Users/Fungj/Documents/EECE_571F/Raw_Image/mask_\u001b[39m\u001b[39m'\u001b[39m\u001b[39m+\u001b[39m\u001b[39mstr\u001b[39m(img)\u001b[39m+\u001b[39m\u001b[39m'\u001b[39m\u001b[39m.npy\u001b[39m\u001b[39m'\u001b[39m, tmp_mask)\n",
      "File \u001b[1;32m~\\AppData\\Local\\Programs\\Python\\Python39\\lib\\site-packages\\tensorflow\\python\\keras\\utils\\np_utils.py:70\u001b[0m, in \u001b[0;36mto_categorical\u001b[1;34m(y, num_classes, dtype)\u001b[0m\n\u001b[0;32m     <a href='file:///c%3A/Users/Fungj/AppData/Local/Programs/Python/Python39/lib/site-packages/tensorflow/python/keras/utils/np_utils.py?line=67'>68</a>\u001b[0m \u001b[39mif\u001b[39;00m input_shape \u001b[39mand\u001b[39;00m input_shape[\u001b[39m-\u001b[39m\u001b[39m1\u001b[39m] \u001b[39m==\u001b[39m \u001b[39m1\u001b[39m \u001b[39mand\u001b[39;00m \u001b[39mlen\u001b[39m(input_shape) \u001b[39m>\u001b[39m \u001b[39m1\u001b[39m:\n\u001b[0;32m     <a href='file:///c%3A/Users/Fungj/AppData/Local/Programs/Python/Python39/lib/site-packages/tensorflow/python/keras/utils/np_utils.py?line=68'>69</a>\u001b[0m   input_shape \u001b[39m=\u001b[39m \u001b[39mtuple\u001b[39m(input_shape[:\u001b[39m-\u001b[39m\u001b[39m1\u001b[39m])\n\u001b[1;32m---> <a href='file:///c%3A/Users/Fungj/AppData/Local/Programs/Python/Python39/lib/site-packages/tensorflow/python/keras/utils/np_utils.py?line=69'>70</a>\u001b[0m y \u001b[39m=\u001b[39m y\u001b[39m.\u001b[39;49mravel()\n\u001b[0;32m     <a href='file:///c%3A/Users/Fungj/AppData/Local/Programs/Python/Python39/lib/site-packages/tensorflow/python/keras/utils/np_utils.py?line=70'>71</a>\u001b[0m \u001b[39mif\u001b[39;00m \u001b[39mnot\u001b[39;00m num_classes:\n\u001b[0;32m     <a href='file:///c%3A/Users/Fungj/AppData/Local/Programs/Python/Python39/lib/site-packages/tensorflow/python/keras/utils/np_utils.py?line=71'>72</a>\u001b[0m   num_classes \u001b[39m=\u001b[39m np\u001b[39m.\u001b[39mmax(y) \u001b[39m+\u001b[39m \u001b[39m1\u001b[39m\n",
      "\u001b[1;31mKeyboardInterrupt\u001b[0m: "
     ]
    }
   ],
   "source": [
    "# save images into training folder with raw image and masked images\n",
    "\n",
    "for img in range(len(t2_list)):\n",
    "    print(\"Loading image and masks number: \", img)\n",
    "\n",
    "    # load t2 and preprocess the data\n",
    "    tmp_img_t2 = nib.load(t2_list[img]).get_fdata()\n",
    "    tmp_img_t2 = scaler.fit_transform(tmp_img_t2.reshape(-1, tmp_img_t2.shape[-1])).reshape(tmp_img_t2.shape)\n",
    "    \n",
    "    # load t1ce and preprocess the data\n",
    "    tmp_img_t1ce = nib.load(t1ce_list[img]).get_fdata()\n",
    "    tmp_img_t1ce = scaler.fit_transform(tmp_img_t1ce.reshape(-1, tmp_img_t1ce.shape[-1])).reshape(tmp_img_t1ce.shape)\n",
    "    \n",
    "    # load flair and preprocess the data\n",
    "    tmp_img_flair = nib.load(flair_list[img]).get_fdata()\n",
    "    tmp_img_flair = scaler.fit_transform(tmp_img_flair.reshape(-1, tmp_img_flair.shape[-1])).reshape(tmp_img_flair.shape)\n",
    "\n",
    "    # load mask \n",
    "    tmp_mask = nib.load(mask_list[img]).get_fdata()\n",
    "    tmp_mask = tmp_mask.astype(np.uint8)\n",
    "    tmp_mask[tmp_mask==4] = 3 # reassign value 4 to 3 \n",
    "\n",
    "    combined_img = np.stack([tmp_img_flair, tmp_img_t1ce, tmp_img_t2], axis = 3)\n",
    "\n",
    "    tmp_mask = to_categorical(tmp_mask, num_classes = 4)\n"
   ]
  },
  {
   "cell_type": "code",
   "execution_count": 54,
   "metadata": {},
   "outputs": [],
   "source": [
    "tmp_img_t2 = nib.load(t2_list[0]).get_fdata()\n",
    "tmp_img_t2 = scaler.fit_transform(tmp_img_t2.reshape(-1, tmp_img_t2.shape[-1])).reshape(tmp_img_t2.shape)\n"
   ]
  },
  {
   "cell_type": "code",
   "execution_count": 55,
   "metadata": {},
   "outputs": [],
   "source": [
    "tmp_img_t2 = nib.load(t2_list[0]).get_fdata()"
   ]
  },
  {
   "cell_type": "code",
   "execution_count": 57,
   "metadata": {},
   "outputs": [
    {
     "data": {
      "text/plain": [
       "numpy.ndarray"
      ]
     },
     "execution_count": 57,
     "metadata": {},
     "output_type": "execute_result"
    }
   ],
   "source": [
    "tmp_img_t2.reshape()"
   ]
  },
  {
   "cell_type": "code",
   "execution_count": null,
   "metadata": {},
   "outputs": [],
   "source": []
  }
 ],
 "metadata": {
  "kernelspec": {
   "display_name": "Python 3",
   "language": "python",
   "name": "python3"
  },
  "language_info": {
   "codemirror_mode": {
    "name": "ipython",
    "version": 3
   },
   "file_extension": ".py",
   "mimetype": "text/x-python",
   "name": "python",
   "nbconvert_exporter": "python",
   "pygments_lexer": "ipython3",
   "version": "3.9.9"
  }
 },
 "nbformat": 4,
 "nbformat_minor": 2
}
