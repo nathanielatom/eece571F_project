{
 "cells": [
  {
   "cell_type": "markdown",
   "id": "6f62f8ff-d3ee-49d0-9c55-cd4e12a51915",
   "metadata": {},
   "source": [
    "Viewer App\n",
    "----"
   ]
  },
  {
   "cell_type": "code",
   "execution_count": 1,
   "id": "3ad0647b-126b-463b-8987-2fc3ee81f483",
   "metadata": {},
   "outputs": [],
   "source": [
    "from os.path import dirname, join\n",
    "from pprint import pprint\n",
    "\n",
    "import numpy as np\n",
    "import ipywidgets as ipyw\n",
    "import matplotlib.pyplot as plt\n",
    "import pydicom\n",
    "from pydicom.data import get_testdata_files\n",
    "from pydicom.filereader import read_dicomdir"
   ]
  },
  {
   "cell_type": "code",
   "execution_count": 2,
   "id": "16527b44-fc25-478d-8a09-ef6fbb7d301e",
   "metadata": {},
   "outputs": [],
   "source": [
    "class ImageSliceViewer3D:\n",
    "    \"\"\" \n",
    "    From: https://github.com/esmitt/VolumeSliceViewer\n",
    "    \n",
    "    ImageSliceViewer3D is for viewing volumetric image slices in jupyter or\n",
    "    ipython notebooks. \n",
    "    \n",
    "    User can interactively change the slice plane selection for the image and \n",
    "    the slice plane being viewed. \n",
    "\n",
    "    Argumentss:\n",
    "    Volume = 3D input image\n",
    "    figsize = default(8,8), to set the size of the figure\n",
    "    cmap = default('gray'), string for the matplotlib colormap. You can find \n",
    "    more matplotlib colormaps on the following link:\n",
    "    https://matplotlib.org/users/colormaps.html\n",
    "    \n",
    "    \"\"\"\n",
    "    \n",
    "    def __init__(self, volume, figsize=(100,100), cmap='gray'):\n",
    "        self.volume = volume\n",
    "        self.figsize = figsize\n",
    "        self.cmap = cmap\n",
    "        self.v = [np.min(volume), np.max(volume)]\n",
    "        \n",
    "        # Call to select slice plane\n",
    "        ipyw.interact(self.views)\n",
    "    \n",
    "    def views(self):\n",
    "        self.vol1 = np.transpose(self.volume, [1,2,0])\n",
    "        self.vol2 = np.rot90(np.transpose(self.volume, [2,0,1]), 3) #rotate 270 degrees\n",
    "        self.vol3 = np.transpose(self.volume, [0,1,2])\n",
    "        maxZ1 = self.vol1.shape[2] - 1\n",
    "        maxZ2 = self.vol2.shape[2] - 1\n",
    "        maxZ3 = self.vol3.shape[2] - 1\n",
    "        ipyw.interact(self.plot_slice, \n",
    "            z1=ipyw.IntSlider(min=0, max=maxZ1, step=1, continuous_update=False, \n",
    "            description='Axial:'), \n",
    "            z2=ipyw.IntSlider(min=0, max=maxZ2, step=1, continuous_update=False, \n",
    "            description='Coronal:'),\n",
    "            z3=ipyw.IntSlider(min=0, max=maxZ3, step=1, continuous_update=False, \n",
    "            description='Sagittal:'))\n",
    "\n",
    "    def plot_slice(self, z1, z2, z3):\n",
    "        # Plot slice for the given plane and slice\n",
    "        f,ax = plt.subplots(1,3, figsize=self.figsize)\n",
    "        #print(self.figsize)\n",
    "        #self.fig = plt.figure(figsize=self.figsize)\n",
    "        #f(figsize = self.figsize)\n",
    "        ax[0].imshow(self.vol1[:,:,z1], cmap=plt.get_cmap(self.cmap), \n",
    "            vmin=self.v[0], vmax=self.v[1])\n",
    "        ax[1].imshow(self.vol2[:,:,z2], cmap=plt.get_cmap(self.cmap), \n",
    "            vmin=self.v[0], vmax=self.v[1])\n",
    "        ax[2].imshow(self.vol3[:,:,z3], cmap=plt.get_cmap(self.cmap), \n",
    "            vmin=self.v[0], vmax=self.v[1])\n",
    "        plt.show()\n"
   ]
  },
  {
   "cell_type": "markdown",
   "id": "305035c9-80ee-407a-8686-91da53044f0d",
   "metadata": {},
   "source": [
    "Imports\n",
    "---"
   ]
  },
  {
   "cell_type": "code",
   "execution_count": 3,
   "id": "0e45d4ca-b46d-4f07-a20d-3c2281cd8aa8",
   "metadata": {},
   "outputs": [],
   "source": [
    "import nibabel as nib\n",
    "import numpy as np\n",
    "import pandas as pd\n",
    "import matplotlib.pyplot as plt"
   ]
  },
  {
   "cell_type": "markdown",
   "id": "4a73809d-fe02-4646-83b3-d4e5f78f5adb",
   "metadata": {},
   "source": [
    "Parameters\n",
    "----"
   ]
  },
  {
   "cell_type": "code",
   "execution_count": 4,
   "id": "931fc9c3-480c-48f5-8f38-8aa1339d330e",
   "metadata": {},
   "outputs": [],
   "source": [
    "prefix = '/home/atom/Documents/datasets/brats' # Adam's Station\n",
    "# laptop /Users/Atom/Dropbox/Skule/EECE571F/Project/data\n",
    "patient_id = 'Brats18_TCIA09_620_1'\n",
    "contrast = 't1ce'\n",
    "tumour = 'LGG'\n",
    "filename = f'{prefix}/MICCAI_BraTS_2018_Data_Training/{tumour}/{patient_id}/{patient_id}_{contrast}.nii.gz'"
   ]
  },
  {
   "cell_type": "markdown",
   "id": "7a283f0f-e956-4806-a790-d89c3b7d5630",
   "metadata": {},
   "source": [
    "Loading Data\n",
    "---"
   ]
  },
  {
   "cell_type": "code",
   "execution_count": 5,
   "id": "c4044699-d711-4be9-8178-5d9661ed8f9c",
   "metadata": {},
   "outputs": [],
   "source": [
    "nii_img  = nib.load(filename)\n",
    "nii_data = nii_img.get_fdata()"
   ]
  },
  {
   "cell_type": "code",
   "execution_count": 6,
   "id": "8588d37d-2e6e-484a-b0f1-34f5b33a3245",
   "metadata": {},
   "outputs": [
    {
     "data": {
      "text/plain": [
       "(240, 240, 155)"
      ]
     },
     "execution_count": 6,
     "metadata": {},
     "output_type": "execute_result"
    }
   ],
   "source": [
    "nii_data.shape"
   ]
  },
  {
   "cell_type": "code",
   "execution_count": 7,
   "id": "3257b5a6-97ae-49a8-85de-ea430c5b2f33",
   "metadata": {},
   "outputs": [
    {
     "data": {
      "text/plain": [
       "32767.0"
      ]
     },
     "execution_count": 7,
     "metadata": {},
     "output_type": "execute_result"
    }
   ],
   "source": [
    "np.max(nii_data)"
   ]
  },
  {
   "cell_type": "code",
   "execution_count": 8,
   "id": "3721cd46-32e0-4884-a246-eb0399f3a651",
   "metadata": {},
   "outputs": [
    {
     "data": {
      "text/plain": [
       "(155, 240, 240)"
      ]
     },
     "execution_count": 8,
     "metadata": {},
     "output_type": "execute_result"
    }
   ],
   "source": [
    "nii_data.T.shape"
   ]
  },
  {
   "cell_type": "markdown",
   "id": "a09f6461-d319-4d52-bed9-bb23b8a8c978",
   "metadata": {},
   "source": [
    "Visualizations\n",
    "---"
   ]
  },
  {
   "cell_type": "code",
   "execution_count": 9,
   "id": "53b927cd-a9f5-46de-af00-bedeafe9217f",
   "metadata": {},
   "outputs": [
    {
     "data": {
      "application/vnd.jupyter.widget-view+json": {
       "model_id": "f991127b3a744844a9b68d1ae3a031bc",
       "version_major": 2,
       "version_minor": 0
      },
      "text/plain": [
       "interactive(children=(Output(),), _dom_classes=('widget-interact',))"
      ]
     },
     "metadata": {},
     "output_type": "display_data"
    },
    {
     "data": {
      "text/plain": [
       "<__main__.ImageSliceViewer3D at 0x7f9a2edd3910>"
      ]
     },
     "execution_count": 9,
     "metadata": {},
     "output_type": "execute_result"
    }
   ],
   "source": [
    "ImageSliceViewer3D(nii_data.T)"
   ]
  },
  {
   "cell_type": "code",
   "execution_count": 34,
   "id": "17f5eb9e-97d0-4879-a98a-9613fdbd47d1",
   "metadata": {},
   "outputs": [
    {
     "data": {
      "text/plain": [
       "<matplotlib.colorbar.Colorbar at 0x7f9a26380670>"
      ]
     },
     "execution_count": 34,
     "metadata": {},
     "output_type": "execute_result"
    },
    {
     "data": {
      "image/png": "[encoded data removed]",
      "text/plain": [
       "<Figure size 432x288 with 2 Axes>"
      ]
     },
     "metadata": {
      "needs_background": "light"
     },
     "output_type": "display_data"
    }
   ],
   "source": [
    "plt.imshow(nii_data[:, :, 80], vmin=0, vmax=25000)\n",
    "plt.colorbar()\n"
   ]
  },
  {
   "cell_type": "code",
   "execution_count": null,
   "id": "da64e5f0-ff65-4183-a4a3-ee049c9625a7",
   "metadata": {},
   "outputs": [],
   "source": []
  }
 ],
 "metadata": {
  "kernelspec": {
   "display_name": "Python 3 (ipykernel)",
   "language": "python",
   "name": "python3"
  },
  "language_info": {
   "codemirror_mode": {
    "name": "ipython",
    "version": 3
   },
   "file_extension": ".py",
   "mimetype": "text/x-python",
   "name": "python",
   "nbconvert_exporter": "python",
   "pygments_lexer": "ipython3",
   "version": "3.9.7"
  }
 },
 "nbformat": 4,
 "nbformat_minor": 5
}
